{
  "nbformat": 4,
  "nbformat_minor": 5,
  "metadata": {
    "kernelspec": {
      "display_name": "Python 3",
      "language": "python",
      "name": "python3"
    },
    "language_info": {
      "codemirror_mode": {
        "name": "ipython",
        "version": 3
      },
      "file_extension": ".py",
      "mimetype": "text/x-python",
      "name": "python",
      "nbconvert_exporter": "python",
      "pygments_lexer": "ipython3",
      "version": "3.8.5"
    },
    "colab": {
      "name": "Untitled.ipynb",
      "provenance": []
    },
    "accelerator": "GPU",
    "widgets": {
      "application/vnd.jupyter.widget-state+json": {
        "b8755b29b85647879277fd860ec14d73": {
          "model_module": "@jupyter-widgets/controls",
          "model_name": "HBoxModel",
          "state": {
            "_view_name": "HBoxView",
            "_dom_classes": [],
            "_model_name": "HBoxModel",
            "_view_module": "@jupyter-widgets/controls",
            "_model_module_version": "1.5.0",
            "_view_count": null,
            "_view_module_version": "1.5.0",
            "box_style": "",
            "layout": "IPY_MODEL_71a6527c7a324a0aafe84f4f6dc98862",
            "_model_module": "@jupyter-widgets/controls",
            "children": [
              "IPY_MODEL_dafbd90345f44ab69de394411db8da5e",
              "IPY_MODEL_bbeda6fc1c2d468099d028c94a0f7a2f"
            ]
          }
        },
        "71a6527c7a324a0aafe84f4f6dc98862": {
          "model_module": "@jupyter-widgets/base",
          "model_name": "LayoutModel",
          "state": {
            "_view_name": "LayoutView",
            "grid_template_rows": null,
            "right": null,
            "justify_content": null,
            "_view_module": "@jupyter-widgets/base",
            "overflow": null,
            "_model_module_version": "1.2.0",
            "_view_count": null,
            "flex_flow": null,
            "width": null,
            "min_width": null,
            "border": null,
            "align_items": null,
            "bottom": null,
            "_model_module": "@jupyter-widgets/base",
            "top": null,
            "grid_column": null,
            "overflow_y": null,
            "overflow_x": null,
            "grid_auto_flow": null,
            "grid_area": null,
            "grid_template_columns": null,
            "flex": null,
            "_model_name": "LayoutModel",
            "justify_items": null,
            "grid_row": null,
            "max_height": null,
            "align_content": null,
            "visibility": null,
            "align_self": null,
            "height": null,
            "min_height": null,
            "padding": null,
            "grid_auto_rows": null,
            "grid_gap": null,
            "max_width": null,
            "order": null,
            "_view_module_version": "1.2.0",
            "grid_template_areas": null,
            "object_position": null,
            "object_fit": null,
            "grid_auto_columns": null,
            "margin": null,
            "display": null,
            "left": null
          }
        },
        "dafbd90345f44ab69de394411db8da5e": {
          "model_module": "@jupyter-widgets/controls",
          "model_name": "FloatProgressModel",
          "state": {
            "_view_name": "ProgressView",
            "style": "IPY_MODEL_dea3c6bb976948438119de14237bc29a",
            "_dom_classes": [],
            "description": "100%",
            "_model_name": "FloatProgressModel",
            "bar_style": "success",
            "max": 46827520,
            "_view_module": "@jupyter-widgets/controls",
            "_model_module_version": "1.5.0",
            "value": 46827520,
            "_view_count": null,
            "_view_module_version": "1.5.0",
            "orientation": "horizontal",
            "min": 0,
            "description_tooltip": null,
            "_model_module": "@jupyter-widgets/controls",
            "layout": "IPY_MODEL_fc75118c1bec4b0fb85f689aa3a47c0c"
          }
        },
        "bbeda6fc1c2d468099d028c94a0f7a2f": {
          "model_module": "@jupyter-widgets/controls",
          "model_name": "HTMLModel",
          "state": {
            "_view_name": "HTMLView",
            "style": "IPY_MODEL_daaa307fa12c45b6b80e6d6db5e513a2",
            "_dom_classes": [],
            "description": "",
            "_model_name": "HTMLModel",
            "placeholder": "​",
            "_view_module": "@jupyter-widgets/controls",
            "_model_module_version": "1.5.0",
            "value": " 44.7M/44.7M [04:14&lt;00:00, 184kB/s]",
            "_view_count": null,
            "_view_module_version": "1.5.0",
            "description_tooltip": null,
            "_model_module": "@jupyter-widgets/controls",
            "layout": "IPY_MODEL_9f5e2f80028041cfadd51f9ddbc33321"
          }
        },
        "dea3c6bb976948438119de14237bc29a": {
          "model_module": "@jupyter-widgets/controls",
          "model_name": "ProgressStyleModel",
          "state": {
            "_view_name": "StyleView",
            "_model_name": "ProgressStyleModel",
            "description_width": "initial",
            "_view_module": "@jupyter-widgets/base",
            "_model_module_version": "1.5.0",
            "_view_count": null,
            "_view_module_version": "1.2.0",
            "bar_color": null,
            "_model_module": "@jupyter-widgets/controls"
          }
        },
        "fc75118c1bec4b0fb85f689aa3a47c0c": {
          "model_module": "@jupyter-widgets/base",
          "model_name": "LayoutModel",
          "state": {
            "_view_name": "LayoutView",
            "grid_template_rows": null,
            "right": null,
            "justify_content": null,
            "_view_module": "@jupyter-widgets/base",
            "overflow": null,
            "_model_module_version": "1.2.0",
            "_view_count": null,
            "flex_flow": null,
            "width": null,
            "min_width": null,
            "border": null,
            "align_items": null,
            "bottom": null,
            "_model_module": "@jupyter-widgets/base",
            "top": null,
            "grid_column": null,
            "overflow_y": null,
            "overflow_x": null,
            "grid_auto_flow": null,
            "grid_area": null,
            "grid_template_columns": null,
            "flex": null,
            "_model_name": "LayoutModel",
            "justify_items": null,
            "grid_row": null,
            "max_height": null,
            "align_content": null,
            "visibility": null,
            "align_self": null,
            "height": null,
            "min_height": null,
            "padding": null,
            "grid_auto_rows": null,
            "grid_gap": null,
            "max_width": null,
            "order": null,
            "_view_module_version": "1.2.0",
            "grid_template_areas": null,
            "object_position": null,
            "object_fit": null,
            "grid_auto_columns": null,
            "margin": null,
            "display": null,
            "left": null
          }
        },
        "daaa307fa12c45b6b80e6d6db5e513a2": {
          "model_module": "@jupyter-widgets/controls",
          "model_name": "DescriptionStyleModel",
          "state": {
            "_view_name": "StyleView",
            "_model_name": "DescriptionStyleModel",
            "description_width": "",
            "_view_module": "@jupyter-widgets/base",
            "_model_module_version": "1.5.0",
            "_view_count": null,
            "_view_module_version": "1.2.0",
            "_model_module": "@jupyter-widgets/controls"
          }
        },
        "9f5e2f80028041cfadd51f9ddbc33321": {
          "model_module": "@jupyter-widgets/base",
          "model_name": "LayoutModel",
          "state": {
            "_view_name": "LayoutView",
            "grid_template_rows": null,
            "right": null,
            "justify_content": null,
            "_view_module": "@jupyter-widgets/base",
            "overflow": null,
            "_model_module_version": "1.2.0",
            "_view_count": null,
            "flex_flow": null,
            "width": null,
            "min_width": null,
            "border": null,
            "align_items": null,
            "bottom": null,
            "_model_module": "@jupyter-widgets/base",
            "top": null,
            "grid_column": null,
            "overflow_y": null,
            "overflow_x": null,
            "grid_auto_flow": null,
            "grid_area": null,
            "grid_template_columns": null,
            "flex": null,
            "_model_name": "LayoutModel",
            "justify_items": null,
            "grid_row": null,
            "max_height": null,
            "align_content": null,
            "visibility": null,
            "align_self": null,
            "height": null,
            "min_height": null,
            "padding": null,
            "grid_auto_rows": null,
            "grid_gap": null,
            "max_width": null,
            "order": null,
            "_view_module_version": "1.2.0",
            "grid_template_areas": null,
            "object_position": null,
            "object_fit": null,
            "grid_auto_columns": null,
            "margin": null,
            "display": null,
            "left": null
          }
        }
      }
    }
  },
  "cells": [
    {
      "cell_type": "markdown",
      "metadata": {
        "id": "minor-weekend"
      },
      "source": [
        "Transfer Learning for Computer Vision \n",
        "\n",
        "Tutorial from Torch"
      ],
      "id": "minor-weekend"
    },
    {
      "cell_type": "code",
      "metadata": {
        "id": "novel-regard"
      },
      "source": [
        "## imports \n",
        "\n",
        "import torch\n",
        "import torch.nn as nn\n",
        "import torch.optim as optim\n",
        "import torch.nn.functional as F\n",
        "from torch.optim import lr_scheduler\n",
        "import numpy as np\n",
        "import torchvision \n",
        "from torchvision import datasets, models, transforms\n",
        "import matplotlib.pyplot as plt\n",
        "import time\n",
        "import os\n",
        "import copy\n",
        "import zipfile\n",
        "\n",
        "plt.ion() # interactive mode"
      ],
      "id": "novel-regard",
      "execution_count": 1,
      "outputs": []
    },
    {
      "cell_type": "markdown",
      "metadata": {
        "id": "binary-enemy"
      },
      "source": [
        "Extracting the data"
      ],
      "id": "binary-enemy"
    },
    {
      "cell_type": "code",
      "metadata": {
        "id": "ethical-buffalo"
      },
      "source": [
        "with zipfile.ZipFile('/content/hymenoptera_data.zip', 'r') as f:\n",
        "   # Extract all the contents of zip file in current directory\n",
        "   f.extractall()"
      ],
      "id": "ethical-buffalo",
      "execution_count": 2,
      "outputs": []
    },
    {
      "cell_type": "code",
      "metadata": {
        "id": "fatal-avatar"
      },
      "source": [
        "## Data augmentation and normalization for training \n",
        "## Just normalization for validation \n",
        "\n",
        "data_transforms = {\n",
        "    'train': transforms.Compose([\n",
        "        transforms.RandomResizedCrop(224),\n",
        "        transforms.RandomHorizontalFlip(),\n",
        "        transforms.ToTensor(),\n",
        "        transforms.Normalize([0.485, 0.456, 0.406], [0.229, 0.224, 0.225])\n",
        "    ]),\n",
        "    'val': transforms.Compose([\n",
        "        transforms.Resize(256),\n",
        "        transforms.CenterCrop(224),\n",
        "        transforms.ToTensor(),\n",
        "        transforms.Normalize([0.485, 0.456, 0.406], [0.229, 0.224, 0.225])\n",
        "    ])\n",
        "}\n",
        "\n",
        "data_dir = 'hymenoptera_data/'\n",
        "image_datasets = {x: datasets.ImageFolder(os.path.join(data_dir, x),\n",
        "                                          data_transforms[x])\n",
        "                 for x in ['train', 'val']}\n",
        "\n",
        "dataloaders = {x: torch.utils.data.DataLoader(image_datasets[x], batch_size=4,\n",
        "                                             shuffle=True, num_workers=4)\n",
        "              for x in ['train', 'val']}\n",
        "dataset_sizes = {x: len(image_datasets[x]) for x in ['train', 'val']}\n",
        "class_names = image_datasets['train'].classes\n",
        "\n",
        "device = torch.device('cuda:0' if torch.cuda.is_available() else 'cpu')"
      ],
      "id": "fatal-avatar",
      "execution_count": 3,
      "outputs": []
    },
    {
      "cell_type": "markdown",
      "metadata": {
        "id": "standing-planner"
      },
      "source": [
        "Visualizing some images"
      ],
      "id": "standing-planner"
    },
    {
      "cell_type": "code",
      "metadata": {
        "colab": {
          "base_uri": "https://localhost:8080/",
          "height": 148
        },
        "id": "hairy-accident",
        "outputId": "19b2c88e-de0e-46f0-bd24-fd585291cacb"
      },
      "source": [
        "def imshow(inp, title=None):\n",
        "    \"\"\"Imshow for Tensor\"\"\"\n",
        "    inp = inp.numpy().transpose((1, 2, 0))\n",
        "    mean = np.array([0.485, 0.456, 0.406])\n",
        "    std = np.array([0.229, 0.224, 0.225])\n",
        "    inp = std * inp + mean\n",
        "    inp = np.clip(inp, 0, 1)\n",
        "    plt.imshow(inp)\n",
        "    if title is not None:\n",
        "        plt.title(title)\n",
        "    plt.pause(0.001) # small pause so the plots are updated\n",
        "    \n",
        "# Get a training batch\n",
        "inputs, classes = next(iter(dataloaders['train']))\n",
        "\n",
        "# make a grid from batch\n",
        "out = torchvision.utils.make_grid(inputs)\n",
        "\n",
        "imshow(out, title=[class_names[x] for x in classes])"
      ],
      "id": "hairy-accident",
      "execution_count": 4,
      "outputs": [
        {
          "output_type": "display_data",
          "data": {
            "image/png": "[encoded data removed]",
            "text/plain": [
              "<Figure size 432x288 with 1 Axes>"
            ]
          },
          "metadata": {
            "tags": [],
            "needs_background": "light"
          }
        }
      ]
    },
    {
      "cell_type": "markdown",
      "metadata": {
        "id": "injured-pressure"
      },
      "source": [
        "Training the model\n",
        "- Scheduling the learning rate\n",
        "- Saving the best model"
      ],
      "id": "injured-pressure"
    },
    {
      "cell_type": "code",
      "metadata": {
        "id": "colonial-blast"
      },
      "source": [
        "# scheduler is the learning rate scheduler object from ```torch.optim.lr_scheduler```\n",
        "\n",
        "def train_model(model, criterion, optimizer, scheduler, num_epochs=25):\n",
        "    since = time.time()\n",
        "    \n",
        "    best_model_wts = copy.deepcopy(model.state_dict())\n",
        "    best_acc = 0.0\n",
        "    \n",
        "    for epoch in range(num_epochs):\n",
        "        print(f\"Epoch {epoch}/{num_epochs - 1}\")\n",
        "        print(\"-\" * 10)\n",
        "        \n",
        "        # Each epoch has a training and validation phase\n",
        "        for phase in ['train', 'val']:\n",
        "            if phase == 'train':\n",
        "                model.train()  # set the model to training mode\n",
        "            else:\n",
        "                model.eval() # set the model to evaluate mode\n",
        "            \n",
        "            running_loss = 0.0\n",
        "            running_corrects = 0\n",
        "            \n",
        "            # Iterate over data.\n",
        "            for inputs, labels in dataloaders[phase]:\n",
        "                inputs = inputs.to(device)\n",
        "                labels = labels.to(device)\n",
        "                \n",
        "                # zero the gradients for the parameters\n",
        "                optimizer.zero_grad()\n",
        "                \n",
        "                # forward \n",
        "                # track the history if only in train\n",
        "                with torch.set_grad_enabled(phase == 'train'):\n",
        "                    outputs = model(inputs)\n",
        "                    _, preds = torch.max(outputs, 1)\n",
        "                    loss = criterion(outputs, labels)\n",
        "                    \n",
        "                    # backward + optimize only if in training phase\n",
        "                    if phase == 'train':\n",
        "                        loss.backward()\n",
        "                        optimizer.step()\n",
        "                \n",
        "                # statistics\n",
        "                running_loss += loss.item() * inputs.size(0)\n",
        "                running_corrects += torch.sum(preds == labels.data)\n",
        "            if phase == 'train':\n",
        "                scheduler.step()\n",
        "                \n",
        "            epoch_loss = running_loss / dataset_sizes[phase]\n",
        "            epoch_acc = running_corrects.double() / dataset_sizes[phase]\n",
        "            \n",
        "            print(f\"{phase} Loss: {epoch_loss:.4f} Acc: {epoch_acc:.4f}\")\n",
        "            \n",
        "            # deep copy the model\n",
        "            if phase == 'val' and epoch_acc > best_acc:\n",
        "                best_acc = epoch_acc\n",
        "                best_model_wts = copy.deepcopy(model.state_dict())\n",
        "                \n",
        "        print()\n",
        "        \n",
        "    time_elapsed = time.time() - since\n",
        "    print(f'Training complete in {time_elapsed // 60:.0f}m {time_elapsed % 60:.0f}s')\n",
        "    print(f\"Best val Acc: {best_acc:.4f}\")\n",
        "    \n",
        "    # load best model weights\n",
        "    model.load_state_dict(best_model_wts)\n",
        "    return model\n"
      ],
      "id": "colonial-blast",
      "execution_count": 5,
      "outputs": []
    },
    {
      "cell_type": "markdown",
      "metadata": {
        "id": "consecutive-arena"
      },
      "source": [
        "Visualizing the model predictions "
      ],
      "id": "consecutive-arena"
    },
    {
      "cell_type": "code",
      "metadata": {
        "id": "opposite-confidence"
      },
      "source": [
        "def visualize_model(model, num_images=6):\n",
        "    was_training = model.training\n",
        "    model.eval()\n",
        "    images_so_far = 0\n",
        "    fig = plt.figure()\n",
        "    \n",
        "    with torch.no_grad():\n",
        "        for i, (inputs, labels) in enumerate(dataloaders['val']):\n",
        "            inputs = inputs.to(device)\n",
        "            labels = labels.to(device)\n",
        "            \n",
        "            outputs = model(inputs)\n",
        "            _, preds = torch.max(outputs, 1)\n",
        "            \n",
        "            for j in range(inputs.size()[0]):\n",
        "                images_so_far += 1\n",
        "                ax = plt.subplot(num_images//2, 2, images_so_far)\n",
        "                ax.axis('off')\n",
        "                ax.set_title(f'predicted: {class_names[preds[j]]}')\n",
        "                imshow(inputs.cpu().data[j])\n",
        "                \n",
        "                if images_so_far == num_images:\n",
        "                    model.train(mode=was_training)\n",
        "                    return\n",
        "        model.train(mode=was_training)"
      ],
      "id": "opposite-confidence",
      "execution_count": 6,
      "outputs": []
    },
    {
      "cell_type": "markdown",
      "metadata": {
        "id": "copyrighted-degree"
      },
      "source": [
        "Finetune the convnet"
      ],
      "id": "copyrighted-degree"
    },
    {
      "cell_type": "code",
      "metadata": {
        "colab": {
          "base_uri": "https://localhost:8080/",
          "height": 104,
          "referenced_widgets": [
            "b8755b29b85647879277fd860ec14d73",
            "71a6527c7a324a0aafe84f4f6dc98862",
            "dafbd90345f44ab69de394411db8da5e",
            "bbeda6fc1c2d468099d028c94a0f7a2f",
            "dea3c6bb976948438119de14237bc29a",
            "fc75118c1bec4b0fb85f689aa3a47c0c",
            "daaa307fa12c45b6b80e6d6db5e513a2",
            "9f5e2f80028041cfadd51f9ddbc33321"
          ]
        },
        "id": "signal-reporter",
        "outputId": "968ac3de-8765-467c-c0dc-31cf2f36af03"
      },
      "source": [
        "model_ft = models.resnet18(pretrained=True)\n",
        "num_ftrs = model_ft.fc.in_features\n",
        "\n",
        "# here the size of each output sample is set to 2\n",
        "# alternativel, it can be generalized to nn.Linear(num_flters, len(class_names))\n",
        "\n",
        "model_ft.fc = nn.Linear(num_ftrs, 2)\n",
        "\n",
        "model_ft = model_ft.to(device)\n",
        "\n",
        "criterion = nn.CrossEntropyLoss()\n",
        "\n",
        "# observe that all params are being optimized\n",
        "optimizer_ft = optim.SGD(model_ft.parameters(), lr=0.001, momentum=0.9)\n",
        "\n",
        "# Decay LR by a factor of .1 every 7 epochs\n",
        "exp_lr_scheduler = lr_scheduler.StepLR(optimizer_ft, step_size=7, gamma=0.1)\n"
      ],
      "id": "signal-reporter",
      "execution_count": 7,
      "outputs": [
        {
          "output_type": "stream",
          "text": [
            "Downloading: \"https://download.pytorch.org/models/resnet18-5c106cde.pth\" to /root/.cache/torch/hub/checkpoints/resnet18-5c106cde.pth\n"
          ],
          "name": "stderr"
        },
        {
          "output_type": "display_data",
          "data": {
            "application/vnd.jupyter.widget-view+json": {
              "model_id": "b8755b29b85647879277fd860ec14d73",
              "version_minor": 0,
              "version_major": 2
            },
            "text/plain": [
              "HBox(children=(FloatProgress(value=0.0, max=46827520.0), HTML(value='')))"
            ]
          },
          "metadata": {
            "tags": []
          }
        },
        {
          "output_type": "stream",
          "text": [
            "\n"
          ],
          "name": "stdout"
        }
      ]
    },
    {
      "cell_type": "markdown",
      "metadata": {
        "id": "political-alfred"
      },
      "source": [
        "Train and Evaluate "
      ],
      "id": "political-alfred"
    },
    {
      "cell_type": "code",
      "metadata": {
        "colab": {
          "base_uri": "https://localhost:8080/"
        },
        "id": "fantastic-disabled",
        "outputId": "4236f8af-c591-4a25-ee52-592ead549b00"
      },
      "source": [
        "model_ft = train_model(model_ft, criterion, optimizer_ft, exp_lr_scheduler,\n",
        "                       num_epochs=25)"
      ],
      "id": "fantastic-disabled",
      "execution_count": 8,
      "outputs": [
        {
          "output_type": "stream",
          "text": [
            "Epoch 0/24\n",
            "----------\n",
            "train Loss: 0.6622 Acc: 0.6680\n",
            "val Loss: 0.1643 Acc: 0.9216\n",
            "\n",
            "Epoch 1/24\n",
            "----------\n",
            "train Loss: 0.6113 Acc: 0.7623\n",
            "val Loss: 0.3476 Acc: 0.8497\n",
            "\n",
            "Epoch 2/24\n",
            "----------\n",
            "train Loss: 0.3679 Acc: 0.8238\n",
            "val Loss: 0.2768 Acc: 0.9150\n",
            "\n",
            "Epoch 3/24\n",
            "----------\n",
            "train Loss: 0.3789 Acc: 0.8238\n",
            "val Loss: 0.3108 Acc: 0.8758\n",
            "\n",
            "Epoch 4/24\n",
            "----------\n",
            "train Loss: 0.4051 Acc: 0.8566\n",
            "val Loss: 0.2476 Acc: 0.9150\n",
            "\n",
            "Epoch 5/24\n",
            "----------\n",
            "train Loss: 0.4958 Acc: 0.7992\n",
            "val Loss: 0.3893 Acc: 0.8431\n",
            "\n",
            "Epoch 6/24\n",
            "----------\n",
            "train Loss: 0.4092 Acc: 0.8361\n",
            "val Loss: 0.3807 Acc: 0.8497\n",
            "\n",
            "Epoch 7/24\n",
            "----------\n",
            "train Loss: 0.3080 Acc: 0.8648\n",
            "val Loss: 0.2627 Acc: 0.8693\n",
            "\n",
            "Epoch 8/24\n",
            "----------\n",
            "train Loss: 0.3474 Acc: 0.8689\n",
            "val Loss: 0.2346 Acc: 0.9020\n",
            "\n",
            "Epoch 9/24\n",
            "----------\n",
            "train Loss: 0.3079 Acc: 0.8730\n",
            "val Loss: 0.2157 Acc: 0.9085\n",
            "\n",
            "Epoch 10/24\n",
            "----------\n",
            "train Loss: 0.3786 Acc: 0.8402\n",
            "val Loss: 0.2298 Acc: 0.8954\n",
            "\n",
            "Epoch 11/24\n",
            "----------\n",
            "train Loss: 0.2129 Acc: 0.9139\n",
            "val Loss: 0.2062 Acc: 0.9216\n",
            "\n",
            "Epoch 12/24\n",
            "----------\n",
            "train Loss: 0.2586 Acc: 0.8893\n",
            "val Loss: 0.2104 Acc: 0.9085\n",
            "\n",
            "Epoch 13/24\n",
            "----------\n",
            "train Loss: 0.2842 Acc: 0.8852\n",
            "val Loss: 0.1954 Acc: 0.9020\n",
            "\n",
            "Epoch 14/24\n",
            "----------\n",
            "train Loss: 0.2982 Acc: 0.8443\n",
            "val Loss: 0.2040 Acc: 0.9020\n",
            "\n",
            "Epoch 15/24\n",
            "----------\n",
            "train Loss: 0.2260 Acc: 0.9016\n",
            "val Loss: 0.1983 Acc: 0.9346\n",
            "\n",
            "Epoch 16/24\n",
            "----------\n",
            "train Loss: 0.2760 Acc: 0.8852\n",
            "val Loss: 0.2021 Acc: 0.9150\n",
            "\n",
            "Epoch 17/24\n",
            "----------\n",
            "train Loss: 0.2715 Acc: 0.8811\n",
            "val Loss: 0.2001 Acc: 0.9281\n",
            "\n",
            "Epoch 18/24\n",
            "----------\n",
            "train Loss: 0.3194 Acc: 0.8566\n",
            "val Loss: 0.2114 Acc: 0.9150\n",
            "\n",
            "Epoch 19/24\n",
            "----------\n",
            "train Loss: 0.3118 Acc: 0.8811\n",
            "val Loss: 0.2184 Acc: 0.9346\n",
            "\n",
            "Epoch 20/24\n",
            "----------\n",
            "train Loss: 0.2417 Acc: 0.8893\n",
            "val Loss: 0.2102 Acc: 0.9150\n",
            "\n",
            "Epoch 21/24\n",
            "----------\n",
            "train Loss: 0.3033 Acc: 0.8648\n",
            "val Loss: 0.1992 Acc: 0.9085\n",
            "\n",
            "Epoch 22/24\n",
            "----------\n",
            "train Loss: 0.2596 Acc: 0.8852\n",
            "val Loss: 0.1989 Acc: 0.9150\n",
            "\n",
            "Epoch 23/24\n",
            "----------\n",
            "train Loss: 0.2191 Acc: 0.9344\n",
            "val Loss: 0.1965 Acc: 0.9150\n",
            "\n",
            "Epoch 24/24\n",
            "----------\n",
            "train Loss: 0.1721 Acc: 0.9303\n",
            "val Loss: 0.2085 Acc: 0.9150\n",
            "\n",
            "Training complete in 1m 31s\n",
            "Best val Acc: 0.9346\n"
          ],
          "name": "stdout"
        }
      ]
    },
    {
      "cell_type": "markdown",
      "metadata": {
        "id": "unlikely-maximum"
      },
      "source": [
        "ConvNet as fixed feature extractor"
      ],
      "id": "unlikely-maximum"
    },
    {
      "cell_type": "code",
      "metadata": {
        "id": "affecting-native"
      },
      "source": [
        "## here were freezing all the layers except the final layer\n",
        "# we set up requires_grad == False to freeze the weights so the gradients are not computed \n",
        "# in the backward()"
      ],
      "id": "affecting-native",
      "execution_count": 9,
      "outputs": []
    },
    {
      "cell_type": "code",
      "metadata": {
        "id": "eleven-distance"
      },
      "source": [
        "model_conv = torchvision.models.resnet18(pretrained=True)\n",
        "for param in model_conv.parameters():\n",
        "    param.requires_grad = False\n",
        "    \n",
        "# Parameters of newly constructed modules have requires_grad=True by default\n",
        "num_ftrs = model_conv.fc.in_features\n",
        "model_conv.fc = nn.Linear(num_ftrs, 2)\n",
        "\n",
        "model_conv = model_conv.to(device)\n",
        "\n",
        "criterion = nn.CrossEntropyLoss()\n",
        "\n",
        "# Observe that only parameters of final layer are being optimized as \n",
        "# opposed to before.\n",
        "optimizer_conv = optim.SGD(model_conv.fc.parameters(), lr=0.001, momentum=0.9)\n",
        "\n",
        "# Decay LR by the factor of 0.1 every 7 epochs\n",
        "exp_lr_scheduler = lr_scheduler.StepLR(optimizer_conv, step_size=7, gamma=0.1)"
      ],
      "id": "eleven-distance",
      "execution_count": 11,
      "outputs": []
    },
    {
      "cell_type": "markdown",
      "metadata": {
        "id": "advanced-somewhere"
      },
      "source": [
        "Train and Evaluate Model"
      ],
      "id": "advanced-somewhere"
    },
    {
      "cell_type": "code",
      "metadata": {
        "colab": {
          "base_uri": "https://localhost:8080/"
        },
        "id": "A4LNS859SVJ-",
        "outputId": "b88598ec-a47f-474c-d344-992fa4e51f16"
      },
      "source": [
        "model_conv = train_model(model_conv, criterion, optimizer_conv,\n",
        "                        exp_lr_scheduler, num_epochs=25)"
      ],
      "id": "A4LNS859SVJ-",
      "execution_count": 12,
      "outputs": [
        {
          "output_type": "stream",
          "text": [
            "Epoch 0/24\n",
            "----------\n",
            "train Loss: 0.6918 Acc: 0.6107\n",
            "val Loss: 0.2922 Acc: 0.8824\n",
            "\n",
            "Epoch 1/24\n",
            "----------\n",
            "train Loss: 0.3823 Acc: 0.8320\n",
            "val Loss: 0.5343 Acc: 0.7712\n",
            "\n",
            "Epoch 2/24\n",
            "----------\n",
            "train Loss: 0.4980 Acc: 0.7992\n",
            "val Loss: 0.1769 Acc: 0.9346\n",
            "\n",
            "Epoch 3/24\n",
            "----------\n",
            "train Loss: 0.6343 Acc: 0.7746\n",
            "val Loss: 0.2343 Acc: 0.9346\n",
            "\n",
            "Epoch 4/24\n",
            "----------\n",
            "train Loss: 0.3403 Acc: 0.8730\n",
            "val Loss: 0.3385 Acc: 0.8693\n",
            "\n",
            "Epoch 5/24\n",
            "----------\n",
            "train Loss: 0.3697 Acc: 0.8648\n",
            "val Loss: 0.1962 Acc: 0.9412\n",
            "\n",
            "Epoch 6/24\n",
            "----------\n",
            "train Loss: 0.4525 Acc: 0.8238\n",
            "val Loss: 0.3618 Acc: 0.8693\n",
            "\n",
            "Epoch 7/24\n",
            "----------\n",
            "train Loss: 0.3887 Acc: 0.8484\n",
            "val Loss: 0.2005 Acc: 0.9346\n",
            "\n",
            "Epoch 8/24\n",
            "----------\n",
            "train Loss: 0.3127 Acc: 0.8730\n",
            "val Loss: 0.2319 Acc: 0.9281\n",
            "\n",
            "Epoch 9/24\n",
            "----------\n",
            "train Loss: 0.3062 Acc: 0.8566\n",
            "val Loss: 0.1959 Acc: 0.9412\n",
            "\n",
            "Epoch 10/24\n",
            "----------\n",
            "train Loss: 0.3743 Acc: 0.8320\n",
            "val Loss: 0.2078 Acc: 0.9281\n",
            "\n",
            "Epoch 11/24\n",
            "----------\n",
            "train Loss: 0.3534 Acc: 0.8279\n",
            "val Loss: 0.1855 Acc: 0.9346\n",
            "\n",
            "Epoch 12/24\n",
            "----------\n",
            "train Loss: 0.4314 Acc: 0.7869\n",
            "val Loss: 0.2600 Acc: 0.9085\n",
            "\n",
            "Epoch 13/24\n",
            "----------\n",
            "train Loss: 0.3731 Acc: 0.8443\n",
            "val Loss: 0.1870 Acc: 0.9281\n",
            "\n",
            "Epoch 14/24\n",
            "----------\n",
            "train Loss: 0.2912 Acc: 0.8893\n",
            "val Loss: 0.2364 Acc: 0.9281\n",
            "\n",
            "Epoch 15/24\n",
            "----------\n",
            "train Loss: 0.3783 Acc: 0.8074\n",
            "val Loss: 0.1681 Acc: 0.9412\n",
            "\n",
            "Epoch 16/24\n",
            "----------\n",
            "train Loss: 0.2905 Acc: 0.8607\n",
            "val Loss: 0.1866 Acc: 0.9412\n",
            "\n",
            "Epoch 17/24\n",
            "----------\n",
            "train Loss: 0.4228 Acc: 0.8361\n",
            "val Loss: 0.2063 Acc: 0.9346\n",
            "\n",
            "Epoch 18/24\n",
            "----------\n",
            "train Loss: 0.3284 Acc: 0.8648\n",
            "val Loss: 0.1842 Acc: 0.9412\n",
            "\n",
            "Epoch 19/24\n",
            "----------\n",
            "train Loss: 0.3904 Acc: 0.8320\n",
            "val Loss: 0.1877 Acc: 0.9346\n",
            "\n",
            "Epoch 20/24\n",
            "----------\n",
            "train Loss: 0.3004 Acc: 0.8730\n",
            "val Loss: 0.2312 Acc: 0.9281\n",
            "\n",
            "Epoch 21/24\n",
            "----------\n",
            "train Loss: 0.4211 Acc: 0.8115\n",
            "val Loss: 0.1683 Acc: 0.9412\n",
            "\n",
            "Epoch 22/24\n",
            "----------\n",
            "train Loss: 0.3736 Acc: 0.8525\n",
            "val Loss: 0.2197 Acc: 0.9281\n",
            "\n",
            "Epoch 23/24\n",
            "----------\n",
            "train Loss: 0.3217 Acc: 0.8730\n",
            "val Loss: 0.1888 Acc: 0.9477\n",
            "\n",
            "Epoch 24/24\n",
            "----------\n",
            "train Loss: 0.2522 Acc: 0.9016\n",
            "val Loss: 0.1727 Acc: 0.9412\n",
            "\n",
            "Training complete in 1m 20s\n",
            "Best val Acc: 0.9477\n"
          ],
          "name": "stdout"
        }
      ]
    },
    {
      "cell_type": "code",
      "metadata": {
        "colab": {
          "base_uri": "https://localhost:8080/",
          "height": 581
        },
        "id": "U2BFhx9sSaSS",
        "outputId": "027f4849-5bca-4f67-e245-6a19663e3af0"
      },
      "source": [
        "## Visualize the model\n",
        "visualize_model(model_conv)\n",
        "\n",
        "plt.ioff()\n",
        "plt.show()"
      ],
      "id": "U2BFhx9sSaSS",
      "execution_count": 13,
      "outputs": [
        {
          "output_type": "display_data",
          "data": {
            "image/png": "[encoded data removed]",
            "text/plain": [
              "<Figure size 432x288 with 1 Axes>"
            ]
          },
          "metadata": {
            "tags": [],
            "needs_background": "light"
          }
        },
        {
          "output_type": "display_data",
          "data": {
            "image/png": "[encoded data removed]",
            "text/plain": [
              "<Figure size 432x288 with 1 Axes>"
            ]
          },
          "metadata": {
            "tags": [],
            "needs_background": "light"
          }
        },
        {
          "output_type": "display_data",
          "data": {
            "image/png": "[encoded data removed]",
            "text/plain": [
              "<Figure size 432x288 with 1 Axes>"
            ]
          },
          "metadata": {
            "tags": [],
            "needs_background": "light"
          }
        },
        {
          "output_type": "display_data",
          "data": {
            "image/png": "[encoded data removed]",
            "text/plain": [
              "<Figure size 432x288 with 1 Axes>"
            ]
          },
          "metadata": {
            "tags": [],
            "needs_background": "light"
          }
        },
        {
          "output_type": "display_data",
          "data": {
            "image/png": "[encoded data removed]",
            "text/plain": [
              "<Figure size 432x288 with 1 Axes>"
            ]
          },
          "metadata": {
            "tags": [],
            "needs_background": "light"
          }
        },
        {
          "output_type": "display_data",
          "data": {
            "image/png": "[encoded data removed]",
            "text/plain": [
              "<Figure size 432x288 with 1 Axes>"
            ]
          },
          "metadata": {
            "tags": [],
            "needs_background": "light"
          }
        }
      ]
    },
    {
      "cell_type": "code",
      "metadata": {
        "id": "P95IitiGSqkm"
      },
      "source": [
        ""
      ],
      "id": "P95IitiGSqkm",
      "execution_count": null,
      "outputs": []
    }
  ]
}