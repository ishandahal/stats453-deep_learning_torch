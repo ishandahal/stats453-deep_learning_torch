{
  "nbformat": 4,
  "nbformat_minor": 0,
  "metadata": {
    "colab": {
      "name": "dropout.ipynb",
      "provenance": [],
      "authorship_tag": "ABX9TyODqgiYmdoLstzes87wYEte",
      "include_colab_link": true
    },
    "kernelspec": {
      "name": "python3",
      "display_name": "Python 3"
    },
    "accelerator": "GPU"
  },
  "cells": [
    {
      "cell_type": "markdown",
      "metadata": {
        "id": "view-in-github",
        "colab_type": "text"
      },
      "source": [
        "<a href=\"https://colab.research.google.com/github/ishandahal/stats453-deep_learning_torch/blob/main/Regularization/dropout.ipynb\" target=\"_parent\"><img src=\"https://colab.research.google.com/assets/colab-badge.svg\" alt=\"Open In Colab\"/></a>"
      ]
    },
    {
      "cell_type": "markdown",
      "metadata": {
        "id": "_fajqMAkmAgr"
      },
      "source": [
        "## Dropout"
      ]
    },
    {
      "cell_type": "code",
      "metadata": {
        "id": "3iiGmrjMqjrK"
      },
      "source": [
        "from torchvision import datasets\n",
        "from torchvision import transforms\n",
        "from torch.utils.data import DataLoader\n",
        "from torch.utils.data import SubsetRandomSampler\n",
        "import torch.nn.functional as F\n",
        "import matplotlib.pyplot as plt\n",
        "import torch\n",
        "import time"
      ],
      "execution_count": 27,
      "outputs": []
    },
    {
      "cell_type": "markdown",
      "metadata": {
        "id": "n89I9xR1rA19"
      },
      "source": [
        "## Settings and Dataset"
      ]
    },
    {
      "cell_type": "code",
      "metadata": {
        "id": "FScT6TczrDWk"
      },
      "source": [
        "## Settings \n",
        "random_seed = 123\n",
        "batch_size = 256\n",
        "num_hidden_1 = 75\n",
        "num_hidden_2 = 65\n",
        "drop_proba = 0.5\n",
        "num_epochs = 35\n",
        "device = torch.device('cuda:0' if torch.cuda.is_available() else 'cpu')"
      ],
      "execution_count": 28,
      "outputs": []
    },
    {
      "cell_type": "code",
      "metadata": {
        "id": "rjvflvgvrZI3"
      },
      "source": [
        "train_indices = torch.arange(1000, 60000)\n",
        "valid_indices = torch.arange(1000)\n",
        "\n",
        "train_sampler = SubsetRandomSampler(train_indices)\n",
        "valid_sampler = SubsetRandomSampler(valid_indices)\n",
        "\n",
        "training_transform = transforms.Compose([\n",
        "        # transforms.Resize(size=(32, 32)),\n",
        "        # transforms.RandomCrop(size=(28, 28)),\n",
        "        transforms.ToTensor(),\n",
        "        transforms.Normalize(mean=(0.5,), std=(0.5,))])\n",
        "\n",
        "valid_transform = transforms.Compose([\n",
        "        # transforms.Resize(size=(32, 32)),\n",
        "        # transforms.RandomCrop(size=(28, 28)),\n",
        "        transforms.ToTensor(),\n",
        "        transforms.Normalize(mean=(0.5,), std=(0.5,))])\n",
        "\n",
        "train_dataset = datasets.MNIST(root=\"data\",\n",
        "                               train=True,\n",
        "                               transform=training_transform,\n",
        "                               download=True)\n",
        "\n",
        "valid_dataset = datasets.MNIST(root=\"data\",\n",
        "                               train=True,\n",
        "                               transform=valid_transform,\n",
        "                               download=False)\n",
        "\n",
        "test_dataset = datasets.MNIST(root='data',\n",
        "                              train=False,\n",
        "                              transform=valid_transform,\n",
        "                              download=False)\n",
        "\n",
        "train_loader = DataLoader(dataset=train_dataset,\n",
        "                          batch_size=batch_size,\n",
        "                          drop_last=True,\n",
        "                          sampler=train_sampler,\n",
        "                          num_workers=4)\n",
        "\n",
        "valid_loader = DataLoader(dataset=valid_dataset,\n",
        "                          batch_size=batch_size,\n",
        "                          num_workers=4,\n",
        "                          sampler=valid_sampler)\n",
        "\n",
        "test_loader = DataLoader(dataset=test_dataset,\n",
        "                         batch_size=batch_size,\n",
        "                         num_workers=4,\n",
        "                         shuffle=False)\n"
      ],
      "execution_count": 29,
      "outputs": []
    },
    {
      "cell_type": "code",
      "metadata": {
        "id": "C9tzgEJ4urfW"
      },
      "source": [
        "def compute_accuracy_and_loss(model, data_loader, device):\n",
        "    correct_pred, num_examples = 0, 0\n",
        "    cross_entropy = 0.\n",
        "\n",
        "    for i, (features, targets) in enumerate(data_loader):\n",
        "        features = features.view(-1, 28*28)\n",
        "        features = features.to(device)\n",
        "        targets = targets.to(device)\n",
        "\n",
        "        logits, probas = model(features)\n",
        "        cross_entropy += F.cross_entropy(logits, targets).item()\n",
        "        _, predicted_labels = torch.max(probas, 1)\n",
        "        num_examples += targets.size(0)\n",
        "        correct_pred += torch.sum(targets == predicted_labels)\n",
        "    return correct_pred.float() / num_examples * 100, cross_entropy / num_examples"
      ],
      "execution_count": 30,
      "outputs": []
    },
    {
      "cell_type": "markdown",
      "metadata": {
        "id": "G73ZJ-XaFdxc"
      },
      "source": [
        "# No Dropout"
      ]
    },
    {
      "cell_type": "code",
      "metadata": {
        "id": "TPoCS9kNFgvQ"
      },
      "source": [
        "class MultilayerPerceptron(torch.nn.Module):\n",
        "\n",
        "    def __init__(self, num_features, num_classes,\n",
        "                 num_hidden_1, num_hidden_2):\n",
        "        super(MultilayerPerceptron, self).__init__()\n",
        "\n",
        "        self.my_network = torch.nn.Sequential(\n",
        "        torch.nn.Linear(num_features, num_hidden_1),\n",
        "        torch.nn.ReLU(),\n",
        "        torch.nn.Linear(num_hidden_1, num_hidden_2),\n",
        "        torch.nn.ReLU(),\n",
        "        torch.nn.Linear(num_hidden_2, num_classes)\n",
        "    )\n",
        "    \n",
        "    def forward(self, x):\n",
        "        logits = self.my_network(x)\n",
        "        probas = F.softmax(logits, dim=1)\n",
        "        return logits, probas"
      ],
      "execution_count": 6,
      "outputs": []
    },
    {
      "cell_type": "code",
      "metadata": {
        "colab": {
          "base_uri": "https://localhost:8080/",
          "height": 1000
        },
        "id": "iCMaX7-9IEMh",
        "outputId": "109d9738-2be4-4231-c997-10123297acc1"
      },
      "source": [
        "## Model Initialization \n",
        "\n",
        "torch.manual_seed(random_seed)\n",
        "model = MultilayerPerceptron(num_features=28*28,\n",
        "                             num_classes=10,\n",
        "                             num_hidden_1=num_hidden_1,\n",
        "                             num_hidden_2=num_hidden_2)\n",
        "\n",
        "model = model.to(device)\n",
        "\n",
        "optimizer = torch.optim.SGD(model.parameters(), lr=0.1)\n",
        "\n",
        "## Training\n",
        "\n",
        "start_time = time.time()\n",
        "train_acc_1st, valid_acc_1st = [], []\n",
        "train_loss_1st, valid_loss_1st = [], []\n",
        "\n",
        "for epoch in range(num_epochs):\n",
        "\n",
        "    model.train()\n",
        "\n",
        "    for batch_idx, (features, targets) in enumerate(train_loader):\n",
        "\n",
        "        ## Prepare minibatch\n",
        "        features = features.view(-1, 28*28)\n",
        "        features = features.to(device)\n",
        "        targets = targets.to(device)\n",
        "\n",
        "        ## forward and back prop\n",
        "        logits, probas = model(features)\n",
        "        cost = F.cross_entropy(logits, targets)\n",
        "        optimizer.zero_grad()\n",
        "\n",
        "        cost.backward()\n",
        "\n",
        "        # update model\n",
        "        optimizer.step()\n",
        "\n",
        "        ## logging \n",
        "        if not batch_idx % 120:\n",
        "            print(f\"Epoch: {epoch+1:03d}/{num_epochs:03d} | \"\n",
        "                  f\"Batch: {batch_idx:03d}/{len(train_loader):03d} | \"\n",
        "                  f\"Cost: {cost:.4f}\")\n",
        "    \n",
        "    ## no need to build the computational graph for back prop when computing accuracy\n",
        "    model.eval()\n",
        "    with torch.set_grad_enabled(False):\n",
        "        train_acc, train_loss = compute_accuracy_and_loss(model, train_loader, device=device)\n",
        "        valid_acc, valid_loss = compute_accuracy_and_loss(model, valid_loader, device=device)\n",
        "\n",
        "        train_acc_1st.append(train_acc)\n",
        "        valid_acc_1st.append(valid_acc)\n",
        "        train_loss_1st.append(train_loss)\n",
        "        valid_loss_1st.append(valid_loss)\n",
        "        print(f\"Epoch: {epoch+1:03d}/{num_epochs:03d} Train Acc.: {train_acc:.2f}%\"\n",
        "              f\" | Validation Acc.: {valid_acc:.2f}%\")\n",
        "    \n",
        "    elapsed = (time.time() - start_time) / 60\n",
        "    print(f\"Time elapsed: {elapsed:.2f} min\")\n",
        "\n",
        "elapsed = (time.time() - start_time) / 60\n",
        "ptiny(f\"Total Training Time: {elapsed:.2f} min\")"
      ],
      "execution_count": 8,
      "outputs": [
        {
          "output_type": "stream",
          "text": [
            "Epoch: 001/035 | Batch: 000/230 | Cost: 2.3047\n",
            "Epoch: 001/035 | Batch: 120/230 | Cost: 0.4473\n",
            "Epoch: 001/035 Train Acc.: 88.85% | Validation Acc.: 88.70%\n",
            "Time elapsed: 1.28 min\n",
            "Epoch: 002/035 | Batch: 000/230 | Cost: 0.3442\n",
            "Epoch: 002/035 | Batch: 120/230 | Cost: 0.3084\n",
            "Epoch: 002/035 Train Acc.: 92.61% | Validation Acc.: 92.60%\n",
            "Time elapsed: 2.59 min\n",
            "Epoch: 003/035 | Batch: 000/230 | Cost: 0.2228\n",
            "Epoch: 003/035 | Batch: 120/230 | Cost: 0.2208\n",
            "Epoch: 003/035 Train Acc.: 94.05% | Validation Acc.: 93.90%\n",
            "Time elapsed: 3.90 min\n",
            "Epoch: 004/035 | Batch: 000/230 | Cost: 0.1559\n",
            "Epoch: 004/035 | Batch: 120/230 | Cost: 0.2255\n",
            "Epoch: 004/035 Train Acc.: 94.36% | Validation Acc.: 93.70%\n",
            "Time elapsed: 5.21 min\n",
            "Epoch: 005/035 | Batch: 000/230 | Cost: 0.1892\n",
            "Epoch: 005/035 | Batch: 120/230 | Cost: 0.2120\n",
            "Epoch: 005/035 Train Acc.: 95.55% | Validation Acc.: 94.90%\n",
            "Time elapsed: 6.50 min\n",
            "Epoch: 006/035 | Batch: 000/230 | Cost: 0.1225\n",
            "Epoch: 006/035 | Batch: 120/230 | Cost: 0.1453\n",
            "Epoch: 006/035 Train Acc.: 96.21% | Validation Acc.: 95.90%\n",
            "Time elapsed: 7.80 min\n",
            "Epoch: 007/035 | Batch: 000/230 | Cost: 0.0897\n",
            "Epoch: 007/035 | Batch: 120/230 | Cost: 0.1515\n",
            "Epoch: 007/035 Train Acc.: 95.94% | Validation Acc.: 95.80%\n",
            "Time elapsed: 9.10 min\n",
            "Epoch: 008/035 | Batch: 000/230 | Cost: 0.1571\n",
            "Epoch: 008/035 | Batch: 120/230 | Cost: 0.1547\n",
            "Epoch: 008/035 Train Acc.: 96.39% | Validation Acc.: 95.50%\n",
            "Time elapsed: 10.39 min\n",
            "Epoch: 009/035 | Batch: 000/230 | Cost: 0.1762\n",
            "Epoch: 009/035 | Batch: 120/230 | Cost: 0.0832\n",
            "Epoch: 009/035 Train Acc.: 97.13% | Validation Acc.: 96.60%\n",
            "Time elapsed: 11.69 min\n",
            "Epoch: 010/035 | Batch: 000/230 | Cost: 0.0858\n",
            "Epoch: 010/035 | Batch: 120/230 | Cost: 0.1244\n",
            "Epoch: 010/035 Train Acc.: 97.27% | Validation Acc.: 96.60%\n",
            "Time elapsed: 13.00 min\n",
            "Epoch: 011/035 | Batch: 000/230 | Cost: 0.0775\n",
            "Epoch: 011/035 | Batch: 120/230 | Cost: 0.1007\n",
            "Epoch: 011/035 Train Acc.: 97.47% | Validation Acc.: 96.60%\n",
            "Time elapsed: 14.31 min\n",
            "Epoch: 012/035 | Batch: 000/230 | Cost: 0.0758\n",
            "Epoch: 012/035 | Batch: 120/230 | Cost: 0.1301\n",
            "Epoch: 012/035 Train Acc.: 97.76% | Validation Acc.: 96.30%\n",
            "Time elapsed: 15.63 min\n",
            "Epoch: 013/035 | Batch: 000/230 | Cost: 0.1211\n",
            "Epoch: 013/035 | Batch: 120/230 | Cost: 0.0447\n",
            "Epoch: 013/035 Train Acc.: 97.66% | Validation Acc.: 97.30%\n",
            "Time elapsed: 16.92 min\n",
            "Epoch: 014/035 | Batch: 000/230 | Cost: 0.0714\n",
            "Epoch: 014/035 | Batch: 120/230 | Cost: 0.0847\n",
            "Epoch: 014/035 Train Acc.: 96.99% | Validation Acc.: 96.10%\n",
            "Time elapsed: 18.22 min\n",
            "Epoch: 015/035 | Batch: 000/230 | Cost: 0.0939\n",
            "Epoch: 015/035 | Batch: 120/230 | Cost: 0.0509\n",
            "Epoch: 015/035 Train Acc.: 97.83% | Validation Acc.: 96.90%\n",
            "Time elapsed: 19.51 min\n",
            "Epoch: 016/035 | Batch: 000/230 | Cost: 0.1187\n",
            "Epoch: 016/035 | Batch: 120/230 | Cost: 0.0605\n",
            "Epoch: 016/035 Train Acc.: 97.91% | Validation Acc.: 96.60%\n",
            "Time elapsed: 20.84 min\n",
            "Epoch: 017/035 | Batch: 000/230 | Cost: 0.1123\n",
            "Epoch: 017/035 | Batch: 120/230 | Cost: 0.0577\n",
            "Epoch: 017/035 Train Acc.: 98.28% | Validation Acc.: 97.30%\n",
            "Time elapsed: 22.16 min\n",
            "Epoch: 018/035 | Batch: 000/230 | Cost: 0.0430\n",
            "Epoch: 018/035 | Batch: 120/230 | Cost: 0.0754\n",
            "Epoch: 018/035 Train Acc.: 98.13% | Validation Acc.: 96.50%\n",
            "Time elapsed: 23.49 min\n",
            "Epoch: 019/035 | Batch: 000/230 | Cost: 0.0773\n",
            "Epoch: 019/035 | Batch: 120/230 | Cost: 0.0864\n",
            "Epoch: 019/035 Train Acc.: 98.34% | Validation Acc.: 97.50%\n",
            "Time elapsed: 24.81 min\n",
            "Epoch: 020/035 | Batch: 000/230 | Cost: 0.0622\n",
            "Epoch: 020/035 | Batch: 120/230 | Cost: 0.0826\n",
            "Epoch: 020/035 Train Acc.: 98.54% | Validation Acc.: 97.10%\n",
            "Time elapsed: 26.13 min\n",
            "Epoch: 021/035 | Batch: 000/230 | Cost: 0.0292\n",
            "Epoch: 021/035 | Batch: 120/230 | Cost: 0.0544\n",
            "Epoch: 021/035 Train Acc.: 98.50% | Validation Acc.: 97.20%\n",
            "Time elapsed: 27.44 min\n",
            "Epoch: 022/035 | Batch: 000/230 | Cost: 0.0198\n",
            "Epoch: 022/035 | Batch: 120/230 | Cost: 0.0495\n",
            "Epoch: 022/035 Train Acc.: 98.54% | Validation Acc.: 97.40%\n",
            "Time elapsed: 28.74 min\n",
            "Epoch: 023/035 | Batch: 000/230 | Cost: 0.0256\n",
            "Epoch: 023/035 | Batch: 120/230 | Cost: 0.0440\n",
            "Epoch: 023/035 Train Acc.: 98.61% | Validation Acc.: 97.10%\n",
            "Time elapsed: 30.04 min\n",
            "Epoch: 024/035 | Batch: 000/230 | Cost: 0.0521\n",
            "Epoch: 024/035 | Batch: 120/230 | Cost: 0.0673\n",
            "Epoch: 024/035 Train Acc.: 98.74% | Validation Acc.: 97.80%\n",
            "Time elapsed: 31.38 min\n",
            "Epoch: 025/035 | Batch: 000/230 | Cost: 0.0523\n",
            "Epoch: 025/035 | Batch: 120/230 | Cost: 0.0652\n",
            "Epoch: 025/035 Train Acc.: 98.79% | Validation Acc.: 98.00%\n",
            "Time elapsed: 32.71 min\n",
            "Epoch: 026/035 | Batch: 000/230 | Cost: 0.0421\n",
            "Epoch: 026/035 | Batch: 120/230 | Cost: 0.0204\n",
            "Epoch: 026/035 Train Acc.: 98.95% | Validation Acc.: 97.40%\n",
            "Time elapsed: 34.05 min\n",
            "Epoch: 027/035 | Batch: 000/230 | Cost: 0.0494\n",
            "Epoch: 027/035 | Batch: 120/230 | Cost: 0.0228\n",
            "Epoch: 027/035 Train Acc.: 98.63% | Validation Acc.: 97.10%\n",
            "Time elapsed: 35.39 min\n",
            "Epoch: 028/035 | Batch: 000/230 | Cost: 0.0563\n",
            "Epoch: 028/035 | Batch: 120/230 | Cost: 0.0322\n",
            "Epoch: 028/035 Train Acc.: 97.39% | Validation Acc.: 96.50%\n",
            "Time elapsed: 36.70 min\n",
            "Epoch: 029/035 | Batch: 000/230 | Cost: 0.0794\n",
            "Epoch: 029/035 | Batch: 120/230 | Cost: 0.0632\n",
            "Epoch: 029/035 Train Acc.: 98.29% | Validation Acc.: 97.10%\n",
            "Time elapsed: 38.01 min\n",
            "Epoch: 030/035 | Batch: 000/230 | Cost: 0.0837\n",
            "Epoch: 030/035 | Batch: 120/230 | Cost: 0.0390\n",
            "Epoch: 030/035 Train Acc.: 98.34% | Validation Acc.: 97.30%\n",
            "Time elapsed: 39.33 min\n",
            "Epoch: 031/035 | Batch: 000/230 | Cost: 0.0269\n",
            "Epoch: 031/035 | Batch: 120/230 | Cost: 0.0620\n",
            "Epoch: 031/035 Train Acc.: 98.69% | Validation Acc.: 97.20%\n",
            "Time elapsed: 40.65 min\n",
            "Epoch: 032/035 | Batch: 000/230 | Cost: 0.0486\n",
            "Epoch: 032/035 | Batch: 120/230 | Cost: 0.0294\n",
            "Epoch: 032/035 Train Acc.: 98.47% | Validation Acc.: 97.40%\n",
            "Time elapsed: 41.94 min\n",
            "Epoch: 033/035 | Batch: 000/230 | Cost: 0.0399\n",
            "Epoch: 033/035 | Batch: 120/230 | Cost: 0.0373\n",
            "Epoch: 033/035 Train Acc.: 98.58% | Validation Acc.: 97.20%\n",
            "Time elapsed: 43.27 min\n",
            "Epoch: 034/035 | Batch: 000/230 | Cost: 0.0449\n",
            "Epoch: 034/035 | Batch: 120/230 | Cost: 0.0548\n",
            "Epoch: 034/035 Train Acc.: 98.48% | Validation Acc.: 96.80%\n",
            "Time elapsed: 44.62 min\n",
            "Epoch: 035/035 | Batch: 000/230 | Cost: 0.0214\n",
            "Epoch: 035/035 | Batch: 120/230 | Cost: 0.0211\n",
            "Epoch: 035/035 Train Acc.: 98.85% | Validation Acc.: 96.80%\n",
            "Time elapsed: 45.91 min\n"
          ],
          "name": "stdout"
        },
        {
          "output_type": "error",
          "ename": "NameError",
          "evalue": "ignored",
          "traceback": [
            "\u001b[0;31m---------------------------------------------------------------------------\u001b[0m",
            "\u001b[0;31mNameError\u001b[0m                                 Traceback (most recent call last)",
            "\u001b[0;32m<ipython-input-8-6415828c51ce>\u001b[0m in \u001b[0;36m<module>\u001b[0;34m()\u001b[0m\n\u001b[1;32m     61\u001b[0m \u001b[0;34m\u001b[0m\u001b[0m\n\u001b[1;32m     62\u001b[0m \u001b[0melapsed\u001b[0m \u001b[0;34m=\u001b[0m \u001b[0;34m(\u001b[0m\u001b[0mtime\u001b[0m\u001b[0;34m.\u001b[0m\u001b[0mtime\u001b[0m\u001b[0;34m(\u001b[0m\u001b[0;34m)\u001b[0m \u001b[0;34m-\u001b[0m \u001b[0mstart_time\u001b[0m\u001b[0;34m)\u001b[0m \u001b[0;34m/\u001b[0m \u001b[0;36m60\u001b[0m\u001b[0;34m\u001b[0m\u001b[0;34m\u001b[0m\u001b[0m\n\u001b[0;32m---> 63\u001b[0;31m \u001b[0mptiny\u001b[0m\u001b[0;34m(\u001b[0m\u001b[0;34mf\"Total Training Time: {elapsed:.2f} min\"\u001b[0m\u001b[0;34m)\u001b[0m\u001b[0;34m\u001b[0m\u001b[0;34m\u001b[0m\u001b[0m\n\u001b[0m",
            "\u001b[0;31mNameError\u001b[0m: name 'ptiny' is not defined"
          ]
        }
      ]
    },
    {
      "cell_type": "code",
      "metadata": {
        "colab": {
          "base_uri": "https://localhost:8080/",
          "height": 279
        },
        "id": "noWiuW69MUT0",
        "outputId": "481e4bdb-075e-4933-86ed-1f49e7643ac6"
      },
      "source": [
        "plt.plot(range(1, num_epochs+1), train_loss_1st, label='Training loss')\n",
        "plt.plot(range(1, num_epochs+1), valid_loss_1st, label=\"Validation loss\")\n",
        "plt.legend(loc='upper right')\n",
        "plt.ylabel('Cross Entropy')\n",
        "plt.xlabel('Epoch')\n",
        "plt.show()"
      ],
      "execution_count": 9,
      "outputs": [
        {
          "output_type": "display_data",
          "data": {
            "image/png": "[encoded data removed]",
            "text/plain": [
              "<Figure size 432x288 with 1 Axes>"
            ]
          },
          "metadata": {
            "tags": [],
            "needs_background": "light"
          }
        }
      ]
    },
    {
      "cell_type": "code",
      "metadata": {
        "colab": {
          "base_uri": "https://localhost:8080/"
        },
        "id": "MbtqNxhmPa5x",
        "outputId": "f5f96087-9b68-49b8-9811-40c99ec95df8"
      },
      "source": [
        "model.eval()\n",
        "with torch.set_grad_enabled(False):\n",
        "    test_acc, test_loss = compute_accuracy_and_loss(model, test_loader, device)\n",
        "    print(f\"Test Accuracy: {test_acc:.2f}\")"
      ],
      "execution_count": 11,
      "outputs": [
        {
          "output_type": "stream",
          "text": [
            "Test Accuracy: 97.23\n"
          ],
          "name": "stdout"
        }
      ]
    },
    {
      "cell_type": "code",
      "metadata": {
        "colab": {
          "base_uri": "https://localhost:8080/",
          "height": 283
        },
        "id": "l5Z1CrHdPwUj",
        "outputId": "d72398c5-fbc5-4a97-8896-27d9af57dc40"
      },
      "source": [
        "plt.plot(range(1, num_epochs+1), train_acc_1st, label='Training accuracy')\n",
        "plt.plot(range(1, num_epochs+1), valid_acc_1st, label='Validation accuracy')\n",
        "plt.axhline(y=test_acc, c='black', label='Test accuracy')\n",
        "plt.ylim([70, 100])\n",
        "plt.legend(loc='lower right')\n",
        "plt.ylabel('Accuracy')\n",
        "plt.xlabel('Epoch')\n",
        "plt.show()"
      ],
      "execution_count": 12,
      "outputs": [
        {
          "output_type": "display_data",
          "data": {
            "image/png": "[encoded data removed]",
            "text/plain": [
              "<Figure size 432x288 with 1 Axes>"
            ]
          },
          "metadata": {
            "tags": [],
            "needs_background": "light"
          }
        }
      ]
    },
    {
      "cell_type": "markdown",
      "metadata": {
        "id": "HjE5ebZfQns0"
      },
      "source": [
        "### Object Oriented Dropout"
      ]
    },
    {
      "cell_type": "code",
      "metadata": {
        "id": "HEcAFbCpYbmL"
      },
      "source": [
        "def compute_accuracy_and_loss(model, data_loader, device):\n",
        "    correct_pred, num_examples = 0, 0\n",
        "    cross_entropy = 0.\n",
        "    for i, (features, targets) in enumerate(data_loader):\n",
        "            \n",
        "        features = features.view(-1, 28*28)\n",
        "        features = features.to(device)\n",
        "        targets = targets.to(device)\n",
        "\n",
        "        logits, probas = model(features)\n",
        "        cross_entropy += F.cross_entropy(logits, targets).item()\n",
        "        _, predicted_labels = torch.max(probas, 1)\n",
        "        num_examples += targets.size(0)\n",
        "        correct_pred += (predicted_labels == targets).sum()\n",
        "    return correct_pred.float()/num_examples * 100, cross_entropy/num_examples\n",
        "\n"
      ],
      "execution_count": 9,
      "outputs": []
    },
    {
      "cell_type": "code",
      "metadata": {
        "id": "wfSqLuPOQqTm"
      },
      "source": [
        "class MultilayerPerceptron(torch.nn.Module):\n",
        "\n",
        "    def __init__(self, num_features, num_classes, drop_proba,\n",
        "                 num_hidden_1, num_hidden_2):\n",
        "        super(MultilayerPerceptron, self).__init__()\n",
        "\n",
        "        self.my_network = torch.nn.Sequential(\n",
        "            torch.nn.Linear(num_features, num_hidden_1),\n",
        "            torch.nn.ReLU(),\n",
        "            torch.nn.Dropout(drop_proba),\n",
        "            torch.nn.Linear(num_hidden_1, num_hidden_2),\n",
        "            torch.nn.ReLU(),\n",
        "            torch.nn.Dropout(drop_proba),\n",
        "            torch.nn.Linear(num_hidden_2, num_classes),\n",
        "        )\n",
        "\n",
        "    def forward(self, x):\n",
        "        logits = self.my_network(x)\n",
        "        probas = F.softmax(logits, dim=1)\n",
        "        return logits, probas"
      ],
      "execution_count": 10,
      "outputs": []
    },
    {
      "cell_type": "code",
      "metadata": {
        "colab": {
          "base_uri": "https://localhost:8080/"
        },
        "id": "1GDkGTQkUjfT",
        "outputId": "be5baf3b-2575-4572-b741-cf4a0d827ba6"
      },
      "source": [
        "#################################\n",
        "### Model Initialization\n",
        "#################################\n",
        "    \n",
        "torch.manual_seed(random_seed)\n",
        "model = MultilayerPerceptron(num_features=28*28,\n",
        "                             num_hidden_1=num_hidden_1,\n",
        "                             num_hidden_2=num_hidden_2,\n",
        "                             drop_proba=drop_proba,\n",
        "                             num_classes=10)\n",
        "\n",
        "model = model.to(device)\n",
        "\n",
        "optimizer = torch.optim.SGD(model.parameters(), lr=0.1)\n",
        "\n",
        "#################################\n",
        "### Training\n",
        "#################################\n",
        "\n",
        "start_time = time.time()\n",
        "train_acc_lst, valid_acc_lst = [], []\n",
        "train_loss_lst, valid_loss_lst = [], []\n",
        "\n",
        "for epoch in range(num_epochs):\n",
        "    \n",
        "    model.train()\n",
        "    \n",
        "    for batch_idx, (features, targets) in enumerate(train_loader):\n",
        "    \n",
        "        ### PREPARE MINIBATCH\n",
        "        features = features.view(-1, 28*28)\n",
        "        features = features.to(device)\n",
        "        targets = targets.to(device)\n",
        "            \n",
        "        ### FORWARD AND BACK PROP\n",
        "        logits, probas = model(features)\n",
        "        cost = F.cross_entropy(logits, targets)\n",
        "        optimizer.zero_grad()\n",
        "        \n",
        "        cost.backward()\n",
        "        \n",
        "        ### UPDATE MODEL PARAMETERS\n",
        "        optimizer.step()\n",
        "        \n",
        "        ### LOGGING\n",
        "        if not batch_idx % 120:\n",
        "            print (f'Epoch: {epoch+1:03d}/{num_epochs:03d} | '\n",
        "                   f'Batch {batch_idx:03d}/{len(train_loader):03d} | ' \n",
        "                   f'Cost: {cost:.4f}')\n",
        "\n",
        "    # no need to build the computation graph for backprop when computing accuracy\n",
        "    model.eval()\n",
        "    with torch.set_grad_enabled(False):\n",
        "        train_acc, train_loss = compute_accuracy_and_loss(model, train_loader, device=device)\n",
        "        valid_acc, valid_loss = compute_accuracy_and_loss(model, valid_loader, device=device)\n",
        "        train_acc_lst.append(train_acc)\n",
        "        valid_acc_lst.append(valid_acc)\n",
        "        train_loss_lst.append(train_loss)\n",
        "        valid_loss_lst.append(valid_loss)\n",
        "        print(f'Epoch: {epoch+1:03d}/{num_epochs:03d} Train Acc.: {train_acc:.2f}%'\n",
        "              f' | Validation Acc.: {valid_acc:.2f}%')\n",
        "        \n",
        "    elapsed = (time.time() - start_time)/60\n",
        "    print(f'Time elapsed: {elapsed:.2f} min')\n",
        "  \n",
        "elapsed = (time.time() - start_time)/60\n",
        "print(f'Total Training Time: {elapsed:.2f} min')"
      ],
      "execution_count": 11,
      "outputs": [
        {
          "output_type": "stream",
          "text": [
            "Epoch: 001/035 | Batch 000/230 | Cost: 2.3101\n",
            "Epoch: 001/035 | Batch 120/230 | Cost: 0.9171\n",
            "Epoch: 001/035 Train Acc.: 87.56% | Validation Acc.: 86.70%\n",
            "Time elapsed: 1.18 min\n",
            "Epoch: 002/035 | Batch 000/230 | Cost: 0.7002\n",
            "Epoch: 002/035 | Batch 120/230 | Cost: 0.5771\n",
            "Epoch: 002/035 Train Acc.: 90.18% | Validation Acc.: 90.40%\n",
            "Time elapsed: 2.36 min\n",
            "Epoch: 003/035 | Batch 000/230 | Cost: 0.5677\n",
            "Epoch: 003/035 | Batch 120/230 | Cost: 0.5330\n",
            "Epoch: 003/035 Train Acc.: 91.31% | Validation Acc.: 90.40%\n",
            "Time elapsed: 3.54 min\n",
            "Epoch: 004/035 | Batch 000/230 | Cost: 0.4534\n",
            "Epoch: 004/035 | Batch 120/230 | Cost: 0.5612\n",
            "Epoch: 004/035 Train Acc.: 91.77% | Validation Acc.: 91.00%\n",
            "Time elapsed: 4.72 min\n",
            "Epoch: 005/035 | Batch 000/230 | Cost: 0.5241\n",
            "Epoch: 005/035 | Batch 120/230 | Cost: 0.4920\n",
            "Epoch: 005/035 Train Acc.: 92.98% | Validation Acc.: 92.80%\n",
            "Time elapsed: 5.89 min\n",
            "Epoch: 006/035 | Batch 000/230 | Cost: 0.3592\n",
            "Epoch: 006/035 | Batch 120/230 | Cost: 0.3709\n",
            "Epoch: 006/035 Train Acc.: 93.49% | Validation Acc.: 93.80%\n",
            "Time elapsed: 7.06 min\n",
            "Epoch: 007/035 | Batch 000/230 | Cost: 0.4176\n",
            "Epoch: 007/035 | Batch 120/230 | Cost: 0.4170\n",
            "Epoch: 007/035 Train Acc.: 93.83% | Validation Acc.: 93.60%\n",
            "Time elapsed: 8.22 min\n",
            "Epoch: 008/035 | Batch 000/230 | Cost: 0.4060\n",
            "Epoch: 008/035 | Batch 120/230 | Cost: 0.3835\n",
            "Epoch: 008/035 Train Acc.: 93.98% | Validation Acc.: 93.90%\n",
            "Time elapsed: 9.38 min\n",
            "Epoch: 009/035 | Batch 000/230 | Cost: 0.3900\n",
            "Epoch: 009/035 | Batch 120/230 | Cost: 0.3971\n",
            "Epoch: 009/035 Train Acc.: 94.56% | Validation Acc.: 94.90%\n",
            "Time elapsed: 10.54 min\n",
            "Epoch: 010/035 | Batch 000/230 | Cost: 0.3255\n",
            "Epoch: 010/035 | Batch 120/230 | Cost: 0.3587\n",
            "Epoch: 010/035 Train Acc.: 94.61% | Validation Acc.: 94.10%\n",
            "Time elapsed: 11.71 min\n",
            "Epoch: 011/035 | Batch 000/230 | Cost: 0.3266\n",
            "Epoch: 011/035 | Batch 120/230 | Cost: 0.3904\n",
            "Epoch: 011/035 Train Acc.: 94.73% | Validation Acc.: 94.30%\n",
            "Time elapsed: 12.88 min\n",
            "Epoch: 012/035 | Batch 000/230 | Cost: 0.3973\n",
            "Epoch: 012/035 | Batch 120/230 | Cost: 0.3858\n",
            "Epoch: 012/035 Train Acc.: 95.08% | Validation Acc.: 95.10%\n",
            "Time elapsed: 14.05 min\n",
            "Epoch: 013/035 | Batch 000/230 | Cost: 0.3764\n",
            "Epoch: 013/035 | Batch 120/230 | Cost: 0.2680\n",
            "Epoch: 013/035 Train Acc.: 95.42% | Validation Acc.: 95.30%\n",
            "Time elapsed: 15.22 min\n",
            "Epoch: 014/035 | Batch 000/230 | Cost: 0.3485\n",
            "Epoch: 014/035 | Batch 120/230 | Cost: 0.3417\n",
            "Epoch: 014/035 Train Acc.: 95.16% | Validation Acc.: 95.70%\n",
            "Time elapsed: 16.37 min\n",
            "Epoch: 015/035 | Batch 000/230 | Cost: 0.3027\n",
            "Epoch: 015/035 | Batch 120/230 | Cost: 0.3134\n",
            "Epoch: 015/035 Train Acc.: 95.54% | Validation Acc.: 94.90%\n",
            "Time elapsed: 17.54 min\n",
            "Epoch: 016/035 | Batch 000/230 | Cost: 0.4276\n",
            "Epoch: 016/035 | Batch 120/230 | Cost: 0.2950\n",
            "Epoch: 016/035 Train Acc.: 95.51% | Validation Acc.: 95.30%\n",
            "Time elapsed: 18.69 min\n",
            "Epoch: 017/035 | Batch 000/230 | Cost: 0.3163\n",
            "Epoch: 017/035 | Batch 120/230 | Cost: 0.2480\n",
            "Epoch: 017/035 Train Acc.: 95.54% | Validation Acc.: 94.30%\n",
            "Time elapsed: 19.84 min\n",
            "Epoch: 018/035 | Batch 000/230 | Cost: 0.3088\n",
            "Epoch: 018/035 | Batch 120/230 | Cost: 0.3203\n",
            "Epoch: 018/035 Train Acc.: 95.87% | Validation Acc.: 95.70%\n",
            "Time elapsed: 20.99 min\n",
            "Epoch: 019/035 | Batch 000/230 | Cost: 0.2762\n",
            "Epoch: 019/035 | Batch 120/230 | Cost: 0.3745\n",
            "Epoch: 019/035 Train Acc.: 95.96% | Validation Acc.: 95.30%\n",
            "Time elapsed: 22.15 min\n",
            "Epoch: 020/035 | Batch 000/230 | Cost: 0.4306\n",
            "Epoch: 020/035 | Batch 120/230 | Cost: 0.3972\n",
            "Epoch: 020/035 Train Acc.: 95.77% | Validation Acc.: 95.50%\n",
            "Time elapsed: 23.31 min\n",
            "Epoch: 021/035 | Batch 000/230 | Cost: 0.3299\n",
            "Epoch: 021/035 | Batch 120/230 | Cost: 0.2315\n",
            "Epoch: 021/035 Train Acc.: 96.07% | Validation Acc.: 95.80%\n",
            "Time elapsed: 24.46 min\n",
            "Epoch: 022/035 | Batch 000/230 | Cost: 0.2794\n",
            "Epoch: 022/035 | Batch 120/230 | Cost: 0.3467\n",
            "Epoch: 022/035 Train Acc.: 96.17% | Validation Acc.: 95.80%\n",
            "Time elapsed: 25.63 min\n",
            "Epoch: 023/035 | Batch 000/230 | Cost: 0.1968\n",
            "Epoch: 023/035 | Batch 120/230 | Cost: 0.2953\n",
            "Epoch: 023/035 Train Acc.: 96.24% | Validation Acc.: 95.80%\n",
            "Time elapsed: 26.80 min\n",
            "Epoch: 024/035 | Batch 000/230 | Cost: 0.3607\n",
            "Epoch: 024/035 | Batch 120/230 | Cost: 0.2468\n",
            "Epoch: 024/035 Train Acc.: 96.41% | Validation Acc.: 95.10%\n",
            "Time elapsed: 27.96 min\n",
            "Epoch: 025/035 | Batch 000/230 | Cost: 0.3140\n",
            "Epoch: 025/035 | Batch 120/230 | Cost: 0.2549\n",
            "Epoch: 025/035 Train Acc.: 96.53% | Validation Acc.: 96.20%\n",
            "Time elapsed: 29.13 min\n",
            "Epoch: 026/035 | Batch 000/230 | Cost: 0.2264\n",
            "Epoch: 026/035 | Batch 120/230 | Cost: 0.2481\n",
            "Epoch: 026/035 Train Acc.: 96.45% | Validation Acc.: 95.60%\n",
            "Time elapsed: 30.28 min\n",
            "Epoch: 027/035 | Batch 000/230 | Cost: 0.2356\n",
            "Epoch: 027/035 | Batch 120/230 | Cost: 0.2005\n",
            "Epoch: 027/035 Train Acc.: 96.56% | Validation Acc.: 96.00%\n",
            "Time elapsed: 31.44 min\n",
            "Epoch: 028/035 | Batch 000/230 | Cost: 0.2291\n",
            "Epoch: 028/035 | Batch 120/230 | Cost: 0.2683\n",
            "Epoch: 028/035 Train Acc.: 96.53% | Validation Acc.: 96.20%\n",
            "Time elapsed: 32.61 min\n",
            "Epoch: 029/035 | Batch 000/230 | Cost: 0.2873\n",
            "Epoch: 029/035 | Batch 120/230 | Cost: 0.2731\n",
            "Epoch: 029/035 Train Acc.: 96.49% | Validation Acc.: 95.80%\n",
            "Time elapsed: 33.78 min\n",
            "Epoch: 030/035 | Batch 000/230 | Cost: 0.3668\n",
            "Epoch: 030/035 | Batch 120/230 | Cost: 0.2134\n",
            "Epoch: 030/035 Train Acc.: 96.57% | Validation Acc.: 95.50%\n",
            "Time elapsed: 34.94 min\n",
            "Epoch: 031/035 | Batch 000/230 | Cost: 0.2960\n",
            "Epoch: 031/035 | Batch 120/230 | Cost: 0.2405\n",
            "Epoch: 031/035 Train Acc.: 96.56% | Validation Acc.: 96.00%\n",
            "Time elapsed: 36.10 min\n",
            "Epoch: 032/035 | Batch 000/230 | Cost: 0.2232\n",
            "Epoch: 032/035 | Batch 120/230 | Cost: 0.2071\n",
            "Epoch: 032/035 Train Acc.: 96.68% | Validation Acc.: 95.70%\n",
            "Time elapsed: 37.26 min\n",
            "Epoch: 033/035 | Batch 000/230 | Cost: 0.1827\n",
            "Epoch: 033/035 | Batch 120/230 | Cost: 0.2027\n",
            "Epoch: 033/035 Train Acc.: 96.77% | Validation Acc.: 96.30%\n",
            "Time elapsed: 38.43 min\n",
            "Epoch: 034/035 | Batch 000/230 | Cost: 0.1923\n",
            "Epoch: 034/035 | Batch 120/230 | Cost: 0.2962\n",
            "Epoch: 034/035 Train Acc.: 96.62% | Validation Acc.: 95.70%\n",
            "Time elapsed: 39.59 min\n",
            "Epoch: 035/035 | Batch 000/230 | Cost: 0.2481\n",
            "Epoch: 035/035 | Batch 120/230 | Cost: 0.2113\n",
            "Epoch: 035/035 Train Acc.: 96.72% | Validation Acc.: 95.80%\n",
            "Time elapsed: 40.76 min\n",
            "Total Training Time: 40.76 min\n"
          ],
          "name": "stdout"
        }
      ]
    },
    {
      "cell_type": "code",
      "metadata": {
        "colab": {
          "base_uri": "https://localhost:8080/",
          "height": 279
        },
        "id": "pBmefQraYmo-",
        "outputId": "7c298686-4a2e-4b46-cdce-46840c625ce9"
      },
      "source": [
        "plt.plot(range(1, num_epochs+1), train_loss_lst, label='Training loss')\n",
        "plt.plot(range(1, num_epochs+1), valid_loss_lst, label='Validation loss')\n",
        "plt.legend(loc='upper right')\n",
        "plt.ylabel('Cross entropy')\n",
        "plt.xlabel('Epoch')\n",
        "plt.show()"
      ],
      "execution_count": 12,
      "outputs": [
        {
          "output_type": "display_data",
          "data": {
            "image/png": "[encoded data removed]",
            "text/plain": [
              "<Figure size 432x288 with 1 Axes>"
            ]
          },
          "metadata": {
            "tags": [],
            "needs_background": "light"
          }
        }
      ]
    },
    {
      "cell_type": "code",
      "metadata": {
        "colab": {
          "base_uri": "https://localhost:8080/"
        },
        "id": "eq0ZBP33lWXC",
        "outputId": "63345495-4589-486e-b221-6fd5f2ed9437"
      },
      "source": [
        "model.eval()\n",
        "with torch.set_grad_enabled(False):\n",
        "    test_acc, test_loss = compute_accuracy_and_loss(model, test_loader, device)\n",
        "    print(f\"Test accuracy: {test_acc:.2f}%\")"
      ],
      "execution_count": 13,
      "outputs": [
        {
          "output_type": "stream",
          "text": [
            "Test accuracy: 96.08%\n"
          ],
          "name": "stdout"
        }
      ]
    },
    {
      "cell_type": "code",
      "metadata": {
        "colab": {
          "base_uri": "https://localhost:8080/",
          "height": 283
        },
        "id": "uTWetLg5lyuz",
        "outputId": "8ea04bc3-1965-4ccc-87e0-9d6c718031a1"
      },
      "source": [
        "plt.plot(range(1, num_epochs+1), train_acc_lst, label='Training accuracy')\n",
        "plt.plot(range(1, num_epochs+1), valid_acc_lst, label='Validation accuracy')\n",
        "plt.axhline(y=test_acc, c='black', label='Test accuracy')\n",
        "plt.ylim([70, 100])\n",
        "plt.legend(loc='lower right')\n",
        "plt.ylabel('Accuracy')\n",
        "plt.xlabel('Epoch')\n",
        "plt.show()"
      ],
      "execution_count": 14,
      "outputs": [
        {
          "output_type": "display_data",
          "data": {
            "image/png": "[encoded data removed]",
            "text/plain": [
              "<Figure size 432x288 with 1 Axes>"
            ]
          },
          "metadata": {
            "tags": [],
            "needs_background": "light"
          }
        }
      ]
    },
    {
      "cell_type": "markdown",
      "metadata": {
        "id": "_xcnUFNEmBzN"
      },
      "source": [
        "## Functional API Dropout"
      ]
    },
    {
      "cell_type": "code",
      "metadata": {
        "id": "JofM6L-3mQRv"
      },
      "source": [
        "class MultilayerPerceptron(torch.nn.Module):\n",
        "\n",
        "    def __init__(self, num_features, num_classes,\n",
        "                 drop_proba, num_hidden_1, num_hidden_2):\n",
        "        super(MultilayerPerceptron, self).__init__()\n",
        "\n",
        "        self.drop_proba = drop_proba\n",
        "        self.linear_1 = torch.nn.Linear(num_features, num_hidden_1)\n",
        "        self.linear_2 = torch.nn.Linear(num_hidden_1, num_hidden_2)\n",
        "        self.linear_out = torch.nn.Linear(num_hidden_2, num_classes)\n",
        "\n",
        "    def forward(self, x):\n",
        "        out = self.linear_1(x)\n",
        "        out = F.relu(out)\n",
        "        out = F.dropout(out, p=self.drop_proba, training=self.training)\n",
        "        out = self.linear_2(out)\n",
        "        out = F.relu(out)\n",
        "        out = F.dropout(out, p=self.drop_proba, training=self.training)\n",
        "        logits = self.linear_out(out)\n",
        "        probas = F.log_softmax(logits, dim=1)\n",
        "        return logits, probas"
      ],
      "execution_count": 35,
      "outputs": []
    },
    {
      "cell_type": "code",
      "metadata": {
        "colab": {
          "base_uri": "https://localhost:8080/"
        },
        "id": "EaJQiMDrn2yN",
        "outputId": "842982cd-2cd7-4610-abc5-e7e33e544738"
      },
      "source": [
        "## Model Initialization \n",
        "\n",
        "torch.manual_seed(random_seed)\n",
        "model = MultilayerPerceptron(num_features=28*28,\n",
        "                             num_classes=10,\n",
        "                             drop_proba=drop_proba,\n",
        "                             num_hidden_1=num_hidden_1,\n",
        "                             num_hidden_2=num_hidden_2)\n",
        "\n",
        "model = model.to(device)\n",
        "\n",
        "optimizer = torch.optim.SGD(model.parameters(), lr=0.1)\n",
        "\n",
        "## Training\n",
        "\n",
        "start_time = time.time()\n",
        "train_acc_1st, valid_acc_1st = [], []\n",
        "train_loss_1st, valid_loss_1st = [], []\n",
        "\n",
        "for epoch in range(num_epochs):\n",
        "\n",
        "    model.train()\n",
        "\n",
        "    for batch_idx, (features, targets) in enumerate(train_loader):\n",
        "\n",
        "        ## Prepare minibatch\n",
        "        features = features.view(-1, 28*28)\n",
        "        features = features.to(device)\n",
        "        targets = targets.to(device)\n",
        "\n",
        "        ## forward and back prop\n",
        "        logits, probas = model(features)\n",
        "        cost = F.cross_entropy(logits, targets)\n",
        "        optimizer.zero_grad()\n",
        "\n",
        "        cost.backward()\n",
        "\n",
        "        # update model\n",
        "        optimizer.step()\n",
        "\n",
        "        ## logging \n",
        "        if not batch_idx % 120:\n",
        "            print(f\"Epoch: {epoch+1:03d}/{num_epochs:03d} | \"\n",
        "                  f\"Batch: {batch_idx:03d}/{len(train_loader):03d} | \"\n",
        "                  f\"Cost: {cost:.4f}\")\n",
        "    \n",
        "    ## no need to build the computational graph for back prop when computing accuracy\n",
        "    model.eval()\n",
        "    with torch.set_grad_enabled(False):\n",
        "        train_acc, train_loss = compute_accuracy_and_loss(model, train_loader, device=device)\n",
        "        valid_acc, valid_loss = compute_accuracy_and_loss(model, valid_loader, device=device)\n",
        "\n",
        "        train_acc_1st.append(train_acc)\n",
        "        valid_acc_1st.append(valid_acc)\n",
        "        train_loss_1st.append(train_loss)\n",
        "        valid_loss_1st.append(valid_loss)\n",
        "        print(f\"Epoch: {epoch+1:03d}/{num_epochs:03d} Train Acc.: {train_acc:.2f}%\"\n",
        "              f\" | Validation Acc.: {valid_acc:.2f}%\")\n",
        "    \n",
        "    elapsed = (time.time() - start_time) / 60\n",
        "    print(f\"Time elapsed: {elapsed:.2f} min\")\n",
        "\n",
        "elapsed = (time.time() - start_time) / 60\n",
        "print(f\"Total Training Time: {elapsed:.2f} min\")"
      ],
      "execution_count": 36,
      "outputs": [
        {
          "output_type": "stream",
          "text": [
            "Epoch: 001/035 | Batch: 000/230 | Cost: 2.3101\n",
            "Epoch: 001/035 | Batch: 120/230 | Cost: 0.9171\n",
            "Epoch: 001/035 Train Acc.: 87.56% | Validation Acc.: 86.70%\n",
            "Time elapsed: 1.15 min\n",
            "Epoch: 002/035 | Batch: 000/230 | Cost: 0.7002\n",
            "Epoch: 002/035 | Batch: 120/230 | Cost: 0.5771\n",
            "Epoch: 002/035 Train Acc.: 90.18% | Validation Acc.: 90.40%\n",
            "Time elapsed: 2.29 min\n",
            "Epoch: 003/035 | Batch: 000/230 | Cost: 0.5677\n",
            "Epoch: 003/035 | Batch: 120/230 | Cost: 0.5330\n",
            "Epoch: 003/035 Train Acc.: 91.31% | Validation Acc.: 90.40%\n",
            "Time elapsed: 3.46 min\n",
            "Epoch: 004/035 | Batch: 000/230 | Cost: 0.4534\n",
            "Epoch: 004/035 | Batch: 120/230 | Cost: 0.5612\n",
            "Epoch: 004/035 Train Acc.: 91.77% | Validation Acc.: 91.00%\n",
            "Time elapsed: 4.61 min\n",
            "Epoch: 005/035 | Batch: 000/230 | Cost: 0.5241\n",
            "Epoch: 005/035 | Batch: 120/230 | Cost: 0.4920\n",
            "Epoch: 005/035 Train Acc.: 92.98% | Validation Acc.: 92.80%\n",
            "Time elapsed: 5.76 min\n",
            "Epoch: 006/035 | Batch: 000/230 | Cost: 0.3592\n",
            "Epoch: 006/035 | Batch: 120/230 | Cost: 0.3709\n",
            "Epoch: 006/035 Train Acc.: 93.49% | Validation Acc.: 93.80%\n",
            "Time elapsed: 6.90 min\n",
            "Epoch: 007/035 | Batch: 000/230 | Cost: 0.4176\n",
            "Epoch: 007/035 | Batch: 120/230 | Cost: 0.4170\n",
            "Epoch: 007/035 Train Acc.: 93.83% | Validation Acc.: 93.60%\n",
            "Time elapsed: 8.05 min\n",
            "Epoch: 008/035 | Batch: 000/230 | Cost: 0.4060\n",
            "Epoch: 008/035 | Batch: 120/230 | Cost: 0.3835\n",
            "Epoch: 008/035 Train Acc.: 93.98% | Validation Acc.: 93.90%\n",
            "Time elapsed: 9.20 min\n",
            "Epoch: 009/035 | Batch: 000/230 | Cost: 0.3900\n",
            "Epoch: 009/035 | Batch: 120/230 | Cost: 0.3971\n",
            "Epoch: 009/035 Train Acc.: 94.56% | Validation Acc.: 94.90%\n",
            "Time elapsed: 10.36 min\n",
            "Epoch: 010/035 | Batch: 000/230 | Cost: 0.3255\n",
            "Epoch: 010/035 | Batch: 120/230 | Cost: 0.3587\n",
            "Epoch: 010/035 Train Acc.: 94.61% | Validation Acc.: 94.10%\n",
            "Time elapsed: 11.52 min\n",
            "Epoch: 011/035 | Batch: 000/230 | Cost: 0.3266\n",
            "Epoch: 011/035 | Batch: 120/230 | Cost: 0.3904\n",
            "Epoch: 011/035 Train Acc.: 94.73% | Validation Acc.: 94.30%\n",
            "Time elapsed: 12.65 min\n",
            "Epoch: 012/035 | Batch: 000/230 | Cost: 0.3973\n",
            "Epoch: 012/035 | Batch: 120/230 | Cost: 0.3858\n",
            "Epoch: 012/035 Train Acc.: 95.08% | Validation Acc.: 95.10%\n",
            "Time elapsed: 13.79 min\n",
            "Epoch: 013/035 | Batch: 000/230 | Cost: 0.3764\n",
            "Epoch: 013/035 | Batch: 120/230 | Cost: 0.2680\n",
            "Epoch: 013/035 Train Acc.: 95.42% | Validation Acc.: 95.30%\n",
            "Time elapsed: 14.94 min\n",
            "Epoch: 014/035 | Batch: 000/230 | Cost: 0.3485\n",
            "Epoch: 014/035 | Batch: 120/230 | Cost: 0.3417\n",
            "Epoch: 014/035 Train Acc.: 95.16% | Validation Acc.: 95.70%\n",
            "Time elapsed: 16.09 min\n",
            "Epoch: 015/035 | Batch: 000/230 | Cost: 0.3027\n",
            "Epoch: 015/035 | Batch: 120/230 | Cost: 0.3134\n",
            "Epoch: 015/035 Train Acc.: 95.54% | Validation Acc.: 94.90%\n",
            "Time elapsed: 17.24 min\n",
            "Epoch: 016/035 | Batch: 000/230 | Cost: 0.4276\n",
            "Epoch: 016/035 | Batch: 120/230 | Cost: 0.2950\n",
            "Epoch: 016/035 Train Acc.: 95.51% | Validation Acc.: 95.30%\n",
            "Time elapsed: 18.40 min\n",
            "Epoch: 017/035 | Batch: 000/230 | Cost: 0.3163\n",
            "Epoch: 017/035 | Batch: 120/230 | Cost: 0.2480\n",
            "Epoch: 017/035 Train Acc.: 95.54% | Validation Acc.: 94.30%\n",
            "Time elapsed: 19.56 min\n",
            "Epoch: 018/035 | Batch: 000/230 | Cost: 0.3088\n",
            "Epoch: 018/035 | Batch: 120/230 | Cost: 0.3203\n",
            "Epoch: 018/035 Train Acc.: 95.87% | Validation Acc.: 95.70%\n",
            "Time elapsed: 20.71 min\n",
            "Epoch: 019/035 | Batch: 000/230 | Cost: 0.2762\n",
            "Epoch: 019/035 | Batch: 120/230 | Cost: 0.3745\n",
            "Epoch: 019/035 Train Acc.: 95.96% | Validation Acc.: 95.30%\n",
            "Time elapsed: 21.88 min\n",
            "Epoch: 020/035 | Batch: 000/230 | Cost: 0.4306\n",
            "Epoch: 020/035 | Batch: 120/230 | Cost: 0.3972\n",
            "Epoch: 020/035 Train Acc.: 95.77% | Validation Acc.: 95.50%\n",
            "Time elapsed: 23.05 min\n",
            "Epoch: 021/035 | Batch: 000/230 | Cost: 0.3299\n",
            "Epoch: 021/035 | Batch: 120/230 | Cost: 0.2315\n",
            "Epoch: 021/035 Train Acc.: 96.07% | Validation Acc.: 95.80%\n",
            "Time elapsed: 24.21 min\n",
            "Epoch: 022/035 | Batch: 000/230 | Cost: 0.2794\n",
            "Epoch: 022/035 | Batch: 120/230 | Cost: 0.3467\n",
            "Epoch: 022/035 Train Acc.: 96.17% | Validation Acc.: 95.80%\n",
            "Time elapsed: 25.37 min\n",
            "Epoch: 023/035 | Batch: 000/230 | Cost: 0.1968\n",
            "Epoch: 023/035 | Batch: 120/230 | Cost: 0.2953\n",
            "Epoch: 023/035 Train Acc.: 96.24% | Validation Acc.: 95.80%\n",
            "Time elapsed: 26.52 min\n",
            "Epoch: 024/035 | Batch: 000/230 | Cost: 0.3607\n",
            "Epoch: 024/035 | Batch: 120/230 | Cost: 0.2468\n",
            "Epoch: 024/035 Train Acc.: 96.41% | Validation Acc.: 95.10%\n",
            "Time elapsed: 27.68 min\n",
            "Epoch: 025/035 | Batch: 000/230 | Cost: 0.3140\n",
            "Epoch: 025/035 | Batch: 120/230 | Cost: 0.2549\n",
            "Epoch: 025/035 Train Acc.: 96.53% | Validation Acc.: 96.20%\n",
            "Time elapsed: 28.85 min\n",
            "Epoch: 026/035 | Batch: 000/230 | Cost: 0.2264\n",
            "Epoch: 026/035 | Batch: 120/230 | Cost: 0.2481\n",
            "Epoch: 026/035 Train Acc.: 96.45% | Validation Acc.: 95.60%\n",
            "Time elapsed: 30.00 min\n",
            "Epoch: 027/035 | Batch: 000/230 | Cost: 0.2356\n",
            "Epoch: 027/035 | Batch: 120/230 | Cost: 0.2005\n",
            "Epoch: 027/035 Train Acc.: 96.56% | Validation Acc.: 96.00%\n",
            "Time elapsed: 31.15 min\n",
            "Epoch: 028/035 | Batch: 000/230 | Cost: 0.2291\n",
            "Epoch: 028/035 | Batch: 120/230 | Cost: 0.2683\n",
            "Epoch: 028/035 Train Acc.: 96.53% | Validation Acc.: 96.20%\n",
            "Time elapsed: 32.30 min\n",
            "Epoch: 029/035 | Batch: 000/230 | Cost: 0.2873\n",
            "Epoch: 029/035 | Batch: 120/230 | Cost: 0.2731\n",
            "Epoch: 029/035 Train Acc.: 96.49% | Validation Acc.: 95.80%\n",
            "Time elapsed: 33.43 min\n",
            "Epoch: 030/035 | Batch: 000/230 | Cost: 0.3668\n",
            "Epoch: 030/035 | Batch: 120/230 | Cost: 0.2134\n",
            "Epoch: 030/035 Train Acc.: 96.57% | Validation Acc.: 95.50%\n",
            "Time elapsed: 34.59 min\n",
            "Epoch: 031/035 | Batch: 000/230 | Cost: 0.2960\n",
            "Epoch: 031/035 | Batch: 120/230 | Cost: 0.2405\n",
            "Epoch: 031/035 Train Acc.: 96.56% | Validation Acc.: 96.00%\n",
            "Time elapsed: 35.74 min\n",
            "Epoch: 032/035 | Batch: 000/230 | Cost: 0.2232\n",
            "Epoch: 032/035 | Batch: 120/230 | Cost: 0.2071\n",
            "Epoch: 032/035 Train Acc.: 96.68% | Validation Acc.: 95.70%\n",
            "Time elapsed: 36.89 min\n",
            "Epoch: 033/035 | Batch: 000/230 | Cost: 0.1827\n",
            "Epoch: 033/035 | Batch: 120/230 | Cost: 0.2027\n",
            "Epoch: 033/035 Train Acc.: 96.77% | Validation Acc.: 96.30%\n",
            "Time elapsed: 38.04 min\n",
            "Epoch: 034/035 | Batch: 000/230 | Cost: 0.1923\n",
            "Epoch: 034/035 | Batch: 120/230 | Cost: 0.2962\n",
            "Epoch: 034/035 Train Acc.: 96.62% | Validation Acc.: 95.70%\n",
            "Time elapsed: 39.20 min\n",
            "Epoch: 035/035 | Batch: 000/230 | Cost: 0.2481\n",
            "Epoch: 035/035 | Batch: 120/230 | Cost: 0.2113\n",
            "Epoch: 035/035 Train Acc.: 96.72% | Validation Acc.: 95.80%\n",
            "Time elapsed: 40.36 min\n",
            "Total Training Time: 40.36 min\n"
          ],
          "name": "stdout"
        }
      ]
    },
    {
      "cell_type": "code",
      "metadata": {
        "colab": {
          "base_uri": "https://localhost:8080/"
        },
        "id": "fcmW1x5B19-b",
        "outputId": "87fe2dc1-46f3-413b-993e-4d4cd200aee3"
      },
      "source": [
        "len(train_loss_1st)"
      ],
      "execution_count": 48,
      "outputs": [
        {
          "output_type": "execute_result",
          "data": {
            "text/plain": [
              "35"
            ]
          },
          "metadata": {
            "tags": []
          },
          "execution_count": 48
        }
      ]
    },
    {
      "cell_type": "code",
      "metadata": {
        "colab": {
          "base_uri": "https://localhost:8080/",
          "height": 279
        },
        "id": "HY8lKUftoEIV",
        "outputId": "cb7064df-61f9-496a-f649-3bd3455baf7d"
      },
      "source": [
        "plt.plot(range(1, num_epochs+1), train_loss_1st, label='Training loss')\n",
        "plt.plot(range(1, num_epochs+1), valid_loss_1st, label='Validation loss')\n",
        "plt.legend(loc='upper right')\n",
        "plt.ylabel('Cross entropy')\n",
        "plt.xlabel('Epoch')\n",
        "plt.show()"
      ],
      "execution_count": 51,
      "outputs": [
        {
          "output_type": "display_data",
          "data": {
            "image/png": "[encoded data removed]",
            "text/plain": [
              "<Figure size 432x288 with 1 Axes>"
            ]
          },
          "metadata": {
            "tags": [],
            "needs_background": "light"
          }
        }
      ]
    },
    {
      "cell_type": "code",
      "metadata": {
        "colab": {
          "base_uri": "https://localhost:8080/"
        },
        "id": "ILoLzFuqqnff",
        "outputId": "84feceb6-2781-4c71-d348-70a78e775807"
      },
      "source": [
        "model.eval()\n",
        "with torch.set_grad_enabled(False): # save memory during inference\n",
        "    test_acc, test_loss = compute_accuracy_and_loss(model, test_loader, device)\n",
        "    print(f'Test accuracy: {test_acc:.2f}%')"
      ],
      "execution_count": 52,
      "outputs": [
        {
          "output_type": "stream",
          "text": [
            "Test accuracy: 96.08%\n"
          ],
          "name": "stdout"
        }
      ]
    },
    {
      "cell_type": "code",
      "metadata": {
        "colab": {
          "base_uri": "https://localhost:8080/",
          "height": 283
        },
        "id": "x6Qcl9LS1TYr",
        "outputId": "432bf116-f1d4-4055-98c2-cec86a122333"
      },
      "source": [
        "plt.plot(range(1, num_epochs+1), train_acc_1st, label='Training accuracy')\n",
        "plt.plot(range(1, num_epochs+1), valid_acc_1st, label='Validation accuracy')\n",
        "plt.axhline(y=test_acc, c='black', label='Test accuracy')\n",
        "plt.ylim([70, 100])\n",
        "plt.legend(loc='lower right')\n",
        "plt.ylabel('Accuracy')\n",
        "plt.xlabel('Epoch')\n",
        "plt.show()"
      ],
      "execution_count": 55,
      "outputs": [
        {
          "output_type": "display_data",
          "data": {
            "image/png": "[encoded data removed]",
            "text/plain": [
              "<Figure size 432x288 with 1 Axes>"
            ]
          },
          "metadata": {
            "tags": [],
            "needs_background": "light"
          }
        }
      ]
    },
    {
      "cell_type": "code",
      "metadata": {
        "id": "PHi4M3M33RFM"
      },
      "source": [
        ""
      ],
      "execution_count": null,
      "outputs": []
    }
  ]
}