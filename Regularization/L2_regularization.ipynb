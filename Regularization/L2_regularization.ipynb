{
  "nbformat": 4,
  "nbformat_minor": 0,
  "metadata": {
    "colab": {
      "name": "L2_regularization.ipynb",
      "provenance": [],
      "authorship_tag": "ABX9TyPPmxCFncanw6Kzk85jKqgB",
      "include_colab_link": true
    },
    "kernelspec": {
      "name": "python3",
      "display_name": "Python 3"
    }
  },
  "cells": [
    {
      "cell_type": "markdown",
      "metadata": {
        "id": "view-in-github",
        "colab_type": "text"
      },
      "source": [
        "<a href=\"https://colab.research.google.com/github/ishandahal/stats453-deep_learning_torch/blob/main/Regularization/L2_regularization.ipynb\" target=\"_parent\"><img src=\"https://colab.research.google.com/assets/colab-badge.svg\" alt=\"Open In Colab\"/></a>"
      ]
    },
    {
      "cell_type": "markdown",
      "metadata": {
        "id": "Y_gIZGMAsAhB"
      },
      "source": [
        "### Logistic Regression with L2 Regularization"
      ]
    },
    {
      "cell_type": "markdown",
      "metadata": {
        "id": "REFG1ggdsfFX"
      },
      "source": [
        "Imports"
      ]
    },
    {
      "cell_type": "code",
      "metadata": {
        "id": "v-6gEMZpsg5l"
      },
      "source": [
        "import matplotlib.pyplot as plt\n",
        "import numpy as np\n",
        "\n",
        "import torch\n",
        "import torch.nn.functional as F"
      ],
      "execution_count": 1,
      "outputs": []
    },
    {
      "cell_type": "code",
      "metadata": {
        "id": "XLEOsuQ_soHa"
      },
      "source": [
        "device = torch.device('cuda:0' if torch.cuda.is_available() else 'cpu')\n",
        "LAMBDA = 2"
      ],
      "execution_count": 2,
      "outputs": []
    },
    {
      "cell_type": "markdown",
      "metadata": {
        "id": "vNhgwDrHtHJN"
      },
      "source": [
        "Preping dataset"
      ]
    },
    {
      "cell_type": "code",
      "metadata": {
        "id": "dG9FO-DDtKms"
      },
      "source": [
        "data = np.genfromtxt('https://raw.githubusercontent.com/rasbt/stat453-deep-learning-ss20/master/L07-logistic/code/data/toydata.txt',\n",
        "                     delimiter='\\t')\n",
        "x = data[:, :2].astype(np.float32)\n",
        "y = data[:, 2].astype(np.int64)"
      ],
      "execution_count": 3,
      "outputs": []
    },
    {
      "cell_type": "code",
      "metadata": {
        "id": "JlNN1Y7jtlvF"
      },
      "source": [
        "np.random.seed(123)\n",
        "idx = np.arange(x.shape[0])\n",
        "np.random.shuffle(idx)\n",
        "X_test, y_test = x[idx[:25]], y[idx[:25]]\n",
        "X_train, y_train = x[idx[25:]], y[idx[25:]]\n",
        "mu, sigma = X_train.mean(axis=0), X_train.std(axis=0)\n",
        "X_train, X_test = (X_train - mu) / sigma, (X_test - mu) / sigma "
      ],
      "execution_count": 18,
      "outputs": []
    },
    {
      "cell_type": "code",
      "metadata": {
        "colab": {
          "base_uri": "https://localhost:8080/",
          "height": 211
        },
        "id": "274zLroWurk_",
        "outputId": "82b11970-40d6-4e3b-ad9e-78ef7f45f734"
      },
      "source": [
        "fig, ax = plt.subplots(1, 2, figsize=(7.5, 3))\n",
        "ax[0].scatter(X_train[y_train == 0, 0], X_train[y_train == 0, 1])\n",
        "ax[0].scatter(X_train[y_train == 1, 0], X_train[y_train == 1, 1])\n",
        "ax[1].scatter(X_test[y_test == 0, 0], X_test[y_test == 0, 1])\n",
        "ax[1].scatter(X_test[y_test == 1, 0], X_test[y_test == 1, 1])\n",
        "plt.xlim([x[:, 0].min()-0.5, x[:, 0].max()+0.5])\n",
        "plt.ylim([x[:, 1].min()-0.5, x[:, 1].max()+0.5])\n",
        "plt.show()"
      ],
      "execution_count": 24,
      "outputs": [
        {
          "output_type": "display_data",
          "data": {
            "image/png": "[encoded data removed]",
            "text/plain": [
              "<Figure size 540x216 with 2 Axes>"
            ]
          },
          "metadata": {
            "tags": [],
            "needs_background": "light"
          }
        }
      ]
    },
    {
      "cell_type": "markdown",
      "metadata": {
        "id": "9wHQKwKZwIt8"
      },
      "source": [
        "## L2 Regularized Logistic Regression via ```weight_decay```"
      ]
    },
    {
      "cell_type": "code",
      "metadata": {
        "colab": {
          "base_uri": "https://localhost:8080/"
        },
        "id": "OWLD_SE-xfLi",
        "outputId": "3ee06af4-b4fb-4b7b-8287-8e40c6747d26"
      },
      "source": [
        "def custom_where(cond, x_1, x_2):\n",
        "    return (cond * x_1) + ((1-cond) * x_2)\n",
        "\n",
        "class LogisticRegression(torch.nn.Module):\n",
        "\n",
        "    def __init__(self, num_features):\n",
        "        super(LogisticRegression, self).__init__()\n",
        "        self.linear = torch.nn.Linear(num_features, 1)\n",
        "\n",
        "        self.linear.weight.detach().zero_()\n",
        "        self.linear.bias.detach().zero_()\n",
        "        ## We don't need random small weights since it is logistic regression \n",
        "\n",
        "    def forward(self, x):\n",
        "        logits = self.linear(x)\n",
        "        probas = torch.sigmoid(logits)\n",
        "        return probas \n",
        "\n",
        "model = LogisticRegression(num_features=2)\n",
        "\n",
        "## Applying L2 regularization \n",
        "optimizer = torch.optim.SGD(model.parameters(),\n",
        "                            lr=0.1,\n",
        "                            weight_decay=LAMBDA)\n",
        "\n",
        "def comp_accuracy(label_var, pred_probas):\n",
        "    pred_labels = custom_where((pred_probas > 0.5).float(), 1, 0).view(-1)\n",
        "    acc = torch.sum(pred_labels == label_var.view(-1)).float() / label_var.size(0)\n",
        "    return acc\n",
        "\n",
        "num_epochs = 30\n",
        "\n",
        "X_train_tensor = torch.tensor(X_train, dtype=torch.float, device=device)\n",
        "y_train_tensor = torch.tensor(y_train, dtype=torch.float, device=device).view(-1, 1)\n",
        "\n",
        "for epoch in range(num_epochs):\n",
        "\n",
        "    #compute outputs \n",
        "    out = model(X_train_tensor)\n",
        "\n",
        "    # Compute gradients \n",
        "    cost = F.binary_cross_entropy(out, y_train_tensor, reduction='sum')\n",
        "\n",
        "    optimizer.zero_grad()\n",
        "    cost.backward()\n",
        "\n",
        "    ## updating weights\n",
        "    optimizer.step()\n",
        "\n",
        "    ## Loggin \n",
        "    pred_probas = model(X_train_tensor)\n",
        "    acc = comp_accuracy(y_train_tensor, pred_probas)\n",
        "    print(f\"Epoch: {epoch+1:03d}\", end=\"\")\n",
        "    print(f\"  |  Train Acc: {acc:.3f}\", end=\"\")\n",
        "    print(f\"  |  Cost: {F.binary_cross_entropy(pred_probas, y_train_tensor):.3f}\")\n",
        "\n",
        "print(\"\\nModel Parameters:\")\n",
        "print(f\"    Weights: {model.linear.weight}\")\n",
        "print(f\"    Bias: {model.linear.bias}\")"
      ],
      "execution_count": 28,
      "outputs": [
        {
          "output_type": "stream",
          "text": [
            "Epoch: 001  |  Train Acc: 0.973  |  Cost: 0.055\n",
            "Epoch: 002  |  Train Acc: 0.973  |  Cost: 0.065\n",
            "Epoch: 003  |  Train Acc: 0.973  |  Cost: 0.080\n",
            "Epoch: 004  |  Train Acc: 0.973  |  Cost: 0.094\n",
            "Epoch: 005  |  Train Acc: 0.973  |  Cost: 0.104\n",
            "Epoch: 006  |  Train Acc: 0.973  |  Cost: 0.108\n",
            "Epoch: 007  |  Train Acc: 0.973  |  Cost: 0.110\n",
            "Epoch: 008  |  Train Acc: 0.973  |  Cost: 0.111\n",
            "Epoch: 009  |  Train Acc: 0.973  |  Cost: 0.112\n",
            "Epoch: 010  |  Train Acc: 0.973  |  Cost: 0.112\n",
            "Epoch: 011  |  Train Acc: 0.973  |  Cost: 0.112\n",
            "Epoch: 012  |  Train Acc: 0.973  |  Cost: 0.112\n",
            "Epoch: 013  |  Train Acc: 0.973  |  Cost: 0.112\n",
            "Epoch: 014  |  Train Acc: 0.973  |  Cost: 0.112\n",
            "Epoch: 015  |  Train Acc: 0.973  |  Cost: 0.112\n",
            "Epoch: 016  |  Train Acc: 0.973  |  Cost: 0.112\n",
            "Epoch: 017  |  Train Acc: 0.973  |  Cost: 0.112\n",
            "Epoch: 018  |  Train Acc: 0.973  |  Cost: 0.112\n",
            "Epoch: 019  |  Train Acc: 0.973  |  Cost: 0.112\n",
            "Epoch: 020  |  Train Acc: 0.973  |  Cost: 0.112\n",
            "Epoch: 021  |  Train Acc: 0.973  |  Cost: 0.112\n",
            "Epoch: 022  |  Train Acc: 0.973  |  Cost: 0.112\n",
            "Epoch: 023  |  Train Acc: 0.973  |  Cost: 0.112\n",
            "Epoch: 024  |  Train Acc: 0.973  |  Cost: 0.112\n",
            "Epoch: 025  |  Train Acc: 0.973  |  Cost: 0.112\n",
            "Epoch: 026  |  Train Acc: 0.973  |  Cost: 0.112\n",
            "Epoch: 027  |  Train Acc: 0.973  |  Cost: 0.112\n",
            "Epoch: 028  |  Train Acc: 0.973  |  Cost: 0.112\n",
            "Epoch: 029  |  Train Acc: 0.973  |  Cost: 0.112\n",
            "Epoch: 030  |  Train Acc: 0.973  |  Cost: 0.112\n",
            "\n",
            "Model Parameters:\n",
            "    Weights: Parameter containing:\n",
            "tensor([[1.7546, 1.5997]], requires_grad=True)\n",
            "    Bias: Parameter containing:\n",
            "tensor([-0.0401], requires_grad=True)\n"
          ],
          "name": "stdout"
        }
      ]
    },
    {
      "cell_type": "code",
      "metadata": {
        "colab": {
          "base_uri": "https://localhost:8080/"
        },
        "id": "fHaovva_2BFp",
        "outputId": "7676327f-d98c-4e61-c503-d706a98830f4"
      },
      "source": [
        "X_test_tensor = torch.tensor(X_test, dtype=torch.float, device=device)\n",
        "y_test_tensor = torch.tensor(y_test, dtype=torch.float, device=device)\n",
        "\n",
        "pred_probas = model(X_test_tensor)\n",
        "test_acc = comp_accuracy(y_test_tensor, pred_probas)\n",
        "\n",
        "print(f\"\\nTest set accuracy: {test_acc*100:.2f}%\")"
      ],
      "execution_count": 32,
      "outputs": [
        {
          "output_type": "stream",
          "text": [
            "\n",
            "Test set accuracy: 96.00%\n"
          ],
          "name": "stdout"
        }
      ]
    },
    {
      "cell_type": "markdown",
      "metadata": {
        "id": "g9hv2t9O3KJA"
      },
      "source": [
        "## L2 Regularization Logistic Regression via Manual Regularization "
      ]
    },
    {
      "cell_type": "code",
      "metadata": {
        "colab": {
          "base_uri": "https://localhost:8080/"
        },
        "id": "usTQjo2D3i-t",
        "outputId": "a1e19575-8189-4556-fe28-4114dfd8976b"
      },
      "source": [
        "model = LogisticRegression(num_features=2)\n",
        "optimizer = torch.optim.SGD(model.parameters(), lr=0.1)\n",
        "\n",
        "for epoch in range(num_epochs):\n",
        "\n",
        "    ## compute outputs \n",
        "    out = model(X_train_tensor)\n",
        "\n",
        "    ## comute gradients \n",
        "    ## applying L2 regularization (weight decay)\n",
        "    cost = F.binary_cross_entropy(out, y_train_tensor, reduction='sum')\n",
        "    cost = cost + 0.5 * LAMBDA * torch.mm(model.linear.weight,\n",
        "                                    model.linear.weight.t())\n",
        "    \n",
        "    # pytorch regularizes the bias as well so if we want to replicate auto SGD's \n",
        "    # output we need to regularize the bias as well \n",
        "    cost += 0.5 * LAMBDA * (model.linear.bias**2)\n",
        "\n",
        "    optimizer.zero_grad()\n",
        "    cost.backward()\n",
        "\n",
        "    # update the weights \n",
        "    optimizer.step()\n",
        "\n",
        "    #Logging \n",
        "    pred_probas = model(X_train_tensor)\n",
        "    acc = comp_accuracy(y_train_tensor, pred_probas)\n",
        "    print(f\"Epoch: {epoch+1:03d}\", end=\"\")\n",
        "    print(f\"  |  Train Acc: {acc:.3f}\", end=\"\")\n",
        "    print(f\"  |  Cost: {F.binary_cross_entropy(pred_probas, y_train_tensor):.3f}\")\n",
        "\n",
        "print(\"\\nModel Parameters:\")\n",
        "print(f\"    Weights: {model.linear.weight}\")\n",
        "print(f\"    Bias: {model.linear.bias}\")"
      ],
      "execution_count": 34,
      "outputs": [
        {
          "output_type": "stream",
          "text": [
            "Epoch: 001  |  Train Acc: 0.973  |  Cost: 0.055\n",
            "Epoch: 002  |  Train Acc: 0.973  |  Cost: 0.065\n",
            "Epoch: 003  |  Train Acc: 0.973  |  Cost: 0.080\n",
            "Epoch: 004  |  Train Acc: 0.973  |  Cost: 0.094\n",
            "Epoch: 005  |  Train Acc: 0.973  |  Cost: 0.104\n",
            "Epoch: 006  |  Train Acc: 0.973  |  Cost: 0.108\n",
            "Epoch: 007  |  Train Acc: 0.973  |  Cost: 0.110\n",
            "Epoch: 008  |  Train Acc: 0.973  |  Cost: 0.111\n",
            "Epoch: 009  |  Train Acc: 0.973  |  Cost: 0.112\n",
            "Epoch: 010  |  Train Acc: 0.973  |  Cost: 0.112\n",
            "Epoch: 011  |  Train Acc: 0.973  |  Cost: 0.112\n",
            "Epoch: 012  |  Train Acc: 0.973  |  Cost: 0.112\n",
            "Epoch: 013  |  Train Acc: 0.973  |  Cost: 0.112\n",
            "Epoch: 014  |  Train Acc: 0.973  |  Cost: 0.112\n",
            "Epoch: 015  |  Train Acc: 0.973  |  Cost: 0.112\n",
            "Epoch: 016  |  Train Acc: 0.973  |  Cost: 0.112\n",
            "Epoch: 017  |  Train Acc: 0.973  |  Cost: 0.112\n",
            "Epoch: 018  |  Train Acc: 0.973  |  Cost: 0.112\n",
            "Epoch: 019  |  Train Acc: 0.973  |  Cost: 0.112\n",
            "Epoch: 020  |  Train Acc: 0.973  |  Cost: 0.112\n",
            "Epoch: 021  |  Train Acc: 0.973  |  Cost: 0.112\n",
            "Epoch: 022  |  Train Acc: 0.973  |  Cost: 0.112\n",
            "Epoch: 023  |  Train Acc: 0.973  |  Cost: 0.112\n",
            "Epoch: 024  |  Train Acc: 0.973  |  Cost: 0.112\n",
            "Epoch: 025  |  Train Acc: 0.973  |  Cost: 0.112\n",
            "Epoch: 026  |  Train Acc: 0.973  |  Cost: 0.112\n",
            "Epoch: 027  |  Train Acc: 0.973  |  Cost: 0.112\n",
            "Epoch: 028  |  Train Acc: 0.973  |  Cost: 0.112\n",
            "Epoch: 029  |  Train Acc: 0.973  |  Cost: 0.112\n",
            "Epoch: 030  |  Train Acc: 0.973  |  Cost: 0.112\n",
            "\n",
            "Model Parameters:\n",
            "    Weights: Parameter containing:\n",
            "tensor([[1.7546, 1.5997]], requires_grad=True)\n",
            "    Bias: Parameter containing:\n",
            "tensor([-0.0401], requires_grad=True)\n"
          ],
          "name": "stdout"
        }
      ]
    },
    {
      "cell_type": "code",
      "metadata": {
        "colab": {
          "base_uri": "https://localhost:8080/"
        },
        "id": "-HMcyPqq5QWz",
        "outputId": "6729e21d-f344-4fc8-bc6c-09c7d58084f3"
      },
      "source": [
        "X_test_tensor = torch.tensor(X_test, dtype=torch.float, device=device)\n",
        "y_test_tensor = torch.tensor(y_test, dtype=torch.float, device=device)\n",
        "\n",
        "pred_probas = model(X_test_tensor)\n",
        "test_acc = comp_accuracy(y_test_tensor, pred_probas)\n",
        "\n",
        "print(f\"\\nTest set accuracy: {test_acc*100:.2f}%\")"
      ],
      "execution_count": 35,
      "outputs": [
        {
          "output_type": "stream",
          "text": [
            "\n",
            "Test set accuracy: 96.00%\n"
          ],
          "name": "stdout"
        }
      ]
    },
    {
      "cell_type": "code",
      "metadata": {
        "id": "u-Do84N-5SzY"
      },
      "source": [
        ""
      ],
      "execution_count": null,
      "outputs": []
    }
  ]
}