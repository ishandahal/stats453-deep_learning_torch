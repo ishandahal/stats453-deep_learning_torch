{
  "nbformat": 4,
  "nbformat_minor": 0,
  "metadata": {
    "colab": {
      "name": "Softmax_regression_MNIST.ipynb",
      "provenance": [],
      "authorship_tag": "ABX9TyPd3b0bR4QFO88E0OD6Cr2r",
      "include_colab_link": true
    },
    "kernelspec": {
      "name": "python3",
      "display_name": "Python 3"
    },
    "widgets": {
      "application/vnd.jupyter.widget-state+json": {
        "3b2722cc29554f65afab339ec7c342e8": {
          "model_module": "@jupyter-widgets/controls",
          "model_name": "HBoxModel",
          "state": {
            "_view_name": "HBoxView",
            "_dom_classes": [],
            "_model_name": "HBoxModel",
            "_view_module": "@jupyter-widgets/controls",
            "_model_module_version": "1.5.0",
            "_view_count": null,
            "_view_module_version": "1.5.0",
            "box_style": "",
            "layout": "IPY_MODEL_cf21d4fdd0474f82bff6e7644d73bf7f",
            "_model_module": "@jupyter-widgets/controls",
            "children": [
              "IPY_MODEL_7b645f883f704ca49fc491e2434d8cc0",
              "IPY_MODEL_f811c06c5849419d8959923fc303dc87"
            ]
          }
        },
        "cf21d4fdd0474f82bff6e7644d73bf7f": {
          "model_module": "@jupyter-widgets/base",
          "model_name": "LayoutModel",
          "state": {
            "_view_name": "LayoutView",
            "grid_template_rows": null,
            "right": null,
            "justify_content": null,
            "_view_module": "@jupyter-widgets/base",
            "overflow": null,
            "_model_module_version": "1.2.0",
            "_view_count": null,
            "flex_flow": null,
            "width": null,
            "min_width": null,
            "border": null,
            "align_items": null,
            "bottom": null,
            "_model_module": "@jupyter-widgets/base",
            "top": null,
            "grid_column": null,
            "overflow_y": null,
            "overflow_x": null,
            "grid_auto_flow": null,
            "grid_area": null,
            "grid_template_columns": null,
            "flex": null,
            "_model_name": "LayoutModel",
            "justify_items": null,
            "grid_row": null,
            "max_height": null,
            "align_content": null,
            "visibility": null,
            "align_self": null,
            "height": null,
            "min_height": null,
            "padding": null,
            "grid_auto_rows": null,
            "grid_gap": null,
            "max_width": null,
            "order": null,
            "_view_module_version": "1.2.0",
            "grid_template_areas": null,
            "object_position": null,
            "object_fit": null,
            "grid_auto_columns": null,
            "margin": null,
            "display": null,
            "left": null
          }
        },
        "7b645f883f704ca49fc491e2434d8cc0": {
          "model_module": "@jupyter-widgets/controls",
          "model_name": "FloatProgressModel",
          "state": {
            "_view_name": "ProgressView",
            "style": "IPY_MODEL_ae7a5f00f5f94c8aa2b6de825571d7c5",
            "_dom_classes": [],
            "description": "",
            "_model_name": "FloatProgressModel",
            "bar_style": "info",
            "max": 1,
            "_view_module": "@jupyter-widgets/controls",
            "_model_module_version": "1.5.0",
            "value": 1,
            "_view_count": null,
            "_view_module_version": "1.5.0",
            "orientation": "horizontal",
            "min": 0,
            "description_tooltip": null,
            "_model_module": "@jupyter-widgets/controls",
            "layout": "IPY_MODEL_d32b9d19b2234a88876169fcb88eeb60"
          }
        },
        "f811c06c5849419d8959923fc303dc87": {
          "model_module": "@jupyter-widgets/controls",
          "model_name": "HTMLModel",
          "state": {
            "_view_name": "HTMLView",
            "style": "IPY_MODEL_36315b615273416b8af112898656b06c",
            "_dom_classes": [],
            "description": "",
            "_model_name": "HTMLModel",
            "placeholder": "​",
            "_view_module": "@jupyter-widgets/controls",
            "_model_module_version": "1.5.0",
            "value": " 9920512/? [00:20&lt;00:00, 2967987.87it/s]",
            "_view_count": null,
            "_view_module_version": "1.5.0",
            "description_tooltip": null,
            "_model_module": "@jupyter-widgets/controls",
            "layout": "IPY_MODEL_dd10a93253cc4bd4954bfef4bdf50bbe"
          }
        },
        "ae7a5f00f5f94c8aa2b6de825571d7c5": {
          "model_module": "@jupyter-widgets/controls",
          "model_name": "ProgressStyleModel",
          "state": {
            "_view_name": "StyleView",
            "_model_name": "ProgressStyleModel",
            "description_width": "initial",
            "_view_module": "@jupyter-widgets/base",
            "_model_module_version": "1.5.0",
            "_view_count": null,
            "_view_module_version": "1.2.0",
            "bar_color": null,
            "_model_module": "@jupyter-widgets/controls"
          }
        },
        "d32b9d19b2234a88876169fcb88eeb60": {
          "model_module": "@jupyter-widgets/base",
          "model_name": "LayoutModel",
          "state": {
            "_view_name": "LayoutView",
            "grid_template_rows": null,
            "right": null,
            "justify_content": null,
            "_view_module": "@jupyter-widgets/base",
            "overflow": null,
            "_model_module_version": "1.2.0",
            "_view_count": null,
            "flex_flow": null,
            "width": null,
            "min_width": null,
            "border": null,
            "align_items": null,
            "bottom": null,
            "_model_module": "@jupyter-widgets/base",
            "top": null,
            "grid_column": null,
            "overflow_y": null,
            "overflow_x": null,
            "grid_auto_flow": null,
            "grid_area": null,
            "grid_template_columns": null,
            "flex": null,
            "_model_name": "LayoutModel",
            "justify_items": null,
            "grid_row": null,
            "max_height": null,
            "align_content": null,
            "visibility": null,
            "align_self": null,
            "height": null,
            "min_height": null,
            "padding": null,
            "grid_auto_rows": null,
            "grid_gap": null,
            "max_width": null,
            "order": null,
            "_view_module_version": "1.2.0",
            "grid_template_areas": null,
            "object_position": null,
            "object_fit": null,
            "grid_auto_columns": null,
            "margin": null,
            "display": null,
            "left": null
          }
        },
        "36315b615273416b8af112898656b06c": {
          "model_module": "@jupyter-widgets/controls",
          "model_name": "DescriptionStyleModel",
          "state": {
            "_view_name": "StyleView",
            "_model_name": "DescriptionStyleModel",
            "description_width": "",
            "_view_module": "@jupyter-widgets/base",
            "_model_module_version": "1.5.0",
            "_view_count": null,
            "_view_module_version": "1.2.0",
            "_model_module": "@jupyter-widgets/controls"
          }
        },
        "dd10a93253cc4bd4954bfef4bdf50bbe": {
          "model_module": "@jupyter-widgets/base",
          "model_name": "LayoutModel",
          "state": {
            "_view_name": "LayoutView",
            "grid_template_rows": null,
            "right": null,
            "justify_content": null,
            "_view_module": "@jupyter-widgets/base",
            "overflow": null,
            "_model_module_version": "1.2.0",
            "_view_count": null,
            "flex_flow": null,
            "width": null,
            "min_width": null,
            "border": null,
            "align_items": null,
            "bottom": null,
            "_model_module": "@jupyter-widgets/base",
            "top": null,
            "grid_column": null,
            "overflow_y": null,
            "overflow_x": null,
            "grid_auto_flow": null,
            "grid_area": null,
            "grid_template_columns": null,
            "flex": null,
            "_model_name": "LayoutModel",
            "justify_items": null,
            "grid_row": null,
            "max_height": null,
            "align_content": null,
            "visibility": null,
            "align_self": null,
            "height": null,
            "min_height": null,
            "padding": null,
            "grid_auto_rows": null,
            "grid_gap": null,
            "max_width": null,
            "order": null,
            "_view_module_version": "1.2.0",
            "grid_template_areas": null,
            "object_position": null,
            "object_fit": null,
            "grid_auto_columns": null,
            "margin": null,
            "display": null,
            "left": null
          }
        },
        "3e75d19330694cc7b87013a960ad686d": {
          "model_module": "@jupyter-widgets/controls",
          "model_name": "HBoxModel",
          "state": {
            "_view_name": "HBoxView",
            "_dom_classes": [],
            "_model_name": "HBoxModel",
            "_view_module": "@jupyter-widgets/controls",
            "_model_module_version": "1.5.0",
            "_view_count": null,
            "_view_module_version": "1.5.0",
            "box_style": "",
            "layout": "IPY_MODEL_2c2c5963757c419ca519931e239e386c",
            "_model_module": "@jupyter-widgets/controls",
            "children": [
              "IPY_MODEL_7c6b1fe7ef294a2fbad402030bcf3d7d",
              "IPY_MODEL_eeb027f900cb4ecf93c8a25d7699e9f8"
            ]
          }
        },
        "2c2c5963757c419ca519931e239e386c": {
          "model_module": "@jupyter-widgets/base",
          "model_name": "LayoutModel",
          "state": {
            "_view_name": "LayoutView",
            "grid_template_rows": null,
            "right": null,
            "justify_content": null,
            "_view_module": "@jupyter-widgets/base",
            "overflow": null,
            "_model_module_version": "1.2.0",
            "_view_count": null,
            "flex_flow": null,
            "width": null,
            "min_width": null,
            "border": null,
            "align_items": null,
            "bottom": null,
            "_model_module": "@jupyter-widgets/base",
            "top": null,
            "grid_column": null,
            "overflow_y": null,
            "overflow_x": null,
            "grid_auto_flow": null,
            "grid_area": null,
            "grid_template_columns": null,
            "flex": null,
            "_model_name": "LayoutModel",
            "justify_items": null,
            "grid_row": null,
            "max_height": null,
            "align_content": null,
            "visibility": null,
            "align_self": null,
            "height": null,
            "min_height": null,
            "padding": null,
            "grid_auto_rows": null,
            "grid_gap": null,
            "max_width": null,
            "order": null,
            "_view_module_version": "1.2.0",
            "grid_template_areas": null,
            "object_position": null,
            "object_fit": null,
            "grid_auto_columns": null,
            "margin": null,
            "display": null,
            "left": null
          }
        },
        "7c6b1fe7ef294a2fbad402030bcf3d7d": {
          "model_module": "@jupyter-widgets/controls",
          "model_name": "FloatProgressModel",
          "state": {
            "_view_name": "ProgressView",
            "style": "IPY_MODEL_9a0d7a2565da4994bc1eb79487b1a4c3",
            "_dom_classes": [],
            "description": "  0%",
            "_model_name": "FloatProgressModel",
            "bar_style": "info",
            "max": 1,
            "_view_module": "@jupyter-widgets/controls",
            "_model_module_version": "1.5.0",
            "value": 0,
            "_view_count": null,
            "_view_module_version": "1.5.0",
            "orientation": "horizontal",
            "min": 0,
            "description_tooltip": null,
            "_model_module": "@jupyter-widgets/controls",
            "layout": "IPY_MODEL_911275979bde4c899491f5fbf0f65f1d"
          }
        },
        "eeb027f900cb4ecf93c8a25d7699e9f8": {
          "model_module": "@jupyter-widgets/controls",
          "model_name": "HTMLModel",
          "state": {
            "_view_name": "HTMLView",
            "style": "IPY_MODEL_567b158b55a440cc9d6eb9f79ae2a48e",
            "_dom_classes": [],
            "description": "",
            "_model_name": "HTMLModel",
            "placeholder": "​",
            "_view_module": "@jupyter-widgets/controls",
            "_model_module_version": "1.5.0",
            "value": " 0/28881 [00:00&lt;?, ?it/s]",
            "_view_count": null,
            "_view_module_version": "1.5.0",
            "description_tooltip": null,
            "_model_module": "@jupyter-widgets/controls",
            "layout": "IPY_MODEL_76346d458253477f820bc4fb6e80e20b"
          }
        },
        "9a0d7a2565da4994bc1eb79487b1a4c3": {
          "model_module": "@jupyter-widgets/controls",
          "model_name": "ProgressStyleModel",
          "state": {
            "_view_name": "StyleView",
            "_model_name": "ProgressStyleModel",
            "description_width": "initial",
            "_view_module": "@jupyter-widgets/base",
            "_model_module_version": "1.5.0",
            "_view_count": null,
            "_view_module_version": "1.2.0",
            "bar_color": null,
            "_model_module": "@jupyter-widgets/controls"
          }
        },
        "911275979bde4c899491f5fbf0f65f1d": {
          "model_module": "@jupyter-widgets/base",
          "model_name": "LayoutModel",
          "state": {
            "_view_name": "LayoutView",
            "grid_template_rows": null,
            "right": null,
            "justify_content": null,
            "_view_module": "@jupyter-widgets/base",
            "overflow": null,
            "_model_module_version": "1.2.0",
            "_view_count": null,
            "flex_flow": null,
            "width": null,
            "min_width": null,
            "border": null,
            "align_items": null,
            "bottom": null,
            "_model_module": "@jupyter-widgets/base",
            "top": null,
            "grid_column": null,
            "overflow_y": null,
            "overflow_x": null,
            "grid_auto_flow": null,
            "grid_area": null,
            "grid_template_columns": null,
            "flex": null,
            "_model_name": "LayoutModel",
            "justify_items": null,
            "grid_row": null,
            "max_height": null,
            "align_content": null,
            "visibility": null,
            "align_self": null,
            "height": null,
            "min_height": null,
            "padding": null,
            "grid_auto_rows": null,
            "grid_gap": null,
            "max_width": null,
            "order": null,
            "_view_module_version": "1.2.0",
            "grid_template_areas": null,
            "object_position": null,
            "object_fit": null,
            "grid_auto_columns": null,
            "margin": null,
            "display": null,
            "left": null
          }
        },
        "567b158b55a440cc9d6eb9f79ae2a48e": {
          "model_module": "@jupyter-widgets/controls",
          "model_name": "DescriptionStyleModel",
          "state": {
            "_view_name": "StyleView",
            "_model_name": "DescriptionStyleModel",
            "description_width": "",
            "_view_module": "@jupyter-widgets/base",
            "_model_module_version": "1.5.0",
            "_view_count": null,
            "_view_module_version": "1.2.0",
            "_model_module": "@jupyter-widgets/controls"
          }
        },
        "76346d458253477f820bc4fb6e80e20b": {
          "model_module": "@jupyter-widgets/base",
          "model_name": "LayoutModel",
          "state": {
            "_view_name": "LayoutView",
            "grid_template_rows": null,
            "right": null,
            "justify_content": null,
            "_view_module": "@jupyter-widgets/base",
            "overflow": null,
            "_model_module_version": "1.2.0",
            "_view_count": null,
            "flex_flow": null,
            "width": null,
            "min_width": null,
            "border": null,
            "align_items": null,
            "bottom": null,
            "_model_module": "@jupyter-widgets/base",
            "top": null,
            "grid_column": null,
            "overflow_y": null,
            "overflow_x": null,
            "grid_auto_flow": null,
            "grid_area": null,
            "grid_template_columns": null,
            "flex": null,
            "_model_name": "LayoutModel",
            "justify_items": null,
            "grid_row": null,
            "max_height": null,
            "align_content": null,
            "visibility": null,
            "align_self": null,
            "height": null,
            "min_height": null,
            "padding": null,
            "grid_auto_rows": null,
            "grid_gap": null,
            "max_width": null,
            "order": null,
            "_view_module_version": "1.2.0",
            "grid_template_areas": null,
            "object_position": null,
            "object_fit": null,
            "grid_auto_columns": null,
            "margin": null,
            "display": null,
            "left": null
          }
        },
        "6797bd5d34324e559d3e3f73ebb7170e": {
          "model_module": "@jupyter-widgets/controls",
          "model_name": "HBoxModel",
          "state": {
            "_view_name": "HBoxView",
            "_dom_classes": [],
            "_model_name": "HBoxModel",
            "_view_module": "@jupyter-widgets/controls",
            "_model_module_version": "1.5.0",
            "_view_count": null,
            "_view_module_version": "1.5.0",
            "box_style": "",
            "layout": "IPY_MODEL_91b4c6eb9b1a44528b1a2e80fe936e23",
            "_model_module": "@jupyter-widgets/controls",
            "children": [
              "IPY_MODEL_b6a079ff4c384a4c884e4618bff69935",
              "IPY_MODEL_8277aecce2a2460e9144eb482d1ec7b1"
            ]
          }
        },
        "91b4c6eb9b1a44528b1a2e80fe936e23": {
          "model_module": "@jupyter-widgets/base",
          "model_name": "LayoutModel",
          "state": {
            "_view_name": "LayoutView",
            "grid_template_rows": null,
            "right": null,
            "justify_content": null,
            "_view_module": "@jupyter-widgets/base",
            "overflow": null,
            "_model_module_version": "1.2.0",
            "_view_count": null,
            "flex_flow": null,
            "width": null,
            "min_width": null,
            "border": null,
            "align_items": null,
            "bottom": null,
            "_model_module": "@jupyter-widgets/base",
            "top": null,
            "grid_column": null,
            "overflow_y": null,
            "overflow_x": null,
            "grid_auto_flow": null,
            "grid_area": null,
            "grid_template_columns": null,
            "flex": null,
            "_model_name": "LayoutModel",
            "justify_items": null,
            "grid_row": null,
            "max_height": null,
            "align_content": null,
            "visibility": null,
            "align_self": null,
            "height": null,
            "min_height": null,
            "padding": null,
            "grid_auto_rows": null,
            "grid_gap": null,
            "max_width": null,
            "order": null,
            "_view_module_version": "1.2.0",
            "grid_template_areas": null,
            "object_position": null,
            "object_fit": null,
            "grid_auto_columns": null,
            "margin": null,
            "display": null,
            "left": null
          }
        },
        "b6a079ff4c384a4c884e4618bff69935": {
          "model_module": "@jupyter-widgets/controls",
          "model_name": "FloatProgressModel",
          "state": {
            "_view_name": "ProgressView",
            "style": "IPY_MODEL_58fce7f31fd945ca8cd2c9bae8bc866c",
            "_dom_classes": [],
            "description": "",
            "_model_name": "FloatProgressModel",
            "bar_style": "success",
            "max": 1,
            "_view_module": "@jupyter-widgets/controls",
            "_model_module_version": "1.5.0",
            "value": 1,
            "_view_count": null,
            "_view_module_version": "1.5.0",
            "orientation": "horizontal",
            "min": 0,
            "description_tooltip": null,
            "_model_module": "@jupyter-widgets/controls",
            "layout": "IPY_MODEL_ee5dba4b46b2460eaa2be8be65e965ed"
          }
        },
        "8277aecce2a2460e9144eb482d1ec7b1": {
          "model_module": "@jupyter-widgets/controls",
          "model_name": "HTMLModel",
          "state": {
            "_view_name": "HTMLView",
            "style": "IPY_MODEL_9637b4dcefe741ebabce8d01e2bb73ae",
            "_dom_classes": [],
            "description": "",
            "_model_name": "HTMLModel",
            "placeholder": "​",
            "_view_module": "@jupyter-widgets/controls",
            "_model_module_version": "1.5.0",
            "value": " 1654784/? [00:01&lt;00:00, 986361.54it/s]",
            "_view_count": null,
            "_view_module_version": "1.5.0",
            "description_tooltip": null,
            "_model_module": "@jupyter-widgets/controls",
            "layout": "IPY_MODEL_094bd3edba7c403b9750e49529dfa265"
          }
        },
        "58fce7f31fd945ca8cd2c9bae8bc866c": {
          "model_module": "@jupyter-widgets/controls",
          "model_name": "ProgressStyleModel",
          "state": {
            "_view_name": "StyleView",
            "_model_name": "ProgressStyleModel",
            "description_width": "initial",
            "_view_module": "@jupyter-widgets/base",
            "_model_module_version": "1.5.0",
            "_view_count": null,
            "_view_module_version": "1.2.0",
            "bar_color": null,
            "_model_module": "@jupyter-widgets/controls"
          }
        },
        "ee5dba4b46b2460eaa2be8be65e965ed": {
          "model_module": "@jupyter-widgets/base",
          "model_name": "LayoutModel",
          "state": {
            "_view_name": "LayoutView",
            "grid_template_rows": null,
            "right": null,
            "justify_content": null,
            "_view_module": "@jupyter-widgets/base",
            "overflow": null,
            "_model_module_version": "1.2.0",
            "_view_count": null,
            "flex_flow": null,
            "width": null,
            "min_width": null,
            "border": null,
            "align_items": null,
            "bottom": null,
            "_model_module": "@jupyter-widgets/base",
            "top": null,
            "grid_column": null,
            "overflow_y": null,
            "overflow_x": null,
            "grid_auto_flow": null,
            "grid_area": null,
            "grid_template_columns": null,
            "flex": null,
            "_model_name": "LayoutModel",
            "justify_items": null,
            "grid_row": null,
            "max_height": null,
            "align_content": null,
            "visibility": null,
            "align_self": null,
            "height": null,
            "min_height": null,
            "padding": null,
            "grid_auto_rows": null,
            "grid_gap": null,
            "max_width": null,
            "order": null,
            "_view_module_version": "1.2.0",
            "grid_template_areas": null,
            "object_position": null,
            "object_fit": null,
            "grid_auto_columns": null,
            "margin": null,
            "display": null,
            "left": null
          }
        },
        "9637b4dcefe741ebabce8d01e2bb73ae": {
          "model_module": "@jupyter-widgets/controls",
          "model_name": "DescriptionStyleModel",
          "state": {
            "_view_name": "StyleView",
            "_model_name": "DescriptionStyleModel",
            "description_width": "",
            "_view_module": "@jupyter-widgets/base",
            "_model_module_version": "1.5.0",
            "_view_count": null,
            "_view_module_version": "1.2.0",
            "_model_module": "@jupyter-widgets/controls"
          }
        },
        "094bd3edba7c403b9750e49529dfa265": {
          "model_module": "@jupyter-widgets/base",
          "model_name": "LayoutModel",
          "state": {
            "_view_name": "LayoutView",
            "grid_template_rows": null,
            "right": null,
            "justify_content": null,
            "_view_module": "@jupyter-widgets/base",
            "overflow": null,
            "_model_module_version": "1.2.0",
            "_view_count": null,
            "flex_flow": null,
            "width": null,
            "min_width": null,
            "border": null,
            "align_items": null,
            "bottom": null,
            "_model_module": "@jupyter-widgets/base",
            "top": null,
            "grid_column": null,
            "overflow_y": null,
            "overflow_x": null,
            "grid_auto_flow": null,
            "grid_area": null,
            "grid_template_columns": null,
            "flex": null,
            "_model_name": "LayoutModel",
            "justify_items": null,
            "grid_row": null,
            "max_height": null,
            "align_content": null,
            "visibility": null,
            "align_self": null,
            "height": null,
            "min_height": null,
            "padding": null,
            "grid_auto_rows": null,
            "grid_gap": null,
            "max_width": null,
            "order": null,
            "_view_module_version": "1.2.0",
            "grid_template_areas": null,
            "object_position": null,
            "object_fit": null,
            "grid_auto_columns": null,
            "margin": null,
            "display": null,
            "left": null
          }
        },
        "fab1cd37c29e4fa192cfad0f1994912f": {
          "model_module": "@jupyter-widgets/controls",
          "model_name": "HBoxModel",
          "state": {
            "_view_name": "HBoxView",
            "_dom_classes": [],
            "_model_name": "HBoxModel",
            "_view_module": "@jupyter-widgets/controls",
            "_model_module_version": "1.5.0",
            "_view_count": null,
            "_view_module_version": "1.5.0",
            "box_style": "",
            "layout": "IPY_MODEL_c71a29d3622c460f9072653759ca4539",
            "_model_module": "@jupyter-widgets/controls",
            "children": [
              "IPY_MODEL_4b02b8b241024747bb9ef07fd360592a",
              "IPY_MODEL_a4ba2ed0a4324f6fb81dc98e1029cf66"
            ]
          }
        },
        "c71a29d3622c460f9072653759ca4539": {
          "model_module": "@jupyter-widgets/base",
          "model_name": "LayoutModel",
          "state": {
            "_view_name": "LayoutView",
            "grid_template_rows": null,
            "right": null,
            "justify_content": null,
            "_view_module": "@jupyter-widgets/base",
            "overflow": null,
            "_model_module_version": "1.2.0",
            "_view_count": null,
            "flex_flow": null,
            "width": null,
            "min_width": null,
            "border": null,
            "align_items": null,
            "bottom": null,
            "_model_module": "@jupyter-widgets/base",
            "top": null,
            "grid_column": null,
            "overflow_y": null,
            "overflow_x": null,
            "grid_auto_flow": null,
            "grid_area": null,
            "grid_template_columns": null,
            "flex": null,
            "_model_name": "LayoutModel",
            "justify_items": null,
            "grid_row": null,
            "max_height": null,
            "align_content": null,
            "visibility": null,
            "align_self": null,
            "height": null,
            "min_height": null,
            "padding": null,
            "grid_auto_rows": null,
            "grid_gap": null,
            "max_width": null,
            "order": null,
            "_view_module_version": "1.2.0",
            "grid_template_areas": null,
            "object_position": null,
            "object_fit": null,
            "grid_auto_columns": null,
            "margin": null,
            "display": null,
            "left": null
          }
        },
        "4b02b8b241024747bb9ef07fd360592a": {
          "model_module": "@jupyter-widgets/controls",
          "model_name": "FloatProgressModel",
          "state": {
            "_view_name": "ProgressView",
            "style": "IPY_MODEL_3f51aa89f00247e7b7bbaab526e3ed56",
            "_dom_classes": [],
            "description": "",
            "_model_name": "FloatProgressModel",
            "bar_style": "success",
            "max": 1,
            "_view_module": "@jupyter-widgets/controls",
            "_model_module_version": "1.5.0",
            "value": 1,
            "_view_count": null,
            "_view_module_version": "1.5.0",
            "orientation": "horizontal",
            "min": 0,
            "description_tooltip": null,
            "_model_module": "@jupyter-widgets/controls",
            "layout": "IPY_MODEL_054ec852ed9a4c06b990a81c921b358c"
          }
        },
        "a4ba2ed0a4324f6fb81dc98e1029cf66": {
          "model_module": "@jupyter-widgets/controls",
          "model_name": "HTMLModel",
          "state": {
            "_view_name": "HTMLView",
            "style": "IPY_MODEL_4fb78e2b2748457ab0816dab37f42b1e",
            "_dom_classes": [],
            "description": "",
            "_model_name": "HTMLModel",
            "placeholder": "​",
            "_view_module": "@jupyter-widgets/controls",
            "_model_module_version": "1.5.0",
            "value": " 8192/? [00:00&lt;00:00, 17319.46it/s]",
            "_view_count": null,
            "_view_module_version": "1.5.0",
            "description_tooltip": null,
            "_model_module": "@jupyter-widgets/controls",
            "layout": "IPY_MODEL_1b0785e633b34675b728dba3d7715a64"
          }
        },
        "3f51aa89f00247e7b7bbaab526e3ed56": {
          "model_module": "@jupyter-widgets/controls",
          "model_name": "ProgressStyleModel",
          "state": {
            "_view_name": "StyleView",
            "_model_name": "ProgressStyleModel",
            "description_width": "initial",
            "_view_module": "@jupyter-widgets/base",
            "_model_module_version": "1.5.0",
            "_view_count": null,
            "_view_module_version": "1.2.0",
            "bar_color": null,
            "_model_module": "@jupyter-widgets/controls"
          }
        },
        "054ec852ed9a4c06b990a81c921b358c": {
          "model_module": "@jupyter-widgets/base",
          "model_name": "LayoutModel",
          "state": {
            "_view_name": "LayoutView",
            "grid_template_rows": null,
            "right": null,
            "justify_content": null,
            "_view_module": "@jupyter-widgets/base",
            "overflow": null,
            "_model_module_version": "1.2.0",
            "_view_count": null,
            "flex_flow": null,
            "width": null,
            "min_width": null,
            "border": null,
            "align_items": null,
            "bottom": null,
            "_model_module": "@jupyter-widgets/base",
            "top": null,
            "grid_column": null,
            "overflow_y": null,
            "overflow_x": null,
            "grid_auto_flow": null,
            "grid_area": null,
            "grid_template_columns": null,
            "flex": null,
            "_model_name": "LayoutModel",
            "justify_items": null,
            "grid_row": null,
            "max_height": null,
            "align_content": null,
            "visibility": null,
            "align_self": null,
            "height": null,
            "min_height": null,
            "padding": null,
            "grid_auto_rows": null,
            "grid_gap": null,
            "max_width": null,
            "order": null,
            "_view_module_version": "1.2.0",
            "grid_template_areas": null,
            "object_position": null,
            "object_fit": null,
            "grid_auto_columns": null,
            "margin": null,
            "display": null,
            "left": null
          }
        },
        "4fb78e2b2748457ab0816dab37f42b1e": {
          "model_module": "@jupyter-widgets/controls",
          "model_name": "DescriptionStyleModel",
          "state": {
            "_view_name": "StyleView",
            "_model_name": "DescriptionStyleModel",
            "description_width": "",
            "_view_module": "@jupyter-widgets/base",
            "_model_module_version": "1.5.0",
            "_view_count": null,
            "_view_module_version": "1.2.0",
            "_model_module": "@jupyter-widgets/controls"
          }
        },
        "1b0785e633b34675b728dba3d7715a64": {
          "model_module": "@jupyter-widgets/base",
          "model_name": "LayoutModel",
          "state": {
            "_view_name": "LayoutView",
            "grid_template_rows": null,
            "right": null,
            "justify_content": null,
            "_view_module": "@jupyter-widgets/base",
            "overflow": null,
            "_model_module_version": "1.2.0",
            "_view_count": null,
            "flex_flow": null,
            "width": null,
            "min_width": null,
            "border": null,
            "align_items": null,
            "bottom": null,
            "_model_module": "@jupyter-widgets/base",
            "top": null,
            "grid_column": null,
            "overflow_y": null,
            "overflow_x": null,
            "grid_auto_flow": null,
            "grid_area": null,
            "grid_template_columns": null,
            "flex": null,
            "_model_name": "LayoutModel",
            "justify_items": null,
            "grid_row": null,
            "max_height": null,
            "align_content": null,
            "visibility": null,
            "align_self": null,
            "height": null,
            "min_height": null,
            "padding": null,
            "grid_auto_rows": null,
            "grid_gap": null,
            "max_width": null,
            "order": null,
            "_view_module_version": "1.2.0",
            "grid_template_areas": null,
            "object_position": null,
            "object_fit": null,
            "grid_auto_columns": null,
            "margin": null,
            "display": null,
            "left": null
          }
        }
      }
    }
  },
  "cells": [
    {
      "cell_type": "markdown",
      "metadata": {
        "id": "view-in-github",
        "colab_type": "text"
      },
      "source": [
        "<a href=\"https://colab.research.google.com/github/ishandahal/stats453-deep_learning_torch/blob/main/Logistic_/Softmax_regression_MNIST.ipynb\" target=\"_parent\"><img src=\"https://colab.research.google.com/assets/colab-badge.svg\" alt=\"Open In Colab\"/></a>"
      ]
    },
    {
      "cell_type": "markdown",
      "metadata": {
        "id": "wVRSRvcYv9ZN"
      },
      "source": [
        "## Softmax Regression on MNIST"
      ]
    },
    {
      "cell_type": "code",
      "metadata": {
        "id": "y277597owQWj"
      },
      "source": [
        "import time\n",
        "from torchvision import datasets\n",
        "from torchvision import transforms\n",
        "from torch.utils.data import DataLoader\n",
        "import torch.nn.functional as F\n",
        "import torch"
      ],
      "execution_count": 1,
      "outputs": []
    },
    {
      "cell_type": "markdown",
      "metadata": {
        "id": "NXiX_eR9wmeT"
      },
      "source": [
        "Settings and Dataseta"
      ]
    },
    {
      "cell_type": "code",
      "metadata": {
        "colab": {
          "base_uri": "https://localhost:8080/",
          "height": 443,
          "referenced_widgets": [
            "3b2722cc29554f65afab339ec7c342e8",
            "cf21d4fdd0474f82bff6e7644d73bf7f",
            "7b645f883f704ca49fc491e2434d8cc0",
            "f811c06c5849419d8959923fc303dc87",
            "ae7a5f00f5f94c8aa2b6de825571d7c5",
            "d32b9d19b2234a88876169fcb88eeb60",
            "36315b615273416b8af112898656b06c",
            "dd10a93253cc4bd4954bfef4bdf50bbe",
            "3e75d19330694cc7b87013a960ad686d",
            "2c2c5963757c419ca519931e239e386c",
            "7c6b1fe7ef294a2fbad402030bcf3d7d",
            "eeb027f900cb4ecf93c8a25d7699e9f8",
            "9a0d7a2565da4994bc1eb79487b1a4c3",
            "911275979bde4c899491f5fbf0f65f1d",
            "567b158b55a440cc9d6eb9f79ae2a48e",
            "76346d458253477f820bc4fb6e80e20b",
            "6797bd5d34324e559d3e3f73ebb7170e",
            "91b4c6eb9b1a44528b1a2e80fe936e23",
            "b6a079ff4c384a4c884e4618bff69935",
            "8277aecce2a2460e9144eb482d1ec7b1",
            "58fce7f31fd945ca8cd2c9bae8bc866c",
            "ee5dba4b46b2460eaa2be8be65e965ed",
            "9637b4dcefe741ebabce8d01e2bb73ae",
            "094bd3edba7c403b9750e49529dfa265",
            "fab1cd37c29e4fa192cfad0f1994912f",
            "c71a29d3622c460f9072653759ca4539",
            "4b02b8b241024747bb9ef07fd360592a",
            "a4ba2ed0a4324f6fb81dc98e1029cf66",
            "3f51aa89f00247e7b7bbaab526e3ed56",
            "054ec852ed9a4c06b990a81c921b358c",
            "4fb78e2b2748457ab0816dab37f42b1e",
            "1b0785e633b34675b728dba3d7715a64"
          ]
        },
        "id": "mLKG4AEuwuRY",
        "outputId": "a5a64671-43a6-43e4-888f-c50025a81c69"
      },
      "source": [
        "# Device\n",
        "device = torch.device(\"cuda:0\" if torch.cuda.is_available() else 'cpu')\n",
        "\n",
        "# hyperparameters\n",
        "random_seed = 123\n",
        "learning_rate = 0.1\n",
        "num_epochs = 25\n",
        "batch_size = 256\n",
        "\n",
        "# architecture\n",
        "num_features = 784\n",
        "num_classes = 10\n",
        "\n",
        "## MNIST Dataset\n",
        "\n",
        "train_dataset = datasets.MNIST(root='data',\n",
        "                               train=True,\n",
        "                               transform=transforms.ToTensor(),\n",
        "                               download=True)\n",
        "\n",
        "test_dataset = datasets.MNIST(root='data',\n",
        "                              train=False,\n",
        "                              transform=transforms.ToTensor())\n",
        "\n",
        "train_loader = DataLoader(dataset=train_dataset,\n",
        "                          batch_size=batch_size,\n",
        "                          shuffle=True)\n",
        "\n",
        "test_loader = DataLoader(dataset=test_dataset,\n",
        "                         batch_size=batch_size,\n",
        "                         shuffle=False)\n",
        "\n",
        "# checking the dataset\n",
        "for images, label in train_loader:\n",
        "    print(\"Image batch dimension: \", images.shape)\n",
        "    print(\"Image label dimensions: \", label.shape)\n",
        "    break"
      ],
      "execution_count": 2,
      "outputs": [
        {
          "output_type": "stream",
          "text": [
            "Downloading http://yann.lecun.com/exdb/mnist/train-images-idx3-ubyte.gz to data/MNIST/raw/train-images-idx3-ubyte.gz\n"
          ],
          "name": "stdout"
        },
        {
          "output_type": "display_data",
          "data": {
            "application/vnd.jupyter.widget-view+json": {
              "model_id": "3b2722cc29554f65afab339ec7c342e8",
              "version_minor": 0,
              "version_major": 2
            },
            "text/plain": [
              "HBox(children=(FloatProgress(value=1.0, bar_style='info', max=1.0), HTML(value='')))"
            ]
          },
          "metadata": {
            "tags": []
          }
        },
        {
          "output_type": "stream",
          "text": [
            "Extracting data/MNIST/raw/train-images-idx3-ubyte.gz to data/MNIST/raw\n",
            "Downloading http://yann.lecun.com/exdb/mnist/train-labels-idx1-ubyte.gz to data/MNIST/raw/train-labels-idx1-ubyte.gz\n"
          ],
          "name": "stdout"
        },
        {
          "output_type": "display_data",
          "data": {
            "application/vnd.jupyter.widget-view+json": {
              "model_id": "3e75d19330694cc7b87013a960ad686d",
              "version_minor": 0,
              "version_major": 2
            },
            "text/plain": [
              "HBox(children=(FloatProgress(value=1.0, bar_style='info', max=1.0), HTML(value='')))"
            ]
          },
          "metadata": {
            "tags": []
          }
        },
        {
          "output_type": "stream",
          "text": [
            "Extracting data/MNIST/raw/train-labels-idx1-ubyte.gz to data/MNIST/raw\n",
            "Downloading http://yann.lecun.com/exdb/mnist/t10k-images-idx3-ubyte.gz to data/MNIST/raw/t10k-images-idx3-ubyte.gz\n"
          ],
          "name": "stdout"
        },
        {
          "output_type": "display_data",
          "data": {
            "application/vnd.jupyter.widget-view+json": {
              "model_id": "6797bd5d34324e559d3e3f73ebb7170e",
              "version_minor": 0,
              "version_major": 2
            },
            "text/plain": [
              "HBox(children=(FloatProgress(value=1.0, bar_style='info', max=1.0), HTML(value='')))"
            ]
          },
          "metadata": {
            "tags": []
          }
        },
        {
          "output_type": "stream",
          "text": [
            "Extracting data/MNIST/raw/t10k-images-idx3-ubyte.gz to data/MNIST/raw\n",
            "Downloading http://yann.lecun.com/exdb/mnist/t10k-labels-idx1-ubyte.gz to data/MNIST/raw/t10k-labels-idx1-ubyte.gz\n"
          ],
          "name": "stdout"
        },
        {
          "output_type": "display_data",
          "data": {
            "application/vnd.jupyter.widget-view+json": {
              "model_id": "fab1cd37c29e4fa192cfad0f1994912f",
              "version_minor": 0,
              "version_major": 2
            },
            "text/plain": [
              "HBox(children=(FloatProgress(value=1.0, bar_style='info', max=1.0), HTML(value='')))"
            ]
          },
          "metadata": {
            "tags": []
          }
        },
        {
          "output_type": "stream",
          "text": [
            "Extracting data/MNIST/raw/t10k-labels-idx1-ubyte.gz to data/MNIST/raw\n",
            "Processing...\n",
            "Done!\n"
          ],
          "name": "stdout"
        },
        {
          "output_type": "stream",
          "text": [
            "/usr/local/lib/python3.6/dist-packages/torchvision/datasets/mnist.py:480: UserWarning: The given NumPy array is not writeable, and PyTorch does not support non-writeable tensors. This means you can write to the underlying (supposedly non-writeable) NumPy array using the tensor. You may want to copy the array to protect its data or make it writeable before converting it to a tensor. This type of warning will be suppressed for the rest of this program. (Triggered internally at  /pytorch/torch/csrc/utils/tensor_numpy.cpp:141.)\n",
            "  return torch.from_numpy(parsed.astype(m[2], copy=False)).view(*s)\n"
          ],
          "name": "stderr"
        },
        {
          "output_type": "stream",
          "text": [
            "\n",
            "\n",
            "Image batch dimension:  torch.Size([256, 1, 28, 28])\n",
            "Image label dimensions:  torch.Size([256])\n"
          ],
          "name": "stdout"
        }
      ]
    },
    {
      "cell_type": "code",
      "metadata": {
        "id": "yHvLwrZyymus"
      },
      "source": [
        "## Model \n",
        "\n",
        "class SoftmaxRegression(torch.nn.Module):\n",
        "    def __init__(self, num_features, num_classes):\n",
        "        super(SoftmaxRegression, self).__init__()\n",
        "        self.linear = torch.nn.Linear(num_features, num_classes)\n",
        "\n",
        "        self.linear.weight.detach().zero_()\n",
        "        self.linear.bias.detach().zero_()\n",
        "\n",
        "    def forward(self, x):\n",
        "        logits = self.linear(x)\n",
        "        probas = F.softmax(logits, dim=1)\n",
        "        return logits, probas\n",
        "\n",
        "model = SoftmaxRegression(num_features=num_features,\n",
        "                          num_classes=num_classes)\n",
        "model.to(device)\n",
        "\n",
        "## optimizer\n",
        "\n",
        "optimizer = torch.optim.SGD(model.parameters(), lr = learning_rate)"
      ],
      "execution_count": 3,
      "outputs": []
    },
    {
      "cell_type": "code",
      "metadata": {
        "colab": {
          "base_uri": "https://localhost:8080/"
        },
        "id": "QJ0mrOh90f1R",
        "outputId": "880c4883-c651-41af-e299-954e2a6e1a4a"
      },
      "source": [
        "# Manual seed for deterministic data loader\n",
        "torch.manual_seed(random_seed)\n",
        "\n",
        "def compute_accuracy(model, data_loader):\n",
        "    correct_pred, num_examples = 0, 0\n",
        "\n",
        "    for features, targets in data_loader:\n",
        "        features = features.view(-1, 28*28).to(device)\n",
        "        targets = targets.to(device)\n",
        "        logits, probas = model(features)\n",
        "        _, predicted_labels = torch.max(probas, 1)\n",
        "        num_examples += targets.size(0)\n",
        "        correct_pred += (predicted_labels == targets).sum()\n",
        "    \n",
        "    return correct_pred.float() / num_examples * 100\n",
        "\n",
        "start_time = time.time()\n",
        "epoch_costs = []\n",
        "for epoch in range(num_epochs):\n",
        "    avg_cost = 0.\n",
        "    for batch_idx, (features, targets) in enumerate(train_loader):\n",
        "\n",
        "        features = features.view(-1, 28*28).to(device)\n",
        "        targets = targets.to(device)\n",
        "\n",
        "        # forward and back prop\n",
        "        logits, probas = model(features)\n",
        "\n",
        "        # PyTorch implementation of \n",
        "        # cross_entropy works with logits\n",
        "        # not probabilities\n",
        "        cost = F.cross_entropy(logits, targets)\n",
        "        optimizer.zero_grad()\n",
        "        cost.backward()\n",
        "        avg_cost += cost\n",
        "        avg_cost\n",
        "\n",
        "        # update model parameters\n",
        "        optimizer.step()\n",
        "\n",
        "        # logging \n",
        "        if not batch_idx % 50:\n",
        "            print(f'Epoch: {epoch + 1:03d}/{num_epochs:03d} | Batch {batch_idx:03d}'\n",
        "                    f'/{len(train_dataset) // batch_size} | Cost: {cost:.4f}')\n",
        "\n",
        "    with torch.set_grad_enabled(False):\n",
        "        avg_cost = avg_cost / len(train_dataset)\n",
        "        epoch_costs.append(avg_cost)\n",
        "        print(f\"Epoch: {epoch+1:03d}/{num_epochs} training accuracy: {compute_accuracy(model, train_loader):.2f}%\")\n",
        "        print(f'Time Elapsed: {(time.time() - start_time) / 60:.2f}min')"
      ],
      "execution_count": 4,
      "outputs": [
        {
          "output_type": "stream",
          "text": [
            "Epoch: 001/025 | Batch 000/234 | Cost: 2.3026\n",
            "Epoch: 001/025 | Batch 050/234 | Cost: 0.7819\n",
            "Epoch: 001/025 | Batch 100/234 | Cost: 0.6426\n",
            "Epoch: 001/025 | Batch 150/234 | Cost: 0.5026\n",
            "Epoch: 001/025 | Batch 200/234 | Cost: 0.4742\n",
            "Epoch: 001/25 training accuracy: 88.06%\n",
            "Time Elapsed: 0.19min\n",
            "Epoch: 002/025 | Batch 000/234 | Cost: 0.4454\n",
            "Epoch: 002/025 | Batch 050/234 | Cost: 0.4151\n",
            "Epoch: 002/025 | Batch 100/234 | Cost: 0.4108\n",
            "Epoch: 002/025 | Batch 150/234 | Cost: 0.3915\n",
            "Epoch: 002/025 | Batch 200/234 | Cost: 0.3253\n",
            "Epoch: 002/25 training accuracy: 89.39%\n",
            "Time Elapsed: 0.38min\n",
            "Epoch: 003/025 | Batch 000/234 | Cost: 0.3777\n",
            "Epoch: 003/025 | Batch 050/234 | Cost: 0.3984\n",
            "Epoch: 003/025 | Batch 100/234 | Cost: 0.3044\n",
            "Epoch: 003/025 | Batch 150/234 | Cost: 0.3907\n",
            "Epoch: 003/025 | Batch 200/234 | Cost: 0.4255\n",
            "Epoch: 003/25 training accuracy: 89.85%\n",
            "Time Elapsed: 0.56min\n",
            "Epoch: 004/025 | Batch 000/234 | Cost: 0.3918\n",
            "Epoch: 004/025 | Batch 050/234 | Cost: 0.3700\n",
            "Epoch: 004/025 | Batch 100/234 | Cost: 0.3785\n",
            "Epoch: 004/025 | Batch 150/234 | Cost: 0.3430\n",
            "Epoch: 004/025 | Batch 200/234 | Cost: 0.4021\n",
            "Epoch: 004/25 training accuracy: 90.44%\n",
            "Time Elapsed: 0.75min\n",
            "Epoch: 005/025 | Batch 000/234 | Cost: 0.4425\n",
            "Epoch: 005/025 | Batch 050/234 | Cost: 0.3336\n",
            "Epoch: 005/025 | Batch 100/234 | Cost: 0.3373\n",
            "Epoch: 005/025 | Batch 150/234 | Cost: 0.3553\n",
            "Epoch: 005/025 | Batch 200/234 | Cost: 0.3592\n",
            "Epoch: 005/25 training accuracy: 90.66%\n",
            "Time Elapsed: 0.93min\n",
            "Epoch: 006/025 | Batch 000/234 | Cost: 0.2577\n",
            "Epoch: 006/025 | Batch 050/234 | Cost: 0.2960\n",
            "Epoch: 006/025 | Batch 100/234 | Cost: 0.3559\n",
            "Epoch: 006/025 | Batch 150/234 | Cost: 0.4152\n",
            "Epoch: 006/025 | Batch 200/234 | Cost: 0.3933\n",
            "Epoch: 006/25 training accuracy: 90.86%\n",
            "Time Elapsed: 1.12min\n",
            "Epoch: 007/025 | Batch 000/234 | Cost: 0.4181\n",
            "Epoch: 007/025 | Batch 050/234 | Cost: 0.3631\n",
            "Epoch: 007/025 | Batch 100/234 | Cost: 0.2895\n",
            "Epoch: 007/025 | Batch 150/234 | Cost: 0.2856\n",
            "Epoch: 007/025 | Batch 200/234 | Cost: 0.3722\n",
            "Epoch: 007/25 training accuracy: 90.98%\n",
            "Time Elapsed: 1.31min\n",
            "Epoch: 008/025 | Batch 000/234 | Cost: 0.2987\n",
            "Epoch: 008/025 | Batch 050/234 | Cost: 0.3676\n",
            "Epoch: 008/025 | Batch 100/234 | Cost: 0.3235\n",
            "Epoch: 008/025 | Batch 150/234 | Cost: 0.3040\n",
            "Epoch: 008/025 | Batch 200/234 | Cost: 0.3496\n",
            "Epoch: 008/25 training accuracy: 91.19%\n",
            "Time Elapsed: 1.49min\n",
            "Epoch: 009/025 | Batch 000/234 | Cost: 0.3250\n",
            "Epoch: 009/025 | Batch 050/234 | Cost: 0.2833\n",
            "Epoch: 009/025 | Batch 100/234 | Cost: 0.3577\n",
            "Epoch: 009/025 | Batch 150/234 | Cost: 0.3016\n",
            "Epoch: 009/025 | Batch 200/234 | Cost: 0.3249\n",
            "Epoch: 009/25 training accuracy: 91.29%\n",
            "Time Elapsed: 1.68min\n",
            "Epoch: 010/025 | Batch 000/234 | Cost: 0.2418\n",
            "Epoch: 010/025 | Batch 050/234 | Cost: 0.2353\n",
            "Epoch: 010/025 | Batch 100/234 | Cost: 0.3880\n",
            "Epoch: 010/025 | Batch 150/234 | Cost: 0.3211\n",
            "Epoch: 010/025 | Batch 200/234 | Cost: 0.2209\n",
            "Epoch: 010/25 training accuracy: 91.47%\n",
            "Time Elapsed: 1.87min\n",
            "Epoch: 011/025 | Batch 000/234 | Cost: 0.4104\n",
            "Epoch: 011/025 | Batch 050/234 | Cost: 0.3203\n",
            "Epoch: 011/025 | Batch 100/234 | Cost: 0.2512\n",
            "Epoch: 011/025 | Batch 150/234 | Cost: 0.2505\n",
            "Epoch: 011/025 | Batch 200/234 | Cost: 0.3109\n",
            "Epoch: 011/25 training accuracy: 91.45%\n",
            "Time Elapsed: 2.05min\n",
            "Epoch: 012/025 | Batch 000/234 | Cost: 0.3217\n",
            "Epoch: 012/025 | Batch 050/234 | Cost: 0.3194\n",
            "Epoch: 012/025 | Batch 100/234 | Cost: 0.2443\n",
            "Epoch: 012/025 | Batch 150/234 | Cost: 0.3304\n",
            "Epoch: 012/025 | Batch 200/234 | Cost: 0.3713\n",
            "Epoch: 012/25 training accuracy: 91.57%\n",
            "Time Elapsed: 2.24min\n",
            "Epoch: 013/025 | Batch 000/234 | Cost: 0.3790\n",
            "Epoch: 013/025 | Batch 050/234 | Cost: 0.1943\n",
            "Epoch: 013/025 | Batch 100/234 | Cost: 0.3346\n",
            "Epoch: 013/025 | Batch 150/234 | Cost: 0.2826\n",
            "Epoch: 013/025 | Batch 200/234 | Cost: 0.2714\n",
            "Epoch: 013/25 training accuracy: 91.76%\n",
            "Time Elapsed: 2.43min\n",
            "Epoch: 014/025 | Batch 000/234 | Cost: 0.2273\n",
            "Epoch: 014/025 | Batch 050/234 | Cost: 0.2728\n",
            "Epoch: 014/025 | Batch 100/234 | Cost: 0.2719\n",
            "Epoch: 014/025 | Batch 150/234 | Cost: 0.3284\n",
            "Epoch: 014/025 | Batch 200/234 | Cost: 0.3133\n",
            "Epoch: 014/25 training accuracy: 91.68%\n",
            "Time Elapsed: 2.62min\n",
            "Epoch: 015/025 | Batch 000/234 | Cost: 0.3457\n",
            "Epoch: 015/025 | Batch 050/234 | Cost: 0.2756\n",
            "Epoch: 015/025 | Batch 100/234 | Cost: 0.3718\n",
            "Epoch: 015/025 | Batch 150/234 | Cost: 0.2482\n",
            "Epoch: 015/025 | Batch 200/234 | Cost: 0.2776\n",
            "Epoch: 015/25 training accuracy: 91.85%\n",
            "Time Elapsed: 2.80min\n",
            "Epoch: 016/025 | Batch 000/234 | Cost: 0.2816\n",
            "Epoch: 016/025 | Batch 050/234 | Cost: 0.2321\n",
            "Epoch: 016/025 | Batch 100/234 | Cost: 0.2418\n",
            "Epoch: 016/025 | Batch 150/234 | Cost: 0.3034\n",
            "Epoch: 016/025 | Batch 200/234 | Cost: 0.3143\n",
            "Epoch: 016/25 training accuracy: 91.91%\n",
            "Time Elapsed: 2.99min\n",
            "Epoch: 017/025 | Batch 000/234 | Cost: 0.2878\n",
            "Epoch: 017/025 | Batch 050/234 | Cost: 0.2786\n",
            "Epoch: 017/025 | Batch 100/234 | Cost: 0.2328\n",
            "Epoch: 017/025 | Batch 150/234 | Cost: 0.2208\n",
            "Epoch: 017/025 | Batch 200/234 | Cost: 0.3599\n",
            "Epoch: 017/25 training accuracy: 91.91%\n",
            "Time Elapsed: 3.18min\n",
            "Epoch: 018/025 | Batch 000/234 | Cost: 0.3137\n",
            "Epoch: 018/025 | Batch 050/234 | Cost: 0.2693\n",
            "Epoch: 018/025 | Batch 100/234 | Cost: 0.2849\n",
            "Epoch: 018/025 | Batch 150/234 | Cost: 0.2797\n",
            "Epoch: 018/025 | Batch 200/234 | Cost: 0.3162\n",
            "Epoch: 018/25 training accuracy: 92.02%\n",
            "Time Elapsed: 3.37min\n",
            "Epoch: 019/025 | Batch 000/234 | Cost: 0.2254\n",
            "Epoch: 019/025 | Batch 050/234 | Cost: 0.2343\n",
            "Epoch: 019/025 | Batch 100/234 | Cost: 0.3039\n",
            "Epoch: 019/025 | Batch 150/234 | Cost: 0.2001\n",
            "Epoch: 019/025 | Batch 200/234 | Cost: 0.4330\n",
            "Epoch: 019/25 training accuracy: 92.01%\n",
            "Time Elapsed: 3.55min\n",
            "Epoch: 020/025 | Batch 000/234 | Cost: 0.3008\n",
            "Epoch: 020/025 | Batch 050/234 | Cost: 0.3512\n",
            "Epoch: 020/025 | Batch 100/234 | Cost: 0.2761\n",
            "Epoch: 020/025 | Batch 150/234 | Cost: 0.2062\n",
            "Epoch: 020/025 | Batch 200/234 | Cost: 0.3902\n",
            "Epoch: 020/25 training accuracy: 92.07%\n",
            "Time Elapsed: 3.74min\n",
            "Epoch: 021/025 | Batch 000/234 | Cost: 0.2993\n",
            "Epoch: 021/025 | Batch 050/234 | Cost: 0.2719\n",
            "Epoch: 021/025 | Batch 100/234 | Cost: 0.3122\n",
            "Epoch: 021/025 | Batch 150/234 | Cost: 0.3344\n",
            "Epoch: 021/025 | Batch 200/234 | Cost: 0.2047\n",
            "Epoch: 021/25 training accuracy: 92.03%\n",
            "Time Elapsed: 3.93min\n",
            "Epoch: 022/025 | Batch 000/234 | Cost: 0.2828\n",
            "Epoch: 022/025 | Batch 050/234 | Cost: 0.3147\n",
            "Epoch: 022/025 | Batch 100/234 | Cost: 0.2703\n",
            "Epoch: 022/025 | Batch 150/234 | Cost: 0.3160\n",
            "Epoch: 022/025 | Batch 200/234 | Cost: 0.2220\n",
            "Epoch: 022/25 training accuracy: 92.10%\n",
            "Time Elapsed: 4.11min\n",
            "Epoch: 023/025 | Batch 000/234 | Cost: 0.2534\n",
            "Epoch: 023/025 | Batch 050/234 | Cost: 0.2710\n",
            "Epoch: 023/025 | Batch 100/234 | Cost: 0.2444\n",
            "Epoch: 023/025 | Batch 150/234 | Cost: 0.2250\n",
            "Epoch: 023/025 | Batch 200/234 | Cost: 0.3008\n",
            "Epoch: 023/25 training accuracy: 92.19%\n",
            "Time Elapsed: 4.30min\n",
            "Epoch: 024/025 | Batch 000/234 | Cost: 0.2798\n",
            "Epoch: 024/025 | Batch 050/234 | Cost: 0.3368\n",
            "Epoch: 024/025 | Batch 100/234 | Cost: 0.3354\n",
            "Epoch: 024/025 | Batch 150/234 | Cost: 0.2783\n",
            "Epoch: 024/025 | Batch 200/234 | Cost: 0.4267\n",
            "Epoch: 024/25 training accuracy: 92.17%\n",
            "Time Elapsed: 4.49min\n",
            "Epoch: 025/025 | Batch 000/234 | Cost: 0.3317\n",
            "Epoch: 025/025 | Batch 050/234 | Cost: 0.2725\n",
            "Epoch: 025/025 | Batch 100/234 | Cost: 0.1489\n",
            "Epoch: 025/025 | Batch 150/234 | Cost: 0.2379\n",
            "Epoch: 025/025 | Batch 200/234 | Cost: 0.2635\n",
            "Epoch: 025/25 training accuracy: 92.25%\n",
            "Time Elapsed: 4.67min\n"
          ],
          "name": "stdout"
        }
      ]
    },
    {
      "cell_type": "code",
      "metadata": {
        "colab": {
          "base_uri": "https://localhost:8080/",
          "height": 288
        },
        "id": "9UlyOV0T2Jho",
        "outputId": "8126df0b-1cb9-4406-9dd5-eae7398ed79b"
      },
      "source": [
        "import matplotlib\n",
        "import matplotlib.pyplot as plt\n",
        "\n",
        "\n",
        "plt.plot(epoch_costs)\n",
        "plt.ylabel('Avg Cross Entropy Loss\\n(approximated by averaging over minibatches)')\n",
        "plt.xlabel('Epoch')\n",
        "plt.show()"
      ],
      "execution_count": 5,
      "outputs": [
        {
          "output_type": "display_data",
          "data": {
            "image/png": "[encoded data removed]",
            "text/plain": [
              "<Figure size 432x288 with 1 Axes>"
            ]
          },
          "metadata": {
            "tags": [],
            "needs_background": "light"
          }
        }
      ]
    },
    {
      "cell_type": "code",
      "metadata": {
        "colab": {
          "base_uri": "https://localhost:8080/"
        },
        "id": "AUIJ7Ue691KL",
        "outputId": "5e0d8e7c-fc2f-41cd-f76c-ec1cd16d6a66"
      },
      "source": [
        "print('Testing accuracy: %.2f%%' % (compute_accuracy(model, test_loader)))"
      ],
      "execution_count": 6,
      "outputs": [
        {
          "output_type": "stream",
          "text": [
            "Testing accuracy: 92.16%\n"
          ],
          "name": "stdout"
        }
      ]
    },
    {
      "cell_type": "code",
      "metadata": {
        "colab": {
          "base_uri": "https://localhost:8080/",
          "height": 123
        },
        "id": "BdioV9s9-Fez",
        "outputId": "192c79f1-818d-4a94-8cc9-2624eff68e88"
      },
      "source": [
        "for features, targets in test_loader:\n",
        "    break\n",
        "\n",
        "fig, ax = plt.subplots(1, 4)\n",
        "for i in range(4):\n",
        "    ax[i].imshow(features[i].view(28, 28), cmap=matplotlib.cm.binary)\n",
        "\n",
        "plt.show()"
      ],
      "execution_count": 7,
      "outputs": [
        {
          "output_type": "display_data",
          "data": {
            "image/png": "[encoded data removed]",
            "text/plain": [
              "<Figure size 432x288 with 4 Axes>"
            ]
          },
          "metadata": {
            "tags": [],
            "needs_background": "light"
          }
        }
      ]
    },
    {
      "cell_type": "code",
      "metadata": {
        "colab": {
          "base_uri": "https://localhost:8080/"
        },
        "id": "eT9x5gZcLNso",
        "outputId": "c182088e-9c17-4a3f-8fc7-776334b35d08"
      },
      "source": [
        "_, predictions = model(features[:4].view(-1, 28*28).to(device))\n",
        "predictions = torch.argmax(predictions, dim=1)\n",
        "print(f\"Predicted labels:\", predictions)"
      ],
      "execution_count": 9,
      "outputs": [
        {
          "output_type": "stream",
          "text": [
            "Predicted labels: tensor([7, 2, 1, 0])\n"
          ],
          "name": "stdout"
        }
      ]
    }
  ]
}