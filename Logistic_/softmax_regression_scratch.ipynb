{
  "nbformat": 4,
  "nbformat_minor": 0,
  "metadata": {
    "colab": {
      "name": "softmax_regression_scratch.ipynb",
      "provenance": [],
      "authorship_tag": "ABX9TyPoZs3DifaXWy6forvvavSV",
      "include_colab_link": true
    },
    "kernelspec": {
      "name": "python3",
      "display_name": "Python 3"
    }
  },
  "cells": [
    {
      "cell_type": "markdown",
      "metadata": {
        "id": "view-in-github",
        "colab_type": "text"
      },
      "source": [
        "<a href=\"https://colab.research.google.com/github/ishandahal/stats453-deep_learning_torch/blob/main/Logistic_/softmax_regression_scratch.ipynb\" target=\"_parent\"><img src=\"https://colab.research.google.com/assets/colab-badge.svg\" alt=\"Open In Colab\"/></a>"
      ]
    },
    {
      "cell_type": "markdown",
      "metadata": {
        "id": "XaKfx-Ro49CX"
      },
      "source": [
        "### **Softmax Regression**"
      ]
    },
    {
      "cell_type": "markdown",
      "metadata": {
        "id": "iZweWy345UY3"
      },
      "source": [
        "Imports"
      ]
    },
    {
      "cell_type": "code",
      "metadata": {
        "id": "0iXJgjNZ5Yg4"
      },
      "source": [
        "import matplotlib.pyplot as plt\n",
        "import pandas as pd\n",
        "import torch\n",
        "import torch.nn.functional as F"
      ],
      "execution_count": 42,
      "outputs": []
    },
    {
      "cell_type": "markdown",
      "metadata": {
        "id": "LwpOgf2C5kMT"
      },
      "source": [
        "Preparing the dataset"
      ]
    },
    {
      "cell_type": "code",
      "metadata": {
        "colab": {
          "base_uri": "https://localhost:8080/",
          "height": 184
        },
        "id": "9zvTI9oo5ooq",
        "outputId": "05ed5e05-21b6-430c-dfed-ac26e44482c6"
      },
      "source": [
        "df = pd.read_csv('https://raw.githubusercontent.com/rasbt/stat453-deep-learning-ss20/master/L07-logistic/code/data/iris.data',\n",
        "                 index_col=None, header=None)\n",
        "df.columns = ['x1', 'x2', 'x3', 'x4', 'y']\n",
        "\n",
        "d = {'Iris-versicolor': 1,\n",
        "     'Iris-virginica': 2,\n",
        "     'Iris-setosa': 0,\n",
        "}\n",
        "\n",
        "df['y'] = df['y'].map(d)\n",
        "\n",
        "X = torch.tensor(df[['x2', 'x4']].values, dtype=torch.float)\n",
        "y = torch.tensor(df['y'].values, dtype=torch.int)\n",
        "\n",
        "# shuffle and train/test split\n",
        "\n",
        "shuffled_idx = torch.randperm(X.size(0), dtype=torch.long)\n",
        "\n",
        "X, y = X[shuffled_idx], y[shuffled_idx]\n",
        "\n",
        "percent80 = int(X.size(0) * 0.8)\n",
        "\n",
        "X_train, X_test = X[shuffled_idx[:percent80]], X[shuffled_idx[percent80:]]\n",
        "y_train, y_test = y[shuffled_idx[:percent80]], y[shuffled_idx[percent80:]]\n",
        "\n",
        "# Normalize (mean zero, unit variance)\n",
        "mu, sigma = torch.mean(X_train, dim=0), torch.std(X_train, dim=0)\n",
        "X_train = (X_train - mu) / sigma\n",
        "X_test = (X_test - mu) / sigma\n",
        "\n",
        "fig, ax = plt.subplots(1, 2, figsize=(7, 2.5))\n",
        "ax[0].scatter(X_train[y_train==0, 0], X_train[y_train==0, 1])\n",
        "ax[0].scatter(X_train[y_train==1, 0], X_train[y_train==1, 1], marker='v')\n",
        "ax[0].scatter(X_train[y_train==2, 0], X_train[y_train==2, 1], marker='s')\n",
        "ax[1].scatter(X_test[y_test==0, 0], X_test[y_test==0, 1])\n",
        "ax[1].scatter(X_test[y_test==1, 0], X_test[y_test==1, 1], marker='v')\n",
        "ax[1].scatter(X_test[y_test==2, 0], X_test[y_test==2, 1], marker='s')\n",
        "plt.show()"
      ],
      "execution_count": 62,
      "outputs": [
        {
          "output_type": "display_data",
          "data": {
            "image/png": "[encoded data removed]",
            "text/plain": [
              "<Figure size 504x180 with 2 Axes>"
            ]
          },
          "metadata": {
            "tags": [],
            "needs_background": "light"
          }
        }
      ]
    },
    {
      "cell_type": "markdown",
      "metadata": {
        "id": "oJqIAnRRI448"
      },
      "source": [
        "## Low level implementation with manual gradients"
      ]
    },
    {
      "cell_type": "code",
      "metadata": {
        "id": "qryYhk_AJAFX"
      },
      "source": [
        "DEVICE = torch.device('cuda:0' if torch.cuda.is_available() else 'cpu')"
      ],
      "execution_count": 63,
      "outputs": []
    },
    {
      "cell_type": "code",
      "metadata": {
        "id": "ygbdhGISLj15"
      },
      "source": [
        "def to_onehot(y, num_classes):\n",
        "    y_onehot = torch.FloatTensor(y.size(0), num_classes)\n",
        "    y_onehot.zero_()\n",
        "    y_cpu = y.to(torch.device('cpu'))\n",
        "    y_onehot.scatter_(1, y_cpu.view(-1, 1).long(), 1).float()\n",
        "    return y_onehot.to(DEVICE)\n",
        "\n",
        "def softmax(z):\n",
        "    return (torch.exp(z.t()) / torch.sum(torch.exp(z), dim=1)).t()\n",
        "\n",
        "def cross_entropy(softmax, y_target):\n",
        "    return -torch.sum(torch.log(softmax) * (y_target), dim=1)"
      ],
      "execution_count": 71,
      "outputs": []
    },
    {
      "cell_type": "code",
      "metadata": {
        "id": "XfqfhBmpPTKT"
      },
      "source": [
        "def custon_where(cond, x_1, x_2):\n",
        "    return (cond * x_1) + ((1 - cond) * x_2)\n",
        "\n",
        "class SoftmaxRegression1():\n",
        "    def __init__(self, num_features, num_classes):\n",
        "        self.num_features = num_features\n",
        "        self.num_classes = num_classes\n",
        "        self.weights = torch.zeros(num_classes, num_features,\n",
        "                                   dtype=torch.float32, device=DEVICE)\n",
        "        self.bias = torch.zeros(num_classes, dtype=torch.float32, device=DEVICE)\n",
        "\n",
        "    def forward(self, x):\n",
        "        logits = torch.add(torch.mm(x, self.weights.t()), self.bias)\n",
        "        probas = softmax(logits)\n",
        "        return logits, probas\n",
        "\n",
        "    def backward(self, x, y, probas):\n",
        "        grad_loss_out = y - probas # shape 120 X 3 \n",
        "        grad_loss_w = -torch.mm(x.t(), grad_loss_out).t()\n",
        "        grad_loss_b = -torch.sum(grad_loss_out)\n",
        "        return grad_loss_w, grad_loss_b\n",
        "\n",
        "    def predict_labels(self, x):\n",
        "        logits, probas = self.forward(x)\n",
        "        labels = torch.argmax(probas, dim=1)\n",
        "        return labels\n",
        "    \n",
        "    def evaluate (self, x, y):\n",
        "        labels = self.predict_labels(x).float()\n",
        "        accuracy = torch.sum(labels.view(-1) == y.float()).item() / y.size(0)\n",
        "        return accuracy\n",
        "\n",
        "    def train(self, x, y, num_epochs, learning_rate=0.01):\n",
        "        epoch_cost = []\n",
        "        for e in range(num_epochs):\n",
        "\n",
        "            y_onehot = to_onehot(y, num_classes=self.num_classes)\n",
        "\n",
        "            ## Compute outputs \n",
        "            logits, probas = self.forward(x)\n",
        "\n",
        "            # compute gradients\n",
        "            grad_w, grad_b = self.backward(x, y_onehot, probas)\n",
        "\n",
        "            ## Update weights\n",
        "            self.weights -= grad_w * learning_rate / y.size(0)\n",
        "            self.bias -= grad_b * learning_rate / y.size(0)\n",
        "\n",
        "            ### Logging \n",
        "            logits, probas = self.forward(x)\n",
        "            cost = torch.mean(cross_entropy(probas, y_onehot))\n",
        "            print(f\"Epoch: {e+1:03d}\", end=\"\")\n",
        "            print(f\"    | Train Acc: {self.evaluate(x, y):.3f}%\", end=\"\")\n",
        "            print(f\"    | Cost: {cost:.5f}\")\n",
        "            epoch_cost.append(cost)\n",
        "        return epoch_cost\n"
      ],
      "execution_count": 75,
      "outputs": []
    },
    {
      "cell_type": "code",
      "metadata": {
        "colab": {
          "base_uri": "https://localhost:8080/"
        },
        "id": "N9uVlT3mYaSo",
        "outputId": "5e34fcff-e8ac-4475-9a8b-d86bd87ccbe4"
      },
      "source": [
        "X_train = X_train.to(DEVICE)\n",
        "y_train = y_train.to(DEVICE)\n",
        "\n",
        "model1 = SoftmaxRegression1(X_train.size(1), 3)\n",
        "epoch_cost = model1.train(X_train, y_train,\n",
        "                          num_epochs=50,\n",
        "                          learning_rate=0.1)\n",
        "\n",
        "print(\"\\nModel Parameters\")\n",
        "print(f\"    Weights: {model1.weights}\")\n",
        "print(f\"    Bias: {model1.bias}\")"
      ],
      "execution_count": 76,
      "outputs": [
        {
          "output_type": "stream",
          "text": [
            "Epoch: 001    | Train Acc: 0.833%    | Cost: 1.05976\n",
            "Epoch: 002    | Train Acc: 0.833%    | Cost: 1.02392\n",
            "Epoch: 003    | Train Acc: 0.833%    | Cost: 0.99087\n",
            "Epoch: 004    | Train Acc: 0.833%    | Cost: 0.96040\n",
            "Epoch: 005    | Train Acc: 0.833%    | Cost: 0.93229\n",
            "Epoch: 006    | Train Acc: 0.833%    | Cost: 0.90636\n",
            "Epoch: 007    | Train Acc: 0.825%    | Cost: 0.88240\n",
            "Epoch: 008    | Train Acc: 0.825%    | Cost: 0.86023\n",
            "Epoch: 009    | Train Acc: 0.825%    | Cost: 0.83971\n",
            "Epoch: 010    | Train Acc: 0.825%    | Cost: 0.82066\n",
            "Epoch: 011    | Train Acc: 0.825%    | Cost: 0.80296\n",
            "Epoch: 012    | Train Acc: 0.825%    | Cost: 0.78648\n",
            "Epoch: 013    | Train Acc: 0.825%    | Cost: 0.77110\n",
            "Epoch: 014    | Train Acc: 0.825%    | Cost: 0.75674\n",
            "Epoch: 015    | Train Acc: 0.825%    | Cost: 0.74330\n",
            "Epoch: 016    | Train Acc: 0.825%    | Cost: 0.73069\n",
            "Epoch: 017    | Train Acc: 0.825%    | Cost: 0.71885\n",
            "Epoch: 018    | Train Acc: 0.825%    | Cost: 0.70771\n",
            "Epoch: 019    | Train Acc: 0.825%    | Cost: 0.69722\n",
            "Epoch: 020    | Train Acc: 0.825%    | Cost: 0.68731\n",
            "Epoch: 021    | Train Acc: 0.825%    | Cost: 0.67795\n",
            "Epoch: 022    | Train Acc: 0.825%    | Cost: 0.66910\n",
            "Epoch: 023    | Train Acc: 0.825%    | Cost: 0.66070\n",
            "Epoch: 024    | Train Acc: 0.825%    | Cost: 0.65273\n",
            "Epoch: 025    | Train Acc: 0.825%    | Cost: 0.64516\n",
            "Epoch: 026    | Train Acc: 0.825%    | Cost: 0.63796\n",
            "Epoch: 027    | Train Acc: 0.825%    | Cost: 0.63110\n",
            "Epoch: 028    | Train Acc: 0.825%    | Cost: 0.62456\n",
            "Epoch: 029    | Train Acc: 0.825%    | Cost: 0.61832\n",
            "Epoch: 030    | Train Acc: 0.825%    | Cost: 0.61236\n",
            "Epoch: 031    | Train Acc: 0.825%    | Cost: 0.60666\n",
            "Epoch: 032    | Train Acc: 0.825%    | Cost: 0.60120\n",
            "Epoch: 033    | Train Acc: 0.825%    | Cost: 0.59596\n",
            "Epoch: 034    | Train Acc: 0.825%    | Cost: 0.59095\n",
            "Epoch: 035    | Train Acc: 0.825%    | Cost: 0.58613\n",
            "Epoch: 036    | Train Acc: 0.825%    | Cost: 0.58151\n",
            "Epoch: 037    | Train Acc: 0.825%    | Cost: 0.57706\n",
            "Epoch: 038    | Train Acc: 0.825%    | Cost: 0.57278\n",
            "Epoch: 039    | Train Acc: 0.825%    | Cost: 0.56867\n",
            "Epoch: 040    | Train Acc: 0.825%    | Cost: 0.56470\n",
            "Epoch: 041    | Train Acc: 0.825%    | Cost: 0.56087\n",
            "Epoch: 042    | Train Acc: 0.825%    | Cost: 0.55718\n",
            "Epoch: 043    | Train Acc: 0.825%    | Cost: 0.55362\n",
            "Epoch: 044    | Train Acc: 0.825%    | Cost: 0.55018\n",
            "Epoch: 045    | Train Acc: 0.825%    | Cost: 0.54686\n",
            "Epoch: 046    | Train Acc: 0.825%    | Cost: 0.54364\n",
            "Epoch: 047    | Train Acc: 0.825%    | Cost: 0.54053\n",
            "Epoch: 048    | Train Acc: 0.825%    | Cost: 0.53752\n",
            "Epoch: 049    | Train Acc: 0.825%    | Cost: 0.53460\n",
            "Epoch: 050    | Train Acc: 0.825%    | Cost: 0.53177\n",
            "\n",
            "Model Parameters\n",
            "    Weights: tensor([[ 0.5082, -0.9804],\n",
            "        [-0.4902, -0.0179],\n",
            "        [-0.0180,  0.9983]])\n",
            "    Bias: tensor([-8.4440e-09, -8.4440e-09, -8.4440e-09])\n"
          ],
          "name": "stdout"
        }
      ]
    },
    {
      "cell_type": "code",
      "metadata": {
        "colab": {
          "base_uri": "https://localhost:8080/",
          "height": 279
        },
        "id": "pfPN50wgZJBG",
        "outputId": "caad7e12-3138-489f-ce05-5e7c294ee519"
      },
      "source": [
        "plt.plot(epoch_cost)\n",
        "plt.ylabel('Log Likelihood Loss')\n",
        "plt.xlabel('No Epochs')\n",
        "plt.show()"
      ],
      "execution_count": 79,
      "outputs": [
        {
          "output_type": "display_data",
          "data": {
            "image/png": "[encoded data removed]",
            "text/plain": [
              "<Figure size 432x288 with 1 Axes>"
            ]
          },
          "metadata": {
            "tags": [],
            "needs_background": "light"
          }
        }
      ]
    },
    {
      "cell_type": "code",
      "metadata": {
        "colab": {
          "base_uri": "https://localhost:8080/"
        },
        "id": "OF4hoBWbaV24",
        "outputId": "6a0415bd-0f32-4674-f82e-04f909dcfbb0"
      },
      "source": [
        "X_test = X_test.to(DEVICE)\n",
        "y_test = y_test.to(DEVICE)\n",
        "\n",
        "test_acc = model1.evaluate(X_test, y_test)\n",
        "print('Test set accuracy: %.2f%%' % (test_acc*100))"
      ],
      "execution_count": 80,
      "outputs": [
        {
          "output_type": "stream",
          "text": [
            "Test set accuracy: 90.00%\n"
          ],
          "name": "stdout"
        }
      ]
    },
    {
      "cell_type": "code",
      "metadata": {
        "id": "l6v7q-4wakYU"
      },
      "source": [
        "from matplotlib.colors import ListedColormap\n",
        "import numpy as np\n",
        "\n",
        "\n",
        "def plot_decision_regions(X, y, classifier, resolution=0.02):\n",
        "\n",
        "    # setup marker generator and color map\n",
        "    markers = ('s', 'x', 'o', '^', 'v')\n",
        "    colors = ('red', 'blue', 'lightgreen', 'gray', 'cyan')\n",
        "    cmap = ListedColormap(colors[:len(np.unique(y))])\n",
        "\n",
        "    # plot the decision surface\n",
        "    x1_min, x1_max = X[:, 0].min() - 1, X[:, 0].max() + 1\n",
        "    x2_min, x2_max = X[:, 1].min() - 1, X[:, 1].max() + 1\n",
        "    xx1, xx2 = np.meshgrid(np.arange(x1_min, x1_max, resolution),\n",
        "                           np.arange(x2_min, x2_max, resolution))\n",
        "    tensor = torch.tensor(np.array([xx1.ravel(), xx2.ravel()]).T).float()\n",
        "    logits, probas = classifier.forward(tensor)\n",
        "    Z = np.argmax(probas.detach().numpy(), axis=1)\n",
        "\n",
        "    Z = Z.reshape(xx1.shape)\n",
        "    plt.contourf(xx1, xx2, Z, alpha=0.4, cmap=cmap)\n",
        "    plt.xlim(xx1.min(), xx1.max())\n",
        "    plt.ylim(xx2.min(), xx2.max())\n",
        "\n",
        "    # plot class samples\n",
        "    for idx, cl in enumerate(np.unique(y)):\n",
        "        plt.scatter(x=X[y == cl, 0], y=X[y == cl, 1],\n",
        "                    alpha=0.8, color=cmap(idx),\n",
        "                    edgecolor='black',\n",
        "                    marker=markers[idx], \n",
        "                    label=cl)"
      ],
      "execution_count": 81,
      "outputs": []
    },
    {
      "cell_type": "code",
      "metadata": {
        "colab": {
          "base_uri": "https://localhost:8080/",
          "height": 297
        },
        "id": "IB-8TNkParEa",
        "outputId": "07852891-3c82-4223-daf1-d885b98e2fc3"
      },
      "source": [
        "plot_decision_regions(X_train, y_train, classifier=model1)\n",
        "plt.xlabel('sepal length [cm]')\n",
        "plt.ylabel('petal length [cm]')\n",
        "plt.legend(loc='upper left')\n",
        "\n",
        "plt.tight_layout()\n",
        "plt.show()"
      ],
      "execution_count": 82,
      "outputs": [
        {
          "output_type": "display_data",
          "data": {
            "image/png": "[encoded data removed]",
            "text/plain": [
              "<Figure size 432x288 with 1 Axes>"
            ]
          },
          "metadata": {
            "tags": [],
            "needs_background": "light"
          }
        }
      ]
    },
    {
      "cell_type": "markdown",
      "metadata": {
        "id": "mdzS-8vbatNA"
      },
      "source": [
        "## High-level implementation using nn.Module API"
      ]
    },
    {
      "cell_type": "code",
      "metadata": {
        "id": "MOfoOMFRm929"
      },
      "source": [
        "class SoftmaxRegression2(torch.nn.Module):\n",
        "    def __init__(self, num_features, num_classes):\n",
        "        super(SoftmaxRegression2, self).__init__()\n",
        "        self.linear = torch.nn.Linear(num_features, num_classes)\n",
        "        ## Initialize weights to zero since it is zero \n",
        "        ## in the manual method\n",
        "        self.linear.weight.detach().zero_()\n",
        "        self.linear.bias.detach().zero_()\n",
        "\n",
        "    def forward(self, x):\n",
        "        logits = self.linear(x)\n",
        "        probas = F.softmax(logits, dim=1)\n",
        "        return logits, probas\n",
        "\n",
        "model2 = SoftmaxRegression2(num_features=2, num_classes=3).to(DEVICE)\n",
        "optimizer = torch.optim.SGD(model2.parameters(), lr=0.1)"
      ],
      "execution_count": 92,
      "outputs": []
    },
    {
      "cell_type": "code",
      "metadata": {
        "colab": {
          "base_uri": "https://localhost:8080/"
        },
        "id": "Z6pxS508qnxa",
        "outputId": "78c94c21-45c4-49a5-d64c-90240daf4ba8"
      },
      "source": [
        "def comp_accuray(true_labels, pred_labels):\n",
        "    accuracy = torch.sum(true_labels.view(-1).float() ==\n",
        "                         pred_labels.float()).item() / true_labels.size(0)\n",
        "    return accuracy\n",
        "\n",
        "X_train = X_train.to(DEVICE)\n",
        "y_train = y_train.to(DEVICE)\n",
        "X_test = X_test.to(DEVICE)\n",
        "y_test = y_test.to(DEVICE)\n",
        "\n",
        "num_epochs = 50\n",
        "for e in range(num_epochs):\n",
        "\n",
        "    # compute outputs \n",
        "    logits, probas = model2.forward(X_train)\n",
        "\n",
        "    # Compute gradients\n",
        "    cost = F.cross_entropy(logits, y_train.long())\n",
        "    optimizer.zero_grad()\n",
        "    cost.backward()\n",
        "\n",
        "    ## update weights\n",
        "    optimizer.step()\n",
        "\n",
        "    ### logging \n",
        "    logits, probas = model2.forward(X_train)\n",
        "    acc = comp_accuray(y_train, torch.argmax(probas, dim=1))\n",
        "    print(\"Epoch: %03d\" % (e + 1), end=\"\")\n",
        "    print(f\"    |   Train ACC: {acc:.3f}\", end=\"\")\n",
        "    print(f\"    |   Cost: {F.cross_entropy(logits, y_train.long()):.3f}\")\n",
        "\n",
        "print(\"\\nModel Parameters:\")\n",
        "print(f\"    Weights: {model2.linear.weight}\")\n",
        "print(f\"    Bias: {model2.linear.bias}\")"
      ],
      "execution_count": 93,
      "outputs": [
        {
          "output_type": "stream",
          "text": [
            "Epoch: 001    |   Train ACC: 0.833    |   Cost: 1.059\n",
            "Epoch: 002    |   Train ACC: 0.833    |   Cost: 1.023\n",
            "Epoch: 003    |   Train ACC: 0.833    |   Cost: 0.990\n",
            "Epoch: 004    |   Train ACC: 0.842    |   Cost: 0.959\n",
            "Epoch: 005    |   Train ACC: 0.842    |   Cost: 0.931\n",
            "Epoch: 006    |   Train ACC: 0.842    |   Cost: 0.905\n",
            "Epoch: 007    |   Train ACC: 0.842    |   Cost: 0.880\n",
            "Epoch: 008    |   Train ACC: 0.842    |   Cost: 0.858\n",
            "Epoch: 009    |   Train ACC: 0.842    |   Cost: 0.837\n",
            "Epoch: 010    |   Train ACC: 0.842    |   Cost: 0.818\n",
            "Epoch: 011    |   Train ACC: 0.842    |   Cost: 0.800\n",
            "Epoch: 012    |   Train ACC: 0.842    |   Cost: 0.783\n",
            "Epoch: 013    |   Train ACC: 0.842    |   Cost: 0.767\n",
            "Epoch: 014    |   Train ACC: 0.842    |   Cost: 0.753\n",
            "Epoch: 015    |   Train ACC: 0.842    |   Cost: 0.739\n",
            "Epoch: 016    |   Train ACC: 0.842    |   Cost: 0.726\n",
            "Epoch: 017    |   Train ACC: 0.842    |   Cost: 0.714\n",
            "Epoch: 018    |   Train ACC: 0.842    |   Cost: 0.702\n",
            "Epoch: 019    |   Train ACC: 0.842    |   Cost: 0.692\n",
            "Epoch: 020    |   Train ACC: 0.842    |   Cost: 0.681\n",
            "Epoch: 021    |   Train ACC: 0.833    |   Cost: 0.672\n",
            "Epoch: 022    |   Train ACC: 0.833    |   Cost: 0.662\n",
            "Epoch: 023    |   Train ACC: 0.833    |   Cost: 0.654\n",
            "Epoch: 024    |   Train ACC: 0.833    |   Cost: 0.646\n",
            "Epoch: 025    |   Train ACC: 0.833    |   Cost: 0.638\n",
            "Epoch: 026    |   Train ACC: 0.833    |   Cost: 0.630\n",
            "Epoch: 027    |   Train ACC: 0.833    |   Cost: 0.623\n",
            "Epoch: 028    |   Train ACC: 0.833    |   Cost: 0.616\n",
            "Epoch: 029    |   Train ACC: 0.833    |   Cost: 0.610\n",
            "Epoch: 030    |   Train ACC: 0.842    |   Cost: 0.603\n",
            "Epoch: 031    |   Train ACC: 0.842    |   Cost: 0.597\n",
            "Epoch: 032    |   Train ACC: 0.842    |   Cost: 0.592\n",
            "Epoch: 033    |   Train ACC: 0.842    |   Cost: 0.586\n",
            "Epoch: 034    |   Train ACC: 0.842    |   Cost: 0.581\n",
            "Epoch: 035    |   Train ACC: 0.842    |   Cost: 0.576\n",
            "Epoch: 036    |   Train ACC: 0.850    |   Cost: 0.571\n",
            "Epoch: 037    |   Train ACC: 0.850    |   Cost: 0.566\n",
            "Epoch: 038    |   Train ACC: 0.850    |   Cost: 0.561\n",
            "Epoch: 039    |   Train ACC: 0.850    |   Cost: 0.557\n",
            "Epoch: 040    |   Train ACC: 0.850    |   Cost: 0.553\n",
            "Epoch: 041    |   Train ACC: 0.850    |   Cost: 0.549\n",
            "Epoch: 042    |   Train ACC: 0.850    |   Cost: 0.545\n",
            "Epoch: 043    |   Train ACC: 0.850    |   Cost: 0.541\n",
            "Epoch: 044    |   Train ACC: 0.842    |   Cost: 0.537\n",
            "Epoch: 045    |   Train ACC: 0.842    |   Cost: 0.533\n",
            "Epoch: 046    |   Train ACC: 0.842    |   Cost: 0.530\n",
            "Epoch: 047    |   Train ACC: 0.842    |   Cost: 0.527\n",
            "Epoch: 048    |   Train ACC: 0.842    |   Cost: 0.523\n",
            "Epoch: 049    |   Train ACC: 0.842    |   Cost: 0.520\n",
            "Epoch: 050    |   Train ACC: 0.842    |   Cost: 0.517\n",
            "\n",
            "Model Parameters:\n",
            "    Weights: Parameter containing:\n",
            "tensor([[ 0.5070, -0.9956],\n",
            "        [-0.4846, -0.0027],\n",
            "        [-0.0224,  0.9983]], requires_grad=True)\n",
            "    Bias: Parameter containing:\n",
            "tensor([-0.1798,  0.1248,  0.0551], requires_grad=True)\n"
          ],
          "name": "stdout"
        }
      ]
    },
    {
      "cell_type": "code",
      "metadata": {
        "colab": {
          "base_uri": "https://localhost:8080/"
        },
        "id": "VVMOx27TtdGJ",
        "outputId": "74d1400b-525a-4255-a042-c4e1fecbe46f"
      },
      "source": [
        "X_test = X_test.to(DEVICE)\n",
        "y_test = y_test.to(DEVICE)\n",
        "\n",
        "test_acc = model1.evaluate(X_test, y_test)\n",
        "print(\"Test set accuracy: %.2f\" % (test_acc*100))"
      ],
      "execution_count": 94,
      "outputs": [
        {
          "output_type": "stream",
          "text": [
            "Test set accuracy: 90.00\n"
          ],
          "name": "stdout"
        }
      ]
    },
    {
      "cell_type": "code",
      "metadata": {
        "colab": {
          "base_uri": "https://localhost:8080/",
          "height": 297
        },
        "id": "UFT87Qh1uVgR",
        "outputId": "1b297479-2685-4796-9e81-78f4945cb99d"
      },
      "source": [
        "plot_decision_regions(X_train, y_train, classifier=model2)\n",
        "plt.xlabel('sepal length [cm]')\n",
        "plt.ylabel('petal length [cm]')\n",
        "plt.legend(loc='upper left')\n",
        "\n",
        "plt.tight_layout()\n",
        "plt.show()"
      ],
      "execution_count": 96,
      "outputs": [
        {
          "output_type": "display_data",
          "data": {
            "image/png": "[encoded data removed]",
            "text/plain": [
              "<Figure size 432x288 with 1 Axes>"
            ]
          },
          "metadata": {
            "tags": [],
            "needs_background": "light"
          }
        }
      ]
    },
    {
      "cell_type": "code",
      "metadata": {
        "id": "5bu9ZI8ku0lp"
      },
      "source": [
        ""
      ],
      "execution_count": null,
      "outputs": []
    }
  ]
}