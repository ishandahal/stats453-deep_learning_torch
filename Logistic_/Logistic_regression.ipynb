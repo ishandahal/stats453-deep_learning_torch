{
  "nbformat": 4,
  "nbformat_minor": 0,
  "metadata": {
    "colab": {
      "name": "Logistic_regression.ipynb",
      "provenance": [],
      "authorship_tag": "ABX9TyODJDMwl2pFzHwI6bMbTLuF",
      "include_colab_link": true
    },
    "kernelspec": {
      "name": "python3",
      "display_name": "Python 3"
    },
    "accelerator": "GPU"
  },
  "cells": [
    {
      "cell_type": "markdown",
      "metadata": {
        "id": "view-in-github",
        "colab_type": "text"
      },
      "source": [
        "<a href=\"https://colab.research.google.com/github/ishandahal/stats453-deep_learning_torch/blob/main/Logistic_/Logistic_regression.ipynb\" target=\"_parent\"><img src=\"https://colab.research.google.com/assets/colab-badge.svg\" alt=\"Open In Colab\"/></a>"
      ]
    },
    {
      "cell_type": "code",
      "metadata": {
        "id": "cRWMmBXSURHy"
      },
      "source": [
        "pip install watermark"
      ],
      "execution_count": null,
      "outputs": []
    },
    {
      "cell_type": "code",
      "metadata": {
        "colab": {
          "base_uri": "https://localhost:8080/"
        },
        "id": "A_t3b6HwU5vg",
        "outputId": "fe814fe8-f63f-4a25-ca24-a61c6607557d"
      },
      "source": [
        "%load_ext watermark\n",
        "%watermark -a 'Ishan Dahal' -v -p torch"
      ],
      "execution_count": 2,
      "outputs": [
        {
          "output_type": "stream",
          "text": [
            "Ishan Dahal \n",
            "\n",
            "CPython 3.6.9\n",
            "IPython 5.5.0\n",
            "\n",
            "torch 1.7.0+cu101\n"
          ],
          "name": "stdout"
        }
      ]
    },
    {
      "cell_type": "markdown",
      "metadata": {
        "id": "2eul_mPsUv11"
      },
      "source": [
        "### **Logistic Regression**"
      ]
    },
    {
      "cell_type": "markdown",
      "metadata": {
        "id": "zikvlz2vVEuJ"
      },
      "source": [
        "Implementing classic logistic regression for binary class labels"
      ]
    },
    {
      "cell_type": "code",
      "metadata": {
        "id": "lRMDSQv6VPvY"
      },
      "source": [
        "import matplotlib.pyplot as plt\n",
        "import numpy as np\n",
        "\n",
        "import torch\n",
        "import torch.nn.functional as F"
      ],
      "execution_count": 3,
      "outputs": []
    },
    {
      "cell_type": "markdown",
      "metadata": {
        "id": "Au_q0I7fVd-_"
      },
      "source": [
        "**Preparing toy dataset**"
      ]
    },
    {
      "cell_type": "code",
      "metadata": {
        "colab": {
          "base_uri": "https://localhost:8080/",
          "height": 184
        },
        "id": "9geFv9EHVk5J",
        "outputId": "04526f16-3e8d-4c9f-d060-d82ee4fd1aab"
      },
      "source": [
        "data = np.genfromtxt('https://raw.githubusercontent.com/rasbt/stat453-deep-learning-ss20/master/L07-logistic/code/data/toydata.txt', delimiter='\\t')\n",
        "x = data[:, :2].astype(np.float32)\n",
        "y = data[:, 2].astype(np.int64)\n",
        "\n",
        "np.random.seed(123)\n",
        "idx = np.arange(y.shape[0])\n",
        "np.random.shuffle(idx)\n",
        "\n",
        "X_test, y_test = x[idx[:25]], y[idx[:25]]\n",
        "X_train, y_train = x[idx[25:]], y[idx[25:]]\n",
        "mu, std = np.mean(X_train, axis=0), np.std(X_train, axis=0)\n",
        "X_train, X_test = (X_train - mu) / std, (X_test - mu) / std\n",
        "\n",
        "fig, ax = plt.subplots(1, 2, figsize=(7, 2.5))\n",
        "ax[0].scatter(X_train[y_train==1, 0], X_train[y_train==1, 1])\n",
        "ax[0].scatter(X_train[y_train==0, 0], X_train[y_train==0, 1])\n",
        "ax[1].scatter(X_test[y_test==0, 0], X_test[y_test==0, 1])\n",
        "ax[1].scatter(X_test[y_test==1, 0], X_test[y_test==1, 1])\n",
        "plt.xlim([x[:, 0].min()-0.5, x[:, 0].max()+0.5])\n",
        "plt.ylim([x[:, 1].min()-0.5, x[:, 1].max()+0.5])\n",
        "plt.show()"
      ],
      "execution_count": 4,
      "outputs": [
        {
          "output_type": "display_data",
          "data": {
            "image/png": "[encoded data removed]",
            "text/plain": [
              "<Figure size 504x180 with 2 Axes>"
            ]
          },
          "metadata": {
            "tags": [],
            "needs_background": "light"
          }
        }
      ]
    },
    {
      "cell_type": "markdown",
      "metadata": {
        "id": "ioC2kzlDX37T"
      },
      "source": [
        "## Low-level implementation with manual gradients"
      ]
    },
    {
      "cell_type": "code",
      "metadata": {
        "id": "RXig2GHHZsbg"
      },
      "source": [
        "device = torch.device(\"cuda:0\" if torch.cuda.is_available() else \"cpu\")\n",
        "\n",
        "class LogisticRegression1():\n",
        "    def __init__(self, num_features):\n",
        "        self.num_features = num_features\n",
        "        self.weights = torch.zeros(1, self.num_features, \n",
        "                                   dtype=torch.float, device=device)            #shape 1X2\n",
        "        self.bias = torch.zeros(1, dtype=torch.float, device=device)            #shape 1\n",
        "\n",
        "    def forward(self, x):\n",
        "        linear = torch.add(torch.mm(x, self.weights.t()), self.bias).view(-1)   #shape nX1\n",
        "        probas = self._sigmoid(linear)\n",
        "        return probas\n",
        "\n",
        "    def backward(self, x, y, probas):\n",
        "\n",
        "        grad_loss_out = probas.view(-1) - y                                     #shape nX1\n",
        "        grad_loss_w = torch.mm(grad_loss_out.view(-1, 1).t(), x)                #shape 1X2\n",
        "        grad_loss_b = torch.sum(grad_loss_out)                                  #shape 1\n",
        "        return (-1) * grad_loss_w, (-1) * grad_loss_b                           #negative grads\n",
        "\n",
        "    def predict_labels(self, x):\n",
        "        probas = self.forward(x)\n",
        "        labels = torch.where(probas > 0.5, torch.tensor([1]).to(\"cuda\"), torch.tensor([0]).to('cuda'))\n",
        "        return labels\n",
        "\n",
        "    def evaluate(self, x, y):\n",
        "        labels = self.predict_labels(x).float()\n",
        "        accuracy = torch.sum(labels.view(-1) == y.float()).item() / y.size(0)\n",
        "        return accuracy\n",
        "\n",
        "    def _sigmoid(self, z):\n",
        "        return 1. / (1. + torch.exp(-z))\n",
        "    \n",
        "    def _logit_cost(self, y, proba):\n",
        "        tmp1 = torch.mm(-y.view(1, -1), torch.log(proba.view(-1, 1)))           #shape 1\n",
        "        tmp2 = torch.mm((1 - y).view(1, -1), torch.log(1 - proba.view(-1, 1)))      #shape 1\n",
        "\n",
        "        return tmp1 - tmp2\n",
        "\n",
        "    def train(self, x, y, num_epochs, learning_rate=0.01):\n",
        "        epoch_cost = []\n",
        "        for e in range(num_epochs):\n",
        "\n",
        "            ## compute the outputs\n",
        "            probas = self.forward(x)\n",
        "\n",
        "            # compute the gradients\n",
        "            grad_w, grad_b = self.backward(x, y, probas)\n",
        "\n",
        "            # Update weights\n",
        "            self.weights += learning_rate * grad_w\n",
        "            self.bias += learning_rate * grad_b\n",
        "\n",
        "            ## Logging \n",
        "            cost = self._logit_cost(y, self.forward(x)) / y.size(0)\n",
        "            print(f'Epoch: {e+1:03d}', end=\"\")\n",
        "            print(f'  | Train Acc: {self.evaluate(x, y):.3f}', end=\"\")\n",
        "            print(f\"  | Cost: {cost.item():.3f}\")\n",
        "            epoch_cost.append(cost)\n",
        "            \n",
        "        return epoch_cost\n"
      ],
      "execution_count": 5,
      "outputs": []
    },
    {
      "cell_type": "code",
      "metadata": {
        "colab": {
          "base_uri": "https://localhost:8080/"
        },
        "id": "jRXHMPRWoJrs",
        "outputId": "e2547699-96fc-431b-a63a-f6884da099e2"
      },
      "source": [
        "X_train_tensor = torch.tensor(X_train, dtype=torch.float, device=device)\n",
        "y_train_tensor = torch.tensor(y_train, dtype=torch.float, device=device)\n",
        "\n",
        "model1 = LogisticRegression1(X_train_tensor.size(1))\n",
        "epoch_cost = model1.train(X_train_tensor, y_train_tensor, num_epochs=30,\n",
        "                          learning_rate=0.1)\n",
        "print('\\nModel Parameters:')\n",
        "print(f\"    Weights: {model1.weights}\")\n",
        "print(f\"    Bias: {model1.bias}\")"
      ],
      "execution_count": 6,
      "outputs": [
        {
          "output_type": "stream",
          "text": [
            "Epoch: 001  | Train Acc: 0.973  | Cost: 0.055\n",
            "Epoch: 002  | Train Acc: 0.973  | Cost: 0.053\n",
            "Epoch: 003  | Train Acc: 0.973  | Cost: 0.051\n",
            "Epoch: 004  | Train Acc: 0.973  | Cost: 0.049\n",
            "Epoch: 005  | Train Acc: 0.973  | Cost: 0.048\n",
            "Epoch: 006  | Train Acc: 0.973  | Cost: 0.047\n",
            "Epoch: 007  | Train Acc: 0.973  | Cost: 0.046\n",
            "Epoch: 008  | Train Acc: 0.973  | Cost: 0.045\n",
            "Epoch: 009  | Train Acc: 0.973  | Cost: 0.044\n",
            "Epoch: 010  | Train Acc: 0.987  | Cost: 0.043\n",
            "Epoch: 011  | Train Acc: 0.987  | Cost: 0.042\n",
            "Epoch: 012  | Train Acc: 0.987  | Cost: 0.041\n",
            "Epoch: 013  | Train Acc: 0.987  | Cost: 0.041\n",
            "Epoch: 014  | Train Acc: 0.987  | Cost: 0.040\n",
            "Epoch: 015  | Train Acc: 0.987  | Cost: 0.039\n",
            "Epoch: 016  | Train Acc: 0.987  | Cost: 0.039\n",
            "Epoch: 017  | Train Acc: 1.000  | Cost: 0.038\n",
            "Epoch: 018  | Train Acc: 1.000  | Cost: 0.038\n",
            "Epoch: 019  | Train Acc: 1.000  | Cost: 0.037\n",
            "Epoch: 020  | Train Acc: 1.000  | Cost: 0.036\n",
            "Epoch: 021  | Train Acc: 1.000  | Cost: 0.036\n",
            "Epoch: 022  | Train Acc: 1.000  | Cost: 0.036\n",
            "Epoch: 023  | Train Acc: 1.000  | Cost: 0.035\n",
            "Epoch: 024  | Train Acc: 1.000  | Cost: 0.035\n",
            "Epoch: 025  | Train Acc: 1.000  | Cost: 0.034\n",
            "Epoch: 026  | Train Acc: 1.000  | Cost: 0.034\n",
            "Epoch: 027  | Train Acc: 1.000  | Cost: 0.033\n",
            "Epoch: 028  | Train Acc: 1.000  | Cost: 0.033\n",
            "Epoch: 029  | Train Acc: 1.000  | Cost: 0.033\n",
            "Epoch: 030  | Train Acc: 1.000  | Cost: 0.032\n",
            "\n",
            "Model Parameters:\n",
            "    Weights: tensor([[5.0453, 3.4349]], device='cuda:0')\n",
            "    Bias: tensor([-0.7931], device='cuda:0')\n"
          ],
          "name": "stdout"
        }
      ]
    },
    {
      "cell_type": "code",
      "metadata": {
        "colab": {
          "base_uri": "https://localhost:8080/",
          "height": 279
        },
        "id": "ScsiNF69cESx",
        "outputId": "c9879d1f-8ce0-43c1-ae88-16f5ff5d4037"
      },
      "source": [
        "plt.plot(range(len(epoch_cost)), epoch_cost)\n",
        "plt.xlabel('No Epochs')\n",
        "plt.ylabel(\"Log Likelihood Loss\")\n",
        "plt.show()"
      ],
      "execution_count": 7,
      "outputs": [
        {
          "output_type": "display_data",
          "data": {
            "image/png": "[encoded data removed]",
            "text/plain": [
              "<Figure size 432x288 with 1 Axes>"
            ]
          },
          "metadata": {
            "tags": [],
            "needs_background": "light"
          }
        }
      ]
    },
    {
      "cell_type": "code",
      "metadata": {
        "colab": {
          "base_uri": "https://localhost:8080/"
        },
        "id": "Yd5ABbJssF7W",
        "outputId": "97835af8-3c6a-4ec6-cbfe-4cf310b97ca3"
      },
      "source": [
        "X_test_tensor = torch.tensor(X_test, dtype=torch.float, device=device)\n",
        "y_test_tensor = torch.tensor(y_test, dtype=torch.float, device=device)\n",
        "\n",
        "test_acc = model1.evaluate(X_test_tensor, y_test_tensor)\n",
        "print(f'Test set accuracy: {test_acc*100:.2f}%')"
      ],
      "execution_count": 8,
      "outputs": [
        {
          "output_type": "stream",
          "text": [
            "Test set accuracy: 96.00%\n"
          ],
          "name": "stdout"
        }
      ]
    },
    {
      "cell_type": "code",
      "metadata": {
        "colab": {
          "base_uri": "https://localhost:8080/",
          "height": 211
        },
        "id": "gG8mTzCRwKj2",
        "outputId": "6224d99d-0ea6-4e1f-af63-90502fea3650"
      },
      "source": [
        "\n",
        "\n",
        "##########################\n",
        "### 2D Decision Boundary\n",
        "##########################\n",
        "\n",
        "w, b = model1.weights.view(-1), model1.bias\n",
        "\n",
        "x_min = -2\n",
        "y_min = ( (-(w[0] * x_min) - b[0]) \n",
        "          / w[1] )\n",
        "\n",
        "x_max = 2\n",
        "y_max = ( (-(w[0] * x_max) - b[0]) \n",
        "          / w[1] )\n",
        "\n",
        "\n",
        "fig, ax = plt.subplots(1, 2, sharex=True, figsize=(7, 3))\n",
        "\n",
        "ax[0].plot([x_min, x_max], [y_min, y_max])\n",
        "ax[1].plot([x_min, x_max], [y_min, y_max])\n",
        "\n",
        "ax[0].scatter(X_train[y_train==0, 0], X_train[y_train==0, 1], label='class 0', marker='o')\n",
        "ax[0].scatter(X_train[y_train==1, 0], X_train[y_train==1, 1], label='class 1', marker='s')\n",
        "\n",
        "ax[1].scatter(X_test[y_test==0, 0], X_test[y_test==0, 1], label='class 0', marker='o')\n",
        "ax[1].scatter(X_test[y_test==1, 0], X_test[y_test==1, 1], label='class 1', marker='s')\n",
        "\n",
        "ax[1].legend(loc='upper left')\n",
        "plt.show()\n",
        "\n"
      ],
      "execution_count": 9,
      "outputs": [
        {
          "output_type": "display_data",
          "data": {
            "image/png": "[encoded data removed]",
            "text/plain": [
              "<Figure size 504x216 with 2 Axes>"
            ]
          },
          "metadata": {
            "tags": [],
            "needs_background": "light"
          }
        }
      ]
    },
    {
      "cell_type": "markdown",
      "metadata": {
        "id": "dJPdDFqhwbEY"
      },
      "source": [
        "### High-level Implementation using nn.Module API"
      ]
    },
    {
      "cell_type": "code",
      "metadata": {
        "id": "PriITCyI41tj"
      },
      "source": [
        "class LogisticRegression2(torch.nn.Module):\n",
        "    def __init__(self, num_features):\n",
        "        super(LogisticRegression2, self).__init__()\n",
        "        self.linear = torch.nn.Linear(num_features, 1).cuda()\n",
        "        # initialize weights to zeros here,\n",
        "        # since we used zero weights \n",
        "        # in manual mode\n",
        "        self.linear.weight.detach().zero_()\n",
        "        self.linear.bias.detach().zero_()\n",
        "        # trailing underscore is for inplace operation in PyTorch\n",
        "\n",
        "    def forward(self, x):\n",
        "        logits = self.linear(x)\n",
        "        probas = torch.sigmoid(logits)\n",
        "        return probas\n",
        "\n",
        "model2 = LogisticRegression2(num_features=X_test_tensor.size(1))\n",
        "optimizer = torch.optim.SGD(model2.parameters(), lr=0.1)"
      ],
      "execution_count": 23,
      "outputs": []
    },
    {
      "cell_type": "code",
      "metadata": {
        "colab": {
          "base_uri": "https://localhost:8080/"
        },
        "id": "aN9AE5yg63ic",
        "outputId": "17c7f93a-5041-4c85-f58c-06c0b999cb5c"
      },
      "source": [
        "def comp_accuracy(label_var, pred_probas):\n",
        "    pred_labels = torch.where((pred_probas > 0.5), \n",
        "                              torch.tensor([1]).cuda(), \n",
        "                              torch.tensor([0]).cuda()).view(-1)\n",
        "    acc = torch.sum(pred_labels == label_var.view(-1)).float() / label_var.size(0)\n",
        "    return acc\n",
        "\n",
        "num_epochs = 30\n",
        "\n",
        "X_train_tensor = torch.tensor(X_train, dtype=torch.float, device=device)\n",
        "y_train_tensor = torch.tensor(y_train, dtype=torch.float, device=device).view(-1, 1)\n",
        "\n",
        "for e in range(num_epochs):\n",
        "\n",
        "    # compute outputs \n",
        "    out = model2(X_train_tensor)\n",
        "\n",
        "    # compute gradients\n",
        "    cost = F.binary_cross_entropy(out, y_train_tensor, reduction='sum')\n",
        "    optimizer.zero_grad()\n",
        "    cost.backward()\n",
        "\n",
        "    ## update weights\n",
        "    optimizer.step()\n",
        "\n",
        "    ## logging \n",
        "    pred_probas = model2(X_train_tensor)\n",
        "    acc = comp_accuracy(y_train_tensor, pred_probas)\n",
        "    print(f\"Epoch: {e+1:03d}\", end=\"\")\n",
        "    print(f\"    | Train Acc: {acc:.3f}\", end='')\n",
        "    print(f\"    | Cost: {F.binary_cross_entropy(pred_probas, y_train_tensor):.3f}\")\n",
        "\n",
        "print(\"\\n Weight parameters:\")\n",
        "print(f'   Weights: {model2.linear.weight}')\n",
        "print(f\"    Bias: {model2.linear.bias}\")"
      ],
      "execution_count": 25,
      "outputs": [
        {
          "output_type": "stream",
          "text": [
            "Epoch: 001    | Train Acc: 0.973    | Cost: 0.055\n",
            "Epoch: 002    | Train Acc: 0.973    | Cost: 0.053\n",
            "Epoch: 003    | Train Acc: 0.973    | Cost: 0.051\n",
            "Epoch: 004    | Train Acc: 0.973    | Cost: 0.049\n",
            "Epoch: 005    | Train Acc: 0.973    | Cost: 0.048\n",
            "Epoch: 006    | Train Acc: 0.973    | Cost: 0.047\n",
            "Epoch: 007    | Train Acc: 0.973    | Cost: 0.046\n",
            "Epoch: 008    | Train Acc: 0.973    | Cost: 0.045\n",
            "Epoch: 009    | Train Acc: 0.973    | Cost: 0.044\n",
            "Epoch: 010    | Train Acc: 0.987    | Cost: 0.043\n",
            "Epoch: 011    | Train Acc: 0.987    | Cost: 0.042\n",
            "Epoch: 012    | Train Acc: 0.987    | Cost: 0.041\n",
            "Epoch: 013    | Train Acc: 0.987    | Cost: 0.041\n",
            "Epoch: 014    | Train Acc: 0.987    | Cost: 0.040\n",
            "Epoch: 015    | Train Acc: 0.987    | Cost: 0.039\n",
            "Epoch: 016    | Train Acc: 0.987    | Cost: 0.039\n",
            "Epoch: 017    | Train Acc: 1.000    | Cost: 0.038\n",
            "Epoch: 018    | Train Acc: 1.000    | Cost: 0.038\n",
            "Epoch: 019    | Train Acc: 1.000    | Cost: 0.037\n",
            "Epoch: 020    | Train Acc: 1.000    | Cost: 0.036\n",
            "Epoch: 021    | Train Acc: 1.000    | Cost: 0.036\n",
            "Epoch: 022    | Train Acc: 1.000    | Cost: 0.036\n",
            "Epoch: 023    | Train Acc: 1.000    | Cost: 0.035\n",
            "Epoch: 024    | Train Acc: 1.000    | Cost: 0.035\n",
            "Epoch: 025    | Train Acc: 1.000    | Cost: 0.034\n",
            "Epoch: 026    | Train Acc: 1.000    | Cost: 0.034\n",
            "Epoch: 027    | Train Acc: 1.000    | Cost: 0.033\n",
            "Epoch: 028    | Train Acc: 1.000    | Cost: 0.033\n",
            "Epoch: 029    | Train Acc: 1.000    | Cost: 0.033\n",
            "Epoch: 030    | Train Acc: 1.000    | Cost: 0.032\n",
            "\n",
            " Weight parameters:\n",
            "   Weights: Parameter containing:\n",
            "tensor([[5.0453, 3.4349]], device='cuda:0', requires_grad=True)\n",
            "    Bias: Parameter containing:\n",
            "tensor([-0.7931], device='cuda:0', requires_grad=True)\n"
          ],
          "name": "stdout"
        }
      ]
    },
    {
      "cell_type": "markdown",
      "metadata": {
        "id": "0Cp9wAsc8S2K"
      },
      "source": [
        "Evaluating the model"
      ]
    },
    {
      "cell_type": "code",
      "metadata": {
        "colab": {
          "base_uri": "https://localhost:8080/"
        },
        "id": "stMnSS4c_TRb",
        "outputId": "cf5ceb83-fe5e-441b-d5ed-a01beec768ea"
      },
      "source": [
        "X_test_tensor = torch.tensor(X_test, dtype=torch.float, device=device)\n",
        "y_test_tensor = torch.tensor(y_test, dtype=torch.float, device=device)\n",
        "\n",
        "pred_probas = model2(X_test_tensor)\n",
        "test_acc = comp_accuracy(y_test_tensor, pred_probas)\n",
        "\n",
        "print(f\"Test set acc: {test_acc*100:.2f}%\")"
      ],
      "execution_count": 26,
      "outputs": [
        {
          "output_type": "stream",
          "text": [
            "Test set acc: 96.00%\n"
          ],
          "name": "stdout"
        }
      ]
    },
    {
      "cell_type": "code",
      "metadata": {
        "colab": {
          "base_uri": "https://localhost:8080/",
          "height": 211
        },
        "id": "J_pv5UTh_r58",
        "outputId": "245bcdaf-a258-4789-dc21-e94b2f9228ef"
      },
      "source": [
        "##########################\n",
        "### 2D Decision Boundary\n",
        "##########################\n",
        "\n",
        "w, b = model2.linear.weight.view(-1), model2.linear.bias\n",
        "\n",
        "x_min = -2\n",
        "y_min = ( (-(w[0] * x_min) - b[0]) \n",
        "          / w[1] )\n",
        "\n",
        "x_max = 2\n",
        "y_max = ( (-(w[0] * x_max) - b[0]) \n",
        "          / w[1] )\n",
        "\n",
        "\n",
        "fig, ax = plt.subplots(1, 2, sharex=True, figsize=(7, 3))\n",
        "ax[0].plot([x_min, x_max], [y_min, y_max])\n",
        "ax[1].plot([x_min, x_max], [y_min, y_max])\n",
        "\n",
        "ax[0].scatter(X_train[y_train==0, 0], X_train[y_train==0, 1], label='class 0', marker='o')\n",
        "ax[0].scatter(X_train[y_train==1, 0], X_train[y_train==1, 1], label='class 1', marker='s')\n",
        "\n",
        "ax[1].scatter(X_test[y_test==0, 0], X_test[y_test==0, 1], label='class 0', marker='o')\n",
        "ax[1].scatter(X_test[y_test==1, 0], X_test[y_test==1, 1], label='class 1', marker='s')\n",
        "\n",
        "ax[1].legend(loc='upper left')\n",
        "plt.show()\n",
        "\n"
      ],
      "execution_count": 27,
      "outputs": [
        {
          "output_type": "display_data",
          "data": {
            "image/png": "[encoded data removed]",
            "text/plain": [
              "<Figure size 504x216 with 2 Axes>"
            ]
          },
          "metadata": {
            "tags": [],
            "needs_background": "light"
          }
        }
      ]
    },
    {
      "cell_type": "code",
      "metadata": {
        "id": "9ygiYoJ8_wEt"
      },
      "source": [
        ""
      ],
      "execution_count": 28,
      "outputs": []
    }
  ]
}