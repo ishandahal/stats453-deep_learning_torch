{
  "nbformat": 4,
  "nbformat_minor": 0,
  "metadata": {
    "kernelspec": {
      "display_name": "Python 3",
      "language": "python",
      "name": "python3"
    },
    "language_info": {
      "codemirror_mode": {
        "name": "ipython",
        "version": 3
      },
      "file_extension": ".py",
      "mimetype": "text/x-python",
      "name": "python",
      "nbconvert_exporter": "python",
      "pygments_lexer": "ipython3",
      "version": "3.7.1"
    },
    "toc": {
      "nav_menu": {},
      "number_sections": true,
      "sideBar": true,
      "skip_h1_title": false,
      "title_cell": "Table of Contents",
      "title_sidebar": "Contents",
      "toc_cell": false,
      "toc_position": {},
      "toc_section_display": true,
      "toc_window_display": false
    },
    "colab": {
      "name": "perceptron_math.ipynb",
      "provenance": [],
      "collapsed_sections": [],
      "include_colab_link": true
    }
  },
  "cells": [
    {
      "cell_type": "markdown",
      "metadata": {
        "id": "view-in-github",
        "colab_type": "text"
      },
      "source": [
        "<a href=\"https://colab.research.google.com/github/ishandahal/stats453-deep_learning_torch/blob/main/perceptron_adaline_linear_regression/perceptron_math.ipynb\" target=\"_parent\"><img src=\"https://colab.research.google.com/assets/colab-badge.svg\" alt=\"Open In Colab\"/></a>"
      ]
    },
    {
      "cell_type": "markdown",
      "metadata": {
        "id": "8BGJBKuCkDvw"
      },
      "source": [
        "**STAT 453: Introduction to Deep Learning and Generative Models (Spring 2020)**\n",
        "\n",
        "Instructor: Sebastian Raschka (sraschka@wisc.edu)   \n",
        "\n",
        "Course website: http://pages.stat.wisc.edu/~sraschka/teaching/stat453-ss2020/  \n",
        "\n",
        "GitHub repository: https://github.com/rasbt/stat453-deep-learning-ss20"
      ]
    },
    {
      "cell_type": "code",
      "metadata": {
        "id": "9U0p-9vhmfPn"
      },
      "source": [
        "pip install watermark"
      ],
      "execution_count": null,
      "outputs": []
    },
    {
      "cell_type": "code",
      "metadata": {
        "id": "wx43U74HkDv7",
        "colab": {
          "base_uri": "https://localhost:8080/"
        },
        "outputId": "f340f722-5c61-4bd3-8c13-74a5c12eea96"
      },
      "source": [
        "%load_ext watermark\n",
        "%watermark -a 'Sebastian Raschka' -v -p matplotlib"
      ],
      "execution_count": null,
      "outputs": [
        {
          "output_type": "stream",
          "text": [
            "Sebastian Raschka \n",
            "\n",
            "CPython 3.6.9\n",
            "IPython 5.5.0\n",
            "\n",
            "matplotlib 3.2.2\n"
          ],
          "name": "stdout"
        }
      ]
    },
    {
      "cell_type": "markdown",
      "metadata": {
        "id": "tr_JFqDfkDv-"
      },
      "source": [
        "# HW 1: Implementing the Perceptron Algorithm in \"Just\" Python (50 pts)"
      ]
    },
    {
      "cell_type": "markdown",
      "metadata": {
        "id": "HGjjS7tBkDv_"
      },
      "source": [
        "In this homework assignment, you are asked to implement the classic Perceptron by Frank Rosenblatt for binary classification (here: 0/1 class labels), which we have discussed in the lecture. \n",
        "\n",
        "In particular, you should only use \"basic\" or \"vanilla\" Python functions for this implementation. Hence, no `import`s besides matplotlib will be permitted for this homework.\n",
        "\n",
        "The goal of this exercise is to familiarize yourself with NumPy implementation that we discussed in class. Hence, you may wish to explore the NumPy code from the lecture further when you implement the Perceptron in \"pure\" Python. Note that you are also asked to use the overal structure of the `Perceptron` Python `class`. While it may seem strange to you at first, it will be useful later when will discuss PyTorch for deep learning. The way PyTorch works is similar to this class (i.e., using a model `class` with `forward` and `backward` methods). "
      ]
    },
    {
      "cell_type": "markdown",
      "metadata": {
        "id": "lQ3J2nAUkDwB"
      },
      "source": [
        "### Important!"
      ]
    },
    {
      "cell_type": "markdown",
      "metadata": {
        "id": "2rQpS5iCkDwC"
      },
      "source": [
        "**The homework assignment is due on Thu, Feb 6, 2020 (11:59 pm) and should be submitted via Canvas.**\n",
        "\n",
        "- Please submit the `.ipynb` file with your solution as well as an HTML version (use `File -> export as -> HTML`) as a backup in case we cannot open your .ipynb on our computer.\n",
        "\n",
        "- I recommend using the conda package manager for installing Python 3.7 and Jupyter Notebook (or Jupyter Lab). You may find the lecture notes from my previous machine learning class (https://github.com/rasbt/stat479-machine-learning-fs19/blob/master/03_python/03-python__notes.pdf, Section 3) helpful. \n",
        "\n",
        "- Also consider this YouTube tutorial for a more visual setup guide for conda: https://www.youtube.com/watch?v=YJC6ldI3hWk (Python Tutorial: Anaconda - Installation and Using Conda). Please reach out to me or the TA if you need any help of have questions.\n"
      ]
    },
    {
      "cell_type": "markdown",
      "metadata": {
        "id": "3blNjyFykDwC"
      },
      "source": [
        "## 0) Imports"
      ]
    },
    {
      "cell_type": "markdown",
      "metadata": {
        "id": "mBW_KSELkDwE"
      },
      "source": [
        "**No modification required.** You should execute this code and are encouraged to explore it further, but it is recommended to  not make any alterations here."
      ]
    },
    {
      "cell_type": "code",
      "metadata": {
        "id": "Uc-DUKtEkDwG"
      },
      "source": [
        "import matplotlib.pyplot as plt\n",
        "%matplotlib inline"
      ],
      "execution_count": null,
      "outputs": []
    },
    {
      "cell_type": "markdown",
      "metadata": {
        "id": "oKUSFxLJkDwH"
      },
      "source": [
        "## 1) Loading the dataset"
      ]
    },
    {
      "cell_type": "markdown",
      "metadata": {
        "id": "Qp5TIbXLkDwH"
      },
      "source": [
        "**No modification required.** You should execute this code and are encouraged to explore it further, but it is recommended to  not make any alterations here."
      ]
    },
    {
      "cell_type": "code",
      "metadata": {
        "id": "1SDQoQkhkDwK",
        "colab": {
          "base_uri": "https://localhost:8080/"
        },
        "outputId": "eabab905-a7c7-457c-e0a3-a534bfbbcd25"
      },
      "source": [
        "X, y = [], []\n",
        "\n",
        "with open('/content/dataset.csv', 'r') as f:\n",
        "    next(f)\n",
        "    for line in f:\n",
        "        line = line.strip()\n",
        "        if line:\n",
        "            values = line.split(',')\n",
        "        else:\n",
        "            continue\n",
        "        X.append([float(i) for i in values[:2]])\n",
        "        y.append(int(values[-1]))\n",
        "        \n",
        "print(len(X), len(y))"
      ],
      "execution_count": null,
      "outputs": [
        {
          "output_type": "stream",
          "text": [
            "100 100\n"
          ],
          "name": "stdout"
        }
      ]
    },
    {
      "cell_type": "code",
      "metadata": {
        "id": "pnVxzcrykDwL"
      },
      "source": [
        "import random\n",
        "\n",
        "\n",
        "random.seed(123)\n",
        "\n",
        "idx = list(range(len(X)))\n",
        "random.shuffle(idx)\n",
        "\n",
        "X_train = [X[i] for i in idx[:80]]\n",
        "y_train = [y[i] for i in idx[:80]]\n",
        "X_test = [X[i] for i in idx[80:]]\n",
        "y_test = [y[i] for i in idx[80:]]"
      ],
      "execution_count": null,
      "outputs": []
    },
    {
      "cell_type": "code",
      "metadata": {
        "id": "mTTAr0lHkDwL",
        "colab": {
          "base_uri": "https://localhost:8080/",
          "height": 295
        },
        "outputId": "334eddbf-a35e-4a68-829b-c819ef8d2cc3"
      },
      "source": [
        " plt.scatter([i[0] for idx, i in enumerate(X_train) if y_train[idx] == 0], \n",
        "            [i[1] for idx, i in enumerate(X_train) if y_train[idx] == 0],\n",
        "            label='class 0', marker='o')\n",
        "\n",
        "plt.scatter([i[0] for idx, i in enumerate(X_train) if y_train[idx] == 1], \n",
        "            [i[1] for idx, i in enumerate(X_train) if y_train[idx] == 1],\n",
        "            label='class 1', marker='s')\n",
        "\n",
        "plt.title('Training set')\n",
        "plt.xlabel('feature 1')\n",
        "plt.ylabel('feature 2')\n",
        "plt.xlim([0.0, 7])\n",
        "plt.ylim([-0.8, 0.8])\n",
        "plt.legend()\n",
        "plt.show()"
      ],
      "execution_count": null,
      "outputs": [
        {
          "output_type": "display_data",
          "data": {
            "image/png": "[encoded data removed]",
            "text/plain": [
              "<Figure size 432x288 with 1 Axes>"
            ]
          },
          "metadata": {
            "tags": [],
            "needs_background": "light"
          }
        }
      ]
    },
    {
      "cell_type": "markdown",
      "metadata": {
        "id": "zj2RQgOXkDwM"
      },
      "source": [
        "## Defining the Perceptron model"
      ]
    },
    {
      "cell_type": "markdown",
      "metadata": {
        "id": "NQ5JRg0ikDwM"
      },
      "source": [
        "Below, you need to complete the code of the Perceptron model class based on the framework I provided."
      ]
    },
    {
      "cell_type": "code",
      "metadata": {
        "id": "nMJr-WttkDwN"
      },
      "source": [
        "class Perceptron():\n",
        "    def __init__(self, num_features):\n",
        "        # self.num_features = num_features\n",
        "        self.weights = [0.0] * num_features\n",
        "        self.bias = 0.0\n",
        "\n",
        "    def forward(self, x):\n",
        "        linear = sum(w * x for w, x in zip(self.weights, x)) + self.bias\n",
        "        if linear > -0.1:\n",
        "            prediction = 1\n",
        "        else:\n",
        "            prediction = 0\n",
        "        return prediction\n",
        "\n",
        "    def backward(self, x, y):  \n",
        "        predictions = self.forward(x)\n",
        "        errors = y - predictions\n",
        "        return errors\n",
        "        \n",
        "    def train(self, x, y, epochs):\n",
        "        for e in range(epochs):\n",
        "            \n",
        "            for i in range(len(y)):\n",
        "                errors = self.backward(x[i], y[i])\n",
        "                self.weights[0] += errors * x[i][0]\n",
        "                self.weights[1] += errors * x[i][1]\n",
        "                self.bias += errors\n",
        "                \n",
        "    def evaluate(self, x, y):\n",
        "        predictions = [self.forward(datum) for datum in x]\n",
        "        res = sum([1 for prediction, label in zip(predictions, y) if prediction == label])\n",
        "        accuracy = res / len(y)\n",
        "        return accuracy"
      ],
      "execution_count": null,
      "outputs": []
    },
    {
      "cell_type": "markdown",
      "metadata": {
        "id": "Zjzj0upAkDwO"
      },
      "source": [
        "## Training the Perceptron"
      ]
    },
    {
      "cell_type": "markdown",
      "metadata": {
        "id": "Vkp3t5xckDwP"
      },
      "source": [
        "Here, you are asked to train the perceptron for 5 epochs and print out the Perceptron weight parameters and the value of the bias unit after training.\n",
        "\n",
        "- The code should be relatively similar to the code you've seen in the lecture."
      ]
    },
    {
      "cell_type": "code",
      "metadata": {
        "id": "myvz9NvSkDwQ",
        "colab": {
          "base_uri": "https://localhost:8080/"
        },
        "outputId": "b19ceffc-cae2-4143-b11a-3313658a5f61"
      },
      "source": [
        "ppn = Perceptron(num_features=2)\n",
        "\n",
        "ppn.train(X_train, y_train, 5)\n",
        "\n",
        "print('Model Parameters: \\n\\n')\n",
        "print(f\"    Weights: {ppn.weights}\")\n",
        "print(f\"    Bias: {ppn.bias}\")"
      ],
      "execution_count": null,
      "outputs": [
        {
          "output_type": "stream",
          "text": [
            "Model Parameters: \n",
            "\n",
            "\n",
            "    Weights: [1.7999999999999992, -1.3000000000000003]\n",
            "    Bias: -4.0\n"
          ],
          "name": "stdout"
        }
      ]
    },
    {
      "cell_type": "markdown",
      "metadata": {
        "id": "Ur9XacjGkDwR"
      },
      "source": [
        "## Evaluating the model"
      ]
    },
    {
      "cell_type": "markdown",
      "metadata": {
        "id": "uLKpeCKlkDwS"
      },
      "source": [
        "Compute the prediction accuracy (in percent) for both the training set and the test set."
      ]
    },
    {
      "cell_type": "code",
      "metadata": {
        "id": "n5sAIwYjkDwS",
        "colab": {
          "base_uri": "https://localhost:8080/"
        },
        "outputId": "e384bfa3-656b-482f-a2bb-26719691be9d"
      },
      "source": [
        "train_acc = ppn.evaluate(X_train, y_train)\n",
        "print('Train set accuracy: %.2f%%' % (train_acc*100))"
      ],
      "execution_count": null,
      "outputs": [
        {
          "output_type": "stream",
          "text": [
            "Train set accuracy: 100.00%\n"
          ],
          "name": "stdout"
        }
      ]
    },
    {
      "cell_type": "code",
      "metadata": {
        "id": "4O1IeDcwkDwT",
        "colab": {
          "base_uri": "https://localhost:8080/"
        },
        "outputId": "ee3850f1-3f8c-4f66-8b38-8b9b91c0963d"
      },
      "source": [
        "test_acc = ppn.evaluate(X_test, y_test)\n",
        "print('Test set accuracy: %.2f%%' % (test_acc*100))"
      ],
      "execution_count": null,
      "outputs": [
        {
          "output_type": "stream",
          "text": [
            "Test set accuracy: 100.00%\n"
          ],
          "name": "stdout"
        }
      ]
    },
    {
      "cell_type": "markdown",
      "metadata": {
        "id": "UUMC9GlRkDwU"
      },
      "source": [
        "## Decision Boundary"
      ]
    },
    {
      "cell_type": "markdown",
      "metadata": {
        "id": "VZJjaLbHkDwU"
      },
      "source": [
        "Make 2 scatterplots: 1 for the training dataset and 1 for the test dataset. Draw the respective decision boundaries of the perceptron in each plot (similar to the code example you have seen in the lecture)."
      ]
    },
    {
      "cell_type": "code",
      "metadata": {
        "id": "cbQTKrJmkDwU",
        "colab": {
          "base_uri": "https://localhost:8080/",
          "height": 211
        },
        "outputId": "eea25571-4540-4251-950c-e3b15c2a3af1"
      },
      "source": [
        "##########################\n",
        "### 2D Decision Boundary\n",
        "##########################\n",
        "\n",
        "w, b = ppn.weights, ppn.bias\n",
        "\n",
        "x_min = -2\n",
        "y_min = ( (-(w[0] * x_min) - b) \n",
        "            / w[1] )\n",
        "\n",
        "x_max = 2\n",
        "y_max = ( (-(w[0] * x_max) - b) \n",
        "          / w[1] )\n",
        "\n",
        "\n",
        "fig, ax = plt.subplots(1, 2, sharex=True, figsize=(7, 3))\n",
        "\n",
        "ax[0].plot([x_min, x_max], [y_min, y_max])\n",
        "ax[1].plot([x_min, x_max], [y_min, y_max])\n",
        "\n",
        "ax[0].scatter([i[0] for idx, i in enumerate(X_train) if y_train[idx] == 0], \n",
        "            [i[1] for idx, i in enumerate(X_train) if y_train[idx] == 0],\n",
        "            label='class 0', marker='o')\n",
        "\n",
        "ax[0].scatter([i[0] for idx, i in enumerate(X_train) if y_train[idx] == 1], \n",
        "            [i[1] for idx, i in enumerate(X_train) if y_train[idx] == 1],\n",
        "            label='class 1', marker='s')\n",
        "\n",
        "ax[1].scatter([i[0] for idx, i in enumerate(X_test) if y_test[idx] == 0], \n",
        "            [i[1] for idx, i in enumerate(X_test) if y_test[idx] == 0],\n",
        "            label='class 0', marker='o')\n",
        "\n",
        "ax[1].scatter([i[0] for idx, i in enumerate(X_test) if y_test[idx] == 1], \n",
        "            [i[1] for idx, i in enumerate(X_test) if y_test[idx] == 1],\n",
        "            label='class 1', marker='s')\n",
        "\n",
        "# ax[0].scatter(X_train[y_train==0, 0], X_train[y_train==0, 1], label='class 0', marker='o')\n",
        "# ax[0].scatter(X_train[y_train==1, 0], X_train[y_train==1, 1], label='class 1', marker='s')\n",
        "\n",
        "# ax[1].scatter(X_test[y_test==0, 0], X_test[y_test==0, 1], label='class 0', marker='o')\n",
        "# ax[1].scatter(X_test[y_test==1, 0], X_test[y_test==1, 1], label='class 1', marker='s')\n",
        "\n",
        "ax[1].legend(loc='upper left')\n",
        "plt.show()"
      ],
      "execution_count": null,
      "outputs": [
        {
          "output_type": "display_data",
          "data": {
            "image/png": "[encoded data removed]",
            "text/plain": [
              "<Figure size 504x216 with 2 Axes>"
            ]
          },
          "metadata": {
            "tags": [],
            "needs_background": "light"
          }
        }
      ]
    },
    {
      "cell_type": "code",
      "metadata": {
        "id": "EgjfA-o5Kg1n"
      },
      "source": [
        ""
      ],
      "execution_count": null,
      "outputs": []
    },
    {
      "cell_type": "code",
      "metadata": {
        "id": "ho5Lkc_-LfpB"
      },
      "source": [
        ""
      ],
      "execution_count": null,
      "outputs": []
    }
  ]
}