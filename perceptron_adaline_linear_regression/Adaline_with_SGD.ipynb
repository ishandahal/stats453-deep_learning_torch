{
  "nbformat": 4,
  "nbformat_minor": 0,
  "metadata": {
    "colab": {
      "name": "Adaline_with_SGD.ipynb",
      "provenance": [],
      "authorship_tag": "ABX9TyPNGMCJ7CT5cQNdBcRh4yhz",
      "include_colab_link": true
    },
    "kernelspec": {
      "name": "python3",
      "display_name": "Python 3"
    }
  },
  "cells": [
    {
      "cell_type": "markdown",
      "metadata": {
        "id": "view-in-github",
        "colab_type": "text"
      },
      "source": [
        "<a href=\"https://colab.research.google.com/github/ishandahal/stats453-deep_learning_torch/blob/main/perceptron_adaline_linear_regression/Adaline_with_SGD.ipynb\" target=\"_parent\"><img src=\"https://colab.research.google.com/assets/colab-badge.svg\" alt=\"Open In Colab\"/></a>"
      ]
    },
    {
      "cell_type": "code",
      "metadata": {
        "id": "JBPRj7z2qREW"
      },
      "source": [
        "pip install watermark"
      ],
      "execution_count": null,
      "outputs": []
    },
    {
      "cell_type": "code",
      "metadata": {
        "colab": {
          "base_uri": "https://localhost:8080/"
        },
        "id": "Ayjr4S-x1R23",
        "outputId": "a05d24e6-fe6d-475e-9ef6-2c78e5003ca5"
      },
      "source": [
        "%load_ext watermark\n",
        "%watermark -a \"Ishan Dahal\" -v -p torch,pandas,matplotlib"
      ],
      "execution_count": null,
      "outputs": [
        {
          "output_type": "stream",
          "text": [
            "The watermark extension is already loaded. To reload it, use:\n",
            "  %reload_ext watermark\n",
            "Ishan Dahal \n",
            "\n",
            "CPython 3.6.9\n",
            "IPython 5.5.0\n",
            "\n",
            "torch 1.7.0+cu101\n",
            "pandas 1.1.5\n",
            "matplotlib 3.2.2\n"
          ],
          "name": "stdout"
        }
      ]
    },
    {
      "cell_type": "code",
      "metadata": {
        "id": "-VhwS8_K1d7i"
      },
      "source": [
        "import pandas as pd\n",
        "import matplotlib.pyplot as plt\n",
        "import torch"
      ],
      "execution_count": null,
      "outputs": []
    },
    {
      "cell_type": "markdown",
      "metadata": {
        "id": "ts9hCewL1yPT"
      },
      "source": [
        "#### Load and Prepare Toy Dataset"
      ]
    },
    {
      "cell_type": "code",
      "metadata": {
        "colab": {
          "base_uri": "https://localhost:8080/",
          "height": 206
        },
        "id": "WwiC1DAx13mL",
        "outputId": "adc3bce7-6a84-4070-eb95-6f085a0dd095"
      },
      "source": [
        "df = pd.read_csv('https://raw.githubusercontent.com/rasbt/stat453-deep-learning-ss20/master/L05-grad-descent/code/datasets/iris.data',\n",
        "                 index_col=None, header=None)\n",
        "df.columns = ['x1', 'x2', 'x3', 'x4', 'y']\n",
        "df = df.iloc[50:150]\n",
        "df['y'] = df['y'].apply(lambda x: 0 if x == 'Iris-versicolor' else 1)\n",
        "df.tail()"
      ],
      "execution_count": null,
      "outputs": [
        {
          "output_type": "execute_result",
          "data": {
            "text/html": [
              "<div>\n",
              "<style scoped>\n",
              "    .dataframe tbody tr th:only-of-type {\n",
              "        vertical-align: middle;\n",
              "    }\n",
              "\n",
              "    .dataframe tbody tr th {\n",
              "        vertical-align: top;\n",
              "    }\n",
              "\n",
              "    .dataframe thead th {\n",
              "        text-align: right;\n",
              "    }\n",
              "</style>\n",
              "<table border=\"1\" class=\"dataframe\">\n",
              "  <thead>\n",
              "    <tr style=\"text-align: right;\">\n",
              "      <th></th>\n",
              "      <th>x1</th>\n",
              "      <th>x2</th>\n",
              "      <th>x3</th>\n",
              "      <th>x4</th>\n",
              "      <th>y</th>\n",
              "    </tr>\n",
              "  </thead>\n",
              "  <tbody>\n",
              "    <tr>\n",
              "      <th>145</th>\n",
              "      <td>6.7</td>\n",
              "      <td>3.0</td>\n",
              "      <td>5.2</td>\n",
              "      <td>2.3</td>\n",
              "      <td>1</td>\n",
              "    </tr>\n",
              "    <tr>\n",
              "      <th>146</th>\n",
              "      <td>6.3</td>\n",
              "      <td>2.5</td>\n",
              "      <td>5.0</td>\n",
              "      <td>1.9</td>\n",
              "      <td>1</td>\n",
              "    </tr>\n",
              "    <tr>\n",
              "      <th>147</th>\n",
              "      <td>6.5</td>\n",
              "      <td>3.0</td>\n",
              "      <td>5.2</td>\n",
              "      <td>2.0</td>\n",
              "      <td>1</td>\n",
              "    </tr>\n",
              "    <tr>\n",
              "      <th>148</th>\n",
              "      <td>6.2</td>\n",
              "      <td>3.4</td>\n",
              "      <td>5.4</td>\n",
              "      <td>2.3</td>\n",
              "      <td>1</td>\n",
              "    </tr>\n",
              "    <tr>\n",
              "      <th>149</th>\n",
              "      <td>5.9</td>\n",
              "      <td>3.0</td>\n",
              "      <td>5.1</td>\n",
              "      <td>1.8</td>\n",
              "      <td>1</td>\n",
              "    </tr>\n",
              "  </tbody>\n",
              "</table>\n",
              "</div>"
            ],
            "text/plain": [
              "      x1   x2   x3   x4  y\n",
              "145  6.7  3.0  5.2  2.3  1\n",
              "146  6.3  2.5  5.0  1.9  1\n",
              "147  6.5  3.0  5.2  2.0  1\n",
              "148  6.2  3.4  5.4  2.3  1\n",
              "149  5.9  3.0  5.1  1.8  1"
            ]
          },
          "metadata": {
            "tags": []
          },
          "execution_count": 15
        }
      ]
    },
    {
      "cell_type": "code",
      "metadata": {
        "id": "LZ1xkf4T2ZWE"
      },
      "source": [
        "## Assign feature and target values \n",
        "\n",
        "X = torch.tensor(df[['x2', 'x3']].values, dtype=torch.float)\n",
        "y = torch.tensor(df['y'].values, dtype=torch.int)\n",
        "\n",
        "# Shuffling & train/test split \n",
        "\n",
        "torch.manual_seed(123)\n",
        "shuffle_idx = torch.randperm(y.size(0), dtype=torch.long)\n",
        "\n",
        "X, y = X[shuffle_idx], y[shuffle_idx]\n",
        "\n",
        "percent70 = int(shuffle_idx.size(0)*0.7)\n",
        "\n",
        "X_train, X_test = X[shuffle_idx[:percent70]], X[shuffle_idx[percent70:]]\n",
        "y_train, y_test = y[shuffle_idx[:percent70]], y[shuffle_idx[percent70:]]\n",
        "\n",
        "## Normalize (mean zero, unit variance)\n",
        "\n",
        "mu, sigma = X_train.mean(dim=0), X_train.std(dim=0)\n",
        "X_train = (X_train - mu) / sigma\n",
        "X_test = (X_test - mu) / sigma"
      ],
      "execution_count": null,
      "outputs": []
    },
    {
      "cell_type": "code",
      "metadata": {
        "colab": {
          "base_uri": "https://localhost:8080/",
          "height": 265
        },
        "id": "p4lS6YVe41QI",
        "outputId": "651a6035-6af5-4aa5-c6d4-7695f4e5fdff"
      },
      "source": [
        "plt.scatter(X_train[y_train==0, 0], X_train[y_train==0, 1], label='class 0')\n",
        "plt.scatter(X_train[y_train==1, 0], X_train[y_train==1, 1], label='class 1')\n",
        "plt.legend()\n",
        "plt.show()"
      ],
      "execution_count": null,
      "outputs": [
        {
          "output_type": "display_data",
          "data": {
            "image/png": "[encoded data removed]",
            "text/plain": [
              "<Figure size 432x288 with 1 Axes>"
            ]
          },
          "metadata": {
            "tags": [],
            "needs_background": "light"
          }
        }
      ]
    },
    {
      "cell_type": "code",
      "metadata": {
        "colab": {
          "base_uri": "https://localhost:8080/",
          "height": 265
        },
        "id": "KzRTzEWh5Qrp",
        "outputId": "c03b8094-8398-4004-c23f-ae0af60c74c6"
      },
      "source": [
        "plt.scatter(X_test[y_test==0, 0], X_test[y_test==0, 1], label='class 0')\n",
        "plt.scatter(X_test[y_test==1, 0], X_test[y_test==1, 0], label='class 1')\n",
        "plt.legend()\n",
        "plt.show()"
      ],
      "execution_count": null,
      "outputs": [
        {
          "output_type": "display_data",
          "data": {
            "image/png": "[encoded data removed]",
            "text/plain": [
              "<Figure size 432x288 with 1 Axes>"
            ]
          },
          "metadata": {
            "tags": [],
            "needs_background": "light"
          }
        }
      ]
    },
    {
      "cell_type": "markdown",
      "metadata": {
        "id": "kV9mDJOb6rTw"
      },
      "source": [
        "#### Implement ADALINE Model"
      ]
    },
    {
      "cell_type": "code",
      "metadata": {
        "id": "HgpgXrw064Uw"
      },
      "source": [
        "class Adaline1():\n",
        "    def __init__(self, num_features):\n",
        "        self.num_features = num_features\n",
        "        self.weights = torch.zeros(num_features, 1,\n",
        "                                   dtype=torch.float)\n",
        "        self.bias = torch.zeros(1, dtype=torch.float)\n",
        "\n",
        "    def forward(self, x):\n",
        "        netinputs = torch.add(torch.mm(x, self.weights), self.bias)\n",
        "        activations = netinputs\n",
        "        return activations.view(-1)\n",
        "\n",
        "    def backward(self, x, yhat, y):\n",
        "\n",
        "        grad_loss_yhat = 2*(y - yhat)\n",
        "\n",
        "        grad_yhat_weights = -x\n",
        "        grad_yhat_bias = -1.\n",
        "\n",
        "        ## Chain rule: inner times outer\n",
        "\n",
        "        grad_loss_weights = torch.mm(grad_yhat_weights.t(),\n",
        "                                     grad_loss_yhat.view(-1, 1)) / y.size(0)\n",
        "        \n",
        "        grad_loss_bias = torch.sum(grad_yhat_bias*grad_loss_yhat) / y.size(0)\n",
        "\n",
        "        # return negative gradient\n",
        "        return (-1)*grad_loss_weights, (-1)*grad_loss_bias"
      ],
      "execution_count": null,
      "outputs": []
    },
    {
      "cell_type": "markdown",
      "metadata": {
        "id": "iF9hjcSq9L_n"
      },
      "source": [
        "#### Define Training and Evaluation Functions"
      ]
    },
    {
      "cell_type": "code",
      "metadata": {
        "id": "dyDZ72p4JZy8"
      },
      "source": [
        "def loss(yhat, y):\n",
        "    return torch.mean((yhat - y)**2)\n",
        "\n",
        "def train(model, x, y, num_epochs,\n",
        "          learning_rate=0.01, seed=123, minibatch_size=10):\n",
        "    cost = []\n",
        "\n",
        "    torch.manual_seed(seed)\n",
        "    for e in range(num_epochs):\n",
        "        \n",
        "        ### shuffle epoch\n",
        "        shuffle_idx = torch.randperm(y.size(0), dtype=torch.long)\n",
        "        minibatches = torch.split(shuffle_idx, minibatch_size)\n",
        "\n",
        "        for minibatch_idx in minibatches:\n",
        "        \n",
        "            ## Compute outputs\n",
        "            yhat = model.forward(x[minibatch_idx])\n",
        "\n",
        "            ## Cumpute gradients\n",
        "            negative_grad_w, negative_grad_b = \\\n",
        "                model.backward(x[minibatch_idx], yhat, y[minibatch_idx])\n",
        "\n",
        "            ## Update weights\n",
        "            model.weights += learning_rate * negative_grad_w\n",
        "            model.bias += learning_rate * negative_grad_b\n",
        "\n",
        "            ### Logging \n",
        "            minibatch_loss = loss(yhat, y[minibatch_idx])\n",
        "            print(f'     Minibatch MSE: {minibatch_loss:.3f}')\n",
        "\n",
        "        ### Logging \n",
        "        yhat = model.forward(x)\n",
        "        curr_loss = loss(yhat, y)\n",
        "        print(f\"Epoch: {e+1:03d}\", end=\"\")\n",
        "        print(f\"  |  MSE: {curr_loss:.5f}\")\n",
        "        cost.append(curr_loss)\n",
        "    \n",
        "    return cost\n",
        "\n"
      ],
      "execution_count": null,
      "outputs": []
    },
    {
      "cell_type": "markdown",
      "metadata": {
        "id": "1qm4pzFaLUeG"
      },
      "source": [
        "#### Train Model"
      ]
    },
    {
      "cell_type": "code",
      "metadata": {
        "colab": {
          "base_uri": "https://localhost:8080/"
        },
        "id": "CJspJcoLOfVd",
        "outputId": "73cbbbaf-6dcc-4e66-f559-1a3de21ca523"
      },
      "source": [
        "model = Adaline1(num_features=X_train.size(1))\n",
        "cost = train(model, X_train, y_train,\n",
        "             num_epochs=20,\n",
        "             learning_rate=0.1,\n",
        "             seed=123,\n",
        "             minibatch_size=10)"
      ],
      "execution_count": null,
      "outputs": [
        {
          "output_type": "stream",
          "text": [
            "     Minibatch MSE: 0.500\n",
            "     Minibatch MSE: 0.341\n",
            "     Minibatch MSE: 0.220\n",
            "     Minibatch MSE: 0.245\n",
            "     Minibatch MSE: 0.157\n",
            "     Minibatch MSE: 0.133\n",
            "     Minibatch MSE: 0.144\n",
            "Epoch: 001  |  MSE: 0.12142\n",
            "     Minibatch MSE: 0.107\n",
            "     Minibatch MSE: 0.147\n",
            "     Minibatch MSE: 0.064\n",
            "     Minibatch MSE: 0.079\n",
            "     Minibatch MSE: 0.185\n",
            "     Minibatch MSE: 0.063\n",
            "     Minibatch MSE: 0.135\n",
            "Epoch: 002  |  MSE: 0.09932\n",
            "     Minibatch MSE: 0.093\n",
            "     Minibatch MSE: 0.064\n",
            "     Minibatch MSE: 0.128\n",
            "     Minibatch MSE: 0.099\n",
            "     Minibatch MSE: 0.079\n",
            "     Minibatch MSE: 0.157\n",
            "     Minibatch MSE: 0.080\n",
            "Epoch: 003  |  MSE: 0.09693\n",
            "     Minibatch MSE: 0.131\n",
            "     Minibatch MSE: 0.146\n",
            "     Minibatch MSE: 0.050\n",
            "     Minibatch MSE: 0.095\n",
            "     Minibatch MSE: 0.106\n",
            "     Minibatch MSE: 0.072\n",
            "     Minibatch MSE: 0.102\n",
            "Epoch: 004  |  MSE: 0.09658\n",
            "     Minibatch MSE: 0.107\n",
            "     Minibatch MSE: 0.204\n",
            "     Minibatch MSE: 0.149\n",
            "     Minibatch MSE: 0.054\n",
            "     Minibatch MSE: 0.060\n",
            "     Minibatch MSE: 0.056\n",
            "     Minibatch MSE: 0.069\n",
            "Epoch: 005  |  MSE: 0.09657\n",
            "     Minibatch MSE: 0.068\n",
            "     Minibatch MSE: 0.111\n",
            "     Minibatch MSE: 0.092\n",
            "     Minibatch MSE: 0.115\n",
            "     Minibatch MSE: 0.157\n",
            "     Minibatch MSE: 0.074\n",
            "     Minibatch MSE: 0.087\n",
            "Epoch: 006  |  MSE: 0.09650\n",
            "     Minibatch MSE: 0.057\n",
            "     Minibatch MSE: 0.070\n",
            "     Minibatch MSE: 0.133\n",
            "     Minibatch MSE: 0.127\n",
            "     Minibatch MSE: 0.062\n",
            "     Minibatch MSE: 0.153\n",
            "     Minibatch MSE: 0.103\n",
            "Epoch: 007  |  MSE: 0.09683\n",
            "     Minibatch MSE: 0.102\n",
            "     Minibatch MSE: 0.110\n",
            "     Minibatch MSE: 0.101\n",
            "     Minibatch MSE: 0.065\n",
            "     Minibatch MSE: 0.126\n",
            "     Minibatch MSE: 0.124\n",
            "     Minibatch MSE: 0.076\n",
            "Epoch: 008  |  MSE: 0.09648\n",
            "     Minibatch MSE: 0.120\n",
            "     Minibatch MSE: 0.056\n",
            "     Minibatch MSE: 0.100\n",
            "     Minibatch MSE: 0.102\n",
            "     Minibatch MSE: 0.106\n",
            "     Minibatch MSE: 0.075\n",
            "     Minibatch MSE: 0.144\n",
            "Epoch: 009  |  MSE: 0.09740\n",
            "     Minibatch MSE: 0.073\n",
            "     Minibatch MSE: 0.071\n",
            "     Minibatch MSE: 0.084\n",
            "     Minibatch MSE: 0.152\n",
            "     Minibatch MSE: 0.099\n",
            "     Minibatch MSE: 0.108\n",
            "     Minibatch MSE: 0.118\n",
            "Epoch: 010  |  MSE: 0.09636\n",
            "     Minibatch MSE: 0.058\n",
            "     Minibatch MSE: 0.070\n",
            "     Minibatch MSE: 0.145\n",
            "     Minibatch MSE: 0.081\n",
            "     Minibatch MSE: 0.093\n",
            "     Minibatch MSE: 0.127\n",
            "     Minibatch MSE: 0.115\n",
            "Epoch: 011  |  MSE: 0.09638\n",
            "     Minibatch MSE: 0.123\n",
            "     Minibatch MSE: 0.091\n",
            "     Minibatch MSE: 0.085\n",
            "     Minibatch MSE: 0.093\n",
            "     Minibatch MSE: 0.091\n",
            "     Minibatch MSE: 0.143\n",
            "     Minibatch MSE: 0.081\n",
            "Epoch: 012  |  MSE: 0.09718\n",
            "     Minibatch MSE: 0.096\n",
            "     Minibatch MSE: 0.076\n",
            "     Minibatch MSE: 0.149\n",
            "     Minibatch MSE: 0.092\n",
            "     Minibatch MSE: 0.116\n",
            "     Minibatch MSE: 0.093\n",
            "     Minibatch MSE: 0.091\n",
            "Epoch: 013  |  MSE: 0.09638\n",
            "     Minibatch MSE: 0.095\n",
            "     Minibatch MSE: 0.104\n",
            "     Minibatch MSE: 0.107\n",
            "     Minibatch MSE: 0.120\n",
            "     Minibatch MSE: 0.102\n",
            "     Minibatch MSE: 0.045\n",
            "     Minibatch MSE: 0.124\n",
            "Epoch: 014  |  MSE: 0.09685\n",
            "     Minibatch MSE: 0.121\n",
            "     Minibatch MSE: 0.051\n",
            "     Minibatch MSE: 0.095\n",
            "     Minibatch MSE: 0.122\n",
            "     Minibatch MSE: 0.030\n",
            "     Minibatch MSE: 0.158\n",
            "     Minibatch MSE: 0.121\n",
            "Epoch: 015  |  MSE: 0.09745\n",
            "     Minibatch MSE: 0.080\n",
            "     Minibatch MSE: 0.119\n",
            "     Minibatch MSE: 0.091\n",
            "     Minibatch MSE: 0.095\n",
            "     Minibatch MSE: 0.044\n",
            "     Minibatch MSE: 0.092\n",
            "     Minibatch MSE: 0.180\n",
            "Epoch: 016  |  MSE: 0.09693\n",
            "     Minibatch MSE: 0.054\n",
            "     Minibatch MSE: 0.075\n",
            "     Minibatch MSE: 0.184\n",
            "     Minibatch MSE: 0.105\n",
            "     Minibatch MSE: 0.121\n",
            "     Minibatch MSE: 0.066\n",
            "     Minibatch MSE: 0.096\n",
            "Epoch: 017  |  MSE: 0.09699\n",
            "     Minibatch MSE: 0.076\n",
            "     Minibatch MSE: 0.050\n",
            "     Minibatch MSE: 0.198\n",
            "     Minibatch MSE: 0.105\n",
            "     Minibatch MSE: 0.054\n",
            "     Minibatch MSE: 0.136\n",
            "     Minibatch MSE: 0.099\n",
            "Epoch: 018  |  MSE: 0.09672\n",
            "     Minibatch MSE: 0.158\n",
            "     Minibatch MSE: 0.099\n",
            "     Minibatch MSE: 0.087\n",
            "     Minibatch MSE: 0.070\n",
            "     Minibatch MSE: 0.103\n",
            "     Minibatch MSE: 0.112\n",
            "     Minibatch MSE: 0.081\n",
            "Epoch: 019  |  MSE: 0.09638\n",
            "     Minibatch MSE: 0.095\n",
            "     Minibatch MSE: 0.093\n",
            "     Minibatch MSE: 0.111\n",
            "     Minibatch MSE: 0.147\n",
            "     Minibatch MSE: 0.083\n",
            "     Minibatch MSE: 0.102\n",
            "     Minibatch MSE: 0.065\n",
            "Epoch: 020  |  MSE: 0.09635\n"
          ],
          "name": "stdout"
        }
      ]
    },
    {
      "cell_type": "markdown",
      "metadata": {
        "id": "ERbN1eWxO8FS"
      },
      "source": [
        "#### Evaluate Adaline Model\n",
        "#### Plot Loss (MSE)"
      ]
    },
    {
      "cell_type": "code",
      "metadata": {
        "colab": {
          "base_uri": "https://localhost:8080/",
          "height": 279
        },
        "id": "biAhlaqIQMo2",
        "outputId": "dc9547a6-89f6-4a62-d0cd-90dbae01f553"
      },
      "source": [
        "plt.plot(range(len(cost)), cost)\n",
        "plt.ylabel('Mean Squared Error')\n",
        "plt.xlabel('Epoch')\n",
        "plt.show()"
      ],
      "execution_count": null,
      "outputs": [
        {
          "output_type": "display_data",
          "data": {
            "image/png": "[encoded data removed]",
            "text/plain": [
              "<Figure size 432x288 with 1 Axes>"
            ]
          },
          "metadata": {
            "tags": [],
            "needs_background": "light"
          }
        }
      ]
    },
    {
      "cell_type": "markdown",
      "metadata": {
        "id": "IRLjh7iqQboy"
      },
      "source": [
        "#### Comparing with analytic solution"
      ]
    },
    {
      "cell_type": "code",
      "metadata": {
        "colab": {
          "base_uri": "https://localhost:8080/"
        },
        "id": "-vA8-OClQtEz",
        "outputId": "ac3604e0-3a98-433c-e6d4-1bbe7daac48a"
      },
      "source": [
        "print('Weights', model.weights)\n",
        "print('Bias', model.bias)"
      ],
      "execution_count": null,
      "outputs": [
        {
          "output_type": "stream",
          "text": [
            "Weights tensor([[-0.0763],\n",
            "        [ 0.4181]])\n",
            "Bias tensor([0.4888])\n"
          ],
          "name": "stdout"
        }
      ]
    },
    {
      "cell_type": "code",
      "metadata": {
        "colab": {
          "base_uri": "https://localhost:8080/"
        },
        "id": "LvroVcjLQySb",
        "outputId": "86b3c23a-8207-42a2-a82e-d2e183c879a9"
      },
      "source": [
        "def analytical_solution(x, y):\n",
        "    Xb = torch.cat((torch.ones((x.size(0), 1)), x), dim=1)\n",
        "    w = torch.zeros(x.size(1))\n",
        "    z = torch.inverse(torch.matmul(Xb.t(), Xb))\n",
        "    params = torch.matmul(z, torch.matmul(Xb.t(), y))\n",
        "    b, w = torch.tensor([params[0]]), params[1:].view(x.size(1), 1)\n",
        "    return w, b\n",
        "\n",
        "w, b = analytical_solution(X_train, y_train.float())\n",
        "print('Analytical weights', w)\n",
        "print('Analytical bias', b)"
      ],
      "execution_count": null,
      "outputs": [
        {
          "output_type": "stream",
          "text": [
            "Analytical weights tensor([[-0.0703],\n",
            "        [ 0.4219]])\n",
            "Analytical bias tensor([0.4857])\n"
          ],
          "name": "stdout"
        }
      ]
    },
    {
      "cell_type": "markdown",
      "metadata": {
        "id": "jXNMiTtjSa9F"
      },
      "source": [
        "#### Evaluate on Evaluation Metric (Prediction Accuracy)"
      ]
    },
    {
      "cell_type": "code",
      "metadata": {
        "colab": {
          "base_uri": "https://localhost:8080/"
        },
        "id": "PNhE_5jlSpkc",
        "outputId": "6d2507b1-3462-4840-c34b-7385d01d4a6c"
      },
      "source": [
        "ones = torch.ones(y_train.size())\n",
        "zeros = torch.zeros(y_train.size())\n",
        "train_pred = model.forward(X_train)\n",
        "train_acc = torch.mean(\n",
        "    (torch.where(train_pred > 0.5,\n",
        "                ones,\n",
        "                zeros).int() == y_train).float())\n",
        "\n",
        "ones = torch.ones(y_test.size())\n",
        "zeros = torch.zeros(y_test.size())\n",
        "test_pred = model.forward(X_test)\n",
        "test_acc = torch.mean(\n",
        "    (torch.where(test_pred > 0.5,\n",
        "                 ones,\n",
        "                 zeros).int() == y_test).float())\n",
        "\n",
        "print(f\"Training Accuracy: {train_acc*100:.2f}\")\n",
        "print(f\"Testing Accuracy: {test_acc*100:.2f}\")"
      ],
      "execution_count": null,
      "outputs": [
        {
          "output_type": "stream",
          "text": [
            "Training Accuracy: 90.00\n",
            "Testing Accuracy: 96.67\n"
          ],
          "name": "stdout"
        }
      ]
    },
    {
      "cell_type": "markdown",
      "metadata": {
        "id": "wjYhnFr7TXND"
      },
      "source": [
        "#### Decision Boundary"
      ]
    },
    {
      "cell_type": "code",
      "metadata": {
        "colab": {
          "base_uri": "https://localhost:8080/",
          "height": 211
        },
        "id": "yjvudz-CVUU6",
        "outputId": "2637177e-9f11-4934-8920-9d912022d7df"
      },
      "source": [
        "## 2D Decision Boundary\n",
        "\n",
        "w, b = model.weights, model.bias - 0.5\n",
        "\n",
        "x_min = -3\n",
        "y_min = ((-(w[0] * x_min) - b[0])\n",
        "            / w[1])\n",
        "\n",
        "x_max = 3\n",
        "y_max = ((-(w[0] * x_max) - b[0])\n",
        "         / w[1])\n",
        "\n",
        "fig, ax = plt.subplots(1, 2, sharex=True, figsize=(7, 3))\n",
        "\n",
        "ax[0].plot([x_min, x_max], [y_min, y_max])\n",
        "ax[1].plot([x_min, x_max], [y_min, y_max])\n",
        "\n",
        "ax[0].scatter(X_train[y_train==0, 0], X_train[y_train==0, 1], label='class 0', marker='o')\n",
        "ax[0].scatter(X_train[y_train==1, 0], X_train[y_train==1, 1], label='class 1', marker='s')\n",
        "\n",
        "ax[1].scatter(X_test[y_test==0, 0], X_test[y_test==0, 1], label='class 0', marker='o')\n",
        "ax[1].scatter(X_test[y_test==1, 0], X_test[y_test==1, 1], label='class 1', marker='s')\n",
        "\n",
        "ax[1].legend(loc='upper left')\n",
        "plt.show()"
      ],
      "execution_count": null,
      "outputs": [
        {
          "output_type": "display_data",
          "data": {
            "image/png": "[encoded data removed]",
            "text/plain": [
              "<Figure size 504x216 with 2 Axes>"
            ]
          },
          "metadata": {
            "tags": [],
            "needs_background": "light"
          }
        }
      ]
    }
  ]
}