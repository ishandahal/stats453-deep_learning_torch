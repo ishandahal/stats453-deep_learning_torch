{
  "nbformat": 4,
  "nbformat_minor": 0,
  "metadata": {
    "kernelspec": {
      "display_name": "Python 3",
      "language": "python",
      "name": "python3"
    },
    "language_info": {
      "codemirror_mode": {
        "name": "ipython",
        "version": 3
      },
      "file_extension": ".py",
      "mimetype": "text/x-python",
      "name": "python",
      "nbconvert_exporter": "python",
      "pygments_lexer": "ipython3",
      "version": "3.7.1"
    },
    "toc": {
      "base_numbering": 1,
      "nav_menu": {},
      "number_sections": true,
      "sideBar": true,
      "skip_h1_title": false,
      "title_cell": "Table of Contents",
      "title_sidebar": "Contents",
      "toc_cell": false,
      "toc_position": {},
      "toc_section_display": true,
      "toc_window_display": false
    },
    "colab": {
      "name": "hw2_tanh.ipynb",
      "provenance": [],
      "include_colab_link": true
    }
  },
  "cells": [
    {
      "cell_type": "markdown",
      "metadata": {
        "id": "view-in-github",
        "colab_type": "text"
      },
      "source": [
        "<a href=\"https://colab.research.google.com/github/ishandahal/stats453-deep_learning_torch/blob/main/perceptron_adaline_linear_regression/hw2_tanh.ipynb\" target=\"_parent\"><img src=\"https://colab.research.google.com/assets/colab-badge.svg\" alt=\"Open In Colab\"/></a>"
      ]
    },
    {
      "cell_type": "markdown",
      "metadata": {
        "id": "DzoIB45uHdT4"
      },
      "source": [
        "STAT 453: Deep Learning (Spring 2020)  \n",
        "Instructor: Sebastian Raschka (sraschka@wisc.edu)  \n",
        "\n",
        "Course website: http://pages.stat.wisc.edu/~sraschka/teaching/stat453-ss2020/  \n",
        "GitHub repository: https://github.com/rasbt/stat453-deep-learning-ss20"
      ]
    },
    {
      "cell_type": "code",
      "metadata": {
        "id": "ZiyIzDYCHdUE"
      },
      "source": [
        "%load_ext watermark\n",
        "%watermark -a 'Sebastian Raschka' -v -p matplotlib,torch,pandas"
      ],
      "execution_count": null,
      "outputs": []
    },
    {
      "cell_type": "markdown",
      "metadata": {
        "id": "hNojS3H_HdUJ"
      },
      "source": [
        "# HW 2: A Single Layer Neuron with a Non-Linear Activation Function (50 pts)"
      ]
    },
    {
      "cell_type": "markdown",
      "metadata": {
        "id": "kzvJ-GWBHdUL"
      },
      "source": [
        "# Problem Setting"
      ]
    },
    {
      "cell_type": "markdown",
      "metadata": {
        "id": "ruxEXidaHdUO"
      },
      "source": [
        "Suppose you have a neuron model similar to ADALINE (discussed in class) but the activation function (which is an identity function in ADALINE) is replaced by a non-linear activation function. The figure below shows an arbitrary single-layer neuron.\n",
        "\n",
        "- If $\\sigma(z) = z$, the activation function is an identity function and the neuron represents ADALINE.\n",
        "- If $\\sigma(z) = \\frac{e^z - e^{-z}}{e^z + e^{-z}}$, the activation function is a hyperbolic tangent (tanh), which is a non-linear sigmoid function (https://en.wikipedia.org/wiki/Sigmoid_function).\n"
      ]
    },
    {
      "cell_type": "markdown",
      "metadata": {
        "id": "esQ4TdOPHdUQ"
      },
      "source": [
        "![](https://github.com/rasbt/stat453-deep-learning-ss20/blob/master/hw02/images/neuron.png?raw=1)"
      ]
    },
    {
      "cell_type": "markdown",
      "metadata": {
        "id": "CAM2QN4XHdUS"
      },
      "source": [
        "As mentioned above, in this homework, we are working with a tanh activation function, which we defined as\n",
        "$$\n",
        "\\sigma(z) = \\frac{e^z - e^{-z}}{e^z + e^{-z}},\n",
        "$$"
      ]
    },
    {
      "cell_type": "markdown",
      "metadata": {
        "id": "2sTcfV3sHdUU"
      },
      "source": [
        "![](https://github.com/rasbt/stat453-deep-learning-ss20/blob/master/hw02/images/tanh.png?raw=1)"
      ]
    },
    {
      "cell_type": "markdown",
      "metadata": {
        "id": "H8y-yMidHdUU"
      },
      "source": [
        "Here $z$ denotes the net input,  $z = \\mathbf{w}^\\top \\mathbf{x} + b$ (for a single training example, we write $z^{[i]} = \\mathbf{w}^\\top \\mathbf{x}^{[i]} + b$).\n",
        "\n",
        "Assume now that we want learn the parameters of the neuron model for a binary classification task with class labels $y \\in \\{0, 1\\}$ similar to ADALINE. We use the same loss function, mean squared error (MSE), as in ADALINE, during training:\n",
        "\n"
      ]
    },
    {
      "cell_type": "markdown",
      "metadata": {
        "id": "YwS8qduXHdUW"
      },
      "source": [
        "$$\n",
        "\\mathcal{L}(\\mathbf{\\hat{y}}, \\mathbf{y}) = \\frac{1}{n} \\sum_{i}^{} (\\hat{y}^{[i]} - y^{[i]})^2.\n",
        "$$"
      ]
    },
    {
      "cell_type": "markdown",
      "metadata": {
        "id": "ArWgOB2nHdUZ"
      },
      "source": [
        "## TASK 1: Compute the Loss Gradients with respect to the weights and bias unit  -- 25 pts"
      ]
    },
    {
      "cell_type": "markdown",
      "metadata": {
        "id": "zXdrJ_AVHdUc"
      },
      "source": [
        "Your task is to derive the gradient of the loss $\\mathcal{L}$ with respect to the weight vector and the bias unit and formulate the learning rule. \n",
        "\n",
        "Remember that the gradient of the loss is defined as \n",
        "\n",
        "$$\n",
        "\\nabla_\\mathbf{w} \\mathcal{L}(\\mathbf{w}) = \n",
        "\\begin{bmatrix}\n",
        "\\frac{\\partial \\mathcal{L}(\\mathbf{w})}{\\partial w_1}\\\\\n",
        "\\vdots \\\\\n",
        "\\frac{\\partial \\mathcal{L}(\\mathbf{w})}{\\partial w_m}\\\\\n",
        "\\end{bmatrix}\n",
        "$$\n",
        "\n",
        "**For simplicity, it is sufficient if you write down the partial derivative and learning rule for a single weight $w_j$ and the bias unit $b$**. \n",
        "\n",
        "To provide you with a hint, recall that we computed the partial Loss derivatives for ADALINE as follows:"
      ]
    },
    {
      "cell_type": "markdown",
      "metadata": {
        "id": "rYuRC0iwHdUc"
      },
      "source": [
        "$$\n",
        "\\begin{align}\n",
        "\\frac{\\partial \\mathcal{L}}{\\partial w_j} &= \\frac{\\partial}{\\partial w_j} \\frac{1}{n} \\sum_i (\\hat{y}^{[i]} - y^{[i]} )^2\\\\\n",
        "&= \\frac{\\partial}{\\partial w_j}  \\frac{1}{n} \\sum_i (\\sigma(\\mathbf{w}^T\\mathbf{x}^{[i]} + b) - y^{[i]})^2\\\\\n",
        "\\\\\n",
        "&= \\quad ... \\\\\n",
        "\\\\\n",
        "&= \\sum_i \\frac{2}{n}  (\\sigma(\\mathbf{w}^T\\mathbf{x}^{[i]} + b) - y^{[i]})   x_j^{[i]}\n",
        "\\end{align}\n",
        "$$"
      ]
    },
    {
      "cell_type": "markdown",
      "metadata": {
        "id": "gbIqWqHnHdUd"
      },
      "source": [
        "<br>\n",
        "<br>"
      ]
    },
    {
      "cell_type": "markdown",
      "metadata": {
        "id": "-VJe0vHGHdUg"
      },
      "source": [
        "$$\n",
        "\\begin{align}\n",
        "\\frac{\\partial \\mathcal{L}}{\\partial b} &= \\frac{\\partial}{\\partial b} \\frac{1}{n}\\sum_i (\\hat{y}^{[i]} - y^{[i]} )^2\\\\\n",
        "&= \\frac{\\partial}{\\partial b}  \\frac{1}{n} \\sum_i (\\sigma(\\mathbf{w}^T\\mathbf{x}^{[i]} + b) - y^{[i]})^2\\\\\n",
        "\\\\\n",
        "&= \\quad ... \\\\\n",
        "\\\\\n",
        "&= \\sum_i \\frac{2}{n}  (\\sigma(\\mathbf{w}^T\\mathbf{x}^{[i]} + b) - y^{[i]})\n",
        "\\end{align}\n",
        "$$"
      ]
    },
    {
      "cell_type": "markdown",
      "metadata": {
        "id": "mpzaBAofHdUg"
      },
      "source": [
        "Again, your task is to derive \n",
        "\n",
        "- a) $$\\frac{\\partial \\mathcal{L}}{\\partial w_j}$$ \n",
        "\n",
        "and \n",
        "\n",
        "- b) $$\\frac{\\partial \\mathcal{L}}{\\partial b}$$ \n",
        "\n",
        "for the neuron model with the non-linear activation function \n",
        "\n",
        "$$\n",
        "\\sigma(\\mathbf{w}^\\top \\mathbf{x} + b) =  \\frac{e^{\\mathbf{w}^\\top \\mathbf{x} + b} - e^{- (\\mathbf{w}^\\top \\mathbf{x} + b)}}{e^{\\mathbf{w}^\\top \\mathbf{x}+b} + e^{- (\\mathbf{w}^\\top \\mathbf{x}+ b)}}\n",
        "$$\n",
        "\n",
        "For partial credits in case of a wrong solution, also write down the individual steps in the cell below."
      ]
    },
    {
      "cell_type": "markdown",
      "metadata": {
        "id": "Fyo-LJT3HdUh"
      },
      "source": [
        "**!!!Fill in with your solution below!!!**\n",
        "\n",
        "$$\n",
        "\\begin{align}\n",
        "\\frac{\\partial \\mathcal{L}}{\\partial w_j} &= \\frac{\\partial}{\\partial w_j} \\frac{1}{n}\\sum_i (\\hat{y}^{[i]} - y^{[i]} )^2\\\\\n",
        "&= ...\\\\\n",
        "&= ...\\\\\n",
        "&= ...\\\\\n",
        "\\end{align}\n",
        "$$"
      ]
    },
    {
      "cell_type": "markdown",
      "metadata": {
        "id": "jVZN-kiwHdUi"
      },
      "source": [
        "<br>\n",
        "<br>"
      ]
    },
    {
      "cell_type": "markdown",
      "metadata": {
        "id": "S3TmmnprHdUj"
      },
      "source": [
        "**!!!Fill in with your solution below!!!**\n",
        "$$\n",
        "\\begin{align}\n",
        "\\frac{\\partial \\mathcal{L}}{\\partial b} &= \\frac{\\partial}{\\partial b} \\frac{1}{n} \\sum_i (\\hat{y}^{[i]} - y^{[i]} )^2\\\\\n",
        "&= ...\\\\\n",
        "&= ...\\\\\n",
        "&= ...\\\\\n",
        "\\end{align}\n",
        "$$"
      ]
    },
    {
      "cell_type": "markdown",
      "metadata": {
        "id": "1e-16-J7HdUj"
      },
      "source": [
        "# Coding Section"
      ]
    },
    {
      "cell_type": "markdown",
      "metadata": {
        "id": "Zw9dHb-cHdUk"
      },
      "source": [
        "Complete the code below, the missing parts are indicated via \n",
        "\n",
        "    # <YOUR CODE HERE>\n",
        "    \n",
        "to implement the neuron model (it is very similar to the ADALINE model we discussed in class, except the derivatives)."
      ]
    },
    {
      "cell_type": "markdown",
      "metadata": {
        "id": "_l9ZyTtwHdUl"
      },
      "source": [
        "## Imports (Don't modify this section, just execute)"
      ]
    },
    {
      "cell_type": "markdown",
      "metadata": {
        "id": "Us3G6qfcHdUm"
      },
      "source": [
        "**No modification required.** You should execute this code and are encouraged to explore it further, but it is recommended to  not make any alterations here."
      ]
    },
    {
      "cell_type": "code",
      "metadata": {
        "id": "j8Eo6wrCHdUn"
      },
      "source": [
        "import matplotlib.pyplot as plt\n",
        "import pandas as pd\n",
        "import torch\n",
        "%matplotlib inline"
      ],
      "execution_count": null,
      "outputs": []
    },
    {
      "cell_type": "markdown",
      "metadata": {
        "id": "VKga_t1-HdUo"
      },
      "source": [
        "## Loading the dataset (Don't modify this section, just execute)"
      ]
    },
    {
      "cell_type": "markdown",
      "metadata": {
        "id": "VSUK6LtSHdUq"
      },
      "source": [
        "**No modification required.** You should execute this code and are encouraged to explore it further, but it is recommended to  not make any alterations here."
      ]
    },
    {
      "cell_type": "code",
      "metadata": {
        "id": "QHgDgQ9XHdUq",
        "colab": {
          "base_uri": "https://localhost:8080/",
          "height": 206
        },
        "outputId": "087377e9-8cb2-49f2-e6c3-39802e472272"
      },
      "source": [
        "df = pd.read_csv('https://raw.githubusercontent.com/rasbt/stat453-deep-learning-ss20/master/hw02/datasets/iris.data', index_col=None, header=None)\n",
        "df.columns = ['x1', 'x2', 'x3', 'x4', 'y']\n",
        "df = df.iloc[50:150]\n",
        "df['y'] = df['y'].apply(lambda x: 0 if x == 'Iris-versicolor' else 1)\n",
        "df.tail()"
      ],
      "execution_count": null,
      "outputs": [
        {
          "output_type": "execute_result",
          "data": {
            "text/html": [
              "<div>\n",
              "<style scoped>\n",
              "    .dataframe tbody tr th:only-of-type {\n",
              "        vertical-align: middle;\n",
              "    }\n",
              "\n",
              "    .dataframe tbody tr th {\n",
              "        vertical-align: top;\n",
              "    }\n",
              "\n",
              "    .dataframe thead th {\n",
              "        text-align: right;\n",
              "    }\n",
              "</style>\n",
              "<table border=\"1\" class=\"dataframe\">\n",
              "  <thead>\n",
              "    <tr style=\"text-align: right;\">\n",
              "      <th></th>\n",
              "      <th>x1</th>\n",
              "      <th>x2</th>\n",
              "      <th>x3</th>\n",
              "      <th>x4</th>\n",
              "      <th>y</th>\n",
              "    </tr>\n",
              "  </thead>\n",
              "  <tbody>\n",
              "    <tr>\n",
              "      <th>145</th>\n",
              "      <td>6.7</td>\n",
              "      <td>3.0</td>\n",
              "      <td>5.2</td>\n",
              "      <td>2.3</td>\n",
              "      <td>1</td>\n",
              "    </tr>\n",
              "    <tr>\n",
              "      <th>146</th>\n",
              "      <td>6.3</td>\n",
              "      <td>2.5</td>\n",
              "      <td>5.0</td>\n",
              "      <td>1.9</td>\n",
              "      <td>1</td>\n",
              "    </tr>\n",
              "    <tr>\n",
              "      <th>147</th>\n",
              "      <td>6.5</td>\n",
              "      <td>3.0</td>\n",
              "      <td>5.2</td>\n",
              "      <td>2.0</td>\n",
              "      <td>1</td>\n",
              "    </tr>\n",
              "    <tr>\n",
              "      <th>148</th>\n",
              "      <td>6.2</td>\n",
              "      <td>3.4</td>\n",
              "      <td>5.4</td>\n",
              "      <td>2.3</td>\n",
              "      <td>1</td>\n",
              "    </tr>\n",
              "    <tr>\n",
              "      <th>149</th>\n",
              "      <td>5.9</td>\n",
              "      <td>3.0</td>\n",
              "      <td>5.1</td>\n",
              "      <td>1.8</td>\n",
              "      <td>1</td>\n",
              "    </tr>\n",
              "  </tbody>\n",
              "</table>\n",
              "</div>"
            ],
            "text/plain": [
              "      x1   x2   x3   x4  y\n",
              "145  6.7  3.0  5.2  2.3  1\n",
              "146  6.3  2.5  5.0  1.9  1\n",
              "147  6.5  3.0  5.2  2.0  1\n",
              "148  6.2  3.4  5.4  2.3  1\n",
              "149  5.9  3.0  5.1  1.8  1"
            ]
          },
          "metadata": {
            "tags": []
          },
          "execution_count": 2
        }
      ]
    },
    {
      "cell_type": "code",
      "metadata": {
        "id": "MS7FBwGcHdUr"
      },
      "source": [
        "# Assign features and target\n",
        "\n",
        "X = torch.tensor(df[['x2', 'x3']].values, dtype=torch.float)\n",
        "y = torch.tensor(df['y'].values, dtype=torch.int)\n",
        "\n",
        "# Shuffling & train/test split\n",
        "\n",
        "torch.manual_seed(123)\n",
        "shuffle_idx = torch.randperm(y.size(0), dtype=torch.long)\n",
        "\n",
        "X, y = X[shuffle_idx], y[shuffle_idx]\n",
        "\n",
        "percent70 = int(shuffle_idx.size(0)*0.7)\n",
        "\n",
        "X_train, X_test = X[shuffle_idx[:percent70]], X[shuffle_idx[percent70:]]\n",
        "y_train, y_test = y[shuffle_idx[:percent70]], y[shuffle_idx[percent70:]]\n",
        "\n",
        "# Normalize (mean zero, unit variance)\n",
        "\n",
        "mu, sigma = X_train.mean(dim=0), X_train.std(dim=0)\n",
        "X_train = (X_train - mu) / sigma\n",
        "X_test = (X_test - mu) / sigma"
      ],
      "execution_count": null,
      "outputs": []
    },
    {
      "cell_type": "code",
      "metadata": {
        "id": "Ea9Dt0MoHdUt",
        "colab": {
          "base_uri": "https://localhost:8080/",
          "height": 265
        },
        "outputId": "287c3f1d-47e6-4a86-c51a-187fb470b32a"
      },
      "source": [
        "plt.scatter(X_train[y_train == 0, 0], X_train[y_train == 0, 1], label='class 0')\n",
        "plt.scatter(X_train[y_train == 1, 0], X_train[y_train == 1, 1], label='class 1')\n",
        "plt.legend()\n",
        "plt.show()"
      ],
      "execution_count": null,
      "outputs": [
        {
          "output_type": "display_data",
          "data": {
            "image/png": "[encoded data removed]",
            "text/plain": [
              "<Figure size 432x288 with 1 Axes>"
            ]
          },
          "metadata": {
            "tags": [],
            "needs_background": "light"
          }
        }
      ]
    },
    {
      "cell_type": "code",
      "metadata": {
        "id": "Jj6JhQ9BHdUt",
        "colab": {
          "base_uri": "https://localhost:8080/",
          "height": 265
        },
        "outputId": "79f331f0-5cc2-48d0-f2f1-3139f13dd0f7"
      },
      "source": [
        "plt.scatter(X_test[y_test == 0, 0], X_test[y_test == 0, 1], label='class 0')\n",
        "plt.scatter(X_test[y_test == 1, 0], X_test[y_test == 1, 1], label='class 1')\n",
        "plt.legend()\n",
        "plt.show()"
      ],
      "execution_count": null,
      "outputs": [
        {
          "output_type": "display_data",
          "data": {
            "image/png": "[encoded data removed]",
            "text/plain": [
              "<Figure size 432x288 with 1 Axes>"
            ]
          },
          "metadata": {
            "tags": [],
            "needs_background": "light"
          }
        }
      ]
    },
    {
      "cell_type": "markdown",
      "metadata": {
        "id": "3qfpwBTGHdUt"
      },
      "source": [
        "## TASK 2: Implement the Neuron Model (Modifications required) -- 25 pts"
      ]
    },
    {
      "cell_type": "markdown",
      "metadata": {
        "id": "riBmPSNwHdUu"
      },
      "source": [
        "Your task is to complete the `backward` method to compute the gradients based on the gradients you computed in TASK1."
      ]
    },
    {
      "cell_type": "code",
      "metadata": {
        "id": "Eq-TaMtEIo_V"
      },
      "source": [
        "from torch.autograd import grad"
      ],
      "execution_count": null,
      "outputs": []
    },
    {
      "cell_type": "code",
      "metadata": {
        "id": "HpUakn7sHdUu"
      },
      "source": [
        "class NeuronModel():\n",
        "    def __init__(self, num_features):\n",
        "        self.num_features = num_features\n",
        "        self.weights = torch.zeros(num_features, 1, \n",
        "                                   dtype=torch.float)\n",
        "        self.bias = torch.zeros(1, dtype=torch.float)\n",
        "        \n",
        "    def activation_func(self, x):\n",
        "        return (torch.exp(x) - torch.exp(-x)) / (torch.exp(x) + torch.exp(-x))\n",
        "    \n",
        "    def netinput_func(self, x, w, b):\n",
        "         return torch.add(torch.mm(x, w), b)\n",
        "\n",
        "    def forward(self, x):\n",
        "        netinputs = self.netinput_func(x, self.weights, self.bias)\n",
        "        activations = self.activation_func(netinputs)\n",
        "        return activations.view(-1)\n",
        "        \n",
        "    def backward(self, x, yhat, y):  \n",
        "        \n",
        "        # note that here, \"yhat\" are the \"activations\" \n",
        "        netinputs = self.netinput_func(x, self.weights, self.bias)\n",
        "        \n",
        "        ###############################################################################\n",
        "        # YOU ONLY NEED TO EDIT IN THE BOX BELOW\n",
        "        ###############################################################################\n",
        "        grad_loss_yhat = 2 * (yhat - y)         # x[0] = (10,)          # partial derivaitve of the loss with respect to activation\n",
        "\n",
        "\n",
        "        # grad_yhat_bias = (4 / (torch.exp(netinputs) + torch.exp(-netinputs))**2)            # dim of n            ## different method of coming to the derivative.\n",
        "        # grad_yhat_weights = (4 / (torch.exp(netinputs) + torch.exp(-netinputs))**2) * x     # dim of x\n",
        "\n",
        "        grad_yhat_weights = (1 - self.activation_func(netinputs)**2) * x        #dim of x (10X2)            partial derivative of activation with respect to weights \n",
        "        grad_yhat_bias = (1 - self.activation_func(netinputs)**2)               #dim of x[0] (10,)          partial derivative of activation with respect to bias\n",
        "        \n",
        "        grad_loss_weights = torch.mm(grad_yhat_weights.t(), \n",
        "                                     grad_loss_yhat.view(-1, 1)) / y.size(0)     #dim = (2X10).dot(10X1) = 2X1       Using the chain rule (inner and outer)\n",
        "        grad_loss_bias = torch.sum(grad_loss_yhat * grad_yhat_bias) / y.size(0)  #dim = sum((10)*(10)) = 1          Using the chain rule (inner and outer)\n",
        "\n",
        "\n",
        "        ################################################################################\n",
        "        \n",
        "        return (-1)*grad_loss_weights, (-1)*grad_loss_bias"
      ],
      "execution_count": null,
      "outputs": []
    },
    {
      "cell_type": "markdown",
      "metadata": {
        "id": "bf06cSRbHdUv"
      },
      "source": [
        "# No modifications required beyond this point"
      ]
    },
    {
      "cell_type": "markdown",
      "metadata": {
        "id": "xAkQbBOoHdUw"
      },
      "source": [
        "You do not need to modify anything below. However, you should run and analyze the code to verify that your implementation of the Neuron model is likely correct."
      ]
    },
    {
      "cell_type": "markdown",
      "metadata": {
        "id": "LMjkFTGwHdUx"
      },
      "source": [
        "## Training the Neuron Model (Don't modify this section, just execute)"
      ]
    },
    {
      "cell_type": "code",
      "metadata": {
        "id": "yJrMX55uHdUy"
      },
      "source": [
        "####################################################\n",
        "##### Training and evaluation wrappers\n",
        "###################################################\n",
        "\n",
        "def loss(yhat, y):\n",
        "    return torch.mean((yhat - y)**2)\n",
        "\n",
        "\n",
        "def train(model, x, y, num_epochs,\n",
        "          learning_rate=0.01, seed=123, minibatch_size=10):\n",
        "    cost = []\n",
        "    \n",
        "    torch.manual_seed(seed)\n",
        "    for e in range(num_epochs):\n",
        "        \n",
        "        #### Shuffle epoch\n",
        "        shuffle_idx = torch.randperm(y.size(0), dtype=torch.long)\n",
        "        minibatches = torch.split(shuffle_idx, minibatch_size)\n",
        "        \n",
        "        for minibatch_idx in minibatches:\n",
        "\n",
        "            #### Compute outputs ####\n",
        "            yhat = model.forward(x[minibatch_idx])\n",
        "\n",
        "            #### Compute gradients ####\n",
        "            negative_grad_w, negative_grad_b = \\\n",
        "                model.backward(x[minibatch_idx], yhat, y[minibatch_idx])\n",
        "\n",
        "            #### Update weights ####\n",
        "            model.weights += learning_rate * negative_grad_w\n",
        "            model.bias += learning_rate * negative_grad_b\n",
        "            \n",
        "            #### Logging ####\n",
        "            #minibatch_loss = loss(yhat, y[minibatch_idx])\n",
        "            #print('    Minibatch MSE: %.3f' % minibatch_loss)\n",
        "\n",
        "        #### Logging ####\n",
        "        yhat = model.forward(x)\n",
        "        curr_loss = loss(yhat, y)\n",
        "        print('Epoch: %03d' % (e+1), end=\"\")\n",
        "        print(' | MSE: %.5f' % curr_loss)\n",
        "        cost.append(curr_loss)\n",
        "\n",
        "    return cost"
      ],
      "execution_count": null,
      "outputs": []
    },
    {
      "cell_type": "code",
      "metadata": {
        "id": "iQhwVFwuHdUy",
        "colab": {
          "base_uri": "https://localhost:8080/"
        },
        "outputId": "9988c2f1-6d90-4214-ef61-199b50083325"
      },
      "source": [
        "model = NeuronModel(num_features=X_train.size(1))\n",
        "cost = train(model, \n",
        "             X_train, y_train.float(),\n",
        "             num_epochs=150,\n",
        "             learning_rate=0.001,\n",
        "             seed=123,\n",
        "             minibatch_size=10)"
      ],
      "execution_count": null,
      "outputs": [
        {
          "output_type": "stream",
          "text": [
            "Epoch: 001 | MSE: 0.42337\n",
            "Epoch: 002 | MSE: 0.37589\n",
            "Epoch: 003 | MSE: 0.33997\n",
            "Epoch: 004 | MSE: 0.31275\n",
            "Epoch: 005 | MSE: 0.29190\n",
            "Epoch: 006 | MSE: 0.27550\n",
            "Epoch: 007 | MSE: 0.26247\n",
            "Epoch: 008 | MSE: 0.25219\n",
            "Epoch: 009 | MSE: 0.24365\n",
            "Epoch: 010 | MSE: 0.23669\n",
            "Epoch: 011 | MSE: 0.23086\n",
            "Epoch: 012 | MSE: 0.22595\n",
            "Epoch: 013 | MSE: 0.22166\n",
            "Epoch: 014 | MSE: 0.21792\n",
            "Epoch: 015 | MSE: 0.21463\n",
            "Epoch: 016 | MSE: 0.21165\n",
            "Epoch: 017 | MSE: 0.20898\n",
            "Epoch: 018 | MSE: 0.20656\n",
            "Epoch: 019 | MSE: 0.20432\n",
            "Epoch: 020 | MSE: 0.20222\n",
            "Epoch: 021 | MSE: 0.20027\n",
            "Epoch: 022 | MSE: 0.19843\n",
            "Epoch: 023 | MSE: 0.19670\n",
            "Epoch: 024 | MSE: 0.19503\n",
            "Epoch: 025 | MSE: 0.19344\n",
            "Epoch: 026 | MSE: 0.19191\n",
            "Epoch: 027 | MSE: 0.19044\n",
            "Epoch: 028 | MSE: 0.18902\n",
            "Epoch: 029 | MSE: 0.18765\n",
            "Epoch: 030 | MSE: 0.18632\n",
            "Epoch: 031 | MSE: 0.18503\n",
            "Epoch: 032 | MSE: 0.18376\n",
            "Epoch: 033 | MSE: 0.18254\n",
            "Epoch: 034 | MSE: 0.18134\n",
            "Epoch: 035 | MSE: 0.18017\n",
            "Epoch: 036 | MSE: 0.17904\n",
            "Epoch: 037 | MSE: 0.17792\n",
            "Epoch: 038 | MSE: 0.17684\n",
            "Epoch: 039 | MSE: 0.17579\n",
            "Epoch: 040 | MSE: 0.17475\n",
            "Epoch: 041 | MSE: 0.17374\n",
            "Epoch: 042 | MSE: 0.17273\n",
            "Epoch: 043 | MSE: 0.17175\n",
            "Epoch: 044 | MSE: 0.17081\n",
            "Epoch: 045 | MSE: 0.16988\n",
            "Epoch: 046 | MSE: 0.16896\n",
            "Epoch: 047 | MSE: 0.16806\n",
            "Epoch: 048 | MSE: 0.16719\n",
            "Epoch: 049 | MSE: 0.16632\n",
            "Epoch: 050 | MSE: 0.16548\n",
            "Epoch: 051 | MSE: 0.16466\n",
            "Epoch: 052 | MSE: 0.16385\n",
            "Epoch: 053 | MSE: 0.16306\n",
            "Epoch: 054 | MSE: 0.16224\n",
            "Epoch: 055 | MSE: 0.16144\n",
            "Epoch: 056 | MSE: 0.16067\n",
            "Epoch: 057 | MSE: 0.15992\n",
            "Epoch: 058 | MSE: 0.15921\n",
            "Epoch: 059 | MSE: 0.15851\n",
            "Epoch: 060 | MSE: 0.15778\n",
            "Epoch: 061 | MSE: 0.15708\n",
            "Epoch: 062 | MSE: 0.15642\n",
            "Epoch: 063 | MSE: 0.15575\n",
            "Epoch: 064 | MSE: 0.15510\n",
            "Epoch: 065 | MSE: 0.15447\n",
            "Epoch: 066 | MSE: 0.15384\n",
            "Epoch: 067 | MSE: 0.15321\n",
            "Epoch: 068 | MSE: 0.15259\n",
            "Epoch: 069 | MSE: 0.15198\n",
            "Epoch: 070 | MSE: 0.15141\n",
            "Epoch: 071 | MSE: 0.15086\n",
            "Epoch: 072 | MSE: 0.15028\n",
            "Epoch: 073 | MSE: 0.14972\n",
            "Epoch: 074 | MSE: 0.14919\n",
            "Epoch: 075 | MSE: 0.14861\n",
            "Epoch: 076 | MSE: 0.14808\n",
            "Epoch: 077 | MSE: 0.14755\n",
            "Epoch: 078 | MSE: 0.14704\n",
            "Epoch: 079 | MSE: 0.14651\n",
            "Epoch: 080 | MSE: 0.14599\n",
            "Epoch: 081 | MSE: 0.14550\n",
            "Epoch: 082 | MSE: 0.14500\n",
            "Epoch: 083 | MSE: 0.14455\n",
            "Epoch: 084 | MSE: 0.14410\n",
            "Epoch: 085 | MSE: 0.14366\n",
            "Epoch: 086 | MSE: 0.14321\n",
            "Epoch: 087 | MSE: 0.14277\n",
            "Epoch: 088 | MSE: 0.14232\n",
            "Epoch: 089 | MSE: 0.14192\n",
            "Epoch: 090 | MSE: 0.14153\n",
            "Epoch: 091 | MSE: 0.14110\n",
            "Epoch: 092 | MSE: 0.14069\n",
            "Epoch: 093 | MSE: 0.14030\n",
            "Epoch: 094 | MSE: 0.13991\n",
            "Epoch: 095 | MSE: 0.13952\n",
            "Epoch: 096 | MSE: 0.13914\n",
            "Epoch: 097 | MSE: 0.13876\n",
            "Epoch: 098 | MSE: 0.13836\n",
            "Epoch: 099 | MSE: 0.13799\n",
            "Epoch: 100 | MSE: 0.13762\n",
            "Epoch: 101 | MSE: 0.13726\n",
            "Epoch: 102 | MSE: 0.13692\n",
            "Epoch: 103 | MSE: 0.13656\n",
            "Epoch: 104 | MSE: 0.13622\n",
            "Epoch: 105 | MSE: 0.13589\n",
            "Epoch: 106 | MSE: 0.13555\n",
            "Epoch: 107 | MSE: 0.13521\n",
            "Epoch: 108 | MSE: 0.13489\n",
            "Epoch: 109 | MSE: 0.13456\n",
            "Epoch: 110 | MSE: 0.13424\n",
            "Epoch: 111 | MSE: 0.13393\n",
            "Epoch: 112 | MSE: 0.13363\n",
            "Epoch: 113 | MSE: 0.13334\n",
            "Epoch: 114 | MSE: 0.13304\n",
            "Epoch: 115 | MSE: 0.13274\n",
            "Epoch: 116 | MSE: 0.13239\n",
            "Epoch: 117 | MSE: 0.13205\n",
            "Epoch: 118 | MSE: 0.13175\n",
            "Epoch: 119 | MSE: 0.13146\n",
            "Epoch: 120 | MSE: 0.13117\n",
            "Epoch: 121 | MSE: 0.13090\n",
            "Epoch: 122 | MSE: 0.13062\n",
            "Epoch: 123 | MSE: 0.13032\n",
            "Epoch: 124 | MSE: 0.13004\n",
            "Epoch: 125 | MSE: 0.12980\n",
            "Epoch: 126 | MSE: 0.12952\n",
            "Epoch: 127 | MSE: 0.12927\n",
            "Epoch: 128 | MSE: 0.12900\n",
            "Epoch: 129 | MSE: 0.12873\n",
            "Epoch: 130 | MSE: 0.12847\n",
            "Epoch: 131 | MSE: 0.12817\n",
            "Epoch: 132 | MSE: 0.12793\n",
            "Epoch: 133 | MSE: 0.12765\n",
            "Epoch: 134 | MSE: 0.12741\n",
            "Epoch: 135 | MSE: 0.12716\n",
            "Epoch: 136 | MSE: 0.12693\n",
            "Epoch: 137 | MSE: 0.12670\n",
            "Epoch: 138 | MSE: 0.12650\n",
            "Epoch: 139 | MSE: 0.12625\n",
            "Epoch: 140 | MSE: 0.12602\n",
            "Epoch: 141 | MSE: 0.12575\n",
            "Epoch: 142 | MSE: 0.12552\n",
            "Epoch: 143 | MSE: 0.12533\n",
            "Epoch: 144 | MSE: 0.12513\n",
            "Epoch: 145 | MSE: 0.12494\n",
            "Epoch: 146 | MSE: 0.12473\n",
            "Epoch: 147 | MSE: 0.12450\n",
            "Epoch: 148 | MSE: 0.12428\n",
            "Epoch: 149 | MSE: 0.12406\n",
            "Epoch: 150 | MSE: 0.12381\n"
          ],
          "name": "stdout"
        }
      ]
    },
    {
      "cell_type": "markdown",
      "metadata": {
        "id": "qLnwA5yyHdUy"
      },
      "source": [
        "## Evaluate the Trained Model  (Don't modify this section, just execute)"
      ]
    },
    {
      "cell_type": "code",
      "metadata": {
        "id": "6r-M95gqHdUz",
        "colab": {
          "base_uri": "https://localhost:8080/",
          "height": 279
        },
        "outputId": "418a9c47-8387-4f62-a881-8455289de15c"
      },
      "source": [
        "plt.plot(range(len(cost)), cost)\n",
        "plt.ylabel('Mean Squared Error')\n",
        "plt.xlabel('Epoch')\n",
        "plt.show()"
      ],
      "execution_count": null,
      "outputs": [
        {
          "output_type": "display_data",
          "data": {
            "image/png": "[encoded data removed]",
            "text/plain": [
              "<Figure size 432x288 with 1 Axes>"
            ]
          },
          "metadata": {
            "tags": [],
            "needs_background": "light"
          }
        }
      ]
    },
    {
      "cell_type": "code",
      "metadata": {
        "id": "SQoo2KOMHdU0",
        "colab": {
          "base_uri": "https://localhost:8080/"
        },
        "outputId": "311b536c-e305-4310-c753-b3b81b42cede"
      },
      "source": [
        "print('Weights', model.weights)\n",
        "print('Bias', model.bias)"
      ],
      "execution_count": null,
      "outputs": [
        {
          "output_type": "stream",
          "text": [
            "Weights tensor([[0.0249],\n",
            "        [0.3409]])\n",
            "Bias tensor([0.5732])\n"
          ],
          "name": "stdout"
        }
      ]
    },
    {
      "cell_type": "code",
      "metadata": {
        "id": "p_Q1PcRFHdU0",
        "colab": {
          "base_uri": "https://localhost:8080/"
        },
        "outputId": "56708a3f-600f-4d28-e372-1fc2d590dd00"
      },
      "source": [
        "train_pred = model.forward(X_train)\n",
        "train_acc = torch.mean(\n",
        "    (torch.where(train_pred > 0.5, \n",
        "                 torch.tensor(1), \n",
        "                 torch.tensor(0)).int() == y_train).float())\n",
        "\n",
        "test_pred = model.forward(X_test)\n",
        "test_acc = torch.mean(\n",
        "    (torch.where(train_pred > 0.5, \n",
        "                 torch.tensor(1), \n",
        "                 torch.tensor(0)).int() == y_train).float())\n",
        "\n",
        "print('Training Accuracy: %.2f%%' % (train_acc*100))\n",
        "print('Test Accuracy: %.2f%%' % (test_acc*100))"
      ],
      "execution_count": null,
      "outputs": [
        {
          "output_type": "stream",
          "text": [
            "Training Accuracy: 91.43%\n",
            "Test Accuracy: 91.43%\n"
          ],
          "name": "stdout"
        }
      ]
    },
    {
      "cell_type": "markdown",
      "metadata": {
        "id": "UDO1uBkUHdU1"
      },
      "source": [
        "## Decision Boundary  (Don't modify this section, just execute)"
      ]
    },
    {
      "cell_type": "code",
      "metadata": {
        "id": "KXkEjkOtHdU1",
        "colab": {
          "base_uri": "https://localhost:8080/",
          "height": 211
        },
        "outputId": "a9e30e64-13c0-49a3-cb34-e9517a410854"
      },
      "source": [
        "##########################\n",
        "### 2D Decision Boundary\n",
        "##########################\n",
        "\n",
        "w, b = model.weights, model.bias\n",
        "\n",
        "x_min = -3\n",
        "y_min = ( (-(w[0] * x_min) - b[0]) \n",
        "          / w[1] )\n",
        "\n",
        "x_max = 3\n",
        "y_max = ( (-(w[0] * x_max) - b[0]) \n",
        "          / w[1] )\n",
        "\n",
        "\n",
        "fig, ax = plt.subplots(1, 2, sharex=True, figsize=(7, 3))\n",
        "\n",
        "ax[0].plot([x_min, x_max], [y_min, y_max])\n",
        "ax[1].plot([x_min, x_max], [y_min, y_max])\n",
        "\n",
        "ax[0].scatter(X_train[y_train==0, 0], X_train[y_train==0, 1], label='class 0', marker='o')\n",
        "ax[0].scatter(X_train[y_train==1, 0], X_train[y_train==1, 1], label='class 1', marker='s')\n",
        "\n",
        "ax[1].scatter(X_test[y_test==0, 0], X_test[y_test==0, 1], label='class 0', marker='o')\n",
        "ax[1].scatter(X_test[y_test==1, 0], X_test[y_test==1, 1], label='class 1', marker='s')\n",
        "\n",
        "ax[1].legend(loc='upper left')\n",
        "plt.show()"
      ],
      "execution_count": null,
      "outputs": [
        {
          "output_type": "display_data",
          "data": {
            "image/png": "[encoded data removed]",
            "text/plain": [
              "<Figure size 504x216 with 2 Axes>"
            ]
          },
          "metadata": {
            "tags": [],
            "needs_background": "light"
          }
        }
      ]
    },
    {
      "cell_type": "code",
      "metadata": {
        "id": "TPMLcHRKLhyv"
      },
      "source": [
        ""
      ],
      "execution_count": null,
      "outputs": []
    }
  ]
}