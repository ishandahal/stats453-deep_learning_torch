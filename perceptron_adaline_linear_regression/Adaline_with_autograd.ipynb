{
  "nbformat": 4,
  "nbformat_minor": 0,
  "metadata": {
    "colab": {
      "name": "Adaline_with_autograd.ipynb",
      "provenance": [],
      "authorship_tag": "ABX9TyMzxjeneKb3FZaIN3O/TMBy",
      "include_colab_link": true
    },
    "kernelspec": {
      "name": "python3",
      "display_name": "Python 3"
    }
  },
  "cells": [
    {
      "cell_type": "markdown",
      "metadata": {
        "id": "view-in-github",
        "colab_type": "text"
      },
      "source": [
        "<a href=\"https://colab.research.google.com/github/ishandahal/stats453-deep_learning_torch/blob/main/perceptron_adaline_linear_regression/Adaline_with_autograd.ipynb\" target=\"_parent\"><img src=\"https://colab.research.google.com/assets/colab-badge.svg\" alt=\"Open In Colab\"/></a>"
      ]
    },
    {
      "cell_type": "code",
      "metadata": {
        "id": "bunHqhMIeERp"
      },
      "source": [
        "import torch\n",
        "from torch.autograd import grad\n",
        "import torch.nn.functional as F"
      ],
      "execution_count": null,
      "outputs": []
    },
    {
      "cell_type": "markdown",
      "metadata": {
        "id": "20N73PIyee9I"
      },
      "source": [
        "### Dataset Prep"
      ]
    },
    {
      "cell_type": "code",
      "metadata": {
        "id": "mBQnkkTBequ4"
      },
      "source": [
        "import pandas as pd\n",
        "\n",
        "df = pd.read_csv('https://raw.githubusercontent.com/rasbt/stat453-deep-learning-ss20/master/L06-pytorch/code/datasets/iris.data',\n",
        "                 index_col=None, header=None)\n",
        "df.columns = ['x1', 'x2', 'x3', 'x4', 'y']\n",
        "df = df.iloc[50:150]\n",
        "df['y'] = df['y'].apply(lambda x: 0 if x == 'Iris-versicolor' else 1)\n",
        "\n",
        "X = torch.tensor(df[['x2', 'x3']].values, dtype=torch.float)\n",
        "y = torch.tensor(df['y'].values, dtype=torch.int)\n",
        "\n",
        "torch.manual_seed(123)\n",
        "shuffle_idx = torch.randperm(y.size(0), dtype=torch.long)\n",
        "\n",
        "X, y = X[shuffle_idx], y[shuffle_idx]\n",
        "\n",
        "percent70 = int(shuffle_idx.size(0) * 0.7)\n",
        "\n",
        "X_train, X_test = X[shuffle_idx[:percent70]], X[shuffle_idx[percent70:]]\n",
        "y_train, y_test = y[shuffle_idx[:percent70]], y[shuffle_idx[percent70:]]\n",
        "\n",
        "## Normalize (mean zero and unit variance)\n",
        "\n",
        "mu, sigma = X_train.mean(dim=0), X_train.std(dim=0)\n",
        "X_train = (X_train - mu) / sigma\n",
        "X_test = (X_test - mu) / sigma"
      ],
      "execution_count": null,
      "outputs": []
    },
    {
      "cell_type": "code",
      "metadata": {
        "id": "9V4QDG_fn6JV"
      },
      "source": [
        ""
      ],
      "execution_count": null,
      "outputs": []
    },
    {
      "cell_type": "markdown",
      "metadata": {
        "id": "ABLzEkJshad3"
      },
      "source": [
        "### Adaline Manually"
      ]
    },
    {
      "cell_type": "code",
      "metadata": {
        "id": "h2_z8Jo4i7S9"
      },
      "source": [
        "class Adaline1():\n",
        "    def __init__(self, num_features):\n",
        "        self.num_features = num_features\n",
        "        self.weight = torch.zeros(num_features, 1, \n",
        "                                  dtype=torch.float)\n",
        "        self.bias = torch.zeros(1, dtype=torch.float)\n",
        "\n",
        "    def forward(self, x):\n",
        "        netinputs = torch.add(torch.mm(x, self.weight), self.bias)\n",
        "        activations = netinputs\n",
        "        return activations.view(-1)\n",
        "        \n",
        "    def backward(self, x, yhat, y):  \n",
        "        \n",
        "        grad_loss_yhat = 2*(y - yhat)\n",
        "        \n",
        "        grad_yhat_weights = -x\n",
        "        grad_yhat_bias = -1.\n",
        "        \n",
        "        # Chain rule: inner times outer\n",
        "        grad_loss_weights =  torch.mm(grad_yhat_weights.t(),\n",
        "                                         grad_loss_yhat.view(-1, 1)) / y.size(0)\n",
        "\n",
        "        grad_loss_bias = torch.sum(grad_yhat_bias*grad_loss_yhat) / y.size(0)\n",
        "        \n",
        "        # return negative gradient\n",
        "        return (-1)*grad_loss_weights, (-1)*grad_loss_bias\n",
        "    \n",
        "    \n",
        "    \n",
        "####################################################\n",
        "##### Training and evaluation wrappers\n",
        "###################################################\n",
        "\n",
        "def loss_func(yhat, y):\n",
        "    return torch.mean((yhat - y)**2)\n",
        "\n",
        "\n",
        "def train(model, x, y, num_epochs,\n",
        "          learning_rate=0.01, seed=123, minibatch_size=10):\n",
        "    cost = []\n",
        "    \n",
        "    torch.manual_seed(seed)\n",
        "    for e in range(num_epochs):\n",
        "        \n",
        "        #### Shuffle epoch\n",
        "        shuffle_idx = torch.randperm(y.size(0), dtype=torch.long)\n",
        "        minibatches = torch.split(shuffle_idx, minibatch_size)\n",
        "        \n",
        "        for minibatch_idx in minibatches:\n",
        "\n",
        "            #### Compute outputs ####\n",
        "            yhat = model.forward(x[minibatch_idx])\n",
        "\n",
        "            #### Compute gradients ####\n",
        "            negative_grad_w, negative_grad_b = \\\n",
        "                model.backward(x[minibatch_idx], yhat, y[minibatch_idx])\n",
        "\n",
        "            #### Update weights ####\n",
        "            model.weight += learning_rate * negative_grad_w\n",
        "            model.bias += learning_rate * negative_grad_b\n",
        "            \n",
        "            #### Logging ####\n",
        "            #minibatch_loss = loss(yhat, y[minibatch_idx])\n",
        "            #print('    Minibatch MSE: %.3f' % minibatch_loss)\n",
        "\n",
        "        #### Logging ####\n",
        "        yhat = model.forward(x)\n",
        "        curr_loss = loss_func(yhat, y)\n",
        "        print('Epoch: %03d' % (e+1), end=\"\")\n",
        "        print(' | MSE: %.5f' % curr_loss)\n",
        "        cost.append(curr_loss)\n",
        "\n",
        "    return cost"
      ],
      "execution_count": null,
      "outputs": []
    },
    {
      "cell_type": "code",
      "metadata": {
        "colab": {
          "base_uri": "https://localhost:8080/"
        },
        "id": "noiFhgCOjBuW",
        "outputId": "adb3d917-fa4f-48b2-aed4-67164c458239"
      },
      "source": [
        "model = Adaline1(X_train.size(1))\n",
        "cost = train(model, X_train, y_train, num_epochs=20,\n",
        "             learning_rate=0.01,\n",
        "             seed=123,\n",
        "             minibatch_size=10)"
      ],
      "execution_count": null,
      "outputs": [
        {
          "output_type": "stream",
          "text": [
            "Epoch: 001 | MSE: 0.38849\n",
            "Epoch: 002 | MSE: 0.31679\n",
            "Epoch: 003 | MSE: 0.26379\n",
            "Epoch: 004 | MSE: 0.22463\n",
            "Epoch: 005 | MSE: 0.19527\n",
            "Epoch: 006 | MSE: 0.17307\n",
            "Epoch: 007 | MSE: 0.15629\n",
            "Epoch: 008 | MSE: 0.14352\n",
            "Epoch: 009 | MSE: 0.13360\n",
            "Epoch: 010 | MSE: 0.12600\n",
            "Epoch: 011 | MSE: 0.12007\n",
            "Epoch: 012 | MSE: 0.11547\n",
            "Epoch: 013 | MSE: 0.11178\n",
            "Epoch: 014 | MSE: 0.10884\n",
            "Epoch: 015 | MSE: 0.10656\n",
            "Epoch: 016 | MSE: 0.10470\n",
            "Epoch: 017 | MSE: 0.10320\n",
            "Epoch: 018 | MSE: 0.10200\n",
            "Epoch: 019 | MSE: 0.10105\n",
            "Epoch: 020 | MSE: 0.10025\n"
          ],
          "name": "stdout"
        }
      ]
    },
    {
      "cell_type": "code",
      "metadata": {
        "colab": {
          "base_uri": "https://localhost:8080/",
          "height": 281
        },
        "id": "ekR1CR9NjiR2",
        "outputId": "af14ede7-1102-4969-a08f-8c7884eac413"
      },
      "source": [
        "import matplotlib.pyplot as plt\n",
        "\n",
        "plt.plot(range(len(cost)), cost)\n",
        "plt.ylabel(\"Mean Squared Error\")\n",
        "plt.xlabel(\"Epoch\")\n",
        "plt.show()"
      ],
      "execution_count": null,
      "outputs": [
        {
          "output_type": "display_data",
          "data": {
            "image/png": "[encoded data removed]",
            "text/plain": [
              "<Figure size 432x288 with 1 Axes>"
            ]
          },
          "metadata": {
            "tags": [],
            "needs_background": "light"
          }
        }
      ]
    },
    {
      "cell_type": "code",
      "metadata": {
        "colab": {
          "base_uri": "https://localhost:8080/"
        },
        "id": "jrxFs2fzkKkR",
        "outputId": "d874b131-c920-4d4b-f8d0-e5951a73f172"
      },
      "source": [
        "ones = torch.ones(y_train.size())\n",
        "zeros = torch.zeros(y_train.size())\n",
        "train_pred = model.forward(X_train)\n",
        "train_acc = torch.mean(\n",
        "    (torch.where(train_pred > 0.5, ones, zeros).int() == y_train).float())\n",
        "\n",
        "ones = torch.ones(y_test.size())\n",
        "zeros = torch.zeros(y_test.size(0))\n",
        "test_pred = model.forward(X_test)\n",
        "test_acc = torch.mean(\n",
        "    (torch.where(test_pred > 0.5, ones, zeros).int() == y_test).float())\n",
        "\n",
        "print(f\"Training accuracy {train_acc * 100:.2f}\")\n",
        "print(f\"Testing accuracy {test_acc * 100:.2f}\")"
      ],
      "execution_count": null,
      "outputs": [
        {
          "output_type": "stream",
          "text": [
            "Training accuracy 92.86\n",
            "Testing accuracy 93.33\n"
          ],
          "name": "stdout"
        }
      ]
    },
    {
      "cell_type": "markdown",
      "metadata": {
        "id": "Qdz2tnH5nV65"
      },
      "source": [
        "### **ADALINE Semi-Manually (using Autograd)**"
      ]
    },
    {
      "cell_type": "code",
      "metadata": {
        "id": "ePoD0AkdoS1g"
      },
      "source": [
        "class Adaline2():\n",
        "    def __init__(self, num_features):\n",
        "        self.num_features = num_features\n",
        "        self.weights = torch.zeros(num_features, 1,\n",
        "                                   dtype=torch.float, requires_grad=True)\n",
        "        self.bias = torch.zeros(1, dtype=torch.float, requires_grad=True)\n",
        "\n",
        "    def forward(self, x):\n",
        "        netinputs = torch.add(torch.mm(x, self.weights), self.bias)\n",
        "        activations = netinputs\n",
        "        return activations.view(-1)\n",
        "\n",
        "\n",
        "def loss_func(yhat, y):\n",
        "    return torch.mean((yhat - y)**2)\n",
        "\n",
        "def train(model, x, y, num_epochs,\n",
        "          learning_rate=0.01, seed=123, minibatch_size=10):\n",
        "    cost = []\n",
        "\n",
        "    torch.manual_seed(123)\n",
        "    for e in range(num_epochs):\n",
        "\n",
        "        ## shuffle epoch\n",
        "        shuffle_idx = torch.randperm(x.size(0), dtype=torch.long)\n",
        "        minibatches = torch.split(shuffle_idx, minibatch_size)\n",
        "\n",
        "        for minibatch_idx in minibatches:\n",
        "\n",
        "            # Compute outputs\n",
        "            yhat = model.forward(x[minibatch_idx])\n",
        "            loss = loss_func(yhat, y[minibatch_idx])\n",
        "\n",
        "            ## Compute gradients\n",
        "\n",
        "            negative_grad_w = grad(loss, model.weights, retain_graph=True)[0] * (-1)\n",
        "            negative_grad_b = grad(loss, model.bias)[0] * (-1)\n",
        "\n",
        "            ## Update weights\n",
        "            model.weights = model.weights + negative_grad_w * learning_rate\n",
        "            model.bias = model.bias + negative_grad_b * learning_rate\n",
        "\n",
        "        ## Logging \n",
        "        with torch.no_grad():\n",
        "            # context manager to \n",
        "            # avoid building graph during \"inference\"\n",
        "            # to save memory\n",
        "            yhat = model.forward(x)\n",
        "            curr_loss = loss_func(yhat, y)\n",
        "            print(f\"Epoch: {e+1:03d}\", end=\"\")\n",
        "            print(f\"  | MSE: {curr_loss:.5f}\")\n",
        "            cost.append(curr_loss)\n",
        "    \n",
        "    return cost\n",
        "\n",
        "\n",
        "    "
      ],
      "execution_count": null,
      "outputs": []
    },
    {
      "cell_type": "code",
      "metadata": {
        "colab": {
          "base_uri": "https://localhost:8080/"
        },
        "id": "M-3SqmOgukG_",
        "outputId": "b264e613-f4c5-478f-b3c4-625a41066c5c"
      },
      "source": [
        "model = Adaline2(X_train.size(1))\n",
        "cost = train(model, X_train, y_train.float(),\n",
        "             num_epochs=20, learning_rate=0.01,\n",
        "             seed=123,\n",
        "             minibatch_size=10)"
      ],
      "execution_count": null,
      "outputs": [
        {
          "output_type": "stream",
          "text": [
            "Epoch: 001  | MSE: 0.38849\n",
            "Epoch: 002  | MSE: 0.31679\n",
            "Epoch: 003  | MSE: 0.26379\n",
            "Epoch: 004  | MSE: 0.22463\n",
            "Epoch: 005  | MSE: 0.19527\n",
            "Epoch: 006  | MSE: 0.17307\n",
            "Epoch: 007  | MSE: 0.15629\n",
            "Epoch: 008  | MSE: 0.14352\n",
            "Epoch: 009  | MSE: 0.13360\n",
            "Epoch: 010  | MSE: 0.12600\n",
            "Epoch: 011  | MSE: 0.12007\n",
            "Epoch: 012  | MSE: 0.11547\n",
            "Epoch: 013  | MSE: 0.11178\n",
            "Epoch: 014  | MSE: 0.10884\n",
            "Epoch: 015  | MSE: 0.10656\n",
            "Epoch: 016  | MSE: 0.10470\n",
            "Epoch: 017  | MSE: 0.10320\n",
            "Epoch: 018  | MSE: 0.10200\n",
            "Epoch: 019  | MSE: 0.10105\n",
            "Epoch: 020  | MSE: 0.10025\n"
          ],
          "name": "stdout"
        }
      ]
    },
    {
      "cell_type": "code",
      "metadata": {
        "colab": {
          "base_uri": "https://localhost:8080/",
          "height": 281
        },
        "id": "SGBYG7Obu5on",
        "outputId": "ebf22a3c-89dd-43f8-a8e6-f4c7fa59229a"
      },
      "source": [
        "plt.plot(range(len(cost)), cost)\n",
        "plt.ylabel(\"MSE\")\n",
        "plt.xlabel(\"No Epochs\")\n",
        "plt.show()"
      ],
      "execution_count": null,
      "outputs": [
        {
          "output_type": "display_data",
          "data": {
            "image/png": "[encoded data removed]",
            "text/plain": [
              "<Figure size 432x288 with 1 Axes>"
            ]
          },
          "metadata": {
            "tags": [],
            "needs_background": "light"
          }
        }
      ]
    },
    {
      "cell_type": "code",
      "metadata": {
        "colab": {
          "base_uri": "https://localhost:8080/"
        },
        "id": "8lC589JKwURE",
        "outputId": "69d008cf-8981-43b5-ed5c-41157f8cd274"
      },
      "source": [
        "ones = torch.ones(y_train.size())\n",
        "zeros = torch.zeros(y_train.size())\n",
        "train_pred = model.forward(X_train)\n",
        "train_acc = torch.mean(\n",
        "    (torch.where(train_pred > 0.5, ones, zeros).int() == y_train).float())\n",
        "\n",
        "ones = torch.ones(y_test.size())\n",
        "zeros = torch.zeros(y_test.size(0))\n",
        "test_pred = model.forward(X_test)\n",
        "test_acc = torch.mean(\n",
        "    (torch.where(test_pred > 0.5, ones, zeros).int() == y_test).float())\n",
        "\n",
        "print(f\"Training accuracy {train_acc * 100:.2f}\")\n",
        "print(f\"Testing accuracy {test_acc * 100:.2f}\")"
      ],
      "execution_count": null,
      "outputs": [
        {
          "output_type": "stream",
          "text": [
            "Training accuracy 92.86\n",
            "Testing accuracy 93.33\n"
          ],
          "name": "stdout"
        }
      ]
    },
    {
      "cell_type": "markdown",
      "metadata": {
        "id": "uVq1ZPVox_la"
      },
      "source": [
        "## **ADALINE** Automatically"
      ]
    },
    {
      "cell_type": "code",
      "metadata": {
        "id": "h4MJVE_PyGUh"
      },
      "source": [
        "class Adaline3(torch.nn.Module):\n",
        "    def __init__(self, num_features):\n",
        "        super(Adaline3, self).__init__()\n",
        "        self.linear = torch.nn.Linear(num_features, 1)\n",
        "\n",
        "        # change random weights to zero\n",
        "        # (not to do with multi-layed perceptron)\n",
        "        self.linear.weight.detach().zero_()\n",
        "        self.linear.bias.detach().zero_()\n",
        "\n",
        "    def forward(self, x):\n",
        "        netinputs = self.linear(x)\n",
        "        activations = netinputs\n",
        "        return activations.view(-1)\n",
        "\n",
        "    def train(self, x, y, num_epochs,\n",
        "            learning_rate=0.01, seed=123, minibatch_size=10):\n",
        "        cost = []\n",
        "\n",
        "        torch.manual_seed(seed)\n",
        "\n",
        "        optimizer = torch.optim.SGD(model.parameters(), lr=learning_rate)\n",
        "\n",
        "        for e in range(num_epochs):\n",
        "            \n",
        "            ## shuffle epoch\n",
        "            shuffle_idx = torch.randperm(y.size(0), dtype=torch.long)\n",
        "            minibatches = torch.split(shuffle_idx, minibatch_size)\n",
        "\n",
        "            for minibatch in minibatches:\n",
        "\n",
        "                # compute outputs\n",
        "                yhat = model.forward(x[minibatch])\n",
        "\n",
        "                # you could also use manual loss_func\n",
        "                loss = F.mse_loss(yhat, y[minibatch])\n",
        "\n",
        "                ## Reset gradients from previous iteration \n",
        "                optimizer.zero_grad()\n",
        "\n",
        "                ## compute gradients\n",
        "                loss.backward()\n",
        "\n",
        "                ## Update gradients\n",
        "                optimizer.step()\n",
        "\n",
        "            # Logging \n",
        "            with torch.no_grad():\n",
        "                yhat = model.forward(x)\n",
        "                curr_loss = F.mse_loss(yhat, y)\n",
        "                print(f\"Epoch: {e+1:03d}\", end=\"\")\n",
        "                print(f\"  MSE: {curr_loss:.5f}\")\n",
        "                cost.append(curr_loss)\n",
        "        return cost"
      ],
      "execution_count": null,
      "outputs": []
    },
    {
      "cell_type": "code",
      "metadata": {
        "colab": {
          "base_uri": "https://localhost:8080/"
        },
        "id": "DHkIO8jJE4n0",
        "outputId": "de1071be-d62d-4657-e078-23dfa11c0e11"
      },
      "source": [
        "model = Adaline3(X_train.size(1))\n",
        "cost = model.train(X_train, y_train.float(),\n",
        "             num_epochs=20,\n",
        "             learning_rate=0.01,\n",
        "             seed=123,\n",
        "             minibatch_size=10, )"
      ],
      "execution_count": null,
      "outputs": [
        {
          "output_type": "stream",
          "text": [
            "Epoch: 001  MSE: 0.38849\n",
            "Epoch: 002  MSE: 0.31679\n",
            "Epoch: 003  MSE: 0.26379\n",
            "Epoch: 004  MSE: 0.22463\n",
            "Epoch: 005  MSE: 0.19527\n",
            "Epoch: 006  MSE: 0.17307\n",
            "Epoch: 007  MSE: 0.15629\n",
            "Epoch: 008  MSE: 0.14352\n",
            "Epoch: 009  MSE: 0.13360\n",
            "Epoch: 010  MSE: 0.12600\n",
            "Epoch: 011  MSE: 0.12007\n",
            "Epoch: 012  MSE: 0.11547\n",
            "Epoch: 013  MSE: 0.11178\n",
            "Epoch: 014  MSE: 0.10884\n",
            "Epoch: 015  MSE: 0.10656\n",
            "Epoch: 016  MSE: 0.10470\n",
            "Epoch: 017  MSE: 0.10320\n",
            "Epoch: 018  MSE: 0.10200\n",
            "Epoch: 019  MSE: 0.10105\n",
            "Epoch: 020  MSE: 0.10025\n"
          ],
          "name": "stdout"
        }
      ]
    },
    {
      "cell_type": "code",
      "metadata": {
        "colab": {
          "base_uri": "https://localhost:8080/",
          "height": 281
        },
        "id": "kHJBPwHgFODj",
        "outputId": "7531ee27-4709-4420-b9ab-61a016e6f1fc"
      },
      "source": [
        "plt.plot(range(len(cost)), cost)\n",
        "plt.ylabel('MSE')\n",
        "plt.xlabel('No Epochs')\n",
        "plt.show()"
      ],
      "execution_count": null,
      "outputs": [
        {
          "output_type": "display_data",
          "data": {
            "image/png": "[encoded data removed]",
            "text/plain": [
              "<Figure size 432x288 with 1 Axes>"
            ]
          },
          "metadata": {
            "tags": [],
            "needs_background": "light"
          }
        }
      ]
    },
    {
      "cell_type": "code",
      "metadata": {
        "colab": {
          "base_uri": "https://localhost:8080/"
        },
        "id": "qEPw16lKF9rp",
        "outputId": "c6ae1d18-d3d6-4a27-e9f8-8fca5284237b"
      },
      "source": [
        "ones = torch.ones(y_train.size())\n",
        "zeros = torch.zeros(y_train.size())\n",
        "train_pred = model.forward(X_train)\n",
        "train_acc = torch.mean(\n",
        "    (torch.where(train_pred > 0.5, \n",
        "                 ones, \n",
        "                 zeros).int() == y_train).float())\n",
        "\n",
        "ones = torch.ones(y_test.size())\n",
        "zeros = torch.zeros(y_test.size())\n",
        "test_pred = model.forward(X_test)\n",
        "test_acc = torch.mean(\n",
        "    (torch.where(test_pred > 0.5, \n",
        "                 ones, \n",
        "                 zeros).int() == y_test).float())\n",
        "\n",
        "print('Training Accuracy: %.2f' % (train_acc*100))\n",
        "print('Test Accuracy: %.2f' % (test_acc*100))"
      ],
      "execution_count": null,
      "outputs": [
        {
          "output_type": "stream",
          "text": [
            "Training Accuracy: 92.86\n",
            "Test Accuracy: 93.33\n"
          ],
          "name": "stdout"
        }
      ]
    },
    {
      "cell_type": "code",
      "metadata": {
        "id": "9J8EZWiDGC3j"
      },
      "source": [
        ""
      ],
      "execution_count": null,
      "outputs": []
    }
  ]
}