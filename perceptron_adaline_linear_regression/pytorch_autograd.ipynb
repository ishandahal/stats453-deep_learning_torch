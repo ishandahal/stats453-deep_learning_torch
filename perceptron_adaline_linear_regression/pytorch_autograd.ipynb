{
  "nbformat": 4,
  "nbformat_minor": 0,
  "metadata": {
    "colab": {
      "name": "pytorch_autograd.ipynb",
      "provenance": [],
      "authorship_tag": "ABX9TyOj3UPuZPM3EwMXhBdnCMB4",
      "include_colab_link": true
    },
    "kernelspec": {
      "name": "python3",
      "display_name": "Python 3"
    }
  },
  "cells": [
    {
      "cell_type": "markdown",
      "metadata": {
        "id": "view-in-github",
        "colab_type": "text"
      },
      "source": [
        "<a href=\"https://colab.research.google.com/github/ishandahal/stats453-deep_learning_torch/blob/main/perceptron_adaline_linear_regression/pytorch_autograd.ipynb\" target=\"_parent\"><img src=\"https://colab.research.google.com/assets/colab-badge.svg\" alt=\"Open In Colab\"/></a>"
      ]
    },
    {
      "cell_type": "code",
      "metadata": {
        "id": "M6WT3pH57PVF"
      },
      "source": [
        "import torch\n",
        "from torch.autograd import grad\n",
        "import torch.nn.functional as F"
      ],
      "execution_count": null,
      "outputs": []
    },
    {
      "cell_type": "code",
      "metadata": {
        "id": "9H96g6yd7VPe"
      },
      "source": [
        "x = torch.tensor([3.])\n",
        "w = torch.tensor([2.], requires_grad=True)\n",
        "b = torch.tensor([1.], requires_grad=True)\n",
        "v = x*w + b\n",
        "a = F.relu(v)"
      ],
      "execution_count": null,
      "outputs": []
    },
    {
      "cell_type": "code",
      "metadata": {
        "colab": {
          "base_uri": "https://localhost:8080/"
        },
        "id": "9EHErLvI7-gW",
        "outputId": "e6e68b58-9a4b-4be2-c501-59b8066b2450"
      },
      "source": [
        "a"
      ],
      "execution_count": null,
      "outputs": [
        {
          "output_type": "execute_result",
          "data": {
            "text/plain": [
              "tensor([7.], grad_fn=<ReluBackward0>)"
            ]
          },
          "metadata": {
            "tags": []
          },
          "execution_count": 15
        }
      ]
    },
    {
      "cell_type": "code",
      "metadata": {
        "colab": {
          "base_uri": "https://localhost:8080/"
        },
        "id": "p8kLfAux7_Hp",
        "outputId": "0c1de6f8-c717-42a8-f986-e15544f3b2cd"
      },
      "source": [
        "grad(a, w, retain_graph=True)"
      ],
      "execution_count": null,
      "outputs": [
        {
          "output_type": "execute_result",
          "data": {
            "text/plain": [
              "(tensor([3.]),)"
            ]
          },
          "metadata": {
            "tags": []
          },
          "execution_count": 16
        }
      ]
    },
    {
      "cell_type": "code",
      "metadata": {
        "colab": {
          "base_uri": "https://localhost:8080/"
        },
        "id": "MKL4nd-P8zKM",
        "outputId": "658a831d-87d1-4772-ab5e-e64b01811626"
      },
      "source": [
        "grad(a, b, retain_graph=True)"
      ],
      "execution_count": null,
      "outputs": [
        {
          "output_type": "execute_result",
          "data": {
            "text/plain": [
              "(tensor([1.]),)"
            ]
          },
          "metadata": {
            "tags": []
          },
          "execution_count": 17
        }
      ]
    },
    {
      "cell_type": "code",
      "metadata": {
        "colab": {
          "base_uri": "https://localhost:8080/"
        },
        "id": "bOADp5Xm8_wU",
        "outputId": "06674473-0ff8-4031-b94b-bc26ba102bb5"
      },
      "source": [
        "grad(a, v)"
      ],
      "execution_count": null,
      "outputs": [
        {
          "output_type": "execute_result",
          "data": {
            "text/plain": [
              "(tensor([1.]),)"
            ]
          },
          "metadata": {
            "tags": []
          },
          "execution_count": 18
        }
      ]
    },
    {
      "cell_type": "markdown",
      "metadata": {
        "id": "S63LND0g9MKZ"
      },
      "source": [
        "Implementing relu function"
      ]
    },
    {
      "cell_type": "code",
      "metadata": {
        "colab": {
          "base_uri": "https://localhost:8080/"
        },
        "id": "BfDn6I1z97Jg",
        "outputId": "6e110472-2b01-4052-babd-cea948c5f296"
      },
      "source": [
        "x = torch.tensor([3.])\n",
        "w = torch.tensor([2.], requires_grad=True)\n",
        "b = torch.tensor([1.], requires_grad=True)\n",
        "\n",
        "def my_relu(z):\n",
        "    if z > 0.:\n",
        "        return z\n",
        "    else:\n",
        "        z[:] = 0.\n",
        "        return z\n",
        "a = my_relu(x*w + b)\n",
        "grad(a, w)"
      ],
      "execution_count": null,
      "outputs": [
        {
          "output_type": "execute_result",
          "data": {
            "text/plain": [
              "(tensor([3.]),)"
            ]
          },
          "metadata": {
            "tags": []
          },
          "execution_count": 20
        }
      ]
    },
    {
      "cell_type": "markdown",
      "metadata": {
        "id": "UY2HoC9h-nR3"
      },
      "source": [
        "Eventhough derivative of relu is not defined at 0, PyTorch autograd does not throw an error and does something reasonable"
      ]
    },
    {
      "cell_type": "code",
      "metadata": {
        "colab": {
          "base_uri": "https://localhost:8080/"
        },
        "id": "Qk7GA9kE_Xx8",
        "outputId": "09b6b66f-00b0-4634-83c3-2ab9073a3c4e"
      },
      "source": [
        "x = torch.tensor([-1.])\n",
        "w = torch.tensor([1.], requires_grad=True)\n",
        "b = torch.tensor([1.], requires_grad=True)\n",
        "\n",
        "def my_relu(z):\n",
        "    if z > 0.:\n",
        "        return z\n",
        "    else:\n",
        "        z[:] = 0.\n",
        "        return z\n",
        "a = my_relu(x*w + b)\n",
        "grad(a, w, retain_graph=False)"
      ],
      "execution_count": null,
      "outputs": [
        {
          "output_type": "execute_result",
          "data": {
            "text/plain": [
              "(tensor([-0.]),)"
            ]
          },
          "metadata": {
            "tags": []
          },
          "execution_count": 22
        }
      ]
    },
    {
      "cell_type": "code",
      "metadata": {
        "id": "SWm70nYV_gR2"
      },
      "source": [
        ""
      ],
      "execution_count": null,
      "outputs": []
    }
  ]
}