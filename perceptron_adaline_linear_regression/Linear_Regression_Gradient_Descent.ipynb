{
  "nbformat": 4,
  "nbformat_minor": 0,
  "metadata": {
    "colab": {
      "name": "Linear_Regression_Gradient_Descent.ipynb",
      "provenance": [],
      "collapsed_sections": [],
      "authorship_tag": "ABX9TyOnttJHSVZ0e2qxKnCaQ5fD",
      "include_colab_link": true
    },
    "kernelspec": {
      "name": "python3",
      "display_name": "Python 3"
    }
  },
  "cells": [
    {
      "cell_type": "markdown",
      "metadata": {
        "id": "view-in-github",
        "colab_type": "text"
      },
      "source": [
        "<a href=\"https://colab.research.google.com/github/ishandahal/stats453-deep_learning_torch/blob/main/perceptron_adaline_linear_regression/Linear_Regression_Gradient_Descent.ipynb\" target=\"_parent\"><img src=\"https://colab.research.google.com/assets/colab-badge.svg\" alt=\"Open In Colab\"/></a>"
      ]
    },
    {
      "cell_type": "markdown",
      "metadata": {
        "id": "lGtsBQHZeTZ9"
      },
      "source": [
        "#### Linear Regression with Gradient Descent"
      ]
    },
    {
      "cell_type": "code",
      "metadata": {
        "id": "t8m_XcyQk6Gh"
      },
      "source": [
        "pip install watermark"
      ],
      "execution_count": null,
      "outputs": []
    },
    {
      "cell_type": "code",
      "metadata": {
        "colab": {
          "base_uri": "https://localhost:8080/"
        },
        "id": "ZABxKBEYk9LF",
        "outputId": "21d4e4af-8495-464b-fe7f-3b8508c1550e"
      },
      "source": [
        "%load_ext watermark\n",
        "%watermark -a 'Ishan Dahal' -v -p torch,pandas,matplotlib"
      ],
      "execution_count": null,
      "outputs": [
        {
          "output_type": "stream",
          "text": [
            "Ishan Dahal \n",
            "\n",
            "CPython 3.6.9\n",
            "IPython 5.5.0\n",
            "\n",
            "torch 1.7.0+cu101\n",
            "pandas 1.1.5\n",
            "matplotlib 3.2.2\n"
          ],
          "name": "stdout"
        }
      ]
    },
    {
      "cell_type": "code",
      "metadata": {
        "id": "GJFgL18tlHXT"
      },
      "source": [
        "import pandas as pd\n",
        "import matplotlib.pyplot as plt\n",
        "import torch"
      ],
      "execution_count": null,
      "outputs": []
    },
    {
      "cell_type": "markdown",
      "metadata": {
        "id": "_HQCC0l3lRdM"
      },
      "source": [
        "#### Load and Prepare a Toy Dataset"
      ]
    },
    {
      "cell_type": "code",
      "metadata": {
        "colab": {
          "base_uri": "https://localhost:8080/",
          "height": 206
        },
        "id": "LegMBxf6lUgM",
        "outputId": "da828321-0547-42ac-be08-9adae1df2700"
      },
      "source": [
        "df = pd.read_csv('https://raw.githubusercontent.com/rasbt/stat453-deep-learning-ss20/master/L05-grad-descent/code/datasets/linreg-data.csv', index_col=0)\n",
        "df.tail()"
      ],
      "execution_count": null,
      "outputs": [
        {
          "output_type": "execute_result",
          "data": {
            "text/html": [
              "<div>\n",
              "<style scoped>\n",
              "    .dataframe tbody tr th:only-of-type {\n",
              "        vertical-align: middle;\n",
              "    }\n",
              "\n",
              "    .dataframe tbody tr th {\n",
              "        vertical-align: top;\n",
              "    }\n",
              "\n",
              "    .dataframe thead th {\n",
              "        text-align: right;\n",
              "    }\n",
              "</style>\n",
              "<table border=\"1\" class=\"dataframe\">\n",
              "  <thead>\n",
              "    <tr style=\"text-align: right;\">\n",
              "      <th></th>\n",
              "      <th>x1</th>\n",
              "      <th>x2</th>\n",
              "      <th>y</th>\n",
              "    </tr>\n",
              "  </thead>\n",
              "  <tbody>\n",
              "    <tr>\n",
              "      <th>995</th>\n",
              "      <td>-0.942094</td>\n",
              "      <td>-0.835856</td>\n",
              "      <td>-22.324428</td>\n",
              "    </tr>\n",
              "    <tr>\n",
              "      <th>996</th>\n",
              "      <td>1.222445</td>\n",
              "      <td>-0.403177</td>\n",
              "      <td>-52.121493</td>\n",
              "    </tr>\n",
              "    <tr>\n",
              "      <th>997</th>\n",
              "      <td>-0.112466</td>\n",
              "      <td>-1.688230</td>\n",
              "      <td>-57.043196</td>\n",
              "    </tr>\n",
              "    <tr>\n",
              "      <th>998</th>\n",
              "      <td>-0.403459</td>\n",
              "      <td>-0.412272</td>\n",
              "      <td>-27.701833</td>\n",
              "    </tr>\n",
              "    <tr>\n",
              "      <th>999</th>\n",
              "      <td>0.021351</td>\n",
              "      <td>-0.499017</td>\n",
              "      <td>-9.804714</td>\n",
              "    </tr>\n",
              "  </tbody>\n",
              "</table>\n",
              "</div>"
            ],
            "text/plain": [
              "           x1        x2          y\n",
              "995 -0.942094 -0.835856 -22.324428\n",
              "996  1.222445 -0.403177 -52.121493\n",
              "997 -0.112466 -1.688230 -57.043196\n",
              "998 -0.403459 -0.412272 -27.701833\n",
              "999  0.021351 -0.499017  -9.804714"
            ]
          },
          "metadata": {
            "tags": []
          },
          "execution_count": 4
        }
      ]
    },
    {
      "cell_type": "code",
      "metadata": {
        "id": "xr8sKzgilkJA"
      },
      "source": [
        "# Assign features and target\n",
        "\n",
        "X = torch.tensor(df[['x1', 'x2']].values, dtype=torch.float)\n",
        "y = torch.tensor(df['y'].values, dtype=torch.float)\n",
        "\n",
        "# Shuffling & train/test split\n",
        "\n",
        "torch.manual_seed(123)\n",
        "shuffle_idx = torch.randperm(y.size(0), dtype=torch.long)\n",
        "\n",
        "X, y = X[shuffle_idx], y[shuffle_idx]\n",
        "\n",
        "percent70 = int(shuffle_idx.size(0)*0.7)\n",
        "\n",
        "X_train, X_test = X[shuffle_idx[:percent70]], X[shuffle_idx[percent70:]]\n",
        "y_train, y_test = y[shuffle_idx[:percent70]], y[shuffle_idx[percent70:]]\n",
        "\n",
        "# Normalize (mean zero, unit variance)\n",
        "\n",
        "mu, sigma = X_train.mean(dim=0), X_train.std(dim=0)\n",
        "X_train = (X_train - mu) / sigma\n",
        "X_test = (X_test - mu) / sigma"
      ],
      "execution_count": null,
      "outputs": []
    },
    {
      "cell_type": "markdown",
      "metadata": {
        "id": "hMTVYK1jlqmp"
      },
      "source": [
        "#### Implementing Linear Regression"
      ]
    },
    {
      "cell_type": "code",
      "metadata": {
        "id": "15TqU_jTly3Z"
      },
      "source": [
        "class LinearRegression1():\n",
        "    def __init__(self, num_features):\n",
        "        self.num_features = num_features\n",
        "        self.weights = torch.zeros((num_features, 1),\n",
        "                                    dtype=torch.float)\n",
        "        self.bias = torch.zeros(1, dtype=torch.float)\n",
        "\n",
        "    def forward(self, x):\n",
        "        netinputs = torch.add(torch.matmul(x, self.weights), self.bias)\n",
        "        activations = netinputs\n",
        "        return activations.view(-1)\n",
        "\n",
        "    def backward(self, x, yhat, y):\n",
        "\n",
        "        grad_loss_yhat = 2*(yhat - y)\n",
        "\n",
        "        grad_yhat_weights = x\n",
        "        grad_yhat_bias = 1\n",
        "\n",
        "        ## Chain rule: inner times outer\n",
        "\n",
        "        grad_loss_weights = torch.matmul(grad_yhat_weights.t(), grad_loss_yhat.view(-1, 1)) / y.size(0)\n",
        "        grad_loss_bias = torch.sum(grad_loss_yhat * grad_yhat_bias) / y.size(0)\n",
        "\n",
        "        ## return negative gradients\n",
        "        return (-1)*grad_loss_weights, (-1)*grad_loss_bias\n",
        "    "
      ],
      "execution_count": null,
      "outputs": []
    },
    {
      "cell_type": "code",
      "metadata": {
        "id": "Eh_Z9hsWqUqE"
      },
      "source": [
        "def loss(yhat, y):\n",
        "    return torch.mean((yhat - y)**2)\n",
        "\n",
        "def train(model, x, y, num_epochs, learning_rate=0.01):\n",
        "    cost = []\n",
        "\n",
        "    for e in range(num_epochs):\n",
        "\n",
        "        ## Compute outputs\n",
        "        yhat = model.forward(x)\n",
        "\n",
        "        ## Compute gradients\n",
        "        negative_grad_w, negative_grad_b = model.backward(x, yhat, y)\n",
        "\n",
        "        ### Update weights\n",
        "        model.weights += learning_rate * negative_grad_w\n",
        "        model.bias += learning_rate * negative_grad_b\n",
        "\n",
        "        ## Logging \n",
        "        yhat = model.forward(x)\n",
        "\n",
        "        curr_loss = loss(yhat, y)\n",
        "        print(f\"Epoch: {e+1:03d}\", end='')\n",
        "        print(f\"    | MSE: {curr_loss:.5f}\")\n",
        "        cost.append(curr_loss)\n",
        "    \n",
        "    return cost"
      ],
      "execution_count": null,
      "outputs": []
    },
    {
      "cell_type": "markdown",
      "metadata": {
        "id": "lgSG_qs_sZTc"
      },
      "source": [
        "#### Train Linear Regression Model"
      ]
    },
    {
      "cell_type": "code",
      "metadata": {
        "colab": {
          "base_uri": "https://localhost:8080/"
        },
        "id": "iOe_UT0Esd8S",
        "outputId": "6aeebcaa-99c1-4dba-e6b7-b586765372ac"
      },
      "source": [
        "model = LinearRegression1(num_features=X_train.size(1))\n",
        "cost = train(model, X_train, y_train,\n",
        "             num_epochs=100,\n",
        "             learning_rate=0.05)"
      ],
      "execution_count": null,
      "outputs": [
        {
          "output_type": "stream",
          "text": [
            "Epoch: 001    | MSE: 1532.67603\n",
            "Epoch: 002    | MSE: 1312.39868\n",
            "Epoch: 003    | MSE: 1133.91809\n",
            "Epoch: 004    | MSE: 989.30286\n",
            "Epoch: 005    | MSE: 872.12592\n",
            "Epoch: 006    | MSE: 777.18097\n",
            "Epoch: 007    | MSE: 700.24915\n",
            "Epoch: 008    | MSE: 637.91241\n",
            "Epoch: 009    | MSE: 587.40167\n",
            "Epoch: 010    | MSE: 546.47284\n",
            "Epoch: 011    | MSE: 513.30811\n",
            "Epoch: 012    | MSE: 486.43430\n",
            "Epoch: 013    | MSE: 464.65799\n",
            "Epoch: 014    | MSE: 447.01224\n",
            "Epoch: 015    | MSE: 432.71332\n",
            "Epoch: 016    | MSE: 421.12634\n",
            "Epoch: 017    | MSE: 411.73697\n",
            "Epoch: 018    | MSE: 404.12827\n",
            "Epoch: 019    | MSE: 397.96249\n",
            "Epoch: 020    | MSE: 392.96603\n",
            "Epoch: 021    | MSE: 388.91708\n",
            "Epoch: 022    | MSE: 385.63583\n",
            "Epoch: 023    | MSE: 382.97684\n",
            "Epoch: 024    | MSE: 380.82202\n",
            "Epoch: 025    | MSE: 379.07571\n",
            "Epoch: 026    | MSE: 377.66052\n",
            "Epoch: 027    | MSE: 376.51367\n",
            "Epoch: 028    | MSE: 375.58420\n",
            "Epoch: 029    | MSE: 374.83102\n",
            "Epoch: 030    | MSE: 374.22055\n",
            "Epoch: 031    | MSE: 373.72586\n",
            "Epoch: 032    | MSE: 373.32489\n",
            "Epoch: 033    | MSE: 372.99994\n",
            "Epoch: 034    | MSE: 372.73657\n",
            "Epoch: 035    | MSE: 372.52313\n",
            "Epoch: 036    | MSE: 372.35016\n",
            "Epoch: 037    | MSE: 372.20999\n",
            "Epoch: 038    | MSE: 372.09637\n",
            "Epoch: 039    | MSE: 372.00427\n",
            "Epoch: 040    | MSE: 371.92963\n",
            "Epoch: 041    | MSE: 371.86914\n",
            "Epoch: 042    | MSE: 371.82010\n",
            "Epoch: 043    | MSE: 371.78036\n",
            "Epoch: 044    | MSE: 371.74814\n",
            "Epoch: 045    | MSE: 371.72202\n",
            "Epoch: 046    | MSE: 371.70090\n",
            "Epoch: 047    | MSE: 371.68372\n",
            "Epoch: 048    | MSE: 371.66983\n",
            "Epoch: 049    | MSE: 371.65854\n",
            "Epoch: 050    | MSE: 371.64941\n",
            "Epoch: 051    | MSE: 371.64206\n",
            "Epoch: 052    | MSE: 371.63602\n",
            "Epoch: 053    | MSE: 371.63116\n",
            "Epoch: 054    | MSE: 371.62723\n",
            "Epoch: 055    | MSE: 371.62402\n",
            "Epoch: 056    | MSE: 371.62146\n",
            "Epoch: 057    | MSE: 371.61929\n",
            "Epoch: 058    | MSE: 371.61765\n",
            "Epoch: 059    | MSE: 371.61621\n",
            "Epoch: 060    | MSE: 371.61511\n",
            "Epoch: 061    | MSE: 371.61423\n",
            "Epoch: 062    | MSE: 371.61349\n",
            "Epoch: 063    | MSE: 371.61292\n",
            "Epoch: 064    | MSE: 371.61243\n",
            "Epoch: 065    | MSE: 371.61200\n",
            "Epoch: 066    | MSE: 371.61169\n",
            "Epoch: 067    | MSE: 371.61145\n",
            "Epoch: 068    | MSE: 371.61124\n",
            "Epoch: 069    | MSE: 371.61108\n",
            "Epoch: 070    | MSE: 371.61093\n",
            "Epoch: 071    | MSE: 371.61081\n",
            "Epoch: 072    | MSE: 371.61072\n",
            "Epoch: 073    | MSE: 371.61066\n",
            "Epoch: 074    | MSE: 371.61060\n",
            "Epoch: 075    | MSE: 371.61057\n",
            "Epoch: 076    | MSE: 371.61053\n",
            "Epoch: 077    | MSE: 371.61050\n",
            "Epoch: 078    | MSE: 371.61047\n",
            "Epoch: 079    | MSE: 371.61041\n",
            "Epoch: 080    | MSE: 371.61041\n",
            "Epoch: 081    | MSE: 371.61041\n",
            "Epoch: 082    | MSE: 371.61041\n",
            "Epoch: 083    | MSE: 371.61041\n",
            "Epoch: 084    | MSE: 371.61041\n",
            "Epoch: 085    | MSE: 371.61035\n",
            "Epoch: 086    | MSE: 371.61035\n",
            "Epoch: 087    | MSE: 371.61038\n",
            "Epoch: 088    | MSE: 371.61035\n",
            "Epoch: 089    | MSE: 371.61032\n",
            "Epoch: 090    | MSE: 371.61032\n",
            "Epoch: 091    | MSE: 371.61035\n",
            "Epoch: 092    | MSE: 371.61035\n",
            "Epoch: 093    | MSE: 371.61032\n",
            "Epoch: 094    | MSE: 371.61032\n",
            "Epoch: 095    | MSE: 371.61035\n",
            "Epoch: 096    | MSE: 371.61035\n",
            "Epoch: 097    | MSE: 371.61032\n",
            "Epoch: 098    | MSE: 371.61035\n",
            "Epoch: 099    | MSE: 371.61035\n",
            "Epoch: 100    | MSE: 371.61035\n"
          ],
          "name": "stdout"
        }
      ]
    },
    {
      "cell_type": "markdown",
      "metadata": {
        "id": "-Fv_8YF0s0P1"
      },
      "source": [
        "#### Evaluate Linear Regression Model\n",
        "##### Plot MSE"
      ]
    },
    {
      "cell_type": "code",
      "metadata": {
        "colab": {
          "base_uri": "https://localhost:8080/",
          "height": 279
        },
        "id": "iDNmZ7ewtU6x",
        "outputId": "30c02775-8daf-49ae-bc60-51dc4bec8269"
      },
      "source": [
        "plt.plot(range(len(cost)), cost)\n",
        "plt.ylabel('Mean Squared Error')\n",
        "plt.xlabel(\"Epoch\")\n",
        "plt.show()"
      ],
      "execution_count": null,
      "outputs": [
        {
          "output_type": "display_data",
          "data": {
            "image/png": "[encoded data removed]",
            "text/plain": [
              "<Figure size 432x288 with 1 Axes>"
            ]
          },
          "metadata": {
            "tags": [],
            "needs_background": "light"
          }
        }
      ]
    },
    {
      "cell_type": "code",
      "metadata": {
        "colab": {
          "base_uri": "https://localhost:8080/"
        },
        "id": "1pQbNF6CthHL",
        "outputId": "a37014d8-2121-460c-b686-253a11372457"
      },
      "source": [
        "train_pred = model.forward(X_train)\n",
        "test_pred = model.forward(X_test)\n",
        "\n",
        "print(f'Train MSE: {loss(train_pred, y_train):.5f}')\n",
        "print(f\"Test MSE: {loss(test_pred, y_test):.5f}\")"
      ],
      "execution_count": null,
      "outputs": [
        {
          "output_type": "stream",
          "text": [
            "Train MSE: 371.61035\n",
            "Test MSE: 406.88412\n"
          ],
          "name": "stdout"
        }
      ]
    },
    {
      "cell_type": "markdown",
      "metadata": {
        "id": "VdBHh9kovXyr"
      },
      "source": [
        "#### Compare with analytical solution"
      ]
    },
    {
      "cell_type": "code",
      "metadata": {
        "colab": {
          "base_uri": "https://localhost:8080/"
        },
        "id": "_vhC6U8VvrDm",
        "outputId": "19229f13-25a2-4cda-ce90-36f40405d824"
      },
      "source": [
        "print('Weights', model.weights)\n",
        "print('Bias', model.bias)"
      ],
      "execution_count": null,
      "outputs": [
        {
          "output_type": "stream",
          "text": [
            "Weights tensor([[ 0.3623],\n",
            "        [37.8790]])\n",
            "Bias tensor([-0.5464])\n"
          ],
          "name": "stdout"
        }
      ]
    },
    {
      "cell_type": "code",
      "metadata": {
        "colab": {
          "base_uri": "https://localhost:8080/"
        },
        "id": "saHmexHtvwHF",
        "outputId": "d1718b42-f1ad-4dd2-bb44-7f206e5bb664"
      },
      "source": [
        "def analytical_solution(x, y):\n",
        "    Xb = torch.cat( (torch.ones((x.size(0), 1)), x), dim=1)\n",
        "    w = torch.zeros(x.size(1))\n",
        "    z = torch.inverse(torch.matmul(Xb.t(), Xb))\n",
        "    params = torch.matmul(z, torch.matmul(Xb.t(), y))\n",
        "    b, w = torch.tensor([params[0]]), params[1:].view(x.size(1), 1)\n",
        "    return w, b\n",
        "\n",
        "w, b = analytical_solution(X_train, y_train)\n",
        "print('Analytical weights', w)\n",
        "print('Analytical bias', b)"
      ],
      "execution_count": null,
      "outputs": [
        {
          "output_type": "stream",
          "text": [
            "Analytical weights tensor([[ 0.3624],\n",
            "        [37.8801]])\n",
            "Analytical bias tensor([-0.5464])\n"
          ],
          "name": "stdout"
        }
      ]
    },
    {
      "cell_type": "code",
      "metadata": {
        "colab": {
          "base_uri": "https://localhost:8080/"
        },
        "id": "2-PUbWmUvysF",
        "outputId": "2be8eb85-13f3-4ba3-f5ff-5102ba754a27"
      },
      "source": [
        "def train_shuffle(model, x, y, num_epochs, learning_rate=0.01):\n",
        "    cost = []\n",
        "\n",
        "    for e in range(num_epochs):\n",
        "\n",
        "        ## Compute outputs\n",
        "        shuffled_idx = torch.randperm(len(x))\n",
        "        x, y = x[shuffled_idx], y[shuffled_idx]\n",
        "        yhat = model.forward(x)\n",
        "\n",
        "        ## Compute gradients\n",
        "        negative_grad_w, negative_grad_b = model.backward(x, yhat, y)\n",
        "\n",
        "        ### Update weights\n",
        "        model.weights += learning_rate * negative_grad_w\n",
        "        model.bias += learning_rate * negative_grad_b\n",
        "\n",
        "        ## Logging \n",
        "        yhat = model.forward(x)\n",
        "\n",
        "        curr_loss = loss(yhat, y)\n",
        "        print(f\"Epoch: {e+1:03d}\", end='')\n",
        "        print(f\"    | MSE: {curr_loss:.5f}\")\n",
        "        cost.append(curr_loss)\n",
        "    \n",
        "    return cost\n",
        "\n",
        "model = LinearRegression1(X_train.size(1))\n",
        "cost = train_shuffle(model, X_train, y_train,\n",
        "              num_epochs=200, learning_rate=0.01)"
      ],
      "execution_count": null,
      "outputs": [
        {
          "output_type": "stream",
          "text": [
            "Epoch: 001    | MSE: 1747.88184\n",
            "Epoch: 002    | MSE: 1693.46338\n",
            "Epoch: 003    | MSE: 1641.19714\n",
            "Epoch: 004    | MSE: 1590.99756\n",
            "Epoch: 005    | MSE: 1542.78357\n",
            "Epoch: 006    | MSE: 1496.47583\n",
            "Epoch: 007    | MSE: 1451.99963\n",
            "Epoch: 008    | MSE: 1409.28210\n",
            "Epoch: 009    | MSE: 1368.25403\n",
            "Epoch: 010    | MSE: 1328.84827\n",
            "Epoch: 011    | MSE: 1291.00073\n",
            "Epoch: 012    | MSE: 1254.64990\n",
            "Epoch: 013    | MSE: 1219.73657\n",
            "Epoch: 014    | MSE: 1186.20398\n",
            "Epoch: 015    | MSE: 1153.99719\n",
            "Epoch: 016    | MSE: 1123.06409\n",
            "Epoch: 017    | MSE: 1093.35425\n",
            "Epoch: 018    | MSE: 1064.81909\n",
            "Epoch: 019    | MSE: 1037.41235\n",
            "Epoch: 020    | MSE: 1011.08929\n",
            "Epoch: 021    | MSE: 985.80713\n",
            "Epoch: 022    | MSE: 961.52466\n",
            "Epoch: 023    | MSE: 938.20239\n",
            "Epoch: 024    | MSE: 915.80225\n",
            "Epoch: 025    | MSE: 894.28796\n",
            "Epoch: 026    | MSE: 873.62421\n",
            "Epoch: 027    | MSE: 853.77753\n",
            "Epoch: 028    | MSE: 834.71564\n",
            "Epoch: 029    | MSE: 816.40735\n",
            "Epoch: 030    | MSE: 798.82324\n",
            "Epoch: 031    | MSE: 781.93408\n",
            "Epoch: 032    | MSE: 765.71283\n",
            "Epoch: 033    | MSE: 750.13306\n",
            "Epoch: 034    | MSE: 735.16919\n",
            "Epoch: 035    | MSE: 720.79694\n",
            "Epoch: 036    | MSE: 706.99298\n",
            "Epoch: 037    | MSE: 693.73486\n",
            "Epoch: 038    | MSE: 681.00092\n",
            "Epoch: 039    | MSE: 668.77045\n",
            "Epoch: 040    | MSE: 657.02350\n",
            "Epoch: 041    | MSE: 645.74097\n",
            "Epoch: 042    | MSE: 634.90460\n",
            "Epoch: 043    | MSE: 624.49652\n",
            "Epoch: 044    | MSE: 614.50006\n",
            "Epoch: 045    | MSE: 604.89880\n",
            "Epoch: 046    | MSE: 595.67712\n",
            "Epoch: 047    | MSE: 586.82001\n",
            "Epoch: 048    | MSE: 578.31305\n",
            "Epoch: 049    | MSE: 570.14246\n",
            "Epoch: 050    | MSE: 562.29486\n",
            "Epoch: 051    | MSE: 554.75745\n",
            "Epoch: 052    | MSE: 547.51813\n",
            "Epoch: 053    | MSE: 540.56506\n",
            "Epoch: 054    | MSE: 533.88672\n",
            "Epoch: 055    | MSE: 527.47247\n",
            "Epoch: 056    | MSE: 521.31177\n",
            "Epoch: 057    | MSE: 515.39465\n",
            "Epoch: 058    | MSE: 509.71143\n",
            "Epoch: 059    | MSE: 504.25281\n",
            "Epoch: 060    | MSE: 499.01004\n",
            "Epoch: 061    | MSE: 493.97455\n",
            "Epoch: 062    | MSE: 489.13809\n",
            "Epoch: 063    | MSE: 484.49286\n",
            "Epoch: 064    | MSE: 480.03122\n",
            "Epoch: 065    | MSE: 475.74597\n",
            "Epoch: 066    | MSE: 471.63010\n",
            "Epoch: 067    | MSE: 467.67697\n",
            "Epoch: 068    | MSE: 463.88010\n",
            "Epoch: 069    | MSE: 460.23325\n",
            "Epoch: 070    | MSE: 456.73062\n",
            "Epoch: 071    | MSE: 453.36642\n",
            "Epoch: 072    | MSE: 450.13522\n",
            "Epoch: 073    | MSE: 447.03174\n",
            "Epoch: 074    | MSE: 444.05093\n",
            "Epoch: 075    | MSE: 441.18790\n",
            "Epoch: 076    | MSE: 438.43811\n",
            "Epoch: 077    | MSE: 435.79700\n",
            "Epoch: 078    | MSE: 433.26035\n",
            "Epoch: 079    | MSE: 430.82388\n",
            "Epoch: 080    | MSE: 428.48376\n",
            "Epoch: 081    | MSE: 426.23608\n",
            "Epoch: 082    | MSE: 424.07727\n",
            "Epoch: 083    | MSE: 422.00385\n",
            "Epoch: 084    | MSE: 420.01233\n",
            "Epoch: 085    | MSE: 418.09952\n",
            "Epoch: 086    | MSE: 416.26233\n",
            "Epoch: 087    | MSE: 414.49771\n",
            "Epoch: 088    | MSE: 412.80289\n",
            "Epoch: 089    | MSE: 411.17505\n",
            "Epoch: 090    | MSE: 409.61157\n",
            "Epoch: 091    | MSE: 408.10977\n",
            "Epoch: 092    | MSE: 406.66742\n",
            "Epoch: 093    | MSE: 405.28214\n",
            "Epoch: 094    | MSE: 403.95148\n",
            "Epoch: 095    | MSE: 402.67349\n",
            "Epoch: 096    | MSE: 401.44598\n",
            "Epoch: 097    | MSE: 400.26700\n",
            "Epoch: 098    | MSE: 399.13464\n",
            "Epoch: 099    | MSE: 398.04697\n",
            "Epoch: 100    | MSE: 397.00238\n",
            "Epoch: 101    | MSE: 395.99896\n",
            "Epoch: 102    | MSE: 395.03531\n",
            "Epoch: 103    | MSE: 394.10968\n",
            "Epoch: 104    | MSE: 393.22061\n",
            "Epoch: 105    | MSE: 392.36679\n",
            "Epoch: 106    | MSE: 391.54660\n",
            "Epoch: 107    | MSE: 390.75885\n",
            "Epoch: 108    | MSE: 390.00223\n",
            "Epoch: 109    | MSE: 389.27548\n",
            "Epoch: 110    | MSE: 388.57751\n",
            "Epoch: 111    | MSE: 387.90710\n",
            "Epoch: 112    | MSE: 387.26318\n",
            "Epoch: 113    | MSE: 386.64474\n",
            "Epoch: 114    | MSE: 386.05072\n",
            "Epoch: 115    | MSE: 385.48013\n",
            "Epoch: 116    | MSE: 384.93207\n",
            "Epoch: 117    | MSE: 384.40576\n",
            "Epoch: 118    | MSE: 383.90018\n",
            "Epoch: 119    | MSE: 383.41461\n",
            "Epoch: 120    | MSE: 382.94821\n",
            "Epoch: 121    | MSE: 382.50021\n",
            "Epoch: 122    | MSE: 382.07001\n",
            "Epoch: 123    | MSE: 381.65671\n",
            "Epoch: 124    | MSE: 381.25983\n",
            "Epoch: 125    | MSE: 380.87857\n",
            "Epoch: 126    | MSE: 380.51242\n",
            "Epoch: 127    | MSE: 380.16071\n",
            "Epoch: 128    | MSE: 379.82291\n",
            "Epoch: 129    | MSE: 379.49847\n",
            "Epoch: 130    | MSE: 379.18683\n",
            "Epoch: 131    | MSE: 378.88751\n",
            "Epoch: 132    | MSE: 378.60001\n",
            "Epoch: 133    | MSE: 378.32388\n",
            "Epoch: 134    | MSE: 378.05865\n",
            "Epoch: 135    | MSE: 377.80389\n",
            "Epoch: 136    | MSE: 377.55920\n",
            "Epoch: 137    | MSE: 377.32419\n",
            "Epoch: 138    | MSE: 377.09848\n",
            "Epoch: 139    | MSE: 376.88168\n",
            "Epoch: 140    | MSE: 376.67343\n",
            "Epoch: 141    | MSE: 376.47339\n",
            "Epoch: 142    | MSE: 376.28134\n",
            "Epoch: 143    | MSE: 376.09677\n",
            "Epoch: 144    | MSE: 375.91956\n",
            "Epoch: 145    | MSE: 375.74933\n",
            "Epoch: 146    | MSE: 375.58582\n",
            "Epoch: 147    | MSE: 375.42874\n",
            "Epoch: 148    | MSE: 375.27795\n",
            "Epoch: 149    | MSE: 375.13303\n",
            "Epoch: 150    | MSE: 374.99390\n",
            "Epoch: 151    | MSE: 374.86023\n",
            "Epoch: 152    | MSE: 374.73184\n",
            "Epoch: 153    | MSE: 374.60858\n",
            "Epoch: 154    | MSE: 374.49008\n",
            "Epoch: 155    | MSE: 374.37637\n",
            "Epoch: 156    | MSE: 374.26709\n",
            "Epoch: 157    | MSE: 374.16214\n",
            "Epoch: 158    | MSE: 374.06134\n",
            "Epoch: 159    | MSE: 373.96454\n",
            "Epoch: 160    | MSE: 373.87155\n",
            "Epoch: 161    | MSE: 373.78223\n",
            "Epoch: 162    | MSE: 373.69644\n",
            "Epoch: 163    | MSE: 373.61407\n",
            "Epoch: 164    | MSE: 373.53494\n",
            "Epoch: 165    | MSE: 373.45889\n",
            "Epoch: 166    | MSE: 373.38589\n",
            "Epoch: 167    | MSE: 373.31577\n",
            "Epoch: 168    | MSE: 373.24838\n",
            "Epoch: 169    | MSE: 373.18365\n",
            "Epoch: 170    | MSE: 373.12155\n",
            "Epoch: 171    | MSE: 373.06183\n",
            "Epoch: 172    | MSE: 373.00449\n",
            "Epoch: 173    | MSE: 372.94946\n",
            "Epoch: 174    | MSE: 372.89658\n",
            "Epoch: 175    | MSE: 372.84576\n",
            "Epoch: 176    | MSE: 372.79697\n",
            "Epoch: 177    | MSE: 372.75012\n",
            "Epoch: 178    | MSE: 372.70508\n",
            "Epoch: 179    | MSE: 372.66187\n",
            "Epoch: 180    | MSE: 372.62036\n",
            "Epoch: 181    | MSE: 372.58044\n",
            "Epoch: 182    | MSE: 372.54214\n",
            "Epoch: 183    | MSE: 372.50534\n",
            "Epoch: 184    | MSE: 372.46997\n",
            "Epoch: 185    | MSE: 372.43604\n",
            "Epoch: 186    | MSE: 372.40344\n",
            "Epoch: 187    | MSE: 372.37210\n",
            "Epoch: 188    | MSE: 372.34204\n",
            "Epoch: 189    | MSE: 372.31314\n",
            "Epoch: 190    | MSE: 372.28537\n",
            "Epoch: 191    | MSE: 372.25870\n",
            "Epoch: 192    | MSE: 372.23312\n",
            "Epoch: 193    | MSE: 372.20850\n",
            "Epoch: 194    | MSE: 372.18491\n",
            "Epoch: 195    | MSE: 372.16220\n",
            "Epoch: 196    | MSE: 372.14041\n",
            "Epoch: 197    | MSE: 372.11951\n",
            "Epoch: 198    | MSE: 372.09937\n",
            "Epoch: 199    | MSE: 372.08008\n",
            "Epoch: 200    | MSE: 372.06152\n"
          ],
          "name": "stdout"
        }
      ]
    },
    {
      "cell_type": "code",
      "metadata": {
        "colab": {
          "base_uri": "https://localhost:8080/",
          "height": 298
        },
        "id": "mH3VSK62xLqp",
        "outputId": "ea2b5350-7a6c-4711-f5b1-115eda9b89ef"
      },
      "source": [
        "plt.plot(range(len(cost)), cost)\n",
        "plt.xlabel('No Epochs')\n",
        "plt.ylabel('MSE')"
      ],
      "execution_count": null,
      "outputs": [
        {
          "output_type": "execute_result",
          "data": {
            "text/plain": [
              "Text(0, 0.5, 'MSE')"
            ]
          },
          "metadata": {
            "tags": []
          },
          "execution_count": 43
        },
        {
          "output_type": "display_data",
          "data": {
            "image/png": "[encoded data removed]",
            "text/plain": [
              "<Figure size 432x288 with 1 Axes>"
            ]
          },
          "metadata": {
            "tags": [],
            "needs_background": "light"
          }
        }
      ]
    },
    {
      "cell_type": "code",
      "metadata": {
        "colab": {
          "base_uri": "https://localhost:8080/"
        },
        "id": "LyLtFsPtyFSQ",
        "outputId": "8f8de82d-6a6a-4635-f6f3-04a48d8652a0"
      },
      "source": [
        "train_pred = model.forward(X_train)\n",
        "test_pred = model.forward(X_test)\n",
        "\n",
        "print(f'Train MSE: {loss(train_pred, y_train):.5f}')\n",
        "print(f\"Test MSE: {loss(test_pred, y_test):.5f}\")"
      ],
      "execution_count": null,
      "outputs": [
        {
          "output_type": "stream",
          "text": [
            "Train MSE: 372.06152\n",
            "Test MSE: 408.32800\n"
          ],
          "name": "stdout"
        }
      ]
    },
    {
      "cell_type": "markdown",
      "metadata": {
        "id": "6eclTPELyher"
      },
      "source": [
        "### Second Order Derivative"
      ]
    },
    {
      "cell_type": "code",
      "metadata": {
        "id": "rkCrLz6bBRRv"
      },
      "source": [
        "from torch.autograd import grad"
      ],
      "execution_count": null,
      "outputs": []
    },
    {
      "cell_type": "code",
      "metadata": {
        "colab": {
          "base_uri": "https://localhost:8080/"
        },
        "id": "oRo8mo_9BWdQ",
        "outputId": "180f9610-2f67-492e-f045-db63a71a8f5b"
      },
      "source": [
        "x = torch.tensor([3.], requires_grad=True)\n",
        "y = torch.tensor([4.])\n",
        "\n",
        "f = x**2 * y + y\n",
        "\n",
        "grad(f, x) # 2xy = 24"
      ],
      "execution_count": null,
      "outputs": [
        {
          "output_type": "execute_result",
          "data": {
            "text/plain": [
              "(tensor([24.]),)"
            ]
          },
          "metadata": {
            "tags": []
          },
          "execution_count": 46
        }
      ]
    },
    {
      "cell_type": "code",
      "metadata": {
        "colab": {
          "base_uri": "https://localhost:8080/"
        },
        "id": "x1wtmQRzBwMr",
        "outputId": "9e975ba3-5b97-42ec-b580-aeb032229f10"
      },
      "source": [
        "## Second Order Derivative\n",
        "\n",
        "x = torch.tensor([3.], requires_grad=True)\n",
        "y = torch.tensor([4.])\n",
        "\n",
        "f = x**2 * y + y\n",
        "\n",
        "df_dx = grad(f, x, create_graph=True) # first order derivative\n",
        "grad(df_dx, x) # 2y = 8"
      ],
      "execution_count": null,
      "outputs": [
        {
          "output_type": "execute_result",
          "data": {
            "text/plain": [
              "(tensor([8.]),)"
            ]
          },
          "metadata": {
            "tags": []
          },
          "execution_count": 47
        }
      ]
    },
    {
      "cell_type": "code",
      "metadata": {
        "id": "vEmWzhsbCLII"
      },
      "source": [
        ""
      ],
      "execution_count": null,
      "outputs": []
    }
  ]
}