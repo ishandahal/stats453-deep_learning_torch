{
  "nbformat": 4,
  "nbformat_minor": 0,
  "metadata": {
    "colab": {
      "name": "Grad_intermediate_var.ipynb",
      "provenance": [],
      "authorship_tag": "ABX9TyO3gHeVkeOtJXRob+Db++vu",
      "include_colab_link": true
    },
    "kernelspec": {
      "name": "python3",
      "display_name": "Python 3"
    }
  },
  "cells": [
    {
      "cell_type": "markdown",
      "metadata": {
        "id": "view-in-github",
        "colab_type": "text"
      },
      "source": [
        "<a href=\"https://colab.research.google.com/github/ishandahal/stats453-deep_learning_torch/blob/main/perceptron_adaline_linear_regression/Grad_intermediate_var.ipynb\" target=\"_parent\"><img src=\"https://colab.research.google.com/assets/colab-badge.svg\" alt=\"Open In Colab\"/></a>"
      ]
    },
    {
      "cell_type": "markdown",
      "metadata": {
        "id": "gLIGh0PiB8Db"
      },
      "source": [
        "### **Intermediate Gradients in PyTorch via autograd's ```grad```**"
      ]
    },
    {
      "cell_type": "code",
      "metadata": {
        "id": "L6Cp6oUSDsGT"
      },
      "source": [
        "import torch\n",
        "from torch.autograd import grad\n",
        "import torch.nn.functional as F"
      ],
      "execution_count": null,
      "outputs": []
    },
    {
      "cell_type": "code",
      "metadata": {
        "colab": {
          "base_uri": "https://localhost:8080/"
        },
        "id": "j2LfImtaEAjI",
        "outputId": "aed6e064-f513-4d21-db50-a1416035e24c"
      },
      "source": [
        "x = torch.tensor([3.], requires_grad=True)\n",
        "w = torch.tensor([2.], requires_grad=True)\n",
        "b = torch.tensor([1.], requires_grad=True)\n",
        "\n",
        "u = x * w\n",
        "v = u + b\n",
        "a = F.relu(v)\n",
        "\n",
        "d_a_b = grad(a, b, retain_graph=True)\n",
        "d_a_u = grad(a, u, retain_graph=True)\n",
        "d_a_v = grad(a, v, retain_graph=True)\n",
        "d_a_w = grad(a, w, retain_graph=True)\n",
        "d_a_x = grad(a, x, retain_graph=False)\n",
        "\n",
        "for name, grad in zip(\"xwbuv\", (d_a_x, d_a_w, d_a_b, d_a_u, d_a_v)):\n",
        "    print(\"d_a_\" + name, grad)"
      ],
      "execution_count": null,
      "outputs": [
        {
          "output_type": "stream",
          "text": [
            "d_a_x (tensor([2.]),)\n",
            "d_a_w (tensor([3.]),)\n",
            "d_a_b (tensor([1.]),)\n",
            "d_a_u (tensor([1.]),)\n",
            "d_a_v (tensor([1.]),)\n"
          ],
          "name": "stdout"
        }
      ]
    },
    {
      "cell_type": "markdown",
      "metadata": {
        "id": "P6_WCj7oFy-o"
      },
      "source": [
        "More efficient implementation of above"
      ]
    },
    {
      "cell_type": "code",
      "metadata": {
        "colab": {
          "base_uri": "https://localhost:8080/"
        },
        "id": "vot_nGDUGGWC",
        "outputId": "c3ff1143-138b-4925-d93a-5c9796f988f3"
      },
      "source": [
        "x_ = torch.tensor([3.], requires_grad=True)\n",
        "w_ = torch.tensor([2.], requires_grad=True)\n",
        "b_ = torch.tensor([1.], requires_grad=True)\n",
        "\n",
        "u_ = x_ * w_\n",
        "v_ = u_ + b_\n",
        "a_ = F.relu(v_)\n",
        "\n",
        "partial_derivatives = grad(a_, (x_, w_, b_, u_, v_))\n",
        "\n",
        "for name, grad in zip(\"xwbuv\", (partial_derivatives)):\n",
        "    print(\"d_a_\" + name, grad)"
      ],
      "execution_count": null,
      "outputs": [
        {
          "output_type": "stream",
          "text": [
            "d_a_x tensor([2.])\n",
            "d_a_w tensor([3.])\n",
            "d_a_b tensor([1.])\n",
            "d_a_u tensor([1.])\n",
            "d_a_v tensor([1.])\n"
          ],
          "name": "stdout"
        }
      ]
    },
    {
      "cell_type": "markdown",
      "metadata": {
        "id": "rpFlfXhSHmeH"
      },
      "source": [
        "####**Intermediate Gradients in PyTorch via ```retain_grad```**"
      ]
    },
    {
      "cell_type": "code",
      "metadata": {
        "colab": {
          "base_uri": "https://localhost:8080/"
        },
        "id": "OGErfwxVIqnu",
        "outputId": "2a39e948-a7a4-43bd-bf2e-7838ffc28a8b"
      },
      "source": [
        "import torch\n",
        "from torch.autograd import grad\n",
        "import torch.nn.functional as F\n",
        "\n",
        "x_ = torch.tensor([3.], requires_grad=True)\n",
        "w_ = torch.tensor([2.], requires_grad=True)\n",
        "b_ = torch.tensor([1.], requires_grad=True)\n",
        "\n",
        "u_ = x_ * w_\n",
        "v_ = u_ + b_\n",
        "a_ = F.relu(v_)\n",
        "\n",
        "u_.retain_grad()\n",
        "v_.retain_grad()\n",
        "\n",
        "a_.backward()\n",
        "\n",
        "for name, var in zip(\"xwbuv\", (x_, w_, b_, u_, v_)):\n",
        "    print(f\"d_a_{name}\", var.grad)"
      ],
      "execution_count": null,
      "outputs": [
        {
          "output_type": "stream",
          "text": [
            "d_a_x tensor([2.])\n",
            "d_a_w tensor([3.])\n",
            "d_a_b tensor([1.])\n",
            "d_a_u tensor([1.])\n",
            "d_a_v tensor([1.])\n"
          ],
          "name": "stdout"
        }
      ]
    },
    {
      "cell_type": "markdown",
      "metadata": {
        "id": "0iidZNcKJU9y"
      },
      "source": [
        "### **Intermediate Gradients in PyTorch Using Hooks**"
      ]
    },
    {
      "cell_type": "code",
      "metadata": {
        "colab": {
          "base_uri": "https://localhost:8080/"
        },
        "id": "wvAGkwA6Ju3d",
        "outputId": "7f89c494-241c-44ff-cb15-74a70e794e05"
      },
      "source": [
        "import torch \n",
        "import torch.nn.functional as F\n",
        "\n",
        "grads = {}\n",
        "def save_grad(name):\n",
        "    def hook(grad):\n",
        "        grads[name] = grad\n",
        "    return hook\n",
        "\n",
        "x = torch.tensor([3.], requires_grad=True)\n",
        "w = torch.tensor([2.], requires_grad=True)\n",
        "b = torch.tensor([1.], requires_grad=True)\n",
        "\n",
        "u = x * w\n",
        "v = u + b\n",
        "\n",
        "x.register_hook(save_grad('d_a_x'))\n",
        "w.register_hook(save_grad('d_a_w'))\n",
        "b.register_hook(save_grad('d_a_b'))\n",
        "u.register_hook(save_grad('d_a_u'))\n",
        "v.register_hook(save_grad('d_a_v'))\n",
        "\n",
        "a = F.relu(v)\n",
        "\n",
        "a.backward()\n",
        "\n",
        "grads"
      ],
      "execution_count": null,
      "outputs": [
        {
          "output_type": "execute_result",
          "data": {
            "text/plain": [
              "{'d_a_b': tensor([1.]),\n",
              " 'd_a_u': tensor([1.]),\n",
              " 'd_a_v': tensor([1.]),\n",
              " 'd_a_w': tensor([3.]),\n",
              " 'd_a_x': tensor([2.])}"
            ]
          },
          "metadata": {
            "tags": []
          },
          "execution_count": 28
        }
      ]
    },
    {
      "cell_type": "code",
      "metadata": {
        "id": "JcwIyHTiMVJV"
      },
      "source": [
        ""
      ],
      "execution_count": null,
      "outputs": []
    }
  ]
}