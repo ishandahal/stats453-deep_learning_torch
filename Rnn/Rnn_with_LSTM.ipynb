{
  "nbformat": 4,
  "nbformat_minor": 0,
  "metadata": {
    "accelerator": "GPU",
    "colab": {
      "name": "Rnn_with_LSTM.ipynb",
      "provenance": [],
      "collapsed_sections": [],
      "authorship_tag": "ABX9TyNna9B+sVjGBVs2ojyyY/Vc",
      "include_colab_link": true
    },
    "kernelspec": {
      "display_name": "Python 3",
      "name": "python3"
    }
  },
  "cells": [
    {
      "cell_type": "markdown",
      "metadata": {
        "id": "view-in-github",
        "colab_type": "text"
      },
      "source": [
        "<a href=\"https://colab.research.google.com/github/ishandahal/stats453-deep_learning_torch/blob/main/Rnn/Rnn_with_LSTM.ipynb\" target=\"_parent\"><img src=\"https://colab.research.google.com/assets/colab-badge.svg\" alt=\"Open In Colab\"/></a>"
      ]
    },
    {
      "cell_type": "markdown",
      "metadata": {
        "id": "_rPeAka1FQRD"
      },
      "source": [
        "### RNN with LSTM"
      ]
    },
    {
      "cell_type": "code",
      "metadata": {
        "id": "LvVUVY50FXwL"
      },
      "source": [
        "import torch\n",
        "import torch.nn.functional as F\n",
        "from torchtext import data\n",
        "from torchtext import datasets\n",
        "import time \n",
        "import random\n",
        "\n",
        "torch.backends.cudnn.deterministic = True"
      ],
      "execution_count": 2,
      "outputs": []
    },
    {
      "cell_type": "markdown",
      "metadata": {
        "id": "VpkikJq_F3r3"
      },
      "source": [
        "## General Settings "
      ]
    },
    {
      "cell_type": "code",
      "metadata": {
        "id": "5hm20grwF62u"
      },
      "source": [
        "RANDOM_SEED = 123\n",
        "torch.manual_seed(RANDOM_SEED)\n",
        "\n",
        "VOCABULARY_SIZE = 20000\n",
        "LEARNING_RATE = 1e-4\n",
        "BATCH_SIZE = 128\n",
        "NUM_EPOCHS = 15\n",
        "DEVICE = torch.device('cuda' if torch.cuda.is_available() else 'cpu')\n",
        "\n",
        "EMBEDDING_DIM = 128\n",
        "HIDDEN_DIM = 256\n",
        "OUTPUT_DIM = 1"
      ],
      "execution_count": 3,
      "outputs": []
    },
    {
      "cell_type": "markdown",
      "metadata": {
        "id": "8Wj5TdQWGAFB"
      },
      "source": [
        "## Dataset "
      ]
    },
    {
      "cell_type": "code",
      "metadata": {
        "colab": {
          "base_uri": "https://localhost:8080/"
        },
        "id": "L6IgF_9IGGVQ",
        "outputId": "7dc5814c-c1f2-42bf-e6db-1cc96606cb2a"
      },
      "source": [
        "TEXT = data.Field(tokenize='spacy',\n",
        "                  include_lengths=True)\n",
        "LABEL = data.LabelField(dtype=torch.float)\n",
        "train_data, test_data = datasets.IMDB.splits(TEXT, LABEL)\n",
        "train_data, valid_data = train_data.split(random_state=random.seed(RANDOM_SEED),\n",
        "                                          split_ratio=0.8)\n",
        "\n",
        "print(f\"Num Train: {len(train_data)}\")\n",
        "print(f\"Num Valid: {len(valid_data)}\")\n",
        "print(f\"Num Test: {len(test_data)}\")"
      ],
      "execution_count": 4,
      "outputs": [
        {
          "output_type": "stream",
          "text": [
            "\raclImdb_v1.tar.gz:   0%|          | 0.00/84.1M [00:00<?, ?B/s]"
          ],
          "name": "stderr"
        },
        {
          "output_type": "stream",
          "text": [
            "downloading aclImdb_v1.tar.gz\n"
          ],
          "name": "stdout"
        },
        {
          "output_type": "stream",
          "text": [
            "aclImdb_v1.tar.gz: 100%|██████████| 84.1M/84.1M [00:03<00:00, 22.6MB/s]\n"
          ],
          "name": "stderr"
        },
        {
          "output_type": "stream",
          "text": [
            "Num Train: 20000\n",
            "Num Valid: 5000\n",
            "Num Test: 25000\n"
          ],
          "name": "stdout"
        }
      ]
    },
    {
      "cell_type": "code",
      "metadata": {
        "id": "Fl59100QG-dg",
        "colab": {
          "base_uri": "https://localhost:8080/"
        },
        "outputId": "2a6b824f-eaf0-4e35-91c4-6845c845a8ec"
      },
      "source": [
        "TEXT.build_vocab(train_data, max_size=VOCABULARY_SIZE)\n",
        "LABEL.build_vocab(train_data)\n",
        "\n",
        "print(f\"Vocabulary size: {len(TEXT.vocab)}\")\n",
        "print(f\"Number of classes: {len(LABEL.vocab)}\")"
      ],
      "execution_count": 5,
      "outputs": [
        {
          "output_type": "stream",
          "text": [
            "Vocabulary size: 20002\n",
            "Number of classes: 2\n"
          ],
          "name": "stdout"
        }
      ]
    },
    {
      "cell_type": "code",
      "metadata": {
        "id": "iAgh2FJCHvFl"
      },
      "source": [
        "train_loader, valid_loader, test_loader = data.BucketIterator.splits(\n",
        "    (train_data, valid_data, test_data),\n",
        "    batch_size=BATCH_SIZE,\n",
        "    sort_within_batch=True,  # necessary for packed_padded_sequence\n",
        "    device=DEVICE)"
      ],
      "execution_count": 6,
      "outputs": []
    },
    {
      "cell_type": "code",
      "metadata": {
        "id": "9TtiB3DYIUsK",
        "colab": {
          "base_uri": "https://localhost:8080/"
        },
        "outputId": "832c2399-59d4-4ca7-aa31-16ee653765f0"
      },
      "source": [
        "print('Train')\n",
        "for batch in train_loader:\n",
        "    print(f'Text matrix size: {batch.text[0].size()}')\n",
        "    print(f'Target vector size: {batch.label.size()}')\n",
        "    break\n",
        "    \n",
        "print('\\nValid:')\n",
        "for batch in valid_loader:\n",
        "    print(f'Text matrix size: {batch.text[0].size()}')\n",
        "    print(f'Target vector size: {batch.label.size()}')\n",
        "    break\n",
        "    \n",
        "print('\\nTest:')\n",
        "for batch in test_loader:\n",
        "    print(f'Text matrix size: {batch.text[0].size()}')\n",
        "    print(f'Target vector size: {batch.label.size()}')\n",
        "    break"
      ],
      "execution_count": 7,
      "outputs": [
        {
          "output_type": "stream",
          "text": [
            "Train\n",
            "Text matrix size: torch.Size([133, 128])\n",
            "Target vector size: torch.Size([128])\n",
            "\n",
            "Valid:\n",
            "Text matrix size: torch.Size([62, 128])\n",
            "Target vector size: torch.Size([128])\n",
            "\n",
            "Test:\n",
            "Text matrix size: torch.Size([42, 128])\n",
            "Target vector size: torch.Size([128])\n"
          ],
          "name": "stdout"
        }
      ]
    },
    {
      "cell_type": "markdown",
      "metadata": {
        "id": "SqN5lWXfIZni"
      },
      "source": [
        "## Model"
      ]
    },
    {
      "cell_type": "code",
      "metadata": {
        "id": "WRAZllmMIehR"
      },
      "source": [
        "import torch.nn as nn \n",
        "\n",
        "class RNN(nn.Module):\n",
        "    def __init__(self, input_dim, embedding_dim, hidden_dim, output_dim):\n",
        "        super().__init__()\n",
        "\n",
        "        self.embedding = nn.Embedding(input_dim, embedding_dim)\n",
        "        self.rnn = nn.LSTM(embedding_dim, hidden_dim)\n",
        "        self.fc = nn.Linear(hidden_dim, output_dim)\n",
        "\n",
        "    def forward(self, text, text_length):\n",
        "        # [sentence len, batch size] => [sentence len, batch size, embedding size]\n",
        "        embedded = self.embedding(text)\n",
        "\n",
        "        packed = torch.nn.utils.rnn.pack_padded_sequence(embedded, text_length.to(dtype=torch.int64, device='cpu'))\n",
        "\n",
        "        # [sentence len, batch size, embedding size] => \n",
        "        # output: [sentence len, batch size, hidden size]\n",
        "        # hidden: [1, batch size, hidden size]\n",
        "        packed_output, (hidden, cell) = self.rnn(packed)\n",
        "\n",
        "        return self.fc(hidden.squeeze(0)).view(-1)"
      ],
      "execution_count": 8,
      "outputs": []
    },
    {
      "cell_type": "code",
      "metadata": {
        "id": "Rty0c4RgKj9U"
      },
      "source": [
        "INPUT_DIM = len(TEXT.vocab)\n",
        "\n",
        "torch.manual_seed(RANDOM_SEED)\n",
        "model = RNN(INPUT_DIM, EMBEDDING_DIM, HIDDEN_DIM, OUTPUT_DIM)\n",
        "model = model.to(DEVICE)\n",
        "optimizer = torch.optim.Adam(model.parameters(), lr=LEARNING_RATE)"
      ],
      "execution_count": 9,
      "outputs": []
    },
    {
      "cell_type": "markdown",
      "metadata": {
        "id": "ncn4aJYKLlzT"
      },
      "source": [
        "## Training "
      ]
    },
    {
      "cell_type": "code",
      "metadata": {
        "id": "iBwkea3CLrGS"
      },
      "source": [
        "def compute_binary_accuracy(model, data_loader, device):\n",
        "    model.eval()\n",
        "    correct_pred, num_examples = 0, 0\n",
        "    with torch.no_grad():\n",
        "        for batch_idx, batch_data in enumerate(data_loader):\n",
        "            text, text_lengths = batch_data.text\n",
        "            logits = model(text, text_lengths)\n",
        "            predicted_labels = (torch.sigmoid(logits) > 0.5).long()\n",
        "            num_examples += batch_data.label.size(0)\n",
        "            correct_pred += (predicted_labels == batch_data.label.long()).sum()\n",
        "        return correct_pred.float() / num_examples * 100"
      ],
      "execution_count": 10,
      "outputs": []
    },
    {
      "cell_type": "code",
      "metadata": {
        "colab": {
          "base_uri": "https://localhost:8080/"
        },
        "id": "N7ypNdkOMdz7",
        "outputId": "a4dd28f0-e8f4-4360-a0da-6916743e9203"
      },
      "source": [
        "start_time = time.time()\n",
        "\n",
        "for epoch in range(NUM_EPOCHS):\n",
        "    model.train()\n",
        "    for batch_idx, batch_data in enumerate(train_loader):\n",
        "\n",
        "        text, text_lengths = batch_data.text\n",
        "\n",
        "        ## forward and back prop\n",
        "        logits = model(text, text_lengths)\n",
        "        cost = F.binary_cross_entropy_with_logits(logits, batch_data.label)\n",
        "        optimizer.zero_grad()\n",
        "\n",
        "        cost.backward()\n",
        "\n",
        "        ## Update model parameters\n",
        "        optimizer.step()\n",
        "\n",
        "        ## logging \n",
        "        if not batch_idx % 50:\n",
        "            print(f\"Epoch: {epoch+1:03d}/{NUM_EPOCHS:03d} | \"\n",
        "                  f\"Batch: {batch_idx:03d}/{len(train_loader):03d} | \"\n",
        "                  f\"Cost: {cost:.4f}\")\n",
        "    \n",
        "    model.eval()\n",
        "    with torch.set_grad_enabled(False):\n",
        "        print(f\"training accuracy: \"\n",
        "              f\"{compute_binary_accuracy(model, train_loader, DEVICE):.2f}%\"\n",
        "              f\"\\nValid accuracy: \"\n",
        "              f\"{compute_binary_accuracy(model, valid_loader, DEVICE):.2f}%\")\n",
        "    print(f\"Time elapsed: {(time.time() - start_time)/60:.2f} min\")\n",
        "\n",
        "print(f\"Total Training Time: {(time.time() - start_time)/60:.2f} min\")\n",
        "print(f\"Test accuracay: {compute_binary_accuracy(model, test_loader, DEVICE):.2f}%\")"
      ],
      "execution_count": 11,
      "outputs": [
        {
          "output_type": "stream",
          "text": [
            "Epoch: 001/015 | Batch: 000/157 | Cost: 0.7014\n",
            "Epoch: 001/015 | Batch: 050/157 | Cost: 0.6846\n",
            "Epoch: 001/015 | Batch: 100/157 | Cost: 0.6912\n",
            "Epoch: 001/015 | Batch: 150/157 | Cost: 0.6799\n",
            "training accuracy: 58.93%\n",
            "Valid accuracy: 58.18%\n",
            "Time elapsed: 0.19 min\n",
            "Epoch: 002/015 | Batch: 000/157 | Cost: 0.6687\n",
            "Epoch: 002/015 | Batch: 050/157 | Cost: 0.6776\n",
            "Epoch: 002/015 | Batch: 100/157 | Cost: 0.6454\n",
            "Epoch: 002/015 | Batch: 150/157 | Cost: 0.6437\n",
            "training accuracy: 63.02%\n",
            "Valid accuracy: 62.82%\n",
            "Time elapsed: 0.37 min\n",
            "Epoch: 003/015 | Batch: 000/157 | Cost: 0.6737\n",
            "Epoch: 003/015 | Batch: 050/157 | Cost: 0.6160\n",
            "Epoch: 003/015 | Batch: 100/157 | Cost: 0.5728\n",
            "Epoch: 003/015 | Batch: 150/157 | Cost: 0.5566\n",
            "training accuracy: 73.32%\n",
            "Valid accuracy: 73.44%\n",
            "Time elapsed: 0.55 min\n",
            "Epoch: 004/015 | Batch: 000/157 | Cost: 0.5394\n",
            "Epoch: 004/015 | Batch: 050/157 | Cost: 0.4747\n",
            "Epoch: 004/015 | Batch: 100/157 | Cost: 0.5338\n",
            "Epoch: 004/015 | Batch: 150/157 | Cost: 0.5031\n",
            "training accuracy: 75.94%\n",
            "Valid accuracy: 75.66%\n",
            "Time elapsed: 0.74 min\n",
            "Epoch: 005/015 | Batch: 000/157 | Cost: 0.5091\n",
            "Epoch: 005/015 | Batch: 050/157 | Cost: 0.5108\n",
            "Epoch: 005/015 | Batch: 100/157 | Cost: 0.4378\n",
            "Epoch: 005/015 | Batch: 150/157 | Cost: 0.4458\n",
            "training accuracy: 79.57%\n",
            "Valid accuracy: 78.76%\n",
            "Time elapsed: 0.92 min\n",
            "Epoch: 006/015 | Batch: 000/157 | Cost: 0.5070\n",
            "Epoch: 006/015 | Batch: 050/157 | Cost: 0.4801\n",
            "Epoch: 006/015 | Batch: 100/157 | Cost: 0.4040\n",
            "Epoch: 006/015 | Batch: 150/157 | Cost: 0.4469\n",
            "training accuracy: 77.97%\n",
            "Valid accuracy: 77.30%\n",
            "Time elapsed: 1.11 min\n",
            "Epoch: 007/015 | Batch: 000/157 | Cost: 0.5253\n",
            "Epoch: 007/015 | Batch: 050/157 | Cost: 0.4986\n",
            "Epoch: 007/015 | Batch: 100/157 | Cost: 0.4447\n",
            "Epoch: 007/015 | Batch: 150/157 | Cost: 0.3951\n",
            "training accuracy: 83.05%\n",
            "Valid accuracy: 80.74%\n",
            "Time elapsed: 1.30 min\n",
            "Epoch: 008/015 | Batch: 000/157 | Cost: 0.3663\n",
            "Epoch: 008/015 | Batch: 050/157 | Cost: 0.5227\n",
            "Epoch: 008/015 | Batch: 100/157 | Cost: 0.4024\n",
            "Epoch: 008/015 | Batch: 150/157 | Cost: 0.4028\n",
            "training accuracy: 84.85%\n",
            "Valid accuracy: 82.36%\n",
            "Time elapsed: 1.49 min\n",
            "Epoch: 009/015 | Batch: 000/157 | Cost: 0.4708\n",
            "Epoch: 009/015 | Batch: 050/157 | Cost: 0.3559\n",
            "Epoch: 009/015 | Batch: 100/157 | Cost: 0.2828\n",
            "Epoch: 009/015 | Batch: 150/157 | Cost: 0.3264\n",
            "training accuracy: 85.31%\n",
            "Valid accuracy: 83.06%\n",
            "Time elapsed: 1.68 min\n",
            "Epoch: 010/015 | Batch: 000/157 | Cost: 0.4015\n",
            "Epoch: 010/015 | Batch: 050/157 | Cost: 0.3662\n",
            "Epoch: 010/015 | Batch: 100/157 | Cost: 0.3994\n",
            "Epoch: 010/015 | Batch: 150/157 | Cost: 0.3082\n",
            "training accuracy: 86.09%\n",
            "Valid accuracy: 83.64%\n",
            "Time elapsed: 1.87 min\n",
            "Epoch: 011/015 | Batch: 000/157 | Cost: 0.2998\n",
            "Epoch: 011/015 | Batch: 050/157 | Cost: 0.3862\n",
            "Epoch: 011/015 | Batch: 100/157 | Cost: 0.3139\n",
            "Epoch: 011/015 | Batch: 150/157 | Cost: 0.3354\n",
            "training accuracy: 87.71%\n",
            "Valid accuracy: 84.34%\n",
            "Time elapsed: 2.06 min\n",
            "Epoch: 012/015 | Batch: 000/157 | Cost: 0.3253\n",
            "Epoch: 012/015 | Batch: 050/157 | Cost: 0.4279\n",
            "Epoch: 012/015 | Batch: 100/157 | Cost: 0.3908\n",
            "Epoch: 012/015 | Batch: 150/157 | Cost: 0.2924\n",
            "training accuracy: 88.82%\n",
            "Valid accuracy: 85.16%\n",
            "Time elapsed: 2.24 min\n",
            "Epoch: 013/015 | Batch: 000/157 | Cost: 0.2950\n",
            "Epoch: 013/015 | Batch: 050/157 | Cost: 0.2981\n",
            "Epoch: 013/015 | Batch: 100/157 | Cost: 0.2537\n",
            "Epoch: 013/015 | Batch: 150/157 | Cost: 0.1868\n",
            "training accuracy: 89.31%\n",
            "Valid accuracy: 85.26%\n",
            "Time elapsed: 2.43 min\n",
            "Epoch: 014/015 | Batch: 000/157 | Cost: 0.2840\n",
            "Epoch: 014/015 | Batch: 050/157 | Cost: 0.2690\n",
            "Epoch: 014/015 | Batch: 100/157 | Cost: 0.3295\n",
            "Epoch: 014/015 | Batch: 150/157 | Cost: 0.2729\n",
            "training accuracy: 90.00%\n",
            "Valid accuracy: 85.76%\n",
            "Time elapsed: 2.62 min\n",
            "Epoch: 015/015 | Batch: 000/157 | Cost: 0.3511\n",
            "Epoch: 015/015 | Batch: 050/157 | Cost: 0.4514\n",
            "Epoch: 015/015 | Batch: 100/157 | Cost: 0.2165\n",
            "Epoch: 015/015 | Batch: 150/157 | Cost: 0.2627\n",
            "training accuracy: 90.19%\n",
            "Valid accuracy: 85.16%\n",
            "Time elapsed: 2.81 min\n",
            "Total Training Time: 2.81 min\n",
            "Test accuracay: 84.11%\n"
          ],
          "name": "stdout"
        }
      ]
    },
    {
      "cell_type": "code",
      "metadata": {
        "id": "B66QlibXRT7N"
      },
      "source": [
        "import spacy\n",
        "nlp = spacy.load('en')\n",
        "\n",
        "def predict_sentiment(model, sentence):\n",
        "    model.eval()\n",
        "    tokenized = [tok.text for tok in nlp.tokenizer(sentence)]\n",
        "    indexed = [TEXT.vocab.stoi[t] for t in tokenized]\n",
        "    length = [len(indexed)]\n",
        "    tensor = torch.LongTensor(indexed).to(DEVICE)\n",
        "    tensor = tensor.unsqueeze(1)\n",
        "    length_tensor = torch.LongTensor(length)\n",
        "    prediction = torch.sigmoid(model(tensor, length_tensor))\n",
        "    return prediction.item()"
      ],
      "execution_count": 19,
      "outputs": []
    },
    {
      "cell_type": "code",
      "metadata": {
        "colab": {
          "base_uri": "https://localhost:8080/"
        },
        "id": "WsTN6LFyikQz",
        "outputId": "e12f56c7-972f-4788-b631-2c2184581493"
      },
      "source": [
        "print('Probability positive:')\n",
        "predict_sentiment(model, 'I really love this movie. This movie is great!')"
      ],
      "execution_count": 25,
      "outputs": [
        {
          "output_type": "stream",
          "text": [
            "Probability positive:\n"
          ],
          "name": "stdout"
        },
        {
          "output_type": "execute_result",
          "data": {
            "text/plain": [
              "0.8710821270942688"
            ]
          },
          "metadata": {
            "tags": []
          },
          "execution_count": 25
        }
      ]
    },
    {
      "cell_type": "code",
      "metadata": {
        "id": "rLMWZJgei-xU"
      },
      "source": [
        ""
      ],
      "execution_count": null,
      "outputs": []
    }
  ]
}