{
  "nbformat": 4,
  "nbformat_minor": 0,
  "metadata": {
    "colab": {
      "name": "simple_rnn.ipynb",
      "provenance": [],
      "collapsed_sections": [],
      "authorship_tag": "ABX9TyMyOEuywIHi/DESFAmJoDGC",
      "include_colab_link": true
    },
    "kernelspec": {
      "name": "python3",
      "display_name": "Python 3"
    },
    "accelerator": "GPU"
  },
  "cells": [
    {
      "cell_type": "markdown",
      "metadata": {
        "id": "view-in-github",
        "colab_type": "text"
      },
      "source": [
        "<a href=\"https://colab.research.google.com/github/ishandahal/stats453-deep_learning_torch/blob/main/Rnn/simple_rnn.ipynb\" target=\"_parent\"><img src=\"https://colab.research.google.com/assets/colab-badge.svg\" alt=\"Open In Colab\"/></a>"
      ]
    },
    {
      "cell_type": "markdown",
      "metadata": {
        "id": "VjgjKYfRdj0L"
      },
      "source": [
        "Using simple RNN for sentiment analysis"
      ]
    },
    {
      "cell_type": "markdown",
      "metadata": {
        "id": "YME9JAYXdtyl"
      },
      "source": [
        "### Imports"
      ]
    },
    {
      "cell_type": "code",
      "metadata": {
        "id": "4E4ZOwcudvgM"
      },
      "source": [
        "import torch\n",
        "import torch.nn.functional as F\n",
        "from torchtext import data\n",
        "from torchtext import datasets\n",
        "import time \n",
        "import random\n",
        "\n",
        "torch.backends.cudnn.deterministic = True"
      ],
      "execution_count": 1,
      "outputs": []
    },
    {
      "cell_type": "markdown",
      "metadata": {
        "id": "Vr_9IIsTd_nX"
      },
      "source": [
        "### General Settings "
      ]
    },
    {
      "cell_type": "code",
      "metadata": {
        "id": "KgVNFdi5eFnM"
      },
      "source": [
        "RANDOM_SEED = 123\n",
        "torch.manual_seed(RANDOM_SEED)\n",
        "\n",
        "VOCABULARY_SIZE = 20000\n",
        "LEARNING_RATE = 1e-4\n",
        "BATCH_SIZE = 128\n",
        "NUM_EPOCHS = 15\n",
        "DEVICE = torch.device('cuda:0' if torch.cuda.is_available() else 'cpu')\n",
        "\n",
        "EMBEDDING_DIM = 128\n",
        "HIDDEN_DIM = 256\n",
        "OUTPUT_DIM = 1"
      ],
      "execution_count": 2,
      "outputs": []
    },
    {
      "cell_type": "markdown",
      "metadata": {
        "id": "OIz4ixRwelLU"
      },
      "source": [
        "## Dataset\n",
        "IMDB movie review dataset"
      ]
    },
    {
      "cell_type": "code",
      "metadata": {
        "colab": {
          "base_uri": "https://localhost:8080/"
        },
        "id": "JiWCBcBlepp0",
        "outputId": "ef4c8b91-382e-4dac-8ecc-29df4384fe07"
      },
      "source": [
        "TEXT = data.Field(tokenize='spacy')\n",
        "LABEL = data.LabelField(dtype=torch.float)\n",
        "train_data, test_data = datasets.IMDB.splits(TEXT, LABEL)\n",
        "train_data, valid_data = train_data.split(random_state=random.seed(RANDOM_SEED),\n",
        "                                          split_ratio=0.8)\n",
        "print(f\"Num Train: {len(train_data)}\")\n",
        "print(f\"Num Valid: {len(valid_data)}\")\n",
        "print(f\"Num Test: {len(test_data)}\")"
      ],
      "execution_count": 4,
      "outputs": [
        {
          "output_type": "stream",
          "text": [
            "\raclImdb_v1.tar.gz:   0%|          | 0.00/84.1M [00:00<?, ?B/s]"
          ],
          "name": "stderr"
        },
        {
          "output_type": "stream",
          "text": [
            "downloading aclImdb_v1.tar.gz\n"
          ],
          "name": "stdout"
        },
        {
          "output_type": "stream",
          "text": [
            "aclImdb_v1.tar.gz: 100%|██████████| 84.1M/84.1M [00:03<00:00, 21.7MB/s]\n"
          ],
          "name": "stderr"
        },
        {
          "output_type": "stream",
          "text": [
            "Num Train: 20000\n",
            "Num Valid: 5000\n",
            "Num Test: 25000\n"
          ],
          "name": "stdout"
        }
      ]
    },
    {
      "cell_type": "markdown",
      "metadata": {
        "id": "bYGOgCzamL2E"
      },
      "source": [
        "## Build the vocabulary based on the top \"VOCABULARY_SIZE\" words:"
      ]
    },
    {
      "cell_type": "code",
      "metadata": {
        "colab": {
          "base_uri": "https://localhost:8080/"
        },
        "id": "ajuFlR8hmxAL",
        "outputId": "1ca6dff1-f95c-40c8-9c58-27bd80eff510"
      },
      "source": [
        "TEXT.build_vocab(train_data, max_size=VOCABULARY_SIZE)\n",
        "LABEL.build_vocab(train_data)\n",
        "\n",
        "print(f\"Vocabulary size: {len(TEXT.vocab)}\")\n",
        "print(f\"Number of classes: {len(LABEL.vocab)}\")"
      ],
      "execution_count": 5,
      "outputs": [
        {
          "output_type": "stream",
          "text": [
            "Vocabulary size: 20002\n",
            "Number of classes: 2\n"
          ],
          "name": "stdout"
        }
      ]
    },
    {
      "cell_type": "code",
      "metadata": {
        "id": "YFo1WHDGnJPm"
      },
      "source": [
        "train_loader, valid_loader, test_loader = data.BucketIterator.splits(\n",
        "    (train_data, valid_data, test_data),\n",
        "    batch_size=BATCH_SIZE,\n",
        "    device=DEVICE)"
      ],
      "execution_count": 6,
      "outputs": []
    },
    {
      "cell_type": "code",
      "metadata": {
        "colab": {
          "base_uri": "https://localhost:8080/"
        },
        "id": "IoAiRHDZoOXi",
        "outputId": "a87ee543-509e-41d5-ca81-9e94ac787451"
      },
      "source": [
        "print('Train')\n",
        "for batch in train_loader:\n",
        "    print(f\"Text matrix size: {batch.text.size()}\")\n",
        "    print(f\"Target vector size: {batch.label.size()}\")\n",
        "    break\n",
        "\n",
        "print('\\nValid')\n",
        "for batch in valid_loader:\n",
        "    print(f\"Text matrix size: {batch.text.size()}\")\n",
        "    print(f\"Target vector size: {batch.label.size()}\")\n",
        "    break\n",
        "\n",
        "print(\"\\nTest\")\n",
        "for batch in test_loader:\n",
        "    print(f\"Text matrix size: {batch.text.size()}\")\n",
        "    print(f\"Target vector size: {batch.label.size()}\")\n",
        "    break"
      ],
      "execution_count": 7,
      "outputs": [
        {
          "output_type": "stream",
          "text": [
            "Train\n",
            "Text matrix size: torch.Size([888, 128])\n",
            "Target vector size: torch.Size([128])\n",
            "\n",
            "Valid\n",
            "Text matrix size: torch.Size([62, 128])\n",
            "Target vector size: torch.Size([128])\n",
            "\n",
            "Test\n",
            "Text matrix size: torch.Size([42, 128])\n",
            "Target vector size: torch.Size([128])\n"
          ],
          "name": "stdout"
        }
      ]
    },
    {
      "cell_type": "markdown",
      "metadata": {
        "id": "-R3k2kDeo028"
      },
      "source": [
        "## Model"
      ]
    },
    {
      "cell_type": "code",
      "metadata": {
        "id": "qNiM8e7PpAoj"
      },
      "source": [
        "import torch.nn as nn\n",
        "\n",
        "class RNN(nn.Module):\n",
        "    def __init__(self, input_dim, embedding_dim, hidden_dim, output_dim):\n",
        "        super(RNN, self).__init__()\n",
        "\n",
        "        self.embedding = nn.Embedding(input_dim, embedding_dim)\n",
        "        self.rnn = nn.RNN(embedding_dim, hidden_dim)\n",
        "        self.fc = nn.Linear(hidden_dim, output_dim)\n",
        "\n",
        "    def forward(self, text):\n",
        "        #[sentence len, batch size] => [sentence len, batch size, embedding size]\n",
        "        embedded = self.embedding(text)\n",
        "\n",
        "        #[sentence len, batch size, embedding size] => \n",
        "        # output: [sentence len, batch size, hidden size]\n",
        "        # hidden: [1, batch size, hidden size]\n",
        "        output, hidden = self.rnn(embedded)\n",
        "\n",
        "        return self.fc(hidden.squeeze(0)).view(-1)"
      ],
      "execution_count": 9,
      "outputs": []
    },
    {
      "cell_type": "code",
      "metadata": {
        "id": "1VFgRV3HrJK0"
      },
      "source": [
        "INPUT_DIM = len(TEXT.vocab)\n",
        "EMBEDDING_DIM = 64\n",
        "HIDDEN_DIM = 128\n",
        "OUTPUT_DIM = 1\n",
        "\n",
        "torch.manual_seed(RANDOM_SEED)\n",
        "model = RNN(INPUT_DIM, EMBEDDING_DIM, HIDDEN_DIM, OUTPUT_DIM)\n",
        "model = model.to(DEVICE)\n",
        "optimizer = torch.optim.Adam(model.parameters(), lr=LEARNING_RATE)"
      ],
      "execution_count": 10,
      "outputs": []
    },
    {
      "cell_type": "markdown",
      "metadata": {
        "id": "P31wRkc5rOPJ"
      },
      "source": [
        "## Training"
      ]
    },
    {
      "cell_type": "code",
      "metadata": {
        "id": "D0PwN0JLrXzh"
      },
      "source": [
        "def compute_binary_accuracy(model, data_loader, device):\n",
        "    model.eval()\n",
        "    correct_pred, num_examples = 0, 0\n",
        "    with torch.no_grad():\n",
        "        for batch_idx, batch_data in enumerate(data_loader):\n",
        "            logits = model(batch_data.text)\n",
        "            predicted_labels = (torch.sigmoid(logits) > 0.5).long()\n",
        "            num_examples += batch_data.label.size(0)\n",
        "            correct_pred += (predicted_labels == batch_data.label.long()).sum()\n",
        "        return correct_pred.float() / num_examples * 100"
      ],
      "execution_count": 11,
      "outputs": []
    },
    {
      "cell_type": "code",
      "metadata": {
        "colab": {
          "base_uri": "https://localhost:8080/"
        },
        "id": "ZyhBMCzDsCIc",
        "outputId": "eda06885-192e-43ab-88f2-86a52b3bfcfb"
      },
      "source": [
        "start_time = time.time()\n",
        "\n",
        "for epoch in range(NUM_EPOCHS):\n",
        "    model.train()\n",
        "    for batch_idx, batch_data in enumerate(train_loader):\n",
        "\n",
        "        # Forward and Back Prop\n",
        "        logits = model(batch_data.text)\n",
        "        cost = F.binary_cross_entropy_with_logits(logits, batch_data.label)\n",
        "        optimizer.zero_grad()\n",
        "\n",
        "        cost.backward()\n",
        "\n",
        "        ## update model parameters\n",
        "        optimizer.step()\n",
        "\n",
        "        ## logging \n",
        "        if not batch_idx % 50:\n",
        "            print(f\"Epoch: {epoch+1:03d}/{NUM_EPOCHS:03d} | \"\n",
        "                  f\"Batch: {batch_idx:03d}/{len(train_loader):03d} | \"\n",
        "                  f\"Cost: {cost:.4f}\")\n",
        "    \n",
        "    with torch.set_grad_enabled(False):\n",
        "        print(f\"training accuracy: \"\n",
        "              f\"{compute_binary_accuracy(model, train_loader, DEVICE):.2f}%\"\n",
        "              f\"\\nvalid accuracy: \"\n",
        "              f\"{compute_binary_accuracy(model, valid_loader, DEVICE):.2f}%\")\n",
        "    \n",
        "    print(f\"Time elapsed: {(time.time() - start_time) / 60:.2f} min\")\n",
        "\n",
        "print(f\"Total time elapsed: {(time.time() - start_time) / 60:.2f} min\")\n",
        "print(f\"Test accuracy: {compute_binary_accuracy(model, test_loader, DEVICE):.2f}%\")"
      ],
      "execution_count": 13,
      "outputs": [
        {
          "output_type": "stream",
          "text": [
            "Epoch: 001/015 | Batch: 000/157 | Cost: 0.7088\n",
            "Epoch: 001/015 | Batch: 050/157 | Cost: 0.6932\n",
            "Epoch: 001/015 | Batch: 100/157 | Cost: 0.6875\n",
            "Epoch: 001/015 | Batch: 150/157 | Cost: 0.6956\n",
            "training accuracy: 49.97%\n",
            "valid accuracy: 50.28%\n",
            "Time elapsed: 0.29 min\n",
            "Epoch: 002/015 | Batch: 000/157 | Cost: 0.6895\n",
            "Epoch: 002/015 | Batch: 050/157 | Cost: 0.6959\n",
            "Epoch: 002/015 | Batch: 100/157 | Cost: 0.6931\n",
            "Epoch: 002/015 | Batch: 150/157 | Cost: 0.6944\n",
            "training accuracy: 50.05%\n",
            "valid accuracy: 50.12%\n",
            "Time elapsed: 0.57 min\n",
            "Epoch: 003/015 | Batch: 000/157 | Cost: 0.6951\n",
            "Epoch: 003/015 | Batch: 050/157 | Cost: 0.6937\n",
            "Epoch: 003/015 | Batch: 100/157 | Cost: 0.7039\n",
            "Epoch: 003/015 | Batch: 150/157 | Cost: 0.6932\n",
            "training accuracy: 49.98%\n",
            "valid accuracy: 50.80%\n",
            "Time elapsed: 0.85 min\n",
            "Epoch: 004/015 | Batch: 000/157 | Cost: 0.6939\n",
            "Epoch: 004/015 | Batch: 050/157 | Cost: 0.6937\n",
            "Epoch: 004/015 | Batch: 100/157 | Cost: 0.6907\n",
            "Epoch: 004/015 | Batch: 150/157 | Cost: 0.6956\n",
            "training accuracy: 50.08%\n",
            "valid accuracy: 49.70%\n",
            "Time elapsed: 1.13 min\n",
            "Epoch: 005/015 | Batch: 000/157 | Cost: 0.6866\n",
            "Epoch: 005/015 | Batch: 050/157 | Cost: 0.6902\n",
            "Epoch: 005/015 | Batch: 100/157 | Cost: 0.6947\n",
            "Epoch: 005/015 | Batch: 150/157 | Cost: 0.6895\n",
            "training accuracy: 50.01%\n",
            "valid accuracy: 50.28%\n",
            "Time elapsed: 1.41 min\n",
            "Epoch: 006/015 | Batch: 000/157 | Cost: 0.6921\n",
            "Epoch: 006/015 | Batch: 050/157 | Cost: 0.6927\n",
            "Epoch: 006/015 | Batch: 100/157 | Cost: 0.6930\n",
            "Epoch: 006/015 | Batch: 150/157 | Cost: 0.6927\n",
            "training accuracy: 50.03%\n",
            "valid accuracy: 50.36%\n",
            "Time elapsed: 1.68 min\n",
            "Epoch: 007/015 | Batch: 000/157 | Cost: 0.6938\n",
            "Epoch: 007/015 | Batch: 050/157 | Cost: 0.6938\n",
            "Epoch: 007/015 | Batch: 100/157 | Cost: 0.6921\n",
            "Epoch: 007/015 | Batch: 150/157 | Cost: 0.6905\n",
            "training accuracy: 50.08%\n",
            "valid accuracy: 49.56%\n",
            "Time elapsed: 1.96 min\n",
            "Epoch: 008/015 | Batch: 000/157 | Cost: 0.6928\n",
            "Epoch: 008/015 | Batch: 050/157 | Cost: 0.6938\n",
            "Epoch: 008/015 | Batch: 100/157 | Cost: 0.6934\n",
            "Epoch: 008/015 | Batch: 150/157 | Cost: 0.6878\n",
            "training accuracy: 50.03%\n",
            "valid accuracy: 50.32%\n",
            "Time elapsed: 2.23 min\n",
            "Epoch: 009/015 | Batch: 000/157 | Cost: 0.6929\n",
            "Epoch: 009/015 | Batch: 050/157 | Cost: 0.7015\n",
            "Epoch: 009/015 | Batch: 100/157 | Cost: 0.6973\n",
            "Epoch: 009/015 | Batch: 150/157 | Cost: 0.6885\n",
            "training accuracy: 50.17%\n",
            "valid accuracy: 49.84%\n",
            "Time elapsed: 2.51 min\n",
            "Epoch: 010/015 | Batch: 000/157 | Cost: 0.6941\n",
            "Epoch: 010/015 | Batch: 050/157 | Cost: 0.6907\n",
            "Epoch: 010/015 | Batch: 100/157 | Cost: 0.6927\n",
            "Epoch: 010/015 | Batch: 150/157 | Cost: 0.6921\n",
            "training accuracy: 50.12%\n",
            "valid accuracy: 50.18%\n",
            "Time elapsed: 2.78 min\n",
            "Epoch: 011/015 | Batch: 000/157 | Cost: 0.6931\n",
            "Epoch: 011/015 | Batch: 050/157 | Cost: 0.6946\n",
            "Epoch: 011/015 | Batch: 100/157 | Cost: 0.6964\n",
            "Epoch: 011/015 | Batch: 150/157 | Cost: 0.6933\n",
            "training accuracy: 50.12%\n",
            "valid accuracy: 50.30%\n",
            "Time elapsed: 3.05 min\n",
            "Epoch: 012/015 | Batch: 000/157 | Cost: 0.6924\n",
            "Epoch: 012/015 | Batch: 050/157 | Cost: 0.6925\n",
            "Epoch: 012/015 | Batch: 100/157 | Cost: 0.6953\n",
            "Epoch: 012/015 | Batch: 150/157 | Cost: 0.6928\n",
            "training accuracy: 50.17%\n",
            "valid accuracy: 49.96%\n",
            "Time elapsed: 3.32 min\n",
            "Epoch: 013/015 | Batch: 000/157 | Cost: 0.6937\n",
            "Epoch: 013/015 | Batch: 050/157 | Cost: 0.6960\n",
            "Epoch: 013/015 | Batch: 100/157 | Cost: 0.6941\n",
            "Epoch: 013/015 | Batch: 150/157 | Cost: 0.6934\n",
            "training accuracy: 50.12%\n",
            "valid accuracy: 50.54%\n",
            "Time elapsed: 3.59 min\n",
            "Epoch: 014/015 | Batch: 000/157 | Cost: 0.6927\n",
            "Epoch: 014/015 | Batch: 050/157 | Cost: 0.6920\n",
            "Epoch: 014/015 | Batch: 100/157 | Cost: 0.6898\n",
            "Epoch: 014/015 | Batch: 150/157 | Cost: 0.6964\n",
            "training accuracy: 50.12%\n",
            "valid accuracy: 50.32%\n",
            "Time elapsed: 3.85 min\n",
            "Epoch: 015/015 | Batch: 000/157 | Cost: 0.6998\n",
            "Epoch: 015/015 | Batch: 050/157 | Cost: 0.6921\n",
            "Epoch: 015/015 | Batch: 100/157 | Cost: 0.6894\n",
            "Epoch: 015/015 | Batch: 150/157 | Cost: 0.6929\n",
            "training accuracy: 50.10%\n",
            "valid accuracy: 50.94%\n",
            "Time elapsed: 4.12 min\n",
            "Total time elapsed: 4.12 min\n",
            "Test accuracy: 45.59%\n"
          ],
          "name": "stdout"
        }
      ]
    },
    {
      "cell_type": "code",
      "metadata": {
        "id": "MwSctlXuxAmk"
      },
      "source": [
        "import spacy \n",
        "\n",
        "nlp = spacy.load('en')\n",
        "\n",
        "def predict_sentiment(model, sentence):\n",
        "    model.eval()\n",
        "    tokenized = [tok.text for tok in nlp.tokenizer(sentence)]\n",
        "    indexed = [TEXT.vocab.stoi[t] for t in tokenized]\n",
        "    tensor = torch.LongTensor(indexed).to(DEVICE)\n",
        "    tensor = tensor.unsqueeze(1)\n",
        "    prediction = torch.sigmoid(model(tensor))\n",
        "    return prediction.item()"
      ],
      "execution_count": 19,
      "outputs": []
    },
    {
      "cell_type": "code",
      "metadata": {
        "colab": {
          "base_uri": "https://localhost:8080/"
        },
        "id": "jgo8w6mayf5d",
        "outputId": "b3204230-b84b-4efa-e205-9a0b93a67683"
      },
      "source": [
        "print(\"Probability positive:\")\n",
        "predict_sentiment(model, \"I really love this movie. This is so great!\")"
      ],
      "execution_count": 20,
      "outputs": [
        {
          "output_type": "stream",
          "text": [
            "Probability positive:\n"
          ],
          "name": "stdout"
        },
        {
          "output_type": "execute_result",
          "data": {
            "text/plain": [
              "0.5515838265419006"
            ]
          },
          "metadata": {
            "tags": []
          },
          "execution_count": 20
        }
      ]
    }
  ]
}