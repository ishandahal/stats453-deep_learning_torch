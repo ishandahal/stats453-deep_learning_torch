{
  "nbformat": 4,
  "nbformat_minor": 0,
  "metadata": {
    "colab": {
      "name": "Conv_autoencoder_Rf.ipynb",
      "provenance": [],
      "authorship_tag": "ABX9TyPz64oloRUkKRDmYIEErdgB",
      "include_colab_link": true
    },
    "kernelspec": {
      "name": "python3",
      "display_name": "Python 3"
    },
    "widgets": {
      "application/vnd.jupyter.widget-state+json": {
        "9c019950f50148528de373424397cd1c": {
          "model_module": "@jupyter-widgets/controls",
          "model_name": "HBoxModel",
          "state": {
            "_view_name": "HBoxView",
            "_dom_classes": [],
            "_model_name": "HBoxModel",
            "_view_module": "@jupyter-widgets/controls",
            "_model_module_version": "1.5.0",
            "_view_count": null,
            "_view_module_version": "1.5.0",
            "box_style": "",
            "layout": "IPY_MODEL_2f6f09a8180a472497a5abc3550fdd70",
            "_model_module": "@jupyter-widgets/controls",
            "children": [
              "IPY_MODEL_8c2bff2f585541dea13fa421f4314551",
              "IPY_MODEL_6b76a996c2474fcb8d13785eb30ff687"
            ]
          }
        },
        "2f6f09a8180a472497a5abc3550fdd70": {
          "model_module": "@jupyter-widgets/base",
          "model_name": "LayoutModel",
          "state": {
            "_view_name": "LayoutView",
            "grid_template_rows": null,
            "right": null,
            "justify_content": null,
            "_view_module": "@jupyter-widgets/base",
            "overflow": null,
            "_model_module_version": "1.2.0",
            "_view_count": null,
            "flex_flow": null,
            "width": null,
            "min_width": null,
            "border": null,
            "align_items": null,
            "bottom": null,
            "_model_module": "@jupyter-widgets/base",
            "top": null,
            "grid_column": null,
            "overflow_y": null,
            "overflow_x": null,
            "grid_auto_flow": null,
            "grid_area": null,
            "grid_template_columns": null,
            "flex": null,
            "_model_name": "LayoutModel",
            "justify_items": null,
            "grid_row": null,
            "max_height": null,
            "align_content": null,
            "visibility": null,
            "align_self": null,
            "height": null,
            "min_height": null,
            "padding": null,
            "grid_auto_rows": null,
            "grid_gap": null,
            "max_width": null,
            "order": null,
            "_view_module_version": "1.2.0",
            "grid_template_areas": null,
            "object_position": null,
            "object_fit": null,
            "grid_auto_columns": null,
            "margin": null,
            "display": null,
            "left": null
          }
        },
        "8c2bff2f585541dea13fa421f4314551": {
          "model_module": "@jupyter-widgets/controls",
          "model_name": "FloatProgressModel",
          "state": {
            "_view_name": "ProgressView",
            "style": "IPY_MODEL_83ecdf6f392c4a45b63977ab60927b10",
            "_dom_classes": [],
            "description": "",
            "_model_name": "FloatProgressModel",
            "bar_style": "info",
            "max": 1,
            "_view_module": "@jupyter-widgets/controls",
            "_model_module_version": "1.5.0",
            "value": 1,
            "_view_count": null,
            "_view_module_version": "1.5.0",
            "orientation": "horizontal",
            "min": 0,
            "description_tooltip": null,
            "_model_module": "@jupyter-widgets/controls",
            "layout": "IPY_MODEL_8227c06f48cf4c21973e73ecc37a8101"
          }
        },
        "6b76a996c2474fcb8d13785eb30ff687": {
          "model_module": "@jupyter-widgets/controls",
          "model_name": "HTMLModel",
          "state": {
            "_view_name": "HTMLView",
            "style": "IPY_MODEL_0f3b3b13463346c29b0e4ee1c003d46d",
            "_dom_classes": [],
            "description": "",
            "_model_name": "HTMLModel",
            "placeholder": "​",
            "_view_module": "@jupyter-widgets/controls",
            "_model_module_version": "1.5.0",
            "value": " 9920512/? [00:20&lt;00:00, 3630726.73it/s]",
            "_view_count": null,
            "_view_module_version": "1.5.0",
            "description_tooltip": null,
            "_model_module": "@jupyter-widgets/controls",
            "layout": "IPY_MODEL_43a05a7bc2dc43168d9ee266bc79bfa7"
          }
        },
        "83ecdf6f392c4a45b63977ab60927b10": {
          "model_module": "@jupyter-widgets/controls",
          "model_name": "ProgressStyleModel",
          "state": {
            "_view_name": "StyleView",
            "_model_name": "ProgressStyleModel",
            "description_width": "initial",
            "_view_module": "@jupyter-widgets/base",
            "_model_module_version": "1.5.0",
            "_view_count": null,
            "_view_module_version": "1.2.0",
            "bar_color": null,
            "_model_module": "@jupyter-widgets/controls"
          }
        },
        "8227c06f48cf4c21973e73ecc37a8101": {
          "model_module": "@jupyter-widgets/base",
          "model_name": "LayoutModel",
          "state": {
            "_view_name": "LayoutView",
            "grid_template_rows": null,
            "right": null,
            "justify_content": null,
            "_view_module": "@jupyter-widgets/base",
            "overflow": null,
            "_model_module_version": "1.2.0",
            "_view_count": null,
            "flex_flow": null,
            "width": null,
            "min_width": null,
            "border": null,
            "align_items": null,
            "bottom": null,
            "_model_module": "@jupyter-widgets/base",
            "top": null,
            "grid_column": null,
            "overflow_y": null,
            "overflow_x": null,
            "grid_auto_flow": null,
            "grid_area": null,
            "grid_template_columns": null,
            "flex": null,
            "_model_name": "LayoutModel",
            "justify_items": null,
            "grid_row": null,
            "max_height": null,
            "align_content": null,
            "visibility": null,
            "align_self": null,
            "height": null,
            "min_height": null,
            "padding": null,
            "grid_auto_rows": null,
            "grid_gap": null,
            "max_width": null,
            "order": null,
            "_view_module_version": "1.2.0",
            "grid_template_areas": null,
            "object_position": null,
            "object_fit": null,
            "grid_auto_columns": null,
            "margin": null,
            "display": null,
            "left": null
          }
        },
        "0f3b3b13463346c29b0e4ee1c003d46d": {
          "model_module": "@jupyter-widgets/controls",
          "model_name": "DescriptionStyleModel",
          "state": {
            "_view_name": "StyleView",
            "_model_name": "DescriptionStyleModel",
            "description_width": "",
            "_view_module": "@jupyter-widgets/base",
            "_model_module_version": "1.5.0",
            "_view_count": null,
            "_view_module_version": "1.2.0",
            "_model_module": "@jupyter-widgets/controls"
          }
        },
        "43a05a7bc2dc43168d9ee266bc79bfa7": {
          "model_module": "@jupyter-widgets/base",
          "model_name": "LayoutModel",
          "state": {
            "_view_name": "LayoutView",
            "grid_template_rows": null,
            "right": null,
            "justify_content": null,
            "_view_module": "@jupyter-widgets/base",
            "overflow": null,
            "_model_module_version": "1.2.0",
            "_view_count": null,
            "flex_flow": null,
            "width": null,
            "min_width": null,
            "border": null,
            "align_items": null,
            "bottom": null,
            "_model_module": "@jupyter-widgets/base",
            "top": null,
            "grid_column": null,
            "overflow_y": null,
            "overflow_x": null,
            "grid_auto_flow": null,
            "grid_area": null,
            "grid_template_columns": null,
            "flex": null,
            "_model_name": "LayoutModel",
            "justify_items": null,
            "grid_row": null,
            "max_height": null,
            "align_content": null,
            "visibility": null,
            "align_self": null,
            "height": null,
            "min_height": null,
            "padding": null,
            "grid_auto_rows": null,
            "grid_gap": null,
            "max_width": null,
            "order": null,
            "_view_module_version": "1.2.0",
            "grid_template_areas": null,
            "object_position": null,
            "object_fit": null,
            "grid_auto_columns": null,
            "margin": null,
            "display": null,
            "left": null
          }
        },
        "ab22007b77ee4a42bca9aecf3b86a329": {
          "model_module": "@jupyter-widgets/controls",
          "model_name": "HBoxModel",
          "state": {
            "_view_name": "HBoxView",
            "_dom_classes": [],
            "_model_name": "HBoxModel",
            "_view_module": "@jupyter-widgets/controls",
            "_model_module_version": "1.5.0",
            "_view_count": null,
            "_view_module_version": "1.5.0",
            "box_style": "",
            "layout": "IPY_MODEL_faa7c162bc6140b3947a5566d38101f5",
            "_model_module": "@jupyter-widgets/controls",
            "children": [
              "IPY_MODEL_e9dfcb2814004f2d89a83380f477769b",
              "IPY_MODEL_1ace8ccdb0044d69838d2042b4916e0d"
            ]
          }
        },
        "faa7c162bc6140b3947a5566d38101f5": {
          "model_module": "@jupyter-widgets/base",
          "model_name": "LayoutModel",
          "state": {
            "_view_name": "LayoutView",
            "grid_template_rows": null,
            "right": null,
            "justify_content": null,
            "_view_module": "@jupyter-widgets/base",
            "overflow": null,
            "_model_module_version": "1.2.0",
            "_view_count": null,
            "flex_flow": null,
            "width": null,
            "min_width": null,
            "border": null,
            "align_items": null,
            "bottom": null,
            "_model_module": "@jupyter-widgets/base",
            "top": null,
            "grid_column": null,
            "overflow_y": null,
            "overflow_x": null,
            "grid_auto_flow": null,
            "grid_area": null,
            "grid_template_columns": null,
            "flex": null,
            "_model_name": "LayoutModel",
            "justify_items": null,
            "grid_row": null,
            "max_height": null,
            "align_content": null,
            "visibility": null,
            "align_self": null,
            "height": null,
            "min_height": null,
            "padding": null,
            "grid_auto_rows": null,
            "grid_gap": null,
            "max_width": null,
            "order": null,
            "_view_module_version": "1.2.0",
            "grid_template_areas": null,
            "object_position": null,
            "object_fit": null,
            "grid_auto_columns": null,
            "margin": null,
            "display": null,
            "left": null
          }
        },
        "e9dfcb2814004f2d89a83380f477769b": {
          "model_module": "@jupyter-widgets/controls",
          "model_name": "FloatProgressModel",
          "state": {
            "_view_name": "ProgressView",
            "style": "IPY_MODEL_2a1d8dadbd8946d491adc3291f0a21d4",
            "_dom_classes": [],
            "description": "  0%",
            "_model_name": "FloatProgressModel",
            "bar_style": "info",
            "max": 1,
            "_view_module": "@jupyter-widgets/controls",
            "_model_module_version": "1.5.0",
            "value": 0,
            "_view_count": null,
            "_view_module_version": "1.5.0",
            "orientation": "horizontal",
            "min": 0,
            "description_tooltip": null,
            "_model_module": "@jupyter-widgets/controls",
            "layout": "IPY_MODEL_d75c6625a7d140a8871c6e7f2ed2a44d"
          }
        },
        "1ace8ccdb0044d69838d2042b4916e0d": {
          "model_module": "@jupyter-widgets/controls",
          "model_name": "HTMLModel",
          "state": {
            "_view_name": "HTMLView",
            "style": "IPY_MODEL_5d12903d1da044d189ec86a2ce6891bd",
            "_dom_classes": [],
            "description": "",
            "_model_name": "HTMLModel",
            "placeholder": "​",
            "_view_module": "@jupyter-widgets/controls",
            "_model_module_version": "1.5.0",
            "value": " 0/28881 [00:00&lt;?, ?it/s]",
            "_view_count": null,
            "_view_module_version": "1.5.0",
            "description_tooltip": null,
            "_model_module": "@jupyter-widgets/controls",
            "layout": "IPY_MODEL_b98af2b724474ab28a179a40b9ef4584"
          }
        },
        "2a1d8dadbd8946d491adc3291f0a21d4": {
          "model_module": "@jupyter-widgets/controls",
          "model_name": "ProgressStyleModel",
          "state": {
            "_view_name": "StyleView",
            "_model_name": "ProgressStyleModel",
            "description_width": "initial",
            "_view_module": "@jupyter-widgets/base",
            "_model_module_version": "1.5.0",
            "_view_count": null,
            "_view_module_version": "1.2.0",
            "bar_color": null,
            "_model_module": "@jupyter-widgets/controls"
          }
        },
        "d75c6625a7d140a8871c6e7f2ed2a44d": {
          "model_module": "@jupyter-widgets/base",
          "model_name": "LayoutModel",
          "state": {
            "_view_name": "LayoutView",
            "grid_template_rows": null,
            "right": null,
            "justify_content": null,
            "_view_module": "@jupyter-widgets/base",
            "overflow": null,
            "_model_module_version": "1.2.0",
            "_view_count": null,
            "flex_flow": null,
            "width": null,
            "min_width": null,
            "border": null,
            "align_items": null,
            "bottom": null,
            "_model_module": "@jupyter-widgets/base",
            "top": null,
            "grid_column": null,
            "overflow_y": null,
            "overflow_x": null,
            "grid_auto_flow": null,
            "grid_area": null,
            "grid_template_columns": null,
            "flex": null,
            "_model_name": "LayoutModel",
            "justify_items": null,
            "grid_row": null,
            "max_height": null,
            "align_content": null,
            "visibility": null,
            "align_self": null,
            "height": null,
            "min_height": null,
            "padding": null,
            "grid_auto_rows": null,
            "grid_gap": null,
            "max_width": null,
            "order": null,
            "_view_module_version": "1.2.0",
            "grid_template_areas": null,
            "object_position": null,
            "object_fit": null,
            "grid_auto_columns": null,
            "margin": null,
            "display": null,
            "left": null
          }
        },
        "5d12903d1da044d189ec86a2ce6891bd": {
          "model_module": "@jupyter-widgets/controls",
          "model_name": "DescriptionStyleModel",
          "state": {
            "_view_name": "StyleView",
            "_model_name": "DescriptionStyleModel",
            "description_width": "",
            "_view_module": "@jupyter-widgets/base",
            "_model_module_version": "1.5.0",
            "_view_count": null,
            "_view_module_version": "1.2.0",
            "_model_module": "@jupyter-widgets/controls"
          }
        },
        "b98af2b724474ab28a179a40b9ef4584": {
          "model_module": "@jupyter-widgets/base",
          "model_name": "LayoutModel",
          "state": {
            "_view_name": "LayoutView",
            "grid_template_rows": null,
            "right": null,
            "justify_content": null,
            "_view_module": "@jupyter-widgets/base",
            "overflow": null,
            "_model_module_version": "1.2.0",
            "_view_count": null,
            "flex_flow": null,
            "width": null,
            "min_width": null,
            "border": null,
            "align_items": null,
            "bottom": null,
            "_model_module": "@jupyter-widgets/base",
            "top": null,
            "grid_column": null,
            "overflow_y": null,
            "overflow_x": null,
            "grid_auto_flow": null,
            "grid_area": null,
            "grid_template_columns": null,
            "flex": null,
            "_model_name": "LayoutModel",
            "justify_items": null,
            "grid_row": null,
            "max_height": null,
            "align_content": null,
            "visibility": null,
            "align_self": null,
            "height": null,
            "min_height": null,
            "padding": null,
            "grid_auto_rows": null,
            "grid_gap": null,
            "max_width": null,
            "order": null,
            "_view_module_version": "1.2.0",
            "grid_template_areas": null,
            "object_position": null,
            "object_fit": null,
            "grid_auto_columns": null,
            "margin": null,
            "display": null,
            "left": null
          }
        },
        "da194ce08567410fad105e46cab4136b": {
          "model_module": "@jupyter-widgets/controls",
          "model_name": "HBoxModel",
          "state": {
            "_view_name": "HBoxView",
            "_dom_classes": [],
            "_model_name": "HBoxModel",
            "_view_module": "@jupyter-widgets/controls",
            "_model_module_version": "1.5.0",
            "_view_count": null,
            "_view_module_version": "1.5.0",
            "box_style": "",
            "layout": "IPY_MODEL_0a6df200120949ed800a10efb73e9b1d",
            "_model_module": "@jupyter-widgets/controls",
            "children": [
              "IPY_MODEL_360287dd29d54aa8a18a8b364b897196",
              "IPY_MODEL_fa957234821749cd90030c94bb7396a9"
            ]
          }
        },
        "0a6df200120949ed800a10efb73e9b1d": {
          "model_module": "@jupyter-widgets/base",
          "model_name": "LayoutModel",
          "state": {
            "_view_name": "LayoutView",
            "grid_template_rows": null,
            "right": null,
            "justify_content": null,
            "_view_module": "@jupyter-widgets/base",
            "overflow": null,
            "_model_module_version": "1.2.0",
            "_view_count": null,
            "flex_flow": null,
            "width": null,
            "min_width": null,
            "border": null,
            "align_items": null,
            "bottom": null,
            "_model_module": "@jupyter-widgets/base",
            "top": null,
            "grid_column": null,
            "overflow_y": null,
            "overflow_x": null,
            "grid_auto_flow": null,
            "grid_area": null,
            "grid_template_columns": null,
            "flex": null,
            "_model_name": "LayoutModel",
            "justify_items": null,
            "grid_row": null,
            "max_height": null,
            "align_content": null,
            "visibility": null,
            "align_self": null,
            "height": null,
            "min_height": null,
            "padding": null,
            "grid_auto_rows": null,
            "grid_gap": null,
            "max_width": null,
            "order": null,
            "_view_module_version": "1.2.0",
            "grid_template_areas": null,
            "object_position": null,
            "object_fit": null,
            "grid_auto_columns": null,
            "margin": null,
            "display": null,
            "left": null
          }
        },
        "360287dd29d54aa8a18a8b364b897196": {
          "model_module": "@jupyter-widgets/controls",
          "model_name": "FloatProgressModel",
          "state": {
            "_view_name": "ProgressView",
            "style": "IPY_MODEL_dc02946ea0884effa4821044e91ee5e6",
            "_dom_classes": [],
            "description": "",
            "_model_name": "FloatProgressModel",
            "bar_style": "success",
            "max": 1,
            "_view_module": "@jupyter-widgets/controls",
            "_model_module_version": "1.5.0",
            "value": 1,
            "_view_count": null,
            "_view_module_version": "1.5.0",
            "orientation": "horizontal",
            "min": 0,
            "description_tooltip": null,
            "_model_module": "@jupyter-widgets/controls",
            "layout": "IPY_MODEL_33fd63c34049482099b1a103b294cccc"
          }
        },
        "fa957234821749cd90030c94bb7396a9": {
          "model_module": "@jupyter-widgets/controls",
          "model_name": "HTMLModel",
          "state": {
            "_view_name": "HTMLView",
            "style": "IPY_MODEL_635ee853937d4048be71a0019b2ff42a",
            "_dom_classes": [],
            "description": "",
            "_model_name": "HTMLModel",
            "placeholder": "​",
            "_view_module": "@jupyter-widgets/controls",
            "_model_module_version": "1.5.0",
            "value": " 1654784/? [00:00&lt;00:00, 2143227.03it/s]",
            "_view_count": null,
            "_view_module_version": "1.5.0",
            "description_tooltip": null,
            "_model_module": "@jupyter-widgets/controls",
            "layout": "IPY_MODEL_f06f5b1490d4478a894b929a77e6897b"
          }
        },
        "dc02946ea0884effa4821044e91ee5e6": {
          "model_module": "@jupyter-widgets/controls",
          "model_name": "ProgressStyleModel",
          "state": {
            "_view_name": "StyleView",
            "_model_name": "ProgressStyleModel",
            "description_width": "initial",
            "_view_module": "@jupyter-widgets/base",
            "_model_module_version": "1.5.0",
            "_view_count": null,
            "_view_module_version": "1.2.0",
            "bar_color": null,
            "_model_module": "@jupyter-widgets/controls"
          }
        },
        "33fd63c34049482099b1a103b294cccc": {
          "model_module": "@jupyter-widgets/base",
          "model_name": "LayoutModel",
          "state": {
            "_view_name": "LayoutView",
            "grid_template_rows": null,
            "right": null,
            "justify_content": null,
            "_view_module": "@jupyter-widgets/base",
            "overflow": null,
            "_model_module_version": "1.2.0",
            "_view_count": null,
            "flex_flow": null,
            "width": null,
            "min_width": null,
            "border": null,
            "align_items": null,
            "bottom": null,
            "_model_module": "@jupyter-widgets/base",
            "top": null,
            "grid_column": null,
            "overflow_y": null,
            "overflow_x": null,
            "grid_auto_flow": null,
            "grid_area": null,
            "grid_template_columns": null,
            "flex": null,
            "_model_name": "LayoutModel",
            "justify_items": null,
            "grid_row": null,
            "max_height": null,
            "align_content": null,
            "visibility": null,
            "align_self": null,
            "height": null,
            "min_height": null,
            "padding": null,
            "grid_auto_rows": null,
            "grid_gap": null,
            "max_width": null,
            "order": null,
            "_view_module_version": "1.2.0",
            "grid_template_areas": null,
            "object_position": null,
            "object_fit": null,
            "grid_auto_columns": null,
            "margin": null,
            "display": null,
            "left": null
          }
        },
        "635ee853937d4048be71a0019b2ff42a": {
          "model_module": "@jupyter-widgets/controls",
          "model_name": "DescriptionStyleModel",
          "state": {
            "_view_name": "StyleView",
            "_model_name": "DescriptionStyleModel",
            "description_width": "",
            "_view_module": "@jupyter-widgets/base",
            "_model_module_version": "1.5.0",
            "_view_count": null,
            "_view_module_version": "1.2.0",
            "_model_module": "@jupyter-widgets/controls"
          }
        },
        "f06f5b1490d4478a894b929a77e6897b": {
          "model_module": "@jupyter-widgets/base",
          "model_name": "LayoutModel",
          "state": {
            "_view_name": "LayoutView",
            "grid_template_rows": null,
            "right": null,
            "justify_content": null,
            "_view_module": "@jupyter-widgets/base",
            "overflow": null,
            "_model_module_version": "1.2.0",
            "_view_count": null,
            "flex_flow": null,
            "width": null,
            "min_width": null,
            "border": null,
            "align_items": null,
            "bottom": null,
            "_model_module": "@jupyter-widgets/base",
            "top": null,
            "grid_column": null,
            "overflow_y": null,
            "overflow_x": null,
            "grid_auto_flow": null,
            "grid_area": null,
            "grid_template_columns": null,
            "flex": null,
            "_model_name": "LayoutModel",
            "justify_items": null,
            "grid_row": null,
            "max_height": null,
            "align_content": null,
            "visibility": null,
            "align_self": null,
            "height": null,
            "min_height": null,
            "padding": null,
            "grid_auto_rows": null,
            "grid_gap": null,
            "max_width": null,
            "order": null,
            "_view_module_version": "1.2.0",
            "grid_template_areas": null,
            "object_position": null,
            "object_fit": null,
            "grid_auto_columns": null,
            "margin": null,
            "display": null,
            "left": null
          }
        },
        "c7b1689b70d5457fbd7ab7ee8b8b36d0": {
          "model_module": "@jupyter-widgets/controls",
          "model_name": "HBoxModel",
          "state": {
            "_view_name": "HBoxView",
            "_dom_classes": [],
            "_model_name": "HBoxModel",
            "_view_module": "@jupyter-widgets/controls",
            "_model_module_version": "1.5.0",
            "_view_count": null,
            "_view_module_version": "1.5.0",
            "box_style": "",
            "layout": "IPY_MODEL_87cd74bdd50248b1a35325668566d20a",
            "_model_module": "@jupyter-widgets/controls",
            "children": [
              "IPY_MODEL_d8d4cd0cb5344c438bf820c664c21852",
              "IPY_MODEL_69effd40c2634b9190232d8207f0cbc3"
            ]
          }
        },
        "87cd74bdd50248b1a35325668566d20a": {
          "model_module": "@jupyter-widgets/base",
          "model_name": "LayoutModel",
          "state": {
            "_view_name": "LayoutView",
            "grid_template_rows": null,
            "right": null,
            "justify_content": null,
            "_view_module": "@jupyter-widgets/base",
            "overflow": null,
            "_model_module_version": "1.2.0",
            "_view_count": null,
            "flex_flow": null,
            "width": null,
            "min_width": null,
            "border": null,
            "align_items": null,
            "bottom": null,
            "_model_module": "@jupyter-widgets/base",
            "top": null,
            "grid_column": null,
            "overflow_y": null,
            "overflow_x": null,
            "grid_auto_flow": null,
            "grid_area": null,
            "grid_template_columns": null,
            "flex": null,
            "_model_name": "LayoutModel",
            "justify_items": null,
            "grid_row": null,
            "max_height": null,
            "align_content": null,
            "visibility": null,
            "align_self": null,
            "height": null,
            "min_height": null,
            "padding": null,
            "grid_auto_rows": null,
            "grid_gap": null,
            "max_width": null,
            "order": null,
            "_view_module_version": "1.2.0",
            "grid_template_areas": null,
            "object_position": null,
            "object_fit": null,
            "grid_auto_columns": null,
            "margin": null,
            "display": null,
            "left": null
          }
        },
        "d8d4cd0cb5344c438bf820c664c21852": {
          "model_module": "@jupyter-widgets/controls",
          "model_name": "FloatProgressModel",
          "state": {
            "_view_name": "ProgressView",
            "style": "IPY_MODEL_7b289c475852471c9bd68aca607a8382",
            "_dom_classes": [],
            "description": "",
            "_model_name": "FloatProgressModel",
            "bar_style": "success",
            "max": 1,
            "_view_module": "@jupyter-widgets/controls",
            "_model_module_version": "1.5.0",
            "value": 1,
            "_view_count": null,
            "_view_module_version": "1.5.0",
            "orientation": "horizontal",
            "min": 0,
            "description_tooltip": null,
            "_model_module": "@jupyter-widgets/controls",
            "layout": "IPY_MODEL_26923f2bf8d4406dbb73991f06f68df3"
          }
        },
        "69effd40c2634b9190232d8207f0cbc3": {
          "model_module": "@jupyter-widgets/controls",
          "model_name": "HTMLModel",
          "state": {
            "_view_name": "HTMLView",
            "style": "IPY_MODEL_c1bfe8f539c2439da8ca23fd9e762be2",
            "_dom_classes": [],
            "description": "",
            "_model_name": "HTMLModel",
            "placeholder": "​",
            "_view_module": "@jupyter-widgets/controls",
            "_model_module_version": "1.5.0",
            "value": " 8192/? [00:00&lt;00:00, 19664.12it/s]",
            "_view_count": null,
            "_view_module_version": "1.5.0",
            "description_tooltip": null,
            "_model_module": "@jupyter-widgets/controls",
            "layout": "IPY_MODEL_bc7469044c4647acb58a03e64b488752"
          }
        },
        "7b289c475852471c9bd68aca607a8382": {
          "model_module": "@jupyter-widgets/controls",
          "model_name": "ProgressStyleModel",
          "state": {
            "_view_name": "StyleView",
            "_model_name": "ProgressStyleModel",
            "description_width": "initial",
            "_view_module": "@jupyter-widgets/base",
            "_model_module_version": "1.5.0",
            "_view_count": null,
            "_view_module_version": "1.2.0",
            "bar_color": null,
            "_model_module": "@jupyter-widgets/controls"
          }
        },
        "26923f2bf8d4406dbb73991f06f68df3": {
          "model_module": "@jupyter-widgets/base",
          "model_name": "LayoutModel",
          "state": {
            "_view_name": "LayoutView",
            "grid_template_rows": null,
            "right": null,
            "justify_content": null,
            "_view_module": "@jupyter-widgets/base",
            "overflow": null,
            "_model_module_version": "1.2.0",
            "_view_count": null,
            "flex_flow": null,
            "width": null,
            "min_width": null,
            "border": null,
            "align_items": null,
            "bottom": null,
            "_model_module": "@jupyter-widgets/base",
            "top": null,
            "grid_column": null,
            "overflow_y": null,
            "overflow_x": null,
            "grid_auto_flow": null,
            "grid_area": null,
            "grid_template_columns": null,
            "flex": null,
            "_model_name": "LayoutModel",
            "justify_items": null,
            "grid_row": null,
            "max_height": null,
            "align_content": null,
            "visibility": null,
            "align_self": null,
            "height": null,
            "min_height": null,
            "padding": null,
            "grid_auto_rows": null,
            "grid_gap": null,
            "max_width": null,
            "order": null,
            "_view_module_version": "1.2.0",
            "grid_template_areas": null,
            "object_position": null,
            "object_fit": null,
            "grid_auto_columns": null,
            "margin": null,
            "display": null,
            "left": null
          }
        },
        "c1bfe8f539c2439da8ca23fd9e762be2": {
          "model_module": "@jupyter-widgets/controls",
          "model_name": "DescriptionStyleModel",
          "state": {
            "_view_name": "StyleView",
            "_model_name": "DescriptionStyleModel",
            "description_width": "",
            "_view_module": "@jupyter-widgets/base",
            "_model_module_version": "1.5.0",
            "_view_count": null,
            "_view_module_version": "1.2.0",
            "_model_module": "@jupyter-widgets/controls"
          }
        },
        "bc7469044c4647acb58a03e64b488752": {
          "model_module": "@jupyter-widgets/base",
          "model_name": "LayoutModel",
          "state": {
            "_view_name": "LayoutView",
            "grid_template_rows": null,
            "right": null,
            "justify_content": null,
            "_view_module": "@jupyter-widgets/base",
            "overflow": null,
            "_model_module_version": "1.2.0",
            "_view_count": null,
            "flex_flow": null,
            "width": null,
            "min_width": null,
            "border": null,
            "align_items": null,
            "bottom": null,
            "_model_module": "@jupyter-widgets/base",
            "top": null,
            "grid_column": null,
            "overflow_y": null,
            "overflow_x": null,
            "grid_auto_flow": null,
            "grid_area": null,
            "grid_template_columns": null,
            "flex": null,
            "_model_name": "LayoutModel",
            "justify_items": null,
            "grid_row": null,
            "max_height": null,
            "align_content": null,
            "visibility": null,
            "align_self": null,
            "height": null,
            "min_height": null,
            "padding": null,
            "grid_auto_rows": null,
            "grid_gap": null,
            "max_width": null,
            "order": null,
            "_view_module_version": "1.2.0",
            "grid_template_areas": null,
            "object_position": null,
            "object_fit": null,
            "grid_auto_columns": null,
            "margin": null,
            "display": null,
            "left": null
          }
        }
      }
    }
  },
  "cells": [
    {
      "cell_type": "markdown",
      "metadata": {
        "id": "view-in-github",
        "colab_type": "text"
      },
      "source": [
        "<a href=\"https://colab.research.google.com/github/ishandahal/stats453-deep_learning_torch/blob/main/Autoencoder/Conv_autoencoder_Rf.ipynb\" target=\"_parent\"><img src=\"https://colab.research.google.com/assets/colab-badge.svg\" alt=\"Open In Colab\"/></a>"
      ]
    },
    {
      "cell_type": "markdown",
      "metadata": {
        "id": "i7lpmp4sEaqS"
      },
      "source": [
        "### Convolutional Autoencoder and Random Forest Classifier"
      ]
    },
    {
      "cell_type": "markdown",
      "metadata": {
        "id": "pRWh_f3uTdZu"
      },
      "source": [
        "#### Imports"
      ]
    },
    {
      "cell_type": "code",
      "metadata": {
        "id": "PynJvSd5Tj_E"
      },
      "source": [
        "import time\n",
        "import numpy as np\n",
        "import torch\n",
        "import torch.nn.functional as F\n",
        "from torch.utils.data import DataLoader\n",
        "from torchvision import datasets\n",
        "from torchvision import transforms\n",
        "\n",
        "\n",
        "if torch.cuda.is_available():\n",
        "    torch.backends.cudnn.deterministic = True"
      ],
      "execution_count": 1,
      "outputs": []
    },
    {
      "cell_type": "code",
      "metadata": {
        "colab": {
          "base_uri": "https://localhost:8080/",
          "height": 460,
          "referenced_widgets": [
            "9c019950f50148528de373424397cd1c",
            "2f6f09a8180a472497a5abc3550fdd70",
            "8c2bff2f585541dea13fa421f4314551",
            "6b76a996c2474fcb8d13785eb30ff687",
            "83ecdf6f392c4a45b63977ab60927b10",
            "8227c06f48cf4c21973e73ecc37a8101",
            "0f3b3b13463346c29b0e4ee1c003d46d",
            "43a05a7bc2dc43168d9ee266bc79bfa7",
            "ab22007b77ee4a42bca9aecf3b86a329",
            "faa7c162bc6140b3947a5566d38101f5",
            "e9dfcb2814004f2d89a83380f477769b",
            "1ace8ccdb0044d69838d2042b4916e0d",
            "2a1d8dadbd8946d491adc3291f0a21d4",
            "d75c6625a7d140a8871c6e7f2ed2a44d",
            "5d12903d1da044d189ec86a2ce6891bd",
            "b98af2b724474ab28a179a40b9ef4584",
            "da194ce08567410fad105e46cab4136b",
            "0a6df200120949ed800a10efb73e9b1d",
            "360287dd29d54aa8a18a8b364b897196",
            "fa957234821749cd90030c94bb7396a9",
            "dc02946ea0884effa4821044e91ee5e6",
            "33fd63c34049482099b1a103b294cccc",
            "635ee853937d4048be71a0019b2ff42a",
            "f06f5b1490d4478a894b929a77e6897b",
            "c7b1689b70d5457fbd7ab7ee8b8b36d0",
            "87cd74bdd50248b1a35325668566d20a",
            "d8d4cd0cb5344c438bf820c664c21852",
            "69effd40c2634b9190232d8207f0cbc3",
            "7b289c475852471c9bd68aca607a8382",
            "26923f2bf8d4406dbb73991f06f68df3",
            "c1bfe8f539c2439da8ca23fd9e762be2",
            "bc7469044c4647acb58a03e64b488752"
          ]
        },
        "id": "zdaUW5MGTmsj",
        "outputId": "359cd4a3-df89-41b7-9dd6-cdefb9604394"
      },
      "source": [
        "### SETTINGS\n",
        "##########################\n",
        "\n",
        "# Device\n",
        "device = torch.device(\"cuda:0\" if torch.cuda.is_available() else \"cpu\")\n",
        "print('Device:', device)\n",
        "\n",
        "# Hyperparameters\n",
        "random_seed = 123\n",
        "learning_rate = 0.005\n",
        "num_epochs = 10\n",
        "batch_size = 128\n",
        "\n",
        "\n",
        "### MNIST DATASET\n",
        "\n",
        "\n",
        "custom_transform = transforms.Compose([transforms.ToTensor(),\n",
        "                                       transforms.Normalize((0.5,), (0.5,))])\n",
        "\n",
        "train_dataset = datasets.MNIST(root='data', \n",
        "                               train=True, \n",
        "                               transform=custom_transform,\n",
        "                               download=True)\n",
        "\n",
        "test_dataset = datasets.MNIST(root='data', \n",
        "                              train=False, \n",
        "                              transform=custom_transform)\n",
        "\n",
        "\n",
        "train_loader = DataLoader(dataset=train_dataset, \n",
        "                          batch_size=batch_size, \n",
        "                          shuffle=True)\n",
        "\n",
        "test_loader = DataLoader(dataset=test_dataset, \n",
        "                         batch_size=batch_size, \n",
        "                         shuffle=False)\n",
        "\n",
        "# Checking the dataset\n",
        "for images, labels in train_loader:  \n",
        "    print('Image batch dimensions:', images.shape)\n",
        "    print('Image label dimensions:', labels.shape)\n",
        "    break"
      ],
      "execution_count": 2,
      "outputs": [
        {
          "output_type": "stream",
          "text": [
            "Device: cpu\n",
            "Downloading http://yann.lecun.com/exdb/mnist/train-images-idx3-ubyte.gz to data/MNIST/raw/train-images-idx3-ubyte.gz\n"
          ],
          "name": "stdout"
        },
        {
          "output_type": "display_data",
          "data": {
            "application/vnd.jupyter.widget-view+json": {
              "model_id": "9c019950f50148528de373424397cd1c",
              "version_minor": 0,
              "version_major": 2
            },
            "text/plain": [
              "HBox(children=(FloatProgress(value=1.0, bar_style='info', max=1.0), HTML(value='')))"
            ]
          },
          "metadata": {
            "tags": []
          }
        },
        {
          "output_type": "stream",
          "text": [
            "Extracting data/MNIST/raw/train-images-idx3-ubyte.gz to data/MNIST/raw\n",
            "Downloading http://yann.lecun.com/exdb/mnist/train-labels-idx1-ubyte.gz to data/MNIST/raw/train-labels-idx1-ubyte.gz\n"
          ],
          "name": "stdout"
        },
        {
          "output_type": "display_data",
          "data": {
            "application/vnd.jupyter.widget-view+json": {
              "model_id": "ab22007b77ee4a42bca9aecf3b86a329",
              "version_minor": 0,
              "version_major": 2
            },
            "text/plain": [
              "HBox(children=(FloatProgress(value=1.0, bar_style='info', max=1.0), HTML(value='')))"
            ]
          },
          "metadata": {
            "tags": []
          }
        },
        {
          "output_type": "stream",
          "text": [
            "Extracting data/MNIST/raw/train-labels-idx1-ubyte.gz to data/MNIST/raw\n",
            "Downloading http://yann.lecun.com/exdb/mnist/t10k-images-idx3-ubyte.gz to data/MNIST/raw/t10k-images-idx3-ubyte.gz\n"
          ],
          "name": "stdout"
        },
        {
          "output_type": "display_data",
          "data": {
            "application/vnd.jupyter.widget-view+json": {
              "model_id": "da194ce08567410fad105e46cab4136b",
              "version_minor": 0,
              "version_major": 2
            },
            "text/plain": [
              "HBox(children=(FloatProgress(value=1.0, bar_style='info', max=1.0), HTML(value='')))"
            ]
          },
          "metadata": {
            "tags": []
          }
        },
        {
          "output_type": "stream",
          "text": [
            "Extracting data/MNIST/raw/t10k-images-idx3-ubyte.gz to data/MNIST/raw\n",
            "Downloading http://yann.lecun.com/exdb/mnist/t10k-labels-idx1-ubyte.gz to data/MNIST/raw/t10k-labels-idx1-ubyte.gz\n"
          ],
          "name": "stdout"
        },
        {
          "output_type": "display_data",
          "data": {
            "application/vnd.jupyter.widget-view+json": {
              "model_id": "c7b1689b70d5457fbd7ab7ee8b8b36d0",
              "version_minor": 0,
              "version_major": 2
            },
            "text/plain": [
              "HBox(children=(FloatProgress(value=1.0, bar_style='info', max=1.0), HTML(value='')))"
            ]
          },
          "metadata": {
            "tags": []
          }
        },
        {
          "output_type": "stream",
          "text": [
            "Extracting data/MNIST/raw/t10k-labels-idx1-ubyte.gz to data/MNIST/raw\n",
            "Processing...\n",
            "Done!\n"
          ],
          "name": "stdout"
        },
        {
          "output_type": "stream",
          "text": [
            "/usr/local/lib/python3.6/dist-packages/torchvision/datasets/mnist.py:480: UserWarning: The given NumPy array is not writeable, and PyTorch does not support non-writeable tensors. This means you can write to the underlying (supposedly non-writeable) NumPy array using the tensor. You may want to copy the array to protect its data or make it writeable before converting it to a tensor. This type of warning will be suppressed for the rest of this program. (Triggered internally at  /pytorch/torch/csrc/utils/tensor_numpy.cpp:141.)\n",
            "  return torch.from_numpy(parsed.astype(m[2], copy=False)).view(*s)\n"
          ],
          "name": "stderr"
        },
        {
          "output_type": "stream",
          "text": [
            "\n",
            "\n",
            "Image batch dimensions: torch.Size([128, 1, 28, 28])\n",
            "Image label dimensions: torch.Size([128])\n"
          ],
          "name": "stdout"
        }
      ]
    },
    {
      "cell_type": "markdown",
      "metadata": {
        "id": "RJbqqYv4TwOA"
      },
      "source": [
        "#### Model"
      ]
    },
    {
      "cell_type": "code",
      "metadata": {
        "id": "SAvSTJeST2HO"
      },
      "source": [
        "\n",
        "class ConvolutionalAutoencoder(torch.nn.Module):\n",
        "\n",
        "    def __init__(self):\n",
        "        super(ConvolutionalAutoencoder, self).__init__()\n",
        "        \n",
        "        # calculate same padding:\n",
        "        # (w - k + 2*p)/s + 1 = o\n",
        "        # => p = (s(o-1) - w + k)/2\n",
        "        \n",
        "        ### ENCODER\n",
        "        \n",
        "        # 28x28x1 => 28x28x4\n",
        "        self.conv_1 = torch.nn.Conv2d(in_channels=1,\n",
        "                                      out_channels=4,\n",
        "                                      kernel_size=(3, 3),\n",
        "                                      stride=(1, 1),\n",
        "                                      # (1(28-1) - 28 + 3) / 2 = 1\n",
        "                                      padding=1)\n",
        "        # 28x28x4 => 14x14x4\n",
        "        self.pool_1 = torch.nn.MaxPool2d(kernel_size=(2, 2),\n",
        "                                         stride=(2, 2),\n",
        "                                         # (2(14-1) - 28 + 2) / 2 = 0\n",
        "                                         padding=0)                                       \n",
        "        # 14x14x4 => 14x14x8\n",
        "        self.conv_2 = torch.nn.Conv2d(in_channels=4,\n",
        "                                      out_channels=8,\n",
        "                                      kernel_size=(3, 3),\n",
        "                                      stride=(1, 1),\n",
        "                                      # (1(14-1) - 14 + 3) / 2 = 1\n",
        "                                      padding=1)                 \n",
        "        # 14x14x8 => 7x7x8                             \n",
        "        self.pool_2 = torch.nn.MaxPool2d(kernel_size=(2, 2),\n",
        "                                         stride=(2, 2),\n",
        "                                         # (2(7-1) - 14 + 2) / 2 = 0\n",
        "                                         padding=0)\n",
        "        \n",
        "        ### DECODER\n",
        "                                         \n",
        "        # 7x7x8 => 14x14x8               \n",
        "        # Unpool\n",
        "\n",
        "        # 14x14x8 => 14x14x8\n",
        "        self.conv_3 = torch.nn.Conv2d(in_channels=8,\n",
        "                                      out_channels=4,\n",
        "                                      kernel_size=(3, 3),\n",
        "                                      stride=(1, 1),\n",
        "                                      # (1(14-1) - 14 + 3) / 2 = 1\n",
        "                                      padding=1)\n",
        "        # 14x14x4 => 28x28x4                            \n",
        "        # Unpool\n",
        "        \n",
        "        # 28x28x4 => 28x28x1\n",
        "        self.conv_4 = torch.nn.Conv2d(in_channels=4,\n",
        "                                      out_channels=1,\n",
        "                                      kernel_size=(3, 3),\n",
        "                                      stride=(1, 1),\n",
        "                                      # (1(28-1) - 28 + 3) / 2 = 1\n",
        "                                      padding=1)\n",
        "        \n",
        "    def encoder(self, x):\n",
        "        x = self.conv_1(x)\n",
        "        x = F.leaky_relu(x)\n",
        "        x = self.pool_1(x)\n",
        "        x = self.conv_2(x)\n",
        "        x = F.leaky_relu(x)\n",
        "        x = self.pool_2(x)\n",
        "        return x\n",
        "\n",
        "    def decoder(self, x):\n",
        "        x = F.interpolate(x, scale_factor=2)\n",
        "        x = self.conv_3(x)\n",
        "        x = F.leaky_relu(x)\n",
        "        x = F.interpolate(x, scale_factor=2)\n",
        "        x = self.conv_4(x)\n",
        "        x = torch.tanh(x)\n",
        "        return x\n",
        "\n",
        "    def forward(self, x):\n",
        "\n",
        "        ## Encoder\n",
        "        x = self.encoder(x)\n",
        "\n",
        "        ## Decoder\n",
        "        x = self.decoder(x)\n",
        "        return x\n",
        "\n",
        "torch.manual_seed(random_seed)\n",
        "model = ConvolutionalAutoencoder()\n",
        "model = model.to(device)\n",
        "\n",
        "optimizer = torch.optim.Adam(model.parameters(), lr=learning_rate)"
      ],
      "execution_count": 3,
      "outputs": []
    },
    {
      "cell_type": "markdown",
      "metadata": {
        "id": "OJzdK7gSVROV"
      },
      "source": [
        "### Training"
      ]
    },
    {
      "cell_type": "code",
      "metadata": {
        "colab": {
          "base_uri": "https://localhost:8080/"
        },
        "id": "5fAs63gnVT9W",
        "outputId": "68324103-da63-40f1-aba1-a7fe29e9a1de"
      },
      "source": [
        "start_time = time.time()\n",
        "for epoch in range(num_epochs):\n",
        "    for batch_idx, (features, labels) in enumerate(train_loader):\n",
        "\n",
        "        features = features.to(device)\n",
        "\n",
        "        ## forward and back prop\n",
        "        decoded = model(features)\n",
        "        cost = F.mse_loss(decoded, features)\n",
        "\n",
        "        optimizer.zero_grad()\n",
        "\n",
        "        cost.backward()\n",
        "\n",
        "        # update model parameters\n",
        "        optimizer.step()\n",
        "\n",
        "        ## logging \n",
        "        if not batch_idx % 50:\n",
        "            print ('Epoch: %03d/%03d | Batch %03d/%03d | Cost: %.4f' \n",
        "                   %(epoch+1, num_epochs, batch_idx, \n",
        "                     len(train_loader), cost))\n",
        "            \n",
        "    print('Time elapsed: %.2f min' % ((time.time() - start_time)/60))\n",
        "    \n",
        "print('Total Training Time: %.2f min' % ((time.time() - start_time)/60))"
      ],
      "execution_count": 7,
      "outputs": [
        {
          "output_type": "stream",
          "text": [
            "Epoch: 001/010 | Batch 000/469 | Cost: 0.9883\n",
            "Epoch: 001/010 | Batch 050/469 | Cost: 0.1496\n",
            "Epoch: 001/010 | Batch 100/469 | Cost: 0.0883\n",
            "Epoch: 001/010 | Batch 150/469 | Cost: 0.0677\n",
            "Epoch: 001/010 | Batch 200/469 | Cost: 0.0603\n",
            "Epoch: 001/010 | Batch 250/469 | Cost: 0.0563\n",
            "Epoch: 001/010 | Batch 300/469 | Cost: 0.0540\n",
            "Epoch: 001/010 | Batch 350/469 | Cost: 0.0525\n",
            "Epoch: 001/010 | Batch 400/469 | Cost: 0.0453\n",
            "Epoch: 001/010 | Batch 450/469 | Cost: 0.0477\n",
            "Time elapsed: 0.54 min\n",
            "Epoch: 002/010 | Batch 000/469 | Cost: 0.0495\n",
            "Epoch: 002/010 | Batch 050/469 | Cost: 0.0436\n",
            "Epoch: 002/010 | Batch 100/469 | Cost: 0.0450\n",
            "Epoch: 002/010 | Batch 150/469 | Cost: 0.0437\n",
            "Epoch: 002/010 | Batch 200/469 | Cost: 0.0434\n",
            "Epoch: 002/010 | Batch 250/469 | Cost: 0.0433\n",
            "Epoch: 002/010 | Batch 300/469 | Cost: 0.0403\n",
            "Epoch: 002/010 | Batch 350/469 | Cost: 0.0393\n",
            "Epoch: 002/010 | Batch 400/469 | Cost: 0.0375\n",
            "Epoch: 002/010 | Batch 450/469 | Cost: 0.0350\n",
            "Time elapsed: 1.07 min\n",
            "Epoch: 003/010 | Batch 000/469 | Cost: 0.0381\n",
            "Epoch: 003/010 | Batch 050/469 | Cost: 0.0383\n",
            "Epoch: 003/010 | Batch 100/469 | Cost: 0.0389\n",
            "Epoch: 003/010 | Batch 150/469 | Cost: 0.0389\n",
            "Epoch: 003/010 | Batch 200/469 | Cost: 0.0393\n",
            "Epoch: 003/010 | Batch 250/469 | Cost: 0.0347\n",
            "Epoch: 003/010 | Batch 300/469 | Cost: 0.0358\n",
            "Epoch: 003/010 | Batch 350/469 | Cost: 0.0358\n",
            "Epoch: 003/010 | Batch 400/469 | Cost: 0.0326\n",
            "Epoch: 003/010 | Batch 450/469 | Cost: 0.0351\n",
            "Time elapsed: 1.61 min\n",
            "Epoch: 004/010 | Batch 000/469 | Cost: 0.0355\n",
            "Epoch: 004/010 | Batch 050/469 | Cost: 0.0342\n",
            "Epoch: 004/010 | Batch 100/469 | Cost: 0.0324\n",
            "Epoch: 004/010 | Batch 150/469 | Cost: 0.0361\n",
            "Epoch: 004/010 | Batch 200/469 | Cost: 0.0345\n",
            "Epoch: 004/010 | Batch 250/469 | Cost: 0.0328\n",
            "Epoch: 004/010 | Batch 300/469 | Cost: 0.0328\n",
            "Epoch: 004/010 | Batch 350/469 | Cost: 0.0323\n",
            "Epoch: 004/010 | Batch 400/469 | Cost: 0.0329\n",
            "Epoch: 004/010 | Batch 450/469 | Cost: 0.0335\n",
            "Time elapsed: 2.15 min\n",
            "Epoch: 005/010 | Batch 000/469 | Cost: 0.0328\n",
            "Epoch: 005/010 | Batch 050/469 | Cost: 0.0306\n",
            "Epoch: 005/010 | Batch 100/469 | Cost: 0.0324\n",
            "Epoch: 005/010 | Batch 150/469 | Cost: 0.0315\n",
            "Epoch: 005/010 | Batch 200/469 | Cost: 0.0313\n",
            "Epoch: 005/010 | Batch 250/469 | Cost: 0.0312\n",
            "Epoch: 005/010 | Batch 300/469 | Cost: 0.0316\n",
            "Epoch: 005/010 | Batch 350/469 | Cost: 0.0318\n",
            "Epoch: 005/010 | Batch 400/469 | Cost: 0.0287\n",
            "Epoch: 005/010 | Batch 450/469 | Cost: 0.0328\n",
            "Time elapsed: 2.69 min\n",
            "Epoch: 006/010 | Batch 000/469 | Cost: 0.0314\n",
            "Epoch: 006/010 | Batch 050/469 | Cost: 0.0321\n",
            "Epoch: 006/010 | Batch 100/469 | Cost: 0.0315\n",
            "Epoch: 006/010 | Batch 150/469 | Cost: 0.0318\n",
            "Epoch: 006/010 | Batch 200/469 | Cost: 0.0317\n",
            "Epoch: 006/010 | Batch 250/469 | Cost: 0.0307\n",
            "Epoch: 006/010 | Batch 300/469 | Cost: 0.0308\n",
            "Epoch: 006/010 | Batch 350/469 | Cost: 0.0301\n",
            "Epoch: 006/010 | Batch 400/469 | Cost: 0.0291\n",
            "Epoch: 006/010 | Batch 450/469 | Cost: 0.0302\n",
            "Time elapsed: 3.22 min\n",
            "Epoch: 007/010 | Batch 000/469 | Cost: 0.0290\n",
            "Epoch: 007/010 | Batch 050/469 | Cost: 0.0305\n",
            "Epoch: 007/010 | Batch 100/469 | Cost: 0.0285\n",
            "Epoch: 007/010 | Batch 150/469 | Cost: 0.0301\n",
            "Epoch: 007/010 | Batch 200/469 | Cost: 0.0296\n",
            "Epoch: 007/010 | Batch 250/469 | Cost: 0.0269\n",
            "Epoch: 007/010 | Batch 300/469 | Cost: 0.0276\n",
            "Epoch: 007/010 | Batch 350/469 | Cost: 0.0299\n",
            "Epoch: 007/010 | Batch 400/469 | Cost: 0.0285\n",
            "Epoch: 007/010 | Batch 450/469 | Cost: 0.0277\n",
            "Time elapsed: 3.76 min\n",
            "Epoch: 008/010 | Batch 000/469 | Cost: 0.0272\n",
            "Epoch: 008/010 | Batch 050/469 | Cost: 0.0281\n",
            "Epoch: 008/010 | Batch 100/469 | Cost: 0.0285\n",
            "Epoch: 008/010 | Batch 150/469 | Cost: 0.0310\n",
            "Epoch: 008/010 | Batch 200/469 | Cost: 0.0283\n",
            "Epoch: 008/010 | Batch 250/469 | Cost: 0.0275\n",
            "Epoch: 008/010 | Batch 300/469 | Cost: 0.0280\n",
            "Epoch: 008/010 | Batch 350/469 | Cost: 0.0283\n",
            "Epoch: 008/010 | Batch 400/469 | Cost: 0.0271\n",
            "Epoch: 008/010 | Batch 450/469 | Cost: 0.0271\n",
            "Time elapsed: 4.30 min\n",
            "Epoch: 009/010 | Batch 000/469 | Cost: 0.0281\n",
            "Epoch: 009/010 | Batch 050/469 | Cost: 0.0278\n",
            "Epoch: 009/010 | Batch 100/469 | Cost: 0.0270\n",
            "Epoch: 009/010 | Batch 150/469 | Cost: 0.0280\n",
            "Epoch: 009/010 | Batch 200/469 | Cost: 0.0285\n",
            "Epoch: 009/010 | Batch 250/469 | Cost: 0.0268\n",
            "Epoch: 009/010 | Batch 300/469 | Cost: 0.0252\n",
            "Epoch: 009/010 | Batch 350/469 | Cost: 0.0272\n",
            "Epoch: 009/010 | Batch 400/469 | Cost: 0.0278\n",
            "Epoch: 009/010 | Batch 450/469 | Cost: 0.0271\n",
            "Time elapsed: 4.84 min\n",
            "Epoch: 010/010 | Batch 000/469 | Cost: 0.0270\n",
            "Epoch: 010/010 | Batch 050/469 | Cost: 0.0267\n",
            "Epoch: 010/010 | Batch 100/469 | Cost: 0.0268\n",
            "Epoch: 010/010 | Batch 150/469 | Cost: 0.0281\n",
            "Epoch: 010/010 | Batch 200/469 | Cost: 0.0276\n",
            "Epoch: 010/010 | Batch 250/469 | Cost: 0.0280\n",
            "Epoch: 010/010 | Batch 300/469 | Cost: 0.0283\n",
            "Epoch: 010/010 | Batch 350/469 | Cost: 0.0274\n",
            "Epoch: 010/010 | Batch 400/469 | Cost: 0.0283\n",
            "Epoch: 010/010 | Batch 450/469 | Cost: 0.0265\n",
            "Time elapsed: 5.38 min\n",
            "Total Training Time: 5.38 min\n"
          ],
          "name": "stdout"
        }
      ]
    },
    {
      "cell_type": "markdown",
      "metadata": {
        "id": "6QB9INy6V_CW"
      },
      "source": [
        "### Evaluation "
      ]
    },
    {
      "cell_type": "code",
      "metadata": {
        "colab": {
          "base_uri": "https://localhost:8080/",
          "height": 137
        },
        "id": "B2Em2K8jWYmp",
        "outputId": "f086ee9a-f10b-4551-e58a-7ee67713f685"
      },
      "source": [
        "import matplotlib.pyplot as plt\n",
        "\n",
        "### VISUALIZATION\n",
        "\n",
        "n_images = 15\n",
        "image_width = 28\n",
        "\n",
        "fig, axes = plt.subplots(nrows=2, ncols=n_images, \n",
        "                         sharex=True, sharey=True, figsize=(20, 2.5))\n",
        "orig_images = features[:n_images]\n",
        "decoded_images = decoded[:n_images]\n",
        "\n",
        "for i in range(n_images):\n",
        "    for ax, img in zip(axes, [orig_images, decoded_images]):\n",
        "        curr_img = img[i].detach().to(torch.device('cpu'))\n",
        "        ax[i].imshow(curr_img.view((image_width, image_width)), cmap='binary')"
      ],
      "execution_count": 8,
      "outputs": [
        {
          "output_type": "display_data",
          "data": {
            "image/png": "[encoded data removed]",
            "text/plain": [
              "<Figure size 1440x180 with 30 Axes>"
            ]
          },
          "metadata": {
            "tags": [],
            "needs_background": "light"
          }
        }
      ]
    },
    {
      "cell_type": "markdown",
      "metadata": {
        "id": "TidqLgDMWdVI"
      },
      "source": [
        "#### Classifier "
      ]
    },
    {
      "cell_type": "code",
      "metadata": {
        "id": "ECgdpQX4Wg8Q"
      },
      "source": [
        "import numpy as np\n",
        "from sklearn.ensemble import RandomForestClassifier\n",
        "\n",
        "train_loader = DataLoader(dataset=train_dataset,\n",
        "                          batch_size=60000,\n",
        "                          shuffle=True)\n",
        "\n",
        "test_loader = DataLoader(dataset=test_dataset,\n",
        "                         batch_size=10000)"
      ],
      "execution_count": 10,
      "outputs": []
    },
    {
      "cell_type": "code",
      "metadata": {
        "colab": {
          "base_uri": "https://localhost:8080/"
        },
        "id": "0ur08M6VXxAR",
        "outputId": "d2dc337c-e8cd-4301-b046-38d7cdfc92de"
      },
      "source": [
        "for images, labels in train_loader:\n",
        "    print(f\"Image batch dimensions: {images.size()}\")\n",
        "    print(f\"Label batch dimensions: {labels.size()}\")\n",
        "    break\n",
        "\n",
        "X_train = np.array(images.view(-1, 28*28))\n",
        "y_train = np.array(labels.view(-1))\n",
        "\n",
        "for images, labels in test_loader:\n",
        "    print(f\"Image batch dimensions: {images.size()}\")\n",
        "    print(f\"Label batch dimensions: {labels.size()}\")\n",
        "    break\n",
        "\n",
        "X_test = np.array(images.view(-1, 28*28))\n",
        "y_test = np.array(labels.view(-1))"
      ],
      "execution_count": 11,
      "outputs": [
        {
          "output_type": "stream",
          "text": [
            "Image batch dimensions: torch.Size([60000, 1, 28, 28])\n",
            "Label batch dimensions: torch.Size([60000])\n",
            "Image batch dimensions: torch.Size([10000, 1, 28, 28])\n",
            "Label batch dimensions: torch.Size([10000])\n"
          ],
          "name": "stdout"
        }
      ]
    },
    {
      "cell_type": "code",
      "metadata": {
        "colab": {
          "base_uri": "https://localhost:8080/"
        },
        "id": "EC2fXUx1YtZF",
        "outputId": "68564ded-33bd-4d9e-f544-10a1f86758a1"
      },
      "source": [
        "rf = RandomForestClassifier(n_estimators=500, n_jobs=-1).fit(X_train, y_train)\n",
        "\n",
        "print(f\"Train accuracy: {rf.score(X_train, y_train)*100}%\")\n",
        "print(f\"Test accuracy: {rf.score(X_test, y_test)*100}%\")"
      ],
      "execution_count": 14,
      "outputs": [
        {
          "output_type": "stream",
          "text": [
            "Train accuracy: 100.0%\n",
            "Test accuracy: 97.11%\n"
          ],
          "name": "stdout"
        }
      ]
    },
    {
      "cell_type": "markdown",
      "metadata": {
        "id": "qPIlCPe7ZPnx"
      },
      "source": [
        "### Using PCA"
      ]
    },
    {
      "cell_type": "code",
      "metadata": {
        "id": "El-f2iT5ZW80"
      },
      "source": [
        "from sklearn.decomposition import PCA\n",
        "\n",
        "pca = PCA(n_components=7*7*8) # same no as latent space of the autoencoder\n",
        "X_train_pca = pca.fit_transform(X_train)\n",
        "X_test_pca = pca.transform(X_test)"
      ],
      "execution_count": 15,
      "outputs": []
    },
    {
      "cell_type": "code",
      "metadata": {
        "colab": {
          "base_uri": "https://localhost:8080/"
        },
        "id": "7TAnxiJ5Z49m",
        "outputId": "dbe46481-fd4f-4f97-ca47-c5c647db7780"
      },
      "source": [
        "rf = RandomForestClassifier(n_estimators=500, n_jobs=-1).fit(X_train_pca, y_train)\n",
        "print('Random Forest Classifier after PCA of the dataset\\n')\n",
        "print(f\"Train accuracy: {rf.score(X_train_pca, y_train)*100}%\")\n",
        "print(f\"Test accuracy: {rf.score(X_test_pca, y_test)*100}%\")"
      ],
      "execution_count": 18,
      "outputs": [
        {
          "output_type": "stream",
          "text": [
            "Random Forest Classifier after PCA of the dataset\n",
            "\n",
            "Train accuracy: 100.0%\n",
            "Test accuracy: 94.55%\n"
          ],
          "name": "stdout"
        }
      ]
    },
    {
      "cell_type": "markdown",
      "metadata": {
        "id": "Rgb-hoNBadbY"
      },
      "source": [
        "### Compressed MNIST"
      ]
    },
    {
      "cell_type": "code",
      "metadata": {
        "id": "1Ln095vfautK"
      },
      "source": [
        "train_loader = DataLoader(dataset=train_dataset,\n",
        "                          batch_size=1000,\n",
        "                          shuffle=True)\n",
        "\n",
        "test_loader = DataLoader(dataset=test_dataset,\n",
        "                         batch_size=1000)"
      ],
      "execution_count": 22,
      "outputs": []
    },
    {
      "cell_type": "code",
      "metadata": {
        "id": "ynmNyrDIcaR1"
      },
      "source": [
        "X_train_compr = np.zeros((60000, 7*7*8))\n",
        "y_train = np.zeros(60000)\n",
        "\n",
        "start_idx = 0\n",
        "\n",
        "for images, labels in train_loader:\n",
        "    features = images.to(device)\n",
        "\n",
        "    with torch.no_grad():\n",
        "        encoded = model.encoder(features)\n",
        "\n",
        "    X_train_compr[start_idx:start_idx+1000] = encoded.view(-1, 7*8*7).to(torch.device('cpu')).numpy()\n",
        "    y_train[start_idx:start_idx+1000] = labels\n",
        "\n",
        "    start_idx += 1000"
      ],
      "execution_count": 25,
      "outputs": []
    },
    {
      "cell_type": "code",
      "metadata": {
        "id": "_0R5gkgZd3DQ"
      },
      "source": [
        "X_test_compr = np.zeros((10000, 7*8*7))\n",
        "y_test = np.zeros(10000)\n",
        "\n",
        "start_idx = 0\n",
        "\n",
        "for images, labels in test_loader:\n",
        "    \n",
        "    features = images.to(device)\n",
        "    encoded = model.encoder(features)\n",
        "\n",
        "    with torch.no_grad():\n",
        "        X_test_compr[start_idx:start_idx+1000] = encoded.view(-1, 7*7*8).to(torch.device('cpu')).numpy()\n",
        "        y_test[start_idx:start_idx+1000] = labels\n",
        "\n",
        "        start_idx += 1000"
      ],
      "execution_count": 27,
      "outputs": []
    },
    {
      "cell_type": "code",
      "metadata": {
        "colab": {
          "base_uri": "https://localhost:8080/"
        },
        "id": "HiBd2dfsfwzq",
        "outputId": "8249abb3-8adf-4eab-a6f8-0ae905f54498"
      },
      "source": [
        "print(X_test_compr.shape)\n",
        "print(X_train_compr.shape)"
      ],
      "execution_count": 28,
      "outputs": [
        {
          "output_type": "stream",
          "text": [
            "(10000, 392)\n",
            "(60000, 392)\n"
          ],
          "name": "stdout"
        }
      ]
    },
    {
      "cell_type": "code",
      "metadata": {
        "colab": {
          "base_uri": "https://localhost:8080/"
        },
        "id": "uuP89Vd5f_S_",
        "outputId": "0b05b8dd-5f96-4d15-d8a0-1739d40db0f8"
      },
      "source": [
        "rf = RandomForestClassifier(n_estimators=500, n_jobs=-1).fit(X_train_compr, y_train)\n",
        "\n",
        "print('Random Forest Classifier after reducing the dimensions of the dataset by autoencoder\\n')\n",
        "print(f\"Train accuracy: {rf.score(X_train_compr, y_train)*100}%\")\n",
        "print(f\"Test accuracy: {rf.score(X_test_compr, y_test)*100}%\")"
      ],
      "execution_count": 29,
      "outputs": [
        {
          "output_type": "stream",
          "text": [
            "Random Forest Classifier after reducing the dimensions of the dataset by autoencoder\n",
            "\n",
            "Train accuracy: 100.0%\n",
            "Test accuracy: 96.32%\n"
          ],
          "name": "stdout"
        }
      ]
    },
    {
      "cell_type": "markdown",
      "metadata": {
        "id": "kPm_nY4CgeX1"
      },
      "source": [
        "This accuracy is inferor to Randomforest with the original dataset by a bit, however given that the domension of the data was reduced significantly it is still pretty good."
      ]
    },
    {
      "cell_type": "code",
      "metadata": {
        "id": "WURalNUUi1VA"
      },
      "source": [
        ""
      ],
      "execution_count": null,
      "outputs": []
    }
  ]
}