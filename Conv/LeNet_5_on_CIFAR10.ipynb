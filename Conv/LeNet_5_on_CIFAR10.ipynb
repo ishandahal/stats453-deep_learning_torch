{
  "nbformat": 4,
  "nbformat_minor": 0,
  "metadata": {
    "colab": {
      "name": "LeNet-5-on-CIFAR10.ipynb",
      "provenance": [],
      "authorship_tag": "ABX9TyN3XcxuveFqjfZqpYtz7YPF",
      "include_colab_link": true
    },
    "kernelspec": {
      "name": "python3",
      "display_name": "Python 3"
    },
    "accelerator": "GPU",
    "widgets": {
      "application/vnd.jupyter.widget-state+json": {
        "f7a523476a2a46bdba0cd807f32f9847": {
          "model_module": "@jupyter-widgets/controls",
          "model_name": "HBoxModel",
          "state": {
            "_view_name": "HBoxView",
            "_dom_classes": [],
            "_model_name": "HBoxModel",
            "_view_module": "@jupyter-widgets/controls",
            "_model_module_version": "1.5.0",
            "_view_count": null,
            "_view_module_version": "1.5.0",
            "box_style": "",
            "layout": "IPY_MODEL_5c2ae51137724df29bbecdf0f2b5f265",
            "_model_module": "@jupyter-widgets/controls",
            "children": [
              "IPY_MODEL_acbf8f633fc44429a0e4cbef5653ce48",
              "IPY_MODEL_1baa6ab5adc94fd686c1345b7b58afdc"
            ]
          }
        },
        "5c2ae51137724df29bbecdf0f2b5f265": {
          "model_module": "@jupyter-widgets/base",
          "model_name": "LayoutModel",
          "state": {
            "_view_name": "LayoutView",
            "grid_template_rows": null,
            "right": null,
            "justify_content": null,
            "_view_module": "@jupyter-widgets/base",
            "overflow": null,
            "_model_module_version": "1.2.0",
            "_view_count": null,
            "flex_flow": null,
            "width": null,
            "min_width": null,
            "border": null,
            "align_items": null,
            "bottom": null,
            "_model_module": "@jupyter-widgets/base",
            "top": null,
            "grid_column": null,
            "overflow_y": null,
            "overflow_x": null,
            "grid_auto_flow": null,
            "grid_area": null,
            "grid_template_columns": null,
            "flex": null,
            "_model_name": "LayoutModel",
            "justify_items": null,
            "grid_row": null,
            "max_height": null,
            "align_content": null,
            "visibility": null,
            "align_self": null,
            "height": null,
            "min_height": null,
            "padding": null,
            "grid_auto_rows": null,
            "grid_gap": null,
            "max_width": null,
            "order": null,
            "_view_module_version": "1.2.0",
            "grid_template_areas": null,
            "object_position": null,
            "object_fit": null,
            "grid_auto_columns": null,
            "margin": null,
            "display": null,
            "left": null
          }
        },
        "acbf8f633fc44429a0e4cbef5653ce48": {
          "model_module": "@jupyter-widgets/controls",
          "model_name": "FloatProgressModel",
          "state": {
            "_view_name": "ProgressView",
            "style": "IPY_MODEL_22dff9afd3d04e90af98d0fe50cda0c0",
            "_dom_classes": [],
            "description": "",
            "_model_name": "FloatProgressModel",
            "bar_style": "info",
            "max": 1,
            "_view_module": "@jupyter-widgets/controls",
            "_model_module_version": "1.5.0",
            "value": 1,
            "_view_count": null,
            "_view_module_version": "1.5.0",
            "orientation": "horizontal",
            "min": 0,
            "description_tooltip": null,
            "_model_module": "@jupyter-widgets/controls",
            "layout": "IPY_MODEL_5aea49c048c34fdc8d74843406e11c38"
          }
        },
        "1baa6ab5adc94fd686c1345b7b58afdc": {
          "model_module": "@jupyter-widgets/controls",
          "model_name": "HTMLModel",
          "state": {
            "_view_name": "HTMLView",
            "style": "IPY_MODEL_3e4f2aeff47446a385bb8a318d94ac9d",
            "_dom_classes": [],
            "description": "",
            "_model_name": "HTMLModel",
            "placeholder": "​",
            "_view_module": "@jupyter-widgets/controls",
            "_model_module_version": "1.5.0",
            "value": " 170500096/? [00:20&lt;00:00, 53961255.06it/s]",
            "_view_count": null,
            "_view_module_version": "1.5.0",
            "description_tooltip": null,
            "_model_module": "@jupyter-widgets/controls",
            "layout": "IPY_MODEL_b1b79283427d4192bb9d68bf55d58676"
          }
        },
        "22dff9afd3d04e90af98d0fe50cda0c0": {
          "model_module": "@jupyter-widgets/controls",
          "model_name": "ProgressStyleModel",
          "state": {
            "_view_name": "StyleView",
            "_model_name": "ProgressStyleModel",
            "description_width": "initial",
            "_view_module": "@jupyter-widgets/base",
            "_model_module_version": "1.5.0",
            "_view_count": null,
            "_view_module_version": "1.2.0",
            "bar_color": null,
            "_model_module": "@jupyter-widgets/controls"
          }
        },
        "5aea49c048c34fdc8d74843406e11c38": {
          "model_module": "@jupyter-widgets/base",
          "model_name": "LayoutModel",
          "state": {
            "_view_name": "LayoutView",
            "grid_template_rows": null,
            "right": null,
            "justify_content": null,
            "_view_module": "@jupyter-widgets/base",
            "overflow": null,
            "_model_module_version": "1.2.0",
            "_view_count": null,
            "flex_flow": null,
            "width": null,
            "min_width": null,
            "border": null,
            "align_items": null,
            "bottom": null,
            "_model_module": "@jupyter-widgets/base",
            "top": null,
            "grid_column": null,
            "overflow_y": null,
            "overflow_x": null,
            "grid_auto_flow": null,
            "grid_area": null,
            "grid_template_columns": null,
            "flex": null,
            "_model_name": "LayoutModel",
            "justify_items": null,
            "grid_row": null,
            "max_height": null,
            "align_content": null,
            "visibility": null,
            "align_self": null,
            "height": null,
            "min_height": null,
            "padding": null,
            "grid_auto_rows": null,
            "grid_gap": null,
            "max_width": null,
            "order": null,
            "_view_module_version": "1.2.0",
            "grid_template_areas": null,
            "object_position": null,
            "object_fit": null,
            "grid_auto_columns": null,
            "margin": null,
            "display": null,
            "left": null
          }
        },
        "3e4f2aeff47446a385bb8a318d94ac9d": {
          "model_module": "@jupyter-widgets/controls",
          "model_name": "DescriptionStyleModel",
          "state": {
            "_view_name": "StyleView",
            "_model_name": "DescriptionStyleModel",
            "description_width": "",
            "_view_module": "@jupyter-widgets/base",
            "_model_module_version": "1.5.0",
            "_view_count": null,
            "_view_module_version": "1.2.0",
            "_model_module": "@jupyter-widgets/controls"
          }
        },
        "b1b79283427d4192bb9d68bf55d58676": {
          "model_module": "@jupyter-widgets/base",
          "model_name": "LayoutModel",
          "state": {
            "_view_name": "LayoutView",
            "grid_template_rows": null,
            "right": null,
            "justify_content": null,
            "_view_module": "@jupyter-widgets/base",
            "overflow": null,
            "_model_module_version": "1.2.0",
            "_view_count": null,
            "flex_flow": null,
            "width": null,
            "min_width": null,
            "border": null,
            "align_items": null,
            "bottom": null,
            "_model_module": "@jupyter-widgets/base",
            "top": null,
            "grid_column": null,
            "overflow_y": null,
            "overflow_x": null,
            "grid_auto_flow": null,
            "grid_area": null,
            "grid_template_columns": null,
            "flex": null,
            "_model_name": "LayoutModel",
            "justify_items": null,
            "grid_row": null,
            "max_height": null,
            "align_content": null,
            "visibility": null,
            "align_self": null,
            "height": null,
            "min_height": null,
            "padding": null,
            "grid_auto_rows": null,
            "grid_gap": null,
            "max_width": null,
            "order": null,
            "_view_module_version": "1.2.0",
            "grid_template_areas": null,
            "object_position": null,
            "object_fit": null,
            "grid_auto_columns": null,
            "margin": null,
            "display": null,
            "left": null
          }
        }
      }
    }
  },
  "cells": [
    {
      "cell_type": "markdown",
      "metadata": {
        "id": "view-in-github",
        "colab_type": "text"
      },
      "source": [
        "<a href=\"https://colab.research.google.com/github/ishandahal/stats453-deep_learning_torch/blob/main/Conv/LeNet_5_on_CIFAR10.ipynb\" target=\"_parent\"><img src=\"https://colab.research.google.com/assets/colab-badge.svg\" alt=\"Open In Colab\"/></a>"
      ]
    },
    {
      "cell_type": "markdown",
      "metadata": {
        "id": "GdR_vy-8pEGQ"
      },
      "source": [
        "## LeNet-5 CIFAR-10 Classifier"
      ]
    },
    {
      "cell_type": "markdown",
      "metadata": {
        "id": "YBfgtkJcpNeJ"
      },
      "source": [
        "Using the classic LeNet-5 architecture on CIFAR 10 dataset"
      ]
    },
    {
      "cell_type": "markdown",
      "metadata": {
        "id": "x9ASeIMTqSTo"
      },
      "source": [
        "### Imports"
      ]
    },
    {
      "cell_type": "code",
      "metadata": {
        "id": "vN_gdHngqUYm"
      },
      "source": [
        "import os\n",
        "import time \n",
        "\n",
        "import numpy as np\n",
        "import pandas as pd\n",
        "\n",
        "import torch\n",
        "import torch.nn.functional as F\n",
        "import torch.nn as nn\n",
        "from torch.utils.data import DataLoader\n",
        "\n",
        "from torchvision import datasets\n",
        "from torchvision import transforms\n",
        "\n",
        "import matplotlib.pyplot as plt\n",
        "from PIL import Image\n",
        "\n",
        "if torch.cuda.is_available():\n",
        "    torch.backends.cudnn.deterministic = True"
      ],
      "execution_count": 1,
      "outputs": []
    },
    {
      "cell_type": "markdown",
      "metadata": {
        "id": "ijAKioBVq8Qq"
      },
      "source": [
        "### Model Settings "
      ]
    },
    {
      "cell_type": "code",
      "metadata": {
        "id": "PqFF_o5-rA3v"
      },
      "source": [
        "## Settings  \n",
        "\n",
        "RANDOM_SEED = 1\n",
        "LEARNING_RATE = 0.001\n",
        "BATCH_SIZE = 128\n",
        "NUM_EPOCHS = 10\n",
        "\n",
        "# Architecture\n",
        "NUM_FEATURES = 32*32\n",
        "NUM_CLASSES = 10\n",
        "\n",
        "# other \n",
        "if torch.cuda.is_available():\n",
        "    DEVICE = \"cuda:0\"\n",
        "else:\n",
        "    DEVICE = 'cpu'\n",
        "\n",
        "GRAYSCALE = False"
      ],
      "execution_count": 2,
      "outputs": []
    },
    {
      "cell_type": "markdown",
      "metadata": {
        "id": "9BXvyMUvsjh5"
      },
      "source": [
        "## CIFAR-10 Dataset"
      ]
    },
    {
      "cell_type": "code",
      "metadata": {
        "colab": {
          "base_uri": "https://localhost:8080/",
          "height": 118,
          "referenced_widgets": [
            "f7a523476a2a46bdba0cd807f32f9847",
            "5c2ae51137724df29bbecdf0f2b5f265",
            "acbf8f633fc44429a0e4cbef5653ce48",
            "1baa6ab5adc94fd686c1345b7b58afdc",
            "22dff9afd3d04e90af98d0fe50cda0c0",
            "5aea49c048c34fdc8d74843406e11c38",
            "3e4f2aeff47446a385bb8a318d94ac9d",
            "b1b79283427d4192bb9d68bf55d58676"
          ]
        },
        "id": "sDPNJHHbso8H",
        "outputId": "804b4b20-8cda-4563-d4a0-446d5477d902"
      },
      "source": [
        "train_mean = (0.5, 0.5, 0.5)\n",
        "train_std = (0.5, 0.5, 0.5)\n",
        "\n",
        "resize_transform = transforms.Compose([transforms.Resize((32, 32)),\n",
        "                                       transforms.ToTensor(),\n",
        "                                       transforms.Normalize(mean=train_mean, std=train_std)])\n",
        "\n",
        "## note: transforms.ToTensor() scales imput to images\n",
        "## to 0-1 range\n",
        "\n",
        "train_dataset = datasets.CIFAR10(root='data',\n",
        "                                 train=True,\n",
        "                                 transform=resize_transform,\n",
        "                                 download=True)\n",
        "\n",
        "test_dataset = datasets.CIFAR10(root='data',\n",
        "                                train=False,\n",
        "                                transform=resize_transform)\n",
        "\n",
        "train_loader = DataLoader(dataset=train_dataset,\n",
        "                          batch_size=BATCH_SIZE,\n",
        "                          shuffle=True,\n",
        "                          num_workers=8)\n",
        "\n",
        "test_loader = DataLoader(dataset=test_dataset,\n",
        "                         batch_size=BATCH_SIZE,\n",
        "                         shuffle=False,\n",
        "                         num_workers=8)\n",
        "\n",
        "## checking dataset\n",
        "\n",
        "for images, label in train_loader:\n",
        "    print('Image batch dimensions: ', images.size())\n",
        "    print('Target batch dimensions: ', label.size())\n",
        "    break"
      ],
      "execution_count": 3,
      "outputs": [
        {
          "output_type": "stream",
          "text": [
            "Downloading https://www.cs.toronto.edu/~kriz/cifar-10-python.tar.gz to data/cifar-10-python.tar.gz\n"
          ],
          "name": "stdout"
        },
        {
          "output_type": "display_data",
          "data": {
            "application/vnd.jupyter.widget-view+json": {
              "model_id": "f7a523476a2a46bdba0cd807f32f9847",
              "version_minor": 0,
              "version_major": 2
            },
            "text/plain": [
              "HBox(children=(FloatProgress(value=1.0, bar_style='info', max=1.0), HTML(value='')))"
            ]
          },
          "metadata": {
            "tags": []
          }
        },
        {
          "output_type": "stream",
          "text": [
            "Extracting data/cifar-10-python.tar.gz to data\n",
            "Image batch dimensions:  torch.Size([128, 3, 32, 32])\n",
            "Target batch dimensions:  torch.Size([128])\n"
          ],
          "name": "stdout"
        }
      ]
    },
    {
      "cell_type": "code",
      "metadata": {
        "colab": {
          "base_uri": "https://localhost:8080/"
        },
        "id": "tBLucBXvufU9",
        "outputId": "8a0e143d-8abd-442b-b1f8-f55966298bb3"
      },
      "source": [
        "## testing the dataloader\n",
        "\n",
        "device = torch.device(DEVICE)\n",
        "torch.manual_seed(0)\n",
        "\n",
        "for epoch in range(2):\n",
        "    for batch_id, (images, labels) in enumerate(train_loader):\n",
        "\n",
        "        print(f\"Epoch: {epoch + 1:03d}\", end=\"\")\n",
        "        print(f\"  |  Batch no: {batch_id + 1:03d}\", end=\"\")\n",
        "        print(f\"  |  Batch size: {images.size(0):03d}\")\n",
        "\n",
        "        images.to(device)\n",
        "        labels.to(device)\n",
        "        break\n"
      ],
      "execution_count": 6,
      "outputs": [
        {
          "output_type": "stream",
          "text": [
            "Epoch: 001  |  Batch no: 001  |  Batch size: 128\n",
            "Epoch: 002  |  Batch no: 001  |  Batch size: 128\n"
          ],
          "name": "stdout"
        }
      ]
    },
    {
      "cell_type": "code",
      "metadata": {
        "id": "liM1SAwSv54-"
      },
      "source": [
        "# Model\n",
        "\n",
        "class LeNet(nn.Module):\n",
        "\n",
        "    def __init__(self, num_classes, grayscale=False):\n",
        "        super(LeNet, self).__init__()\n",
        "\n",
        "        self.grayscale = grayscale\n",
        "        self.num_classes = num_classes\n",
        "\n",
        "        if self.grayscale:\n",
        "            in_channels = 1\n",
        "        else:\n",
        "            in_channels = 3\n",
        "        \n",
        "        self.features = nn.Sequential(\n",
        "            nn.Conv2d(in_channels, 6*in_channels, kernel_size=5),\n",
        "            nn.Tanh(),\n",
        "            nn.MaxPool2d(kernel_size=2),\n",
        "            nn.Conv2d(6*in_channels, 16*in_channels, kernel_size=5),\n",
        "            nn.Tanh(),\n",
        "            nn.MaxPool2d(kernel_size=2)\n",
        "        )\n",
        "\n",
        "        self.classifier = nn.Sequential(\n",
        "            nn.Linear(16*in_channels*5*5, 120*in_channels),\n",
        "            nn.Tanh(),\n",
        "            nn.Linear(120*in_channels, 84*in_channels),\n",
        "            nn.Tanh(),\n",
        "            nn.Linear(84*in_channels, num_classes) \n",
        "        )\n",
        "    \n",
        "    def forward(self, x):\n",
        "        x = self.features(x)\n",
        "        x = torch.flatten(x, 1)\n",
        "        logits = self.classifier(x)\n",
        "        probas = nn.Softmax(dim=1)(logits)\n",
        "        return logits, probas"
      ],
      "execution_count": 10,
      "outputs": []
    },
    {
      "cell_type": "code",
      "metadata": {
        "id": "W9_ItDED0zEm"
      },
      "source": [
        "torch.manual_seed(RANDOM_SEED)\n",
        "\n",
        "model = LeNet(num_classes=NUM_CLASSES, grayscale=GRAYSCALE)\n",
        "model.to(device)\n",
        "\n",
        "optimizer = torch.optim.Adam(model.parameters(), lr=LEARNING_RATE)"
      ],
      "execution_count": 20,
      "outputs": []
    },
    {
      "cell_type": "markdown",
      "metadata": {
        "id": "t6hSVgLM1MMb"
      },
      "source": [
        "## Training"
      ]
    },
    {
      "cell_type": "code",
      "metadata": {
        "colab": {
          "base_uri": "https://localhost:8080/"
        },
        "id": "wrsLeCG61NzS",
        "outputId": "cb48c7af-540a-4277-ebd4-ebe0cbd9c9ad"
      },
      "source": [
        "def compute_accuracy(model, data_loader, device):\n",
        "    correct_pred, num_examples = 0, 0\n",
        "    for i, (features, labels) in enumerate(data_loader):\n",
        "\n",
        "        features = features.to(device)\n",
        "        labels = labels.to(device)\n",
        "\n",
        "        logits, probas = model(features)\n",
        "        _, predicted_labels = torch.max(probas, 1)\n",
        "        num_examples += labels.size(0)\n",
        "        correct_pred += (predicted_labels.float() == labels.float()).sum()\n",
        "    return (correct_pred / num_examples) * 100\n",
        "\n",
        "start_time = time.time()\n",
        "\n",
        "for epoch in range(NUM_EPOCHS):\n",
        "\n",
        "    model.train()\n",
        "    for batch_idx, (features, labels) in enumerate(train_loader):\n",
        "\n",
        "        features = features.to(device)\n",
        "        labels = labels.to(device)\n",
        "\n",
        "        ## forward and backprop\n",
        "        logits, probas = model(features)\n",
        "        cost = F.cross_entropy(logits, labels)\n",
        "        optimizer.zero_grad()\n",
        "\n",
        "        cost.backward()\n",
        "\n",
        "        ## update model\n",
        "        optimizer.step()\n",
        "\n",
        "        ## logging \n",
        "        if not batch_idx % 50:\n",
        "            print(f\"Epoch: {epoch+1:03d}/{NUM_EPOCHS:03d} | Batch: {batch_idx:04d}/{len(train_loader)}\"\n",
        "                  f\" | Cost: {cost:.4f}\")\n",
        "        \n",
        "    model.eval()\n",
        "    with torch.set_grad_enabled(False):\n",
        "        print(f\"Epoch: {epoch+1:03d}/{NUM_EPOCHS:03d} | \"\n",
        "              f\"Train Acc: {compute_accuracy(model, train_loader, device=DEVICE):.3f}\")\n",
        "    print(f\"Time elapsed: {(start_time - time.time()) / 60:.02f} min\")\n",
        "\n",
        "print(f\"Total time elapsed: {(start_time - time.time()) / 60:.02f} min\")"
      ],
      "execution_count": 21,
      "outputs": [
        {
          "output_type": "stream",
          "text": [
            "Epoch: 001/010 | Batch: 0000/391 | Cost: 2.3064\n",
            "Epoch: 001/010 | Batch: 0050/391 | Cost: 1.6938\n",
            "Epoch: 001/010 | Batch: 0100/391 | Cost: 1.4411\n",
            "Epoch: 001/010 | Batch: 0150/391 | Cost: 1.5975\n",
            "Epoch: 001/010 | Batch: 0200/391 | Cost: 1.3475\n",
            "Epoch: 001/010 | Batch: 0250/391 | Cost: 1.2794\n",
            "Epoch: 001/010 | Batch: 0300/391 | Cost: 1.3810\n",
            "Epoch: 001/010 | Batch: 0350/391 | Cost: 1.3520\n",
            "Epoch: 001/010 | Train Acc: 57.460\n",
            "Time elapsed: -0.36 min\n",
            "Epoch: 002/010 | Batch: 0000/391 | Cost: 1.3358\n",
            "Epoch: 002/010 | Batch: 0050/391 | Cost: 1.2924\n",
            "Epoch: 002/010 | Batch: 0100/391 | Cost: 1.1840\n",
            "Epoch: 002/010 | Batch: 0150/391 | Cost: 1.0060\n",
            "Epoch: 002/010 | Batch: 0200/391 | Cost: 1.1809\n",
            "Epoch: 002/010 | Batch: 0250/391 | Cost: 1.5567\n",
            "Epoch: 002/010 | Batch: 0300/391 | Cost: 0.8161\n",
            "Epoch: 002/010 | Batch: 0350/391 | Cost: 1.0530\n",
            "Epoch: 002/010 | Train Acc: 63.858\n",
            "Time elapsed: -0.72 min\n",
            "Epoch: 003/010 | Batch: 0000/391 | Cost: 1.0128\n",
            "Epoch: 003/010 | Batch: 0050/391 | Cost: 1.0955\n",
            "Epoch: 003/010 | Batch: 0100/391 | Cost: 1.0342\n",
            "Epoch: 003/010 | Batch: 0150/391 | Cost: 1.1312\n",
            "Epoch: 003/010 | Batch: 0200/391 | Cost: 1.0651\n",
            "Epoch: 003/010 | Batch: 0250/391 | Cost: 0.9899\n",
            "Epoch: 003/010 | Batch: 0300/391 | Cost: 0.9915\n",
            "Epoch: 003/010 | Batch: 0350/391 | Cost: 0.8560\n",
            "Epoch: 003/010 | Train Acc: 69.914\n",
            "Time elapsed: -1.07 min\n",
            "Epoch: 004/010 | Batch: 0000/391 | Cost: 0.9343\n",
            "Epoch: 004/010 | Batch: 0050/391 | Cost: 0.8438\n",
            "Epoch: 004/010 | Batch: 0100/391 | Cost: 0.8480\n",
            "Epoch: 004/010 | Batch: 0150/391 | Cost: 0.9252\n",
            "Epoch: 004/010 | Batch: 0200/391 | Cost: 0.8623\n",
            "Epoch: 004/010 | Batch: 0250/391 | Cost: 0.8496\n",
            "Epoch: 004/010 | Batch: 0300/391 | Cost: 0.9149\n",
            "Epoch: 004/010 | Batch: 0350/391 | Cost: 1.1627\n",
            "Epoch: 004/010 | Train Acc: 73.554\n",
            "Time elapsed: -1.43 min\n",
            "Epoch: 005/010 | Batch: 0000/391 | Cost: 0.8678\n",
            "Epoch: 005/010 | Batch: 0050/391 | Cost: 0.6976\n",
            "Epoch: 005/010 | Batch: 0100/391 | Cost: 0.7347\n",
            "Epoch: 005/010 | Batch: 0150/391 | Cost: 0.9200\n",
            "Epoch: 005/010 | Batch: 0200/391 | Cost: 0.6917\n",
            "Epoch: 005/010 | Batch: 0250/391 | Cost: 0.6761\n",
            "Epoch: 005/010 | Batch: 0300/391 | Cost: 0.8365\n",
            "Epoch: 005/010 | Batch: 0350/391 | Cost: 0.6209\n",
            "Epoch: 005/010 | Train Acc: 79.662\n",
            "Time elapsed: -1.78 min\n",
            "Epoch: 006/010 | Batch: 0000/391 | Cost: 0.7739\n",
            "Epoch: 006/010 | Batch: 0050/391 | Cost: 0.5557\n",
            "Epoch: 006/010 | Batch: 0100/391 | Cost: 0.7405\n",
            "Epoch: 006/010 | Batch: 0150/391 | Cost: 0.6004\n",
            "Epoch: 006/010 | Batch: 0200/391 | Cost: 0.6590\n",
            "Epoch: 006/010 | Batch: 0250/391 | Cost: 0.5635\n",
            "Epoch: 006/010 | Batch: 0300/391 | Cost: 0.5128\n",
            "Epoch: 006/010 | Batch: 0350/391 | Cost: 0.6294\n",
            "Epoch: 006/010 | Train Acc: 83.428\n",
            "Time elapsed: -2.13 min\n",
            "Epoch: 007/010 | Batch: 0000/391 | Cost: 0.4216\n",
            "Epoch: 007/010 | Batch: 0050/391 | Cost: 0.4450\n",
            "Epoch: 007/010 | Batch: 0100/391 | Cost: 0.4527\n",
            "Epoch: 007/010 | Batch: 0150/391 | Cost: 0.4923\n",
            "Epoch: 007/010 | Batch: 0200/391 | Cost: 0.4489\n",
            "Epoch: 007/010 | Batch: 0250/391 | Cost: 0.5043\n",
            "Epoch: 007/010 | Batch: 0300/391 | Cost: 0.5823\n",
            "Epoch: 007/010 | Batch: 0350/391 | Cost: 0.6190\n",
            "Epoch: 007/010 | Train Acc: 86.918\n",
            "Time elapsed: -2.47 min\n",
            "Epoch: 008/010 | Batch: 0000/391 | Cost: 0.4271\n",
            "Epoch: 008/010 | Batch: 0050/391 | Cost: 0.4052\n",
            "Epoch: 008/010 | Batch: 0100/391 | Cost: 0.4307\n",
            "Epoch: 008/010 | Batch: 0150/391 | Cost: 0.3528\n",
            "Epoch: 008/010 | Batch: 0200/391 | Cost: 0.5368\n",
            "Epoch: 008/010 | Batch: 0250/391 | Cost: 0.4516\n",
            "Epoch: 008/010 | Batch: 0300/391 | Cost: 0.5144\n",
            "Epoch: 008/010 | Batch: 0350/391 | Cost: 0.3489\n",
            "Epoch: 008/010 | Train Acc: 91.602\n",
            "Time elapsed: -2.84 min\n",
            "Epoch: 009/010 | Batch: 0000/391 | Cost: 0.3488\n",
            "Epoch: 009/010 | Batch: 0050/391 | Cost: 0.2884\n",
            "Epoch: 009/010 | Batch: 0100/391 | Cost: 0.3056\n",
            "Epoch: 009/010 | Batch: 0150/391 | Cost: 0.3018\n",
            "Epoch: 009/010 | Batch: 0200/391 | Cost: 0.2054\n",
            "Epoch: 009/010 | Batch: 0250/391 | Cost: 0.3909\n",
            "Epoch: 009/010 | Batch: 0300/391 | Cost: 0.4668\n",
            "Epoch: 009/010 | Batch: 0350/391 | Cost: 0.2372\n",
            "Epoch: 009/010 | Train Acc: 92.734\n",
            "Time elapsed: -3.19 min\n",
            "Epoch: 010/010 | Batch: 0000/391 | Cost: 0.2978\n",
            "Epoch: 010/010 | Batch: 0050/391 | Cost: 0.2086\n",
            "Epoch: 010/010 | Batch: 0100/391 | Cost: 0.1429\n",
            "Epoch: 010/010 | Batch: 0150/391 | Cost: 0.2025\n",
            "Epoch: 010/010 | Batch: 0200/391 | Cost: 0.2938\n",
            "Epoch: 010/010 | Batch: 0250/391 | Cost: 0.2374\n",
            "Epoch: 010/010 | Batch: 0300/391 | Cost: 0.2495\n",
            "Epoch: 010/010 | Batch: 0350/391 | Cost: 0.3100\n",
            "Epoch: 010/010 | Train Acc: 95.318\n",
            "Time elapsed: -3.55 min\n",
            "Total time elapsed: -3.55 min\n"
          ],
          "name": "stdout"
        }
      ]
    },
    {
      "cell_type": "markdown",
      "metadata": {
        "id": "1PPcYxbn4pjX"
      },
      "source": [
        "## Evaluation"
      ]
    },
    {
      "cell_type": "code",
      "metadata": {
        "colab": {
          "base_uri": "https://localhost:8080/"
        },
        "id": "rF30jgxk63Le",
        "outputId": "9f59af8b-a921-4e2b-fe78-b5272c65712b"
      },
      "source": [
        "with torch.set_grad_enabled(False):\n",
        "    print(f\"Test accuracy: {compute_accuracy(model, test_loader, DEVICE):.2f} %\")"
      ],
      "execution_count": 22,
      "outputs": [
        {
          "output_type": "stream",
          "text": [
            "Test accuracy: 67.41 %\n"
          ],
          "name": "stdout"
        }
      ]
    },
    {
      "cell_type": "code",
      "metadata": {
        "id": "yW5RAk4V7Hlx"
      },
      "source": [
        "class UnNormalize(object):\n",
        "    def __init__(self, mean, std):\n",
        "        self.mean = mean\n",
        "        self.std = std\n",
        "\n",
        "    def __call__(self, tensor):\n",
        "        \"\"\" \n",
        "        Parameters:\n",
        "        ------------\n",
        "        tensor (Tensor): Tensor image of size (C, H, W) to be normalized\n",
        "\n",
        "        RETURNS:\n",
        "        ---------\n",
        "        Tensor: Normalized image.\n",
        "\n",
        "        \"\"\"\n",
        "        for t, m, s in zip(tensor, self.mean, self.std):\n",
        "            t.mul_(s).add_(m)\n",
        "        return tensor\n",
        "\n",
        "unorm = UnNormalize(mean = train_mean, std=train_std)"
      ],
      "execution_count": 24,
      "outputs": []
    },
    {
      "cell_type": "code",
      "metadata": {
        "colab": {
          "base_uri": "https://localhost:8080/",
          "height": 141
        },
        "id": "6bBrL3qA8Sag",
        "outputId": "0aa65a0a-65f4-47c4-d758-61bbe403f299"
      },
      "source": [
        "for features, targets in test_loader:\n",
        "    break\n",
        "\n",
        "_, predictions = model(features[:8].to(DEVICE))\n",
        "predictions = torch.argmax(predictions, dim=1)\n",
        "\n",
        "d = {0: 'airplane',\n",
        "     1: 'automobile',\n",
        "     2: 'bird',\n",
        "     3: 'cat',\n",
        "     4: 'deer',\n",
        "     5: 'dog',\n",
        "     6: 'frog',\n",
        "     7: 'horse',\n",
        "     8: 'ship',\n",
        "     9: 'truck'}\n",
        "\n",
        "fig, ax = plt.subplots(1, 8, figsize=(20, 10))\n",
        "for i in range(8):\n",
        "    img = unorm(features[i])\n",
        "    ax[i].imshow(np.transpose(img, (1, 2, 0)))\n",
        "    ax[i].set_xlabel(d[predictions[i].item()])\n",
        "\n",
        "plt.show()"
      ],
      "execution_count": 31,
      "outputs": [
        {
          "output_type": "display_data",
          "data": {
            "image/png": "[encoded data removed]",
            "text/plain": [
              "<Figure size 1440x720 with 8 Axes>"
            ]
          },
          "metadata": {
            "tags": [],
            "needs_background": "light"
          }
        }
      ]
    },
    {
      "cell_type": "code",
      "metadata": {
        "id": "T8ACRUIR9cTF"
      },
      "source": [
        ""
      ],
      "execution_count": null,
      "outputs": []
    }
  ]
}