{
  "nbformat": 4,
  "nbformat_minor": 0,
  "metadata": {
    "colab": {
      "name": "All_Convolutional _Network.ipynb",
      "provenance": [],
      "authorship_tag": "ABX9TyOcSRisPX+z6svfDSu8OuBj",
      "include_colab_link": true
    },
    "kernelspec": {
      "name": "python3",
      "display_name": "Python 3"
    },
    "accelerator": "GPU"
  },
  "cells": [
    {
      "cell_type": "markdown",
      "metadata": {
        "id": "view-in-github",
        "colab_type": "text"
      },
      "source": [
        "<a href=\"https://colab.research.google.com/github/ishandahal/stats453-deep_learning_torch/blob/main/Conv/All_Convolutional__Network.ipynb\" target=\"_parent\"><img src=\"https://colab.research.google.com/assets/colab-badge.svg\" alt=\"Open In Colab\"/></a>"
      ]
    },
    {
      "cell_type": "markdown",
      "metadata": {
        "id": "L9YUfKDjqp2Z"
      },
      "source": [
        "## All Convolutional Neural Network"
      ]
    },
    {
      "cell_type": "markdown",
      "metadata": {
        "id": "ISY7k61Gq8nY"
      },
      "source": [
        "## Imports"
      ]
    },
    {
      "cell_type": "code",
      "metadata": {
        "id": "mzT8S6ukrAk_"
      },
      "source": [
        "import time\n",
        "import numpy as np\n",
        "import torch\n",
        "import torch.nn.functional as F\n",
        "from torchvision import datasets\n",
        "from torchvision import transforms\n",
        "from torch.utils.data import DataLoader\n",
        "\n",
        "\n",
        "if torch.cuda.is_available():\n",
        "    torch.backends.cudnn.deterministic = True"
      ],
      "execution_count": 1,
      "outputs": []
    },
    {
      "cell_type": "markdown",
      "metadata": {
        "id": "vzq4_eeCrDG6"
      },
      "source": [
        "## Settings and Dataset"
      ]
    },
    {
      "cell_type": "code",
      "metadata": {
        "colab": {
          "base_uri": "https://localhost:8080/"
        },
        "id": "1CzqkM1-rFbx",
        "outputId": "1e6f9f33-a764-4fd6-d162-c5b5d3382b02"
      },
      "source": [
        "### SETTINGS\n",
        "##########################\n",
        "\n",
        "# Device\n",
        "device = torch.device(\"cuda:0\" if torch.cuda.is_available() else \"cpu\")\n",
        "\n",
        "# Hyperparameters\n",
        "random_seed = 1\n",
        "learning_rate = 0.001\n",
        "num_epochs = 15\n",
        "batch_size = 256\n",
        "\n",
        "# Architecture\n",
        "num_classes = 10\n",
        "\n",
        "\n",
        "##########################\n",
        "### MNIST DATASET\n",
        "##########################\n",
        "\n",
        "# Note transforms.ToTensor() scales input images\n",
        "# to 0-1 range\n",
        "train_dataset = datasets.MNIST(root='data', \n",
        "                               train=True, \n",
        "                               transform=transforms.ToTensor(),\n",
        "                               download=True)\n",
        "\n",
        "test_dataset = datasets.MNIST(root='data', \n",
        "                              train=False, \n",
        "                              transform=transforms.ToTensor())\n",
        "\n",
        "\n",
        "train_loader = DataLoader(dataset=train_dataset, \n",
        "                          batch_size=batch_size, \n",
        "                          shuffle=True)\n",
        "\n",
        "test_loader = DataLoader(dataset=test_dataset, \n",
        "                         batch_size=batch_size, \n",
        "                         shuffle=False)\n",
        "\n",
        "# Checking the dataset\n",
        "for images, labels in train_loader:  \n",
        "    print('Image batch dimensions:', images.shape)\n",
        "    print('Image label dimensions:', labels.shape)\n",
        "    break"
      ],
      "execution_count": 4,
      "outputs": [
        {
          "output_type": "stream",
          "text": [
            "Image batch dimensions: torch.Size([256, 1, 28, 28])\n",
            "Image label dimensions: torch.Size([256])\n"
          ],
          "name": "stdout"
        }
      ]
    },
    {
      "cell_type": "code",
      "metadata": {
        "id": "vCVftFuCrIir"
      },
      "source": [
        "## Model \n",
        "\n",
        "class ConvNet(torch.nn.Module):\n",
        "    def __init__(self, num_classes):\n",
        "        super(ConvNet, self).__init__()\n",
        "\n",
        "        self.num_classes = num_classes\n",
        "        # calculate same padding: \n",
        "        # (w - k + 2*p)/s + 1 = o\n",
        "        # => p = (s(o-1) - w + k)/2\n",
        "\n",
        "        # 28x28x1 => 28x28x4\n",
        "        self.conv_1 = torch.nn.Conv2d(in_channels=1,\n",
        "                                      out_channels=4,\n",
        "                                      kernel_size=3,\n",
        "                                      stride=1,\n",
        "                                      padding=1) \n",
        "        \n",
        "        # 28x28x4 => 14x14x4\n",
        "        self.conv_2 = torch.nn.Conv2d(in_channels=4,\n",
        "                                      out_channels=4,\n",
        "                                      kernel_size=3,\n",
        "                                      stride=2,\n",
        "                                      padding=1)\n",
        "        # 14x14x4 => 14x14x8 \n",
        "        self.conv_3 = torch.nn.Conv2d(in_channels=4,\n",
        "                                      out_channels=8,\n",
        "                                      kernel_size=3,\n",
        "                                      stride=1,\n",
        "                                      padding=1)\n",
        "        # 14x14x8 => 7x7x8\n",
        "        self.conv_4 = torch.nn.Conv2d(in_channels=8,\n",
        "                                      out_channels=8,\n",
        "                                      kernel_size=3,\n",
        "                                      stride=2,\n",
        "                                      padding=1)\n",
        "        # 7x7x8 => 7x7x16\n",
        "        self.conv_5 = torch.nn.Conv2d(in_channels=8,\n",
        "                                      out_channels=16,\n",
        "                                      kernel_size=3,\n",
        "                                      stride=1,\n",
        "                                      padding=1)\n",
        "        # 7x7x16 => 4x4x16\n",
        "        self.conv_6 = torch.nn.Conv2d(in_channels=16,\n",
        "                                      out_channels=16,\n",
        "                                      kernel_size=3,\n",
        "                                      stride=2,\n",
        "                                      padding=1)\n",
        "        # 4x4x16 => 4x4xnum_classes\n",
        "        self.conv_7 = torch.nn.Conv2d(in_channels=16,\n",
        "                                      out_channels=self.num_classes,\n",
        "                                      kernel_size=3,\n",
        "                                      stride=1,\n",
        "                                      padding=1)\n",
        "        \n",
        "    def forward(self, x):\n",
        "        out = self.conv_1(x)\n",
        "        out = F.relu(out)\n",
        "\n",
        "        out = self.conv_2(out)\n",
        "        out = F.relu(out)\n",
        "\n",
        "        out = self.conv_3(out)\n",
        "        out = F.relu(out)\n",
        "\n",
        "        out = self.conv_4(out)\n",
        "        out = F.relu(out)\n",
        "\n",
        "        out = self.conv_5(out)\n",
        "        out = F.relu(out)\n",
        "\n",
        "        out = self.conv_6(out)\n",
        "        out = F.relu(out)\n",
        "\n",
        "        out = self.conv_7(out)\n",
        "        out = F.relu(out)\n",
        "\n",
        "        logits = F.adaptive_avg_pool2d(out, 1)\n",
        "        # drop width\n",
        "        logits.squeeze_(-1)\n",
        "        # drop height\n",
        "        logits.squeeze_(-1)\n",
        "        probas = torch.softmax(logits, dim=1)\n",
        "\n",
        "        return logits, probas\n",
        "\n",
        "torch.manual_seed(random_seed)\n",
        "model = ConvNet(num_classes=num_classes)\n",
        "model = model.to(device)\n",
        "\n",
        "optimizer = torch.optim.Adam(model.parameters(), lr=learning_rate)"
      ],
      "execution_count": 5,
      "outputs": []
    },
    {
      "cell_type": "markdown",
      "metadata": {
        "id": "WK64nEHb03ia"
      },
      "source": [
        "## Training"
      ]
    },
    {
      "cell_type": "code",
      "metadata": {
        "colab": {
          "base_uri": "https://localhost:8080/"
        },
        "id": "TOsI0sFiwRuJ",
        "outputId": "0af39532-dec6-4964-8066-e5abd155f373"
      },
      "source": [
        "def compute_accuracy(model, data_loader):\n",
        "    correct_pred, num_examples = 0, 0\n",
        "    for features, targets in data_loader:\n",
        "        features = features.to(device)\n",
        "        targets = targets.to(device)\n",
        "        logits, probas = model(features)\n",
        "        _, predicted_labels = torch.max(probas, 1)\n",
        "        num_examples += targets.size(0)\n",
        "        correct_pred += (predicted_labels == targets).sum()\n",
        "    return correct_pred.float()/num_examples * 100\n",
        "    \n",
        "    \n",
        "start_time = time.time()\n",
        "for epoch in range(num_epochs):\n",
        "    model = model.train()\n",
        "    for batch_idx, (features, targets) in enumerate(train_loader):\n",
        "        \n",
        "        features = features.to(device)\n",
        "        targets = targets.to(device)\n",
        "\n",
        "        ### FORWARD AND BACK PROP\n",
        "        logits, probas = model(features)\n",
        "        cost = F.cross_entropy(logits, targets)\n",
        "        optimizer.zero_grad()\n",
        "        \n",
        "        cost.backward()\n",
        "        \n",
        "        ### UPDATE MODEL PARAMETERS\n",
        "        optimizer.step()\n",
        "        \n",
        "        ### LOGGING\n",
        "        if not batch_idx % 50:\n",
        "            print ('Epoch: %03d/%03d | Batch %03d/%03d | Cost: %.4f' \n",
        "                   %(epoch+1, num_epochs, batch_idx, \n",
        "                     len(train_loader), cost))\n",
        "    \n",
        "    model = model.eval()\n",
        "    print('Epoch: %03d/%03d training accuracy: %.2f%%' % (\n",
        "          epoch+1, num_epochs, \n",
        "          compute_accuracy(model, train_loader)))\n",
        "    \n",
        "    print('Time elapsed: %.2f min' % ((time.time() - start_time)/60))\n",
        "    \n",
        "print('Total Training Time: %.2f min' % ((time.time() - start_time)/60))"
      ],
      "execution_count": 6,
      "outputs": [
        {
          "output_type": "stream",
          "text": [
            "Epoch: 001/015 | Batch 000/235 | Cost: 2.3058\n",
            "Epoch: 001/015 | Batch 050/235 | Cost: 2.2890\n",
            "Epoch: 001/015 | Batch 100/235 | Cost: 2.0323\n",
            "Epoch: 001/015 | Batch 150/235 | Cost: 1.7682\n",
            "Epoch: 001/015 | Batch 200/235 | Cost: 1.4839\n",
            "Epoch: 001/015 training accuracy: 59.61%\n",
            "Time elapsed: 0.17 min\n",
            "Epoch: 002/015 | Batch 000/235 | Cost: 1.3028\n",
            "Epoch: 002/015 | Batch 050/235 | Cost: 1.2055\n",
            "Epoch: 002/015 | Batch 100/235 | Cost: 1.0452\n",
            "Epoch: 002/015 | Batch 150/235 | Cost: 0.9073\n",
            "Epoch: 002/015 | Batch 200/235 | Cost: 0.8358\n",
            "Epoch: 002/015 training accuracy: 72.81%\n",
            "Time elapsed: 0.33 min\n",
            "Epoch: 003/015 | Batch 000/235 | Cost: 0.7768\n",
            "Epoch: 003/015 | Batch 050/235 | Cost: 0.8298\n",
            "Epoch: 003/015 | Batch 100/235 | Cost: 0.8986\n",
            "Epoch: 003/015 | Batch 150/235 | Cost: 0.9244\n",
            "Epoch: 003/015 | Batch 200/235 | Cost: 0.8133\n",
            "Epoch: 003/015 training accuracy: 79.94%\n",
            "Time elapsed: 0.50 min\n",
            "Epoch: 004/015 | Batch 000/235 | Cost: 0.5969\n",
            "Epoch: 004/015 | Batch 050/235 | Cost: 0.5198\n",
            "Epoch: 004/015 | Batch 100/235 | Cost: 0.5527\n",
            "Epoch: 004/015 | Batch 150/235 | Cost: 0.4752\n",
            "Epoch: 004/015 | Batch 200/235 | Cost: 0.4863\n",
            "Epoch: 004/015 training accuracy: 83.41%\n",
            "Time elapsed: 0.66 min\n",
            "Epoch: 005/015 | Batch 000/235 | Cost: 0.5889\n",
            "Epoch: 005/015 | Batch 050/235 | Cost: 0.3716\n",
            "Epoch: 005/015 | Batch 100/235 | Cost: 0.4602\n",
            "Epoch: 005/015 | Batch 150/235 | Cost: 0.3879\n",
            "Epoch: 005/015 | Batch 200/235 | Cost: 0.3997\n",
            "Epoch: 005/015 training accuracy: 85.33%\n",
            "Time elapsed: 0.83 min\n",
            "Epoch: 006/015 | Batch 000/235 | Cost: 0.3867\n",
            "Epoch: 006/015 | Batch 050/235 | Cost: 0.4495\n",
            "Epoch: 006/015 | Batch 100/235 | Cost: 0.5530\n",
            "Epoch: 006/015 | Batch 150/235 | Cost: 0.4793\n",
            "Epoch: 006/015 | Batch 200/235 | Cost: 0.3318\n",
            "Epoch: 006/015 training accuracy: 85.93%\n",
            "Time elapsed: 0.99 min\n",
            "Epoch: 007/015 | Batch 000/235 | Cost: 0.4610\n",
            "Epoch: 007/015 | Batch 050/235 | Cost: 0.4017\n",
            "Epoch: 007/015 | Batch 100/235 | Cost: 0.4359\n",
            "Epoch: 007/015 | Batch 150/235 | Cost: 0.4066\n",
            "Epoch: 007/015 | Batch 200/235 | Cost: 0.4758\n",
            "Epoch: 007/015 training accuracy: 86.12%\n",
            "Time elapsed: 1.16 min\n",
            "Epoch: 008/015 | Batch 000/235 | Cost: 0.4350\n",
            "Epoch: 008/015 | Batch 050/235 | Cost: 0.3756\n",
            "Epoch: 008/015 | Batch 100/235 | Cost: 0.3881\n",
            "Epoch: 008/015 | Batch 150/235 | Cost: 0.4163\n",
            "Epoch: 008/015 | Batch 200/235 | Cost: 0.4105\n",
            "Epoch: 008/015 training accuracy: 86.31%\n",
            "Time elapsed: 1.32 min\n",
            "Epoch: 009/015 | Batch 000/235 | Cost: 0.3677\n",
            "Epoch: 009/015 | Batch 050/235 | Cost: 0.3661\n",
            "Epoch: 009/015 | Batch 100/235 | Cost: 0.4596\n",
            "Epoch: 009/015 | Batch 150/235 | Cost: 0.3637\n",
            "Epoch: 009/015 | Batch 200/235 | Cost: 0.3851\n",
            "Epoch: 009/015 training accuracy: 86.63%\n",
            "Time elapsed: 1.48 min\n",
            "Epoch: 010/015 | Batch 000/235 | Cost: 0.3793\n",
            "Epoch: 010/015 | Batch 050/235 | Cost: 0.3966\n",
            "Epoch: 010/015 | Batch 100/235 | Cost: 0.3891\n",
            "Epoch: 010/015 | Batch 150/235 | Cost: 0.3564\n",
            "Epoch: 010/015 | Batch 200/235 | Cost: 0.3740\n",
            "Epoch: 010/015 training accuracy: 86.94%\n",
            "Time elapsed: 1.65 min\n",
            "Epoch: 011/015 | Batch 000/235 | Cost: 0.3522\n",
            "Epoch: 011/015 | Batch 050/235 | Cost: 0.2889\n",
            "Epoch: 011/015 | Batch 100/235 | Cost: 0.3518\n",
            "Epoch: 011/015 | Batch 150/235 | Cost: 0.4200\n",
            "Epoch: 011/015 | Batch 200/235 | Cost: 0.3257\n",
            "Epoch: 011/015 training accuracy: 87.22%\n",
            "Time elapsed: 1.82 min\n",
            "Epoch: 012/015 | Batch 000/235 | Cost: 0.3560\n",
            "Epoch: 012/015 | Batch 050/235 | Cost: 0.4916\n",
            "Epoch: 012/015 | Batch 100/235 | Cost: 0.3998\n",
            "Epoch: 012/015 | Batch 150/235 | Cost: 0.3496\n",
            "Epoch: 012/015 | Batch 200/235 | Cost: 0.4999\n",
            "Epoch: 012/015 training accuracy: 87.03%\n",
            "Time elapsed: 1.98 min\n",
            "Epoch: 013/015 | Batch 000/235 | Cost: 0.3646\n",
            "Epoch: 013/015 | Batch 050/235 | Cost: 0.3521\n",
            "Epoch: 013/015 | Batch 100/235 | Cost: 0.2953\n",
            "Epoch: 013/015 | Batch 150/235 | Cost: 0.3639\n",
            "Epoch: 013/015 | Batch 200/235 | Cost: 0.3941\n",
            "Epoch: 013/015 training accuracy: 85.91%\n",
            "Time elapsed: 2.15 min\n",
            "Epoch: 014/015 | Batch 000/235 | Cost: 0.3414\n",
            "Epoch: 014/015 | Batch 050/235 | Cost: 0.2941\n",
            "Epoch: 014/015 | Batch 100/235 | Cost: 0.4086\n",
            "Epoch: 014/015 | Batch 150/235 | Cost: 0.3898\n",
            "Epoch: 014/015 | Batch 200/235 | Cost: 0.3461\n",
            "Epoch: 014/015 training accuracy: 87.45%\n",
            "Time elapsed: 2.31 min\n",
            "Epoch: 015/015 | Batch 000/235 | Cost: 0.3340\n",
            "Epoch: 015/015 | Batch 050/235 | Cost: 0.3386\n",
            "Epoch: 015/015 | Batch 100/235 | Cost: 0.2812\n",
            "Epoch: 015/015 | Batch 150/235 | Cost: 0.1947\n",
            "Epoch: 015/015 | Batch 200/235 | Cost: 0.2184\n",
            "Epoch: 015/015 training accuracy: 87.71%\n",
            "Time elapsed: 2.48 min\n",
            "Total Training Time: 2.48 min\n"
          ],
          "name": "stdout"
        }
      ]
    },
    {
      "cell_type": "markdown",
      "metadata": {
        "id": "AAe4xaat0O5u"
      },
      "source": [
        "# Evaluation"
      ]
    },
    {
      "cell_type": "code",
      "metadata": {
        "colab": {
          "base_uri": "https://localhost:8080/"
        },
        "id": "9JN3XaUk09Ia",
        "outputId": "5194acfa-9f04-477a-d42d-cf3e32d1c307"
      },
      "source": [
        "print('Test accuracy: %.2f%%' % (compute_accuracy(model, test_loader)))"
      ],
      "execution_count": 7,
      "outputs": [
        {
          "output_type": "stream",
          "text": [
            "Test accuracy: 87.17%\n"
          ],
          "name": "stdout"
        }
      ]
    }
  ]
}