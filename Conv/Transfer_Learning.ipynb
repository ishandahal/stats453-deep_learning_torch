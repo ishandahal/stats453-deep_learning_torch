{
  "nbformat": 4,
  "nbformat_minor": 0,
  "metadata": {
    "colab": {
      "name": "Transfer_Learning.ipynb",
      "provenance": [],
      "authorship_tag": "ABX9TyMPxqrvNBcw8r3RhrxZk8fy",
      "include_colab_link": true
    },
    "kernelspec": {
      "name": "python3",
      "display_name": "Python 3"
    },
    "accelerator": "GPU",
    "widgets": {
      "application/vnd.jupyter.widget-state+json": {
        "d7e01c91b9754e50b87daba944a2baa7": {
          "model_module": "@jupyter-widgets/controls",
          "model_name": "HBoxModel",
          "state": {
            "_view_name": "HBoxView",
            "_dom_classes": [],
            "_model_name": "HBoxModel",
            "_view_module": "@jupyter-widgets/controls",
            "_model_module_version": "1.5.0",
            "_view_count": null,
            "_view_module_version": "1.5.0",
            "box_style": "",
            "layout": "IPY_MODEL_3188bda8aeb44b6783bcb891283a72f0",
            "_model_module": "@jupyter-widgets/controls",
            "children": [
              "IPY_MODEL_838664e5f7324d68830a109e788b6f0b",
              "IPY_MODEL_c5de94e94b434efa90f3a02aa49b2602"
            ]
          }
        },
        "3188bda8aeb44b6783bcb891283a72f0": {
          "model_module": "@jupyter-widgets/base",
          "model_name": "LayoutModel",
          "state": {
            "_view_name": "LayoutView",
            "grid_template_rows": null,
            "right": null,
            "justify_content": null,
            "_view_module": "@jupyter-widgets/base",
            "overflow": null,
            "_model_module_version": "1.2.0",
            "_view_count": null,
            "flex_flow": null,
            "width": null,
            "min_width": null,
            "border": null,
            "align_items": null,
            "bottom": null,
            "_model_module": "@jupyter-widgets/base",
            "top": null,
            "grid_column": null,
            "overflow_y": null,
            "overflow_x": null,
            "grid_auto_flow": null,
            "grid_area": null,
            "grid_template_columns": null,
            "flex": null,
            "_model_name": "LayoutModel",
            "justify_items": null,
            "grid_row": null,
            "max_height": null,
            "align_content": null,
            "visibility": null,
            "align_self": null,
            "height": null,
            "min_height": null,
            "padding": null,
            "grid_auto_rows": null,
            "grid_gap": null,
            "max_width": null,
            "order": null,
            "_view_module_version": "1.2.0",
            "grid_template_areas": null,
            "object_position": null,
            "object_fit": null,
            "grid_auto_columns": null,
            "margin": null,
            "display": null,
            "left": null
          }
        },
        "838664e5f7324d68830a109e788b6f0b": {
          "model_module": "@jupyter-widgets/controls",
          "model_name": "FloatProgressModel",
          "state": {
            "_view_name": "ProgressView",
            "style": "IPY_MODEL_083c0468ebc746b88de988c2c07cbb08",
            "_dom_classes": [],
            "description": "",
            "_model_name": "FloatProgressModel",
            "bar_style": "info",
            "max": 1,
            "_view_module": "@jupyter-widgets/controls",
            "_model_module_version": "1.5.0",
            "value": 1,
            "_view_count": null,
            "_view_module_version": "1.5.0",
            "orientation": "horizontal",
            "min": 0,
            "description_tooltip": null,
            "_model_module": "@jupyter-widgets/controls",
            "layout": "IPY_MODEL_46993232cfa64a29876ab1fa3ae7448b"
          }
        },
        "c5de94e94b434efa90f3a02aa49b2602": {
          "model_module": "@jupyter-widgets/controls",
          "model_name": "HTMLModel",
          "state": {
            "_view_name": "HTMLView",
            "style": "IPY_MODEL_2fb8e2fd43aa409d90d2c463baa1a64e",
            "_dom_classes": [],
            "description": "",
            "_model_name": "HTMLModel",
            "placeholder": "​",
            "_view_module": "@jupyter-widgets/controls",
            "_model_module_version": "1.5.0",
            "value": " 170500096/? [00:20&lt;00:00, 107624613.69it/s]",
            "_view_count": null,
            "_view_module_version": "1.5.0",
            "description_tooltip": null,
            "_model_module": "@jupyter-widgets/controls",
            "layout": "IPY_MODEL_8ea8349b71c5423e9de48b44b83e7c22"
          }
        },
        "083c0468ebc746b88de988c2c07cbb08": {
          "model_module": "@jupyter-widgets/controls",
          "model_name": "ProgressStyleModel",
          "state": {
            "_view_name": "StyleView",
            "_model_name": "ProgressStyleModel",
            "description_width": "initial",
            "_view_module": "@jupyter-widgets/base",
            "_model_module_version": "1.5.0",
            "_view_count": null,
            "_view_module_version": "1.2.0",
            "bar_color": null,
            "_model_module": "@jupyter-widgets/controls"
          }
        },
        "46993232cfa64a29876ab1fa3ae7448b": {
          "model_module": "@jupyter-widgets/base",
          "model_name": "LayoutModel",
          "state": {
            "_view_name": "LayoutView",
            "grid_template_rows": null,
            "right": null,
            "justify_content": null,
            "_view_module": "@jupyter-widgets/base",
            "overflow": null,
            "_model_module_version": "1.2.0",
            "_view_count": null,
            "flex_flow": null,
            "width": null,
            "min_width": null,
            "border": null,
            "align_items": null,
            "bottom": null,
            "_model_module": "@jupyter-widgets/base",
            "top": null,
            "grid_column": null,
            "overflow_y": null,
            "overflow_x": null,
            "grid_auto_flow": null,
            "grid_area": null,
            "grid_template_columns": null,
            "flex": null,
            "_model_name": "LayoutModel",
            "justify_items": null,
            "grid_row": null,
            "max_height": null,
            "align_content": null,
            "visibility": null,
            "align_self": null,
            "height": null,
            "min_height": null,
            "padding": null,
            "grid_auto_rows": null,
            "grid_gap": null,
            "max_width": null,
            "order": null,
            "_view_module_version": "1.2.0",
            "grid_template_areas": null,
            "object_position": null,
            "object_fit": null,
            "grid_auto_columns": null,
            "margin": null,
            "display": null,
            "left": null
          }
        },
        "2fb8e2fd43aa409d90d2c463baa1a64e": {
          "model_module": "@jupyter-widgets/controls",
          "model_name": "DescriptionStyleModel",
          "state": {
            "_view_name": "StyleView",
            "_model_name": "DescriptionStyleModel",
            "description_width": "",
            "_view_module": "@jupyter-widgets/base",
            "_model_module_version": "1.5.0",
            "_view_count": null,
            "_view_module_version": "1.2.0",
            "_model_module": "@jupyter-widgets/controls"
          }
        },
        "8ea8349b71c5423e9de48b44b83e7c22": {
          "model_module": "@jupyter-widgets/base",
          "model_name": "LayoutModel",
          "state": {
            "_view_name": "LayoutView",
            "grid_template_rows": null,
            "right": null,
            "justify_content": null,
            "_view_module": "@jupyter-widgets/base",
            "overflow": null,
            "_model_module_version": "1.2.0",
            "_view_count": null,
            "flex_flow": null,
            "width": null,
            "min_width": null,
            "border": null,
            "align_items": null,
            "bottom": null,
            "_model_module": "@jupyter-widgets/base",
            "top": null,
            "grid_column": null,
            "overflow_y": null,
            "overflow_x": null,
            "grid_auto_flow": null,
            "grid_area": null,
            "grid_template_columns": null,
            "flex": null,
            "_model_name": "LayoutModel",
            "justify_items": null,
            "grid_row": null,
            "max_height": null,
            "align_content": null,
            "visibility": null,
            "align_self": null,
            "height": null,
            "min_height": null,
            "padding": null,
            "grid_auto_rows": null,
            "grid_gap": null,
            "max_width": null,
            "order": null,
            "_view_module_version": "1.2.0",
            "grid_template_areas": null,
            "object_position": null,
            "object_fit": null,
            "grid_auto_columns": null,
            "margin": null,
            "display": null,
            "left": null
          }
        },
        "d5a8b89f5fc94142b211d57ff2a6e457": {
          "model_module": "@jupyter-widgets/controls",
          "model_name": "HBoxModel",
          "state": {
            "_view_name": "HBoxView",
            "_dom_classes": [],
            "_model_name": "HBoxModel",
            "_view_module": "@jupyter-widgets/controls",
            "_model_module_version": "1.5.0",
            "_view_count": null,
            "_view_module_version": "1.5.0",
            "box_style": "",
            "layout": "IPY_MODEL_41b217cd3fce4077b784b2b9517b987a",
            "_model_module": "@jupyter-widgets/controls",
            "children": [
              "IPY_MODEL_4470a28f9e334db88717b21a020e3caf",
              "IPY_MODEL_028fb283ab9d4cabb29f57cd330b5553"
            ]
          }
        },
        "41b217cd3fce4077b784b2b9517b987a": {
          "model_module": "@jupyter-widgets/base",
          "model_name": "LayoutModel",
          "state": {
            "_view_name": "LayoutView",
            "grid_template_rows": null,
            "right": null,
            "justify_content": null,
            "_view_module": "@jupyter-widgets/base",
            "overflow": null,
            "_model_module_version": "1.2.0",
            "_view_count": null,
            "flex_flow": null,
            "width": null,
            "min_width": null,
            "border": null,
            "align_items": null,
            "bottom": null,
            "_model_module": "@jupyter-widgets/base",
            "top": null,
            "grid_column": null,
            "overflow_y": null,
            "overflow_x": null,
            "grid_auto_flow": null,
            "grid_area": null,
            "grid_template_columns": null,
            "flex": null,
            "_model_name": "LayoutModel",
            "justify_items": null,
            "grid_row": null,
            "max_height": null,
            "align_content": null,
            "visibility": null,
            "align_self": null,
            "height": null,
            "min_height": null,
            "padding": null,
            "grid_auto_rows": null,
            "grid_gap": null,
            "max_width": null,
            "order": null,
            "_view_module_version": "1.2.0",
            "grid_template_areas": null,
            "object_position": null,
            "object_fit": null,
            "grid_auto_columns": null,
            "margin": null,
            "display": null,
            "left": null
          }
        },
        "4470a28f9e334db88717b21a020e3caf": {
          "model_module": "@jupyter-widgets/controls",
          "model_name": "FloatProgressModel",
          "state": {
            "_view_name": "ProgressView",
            "style": "IPY_MODEL_7deffd0a02d3482ea3b466649ddcc04e",
            "_dom_classes": [],
            "description": "100%",
            "_model_name": "FloatProgressModel",
            "bar_style": "success",
            "max": 553433881,
            "_view_module": "@jupyter-widgets/controls",
            "_model_module_version": "1.5.0",
            "value": 553433881,
            "_view_count": null,
            "_view_module_version": "1.5.0",
            "orientation": "horizontal",
            "min": 0,
            "description_tooltip": null,
            "_model_module": "@jupyter-widgets/controls",
            "layout": "IPY_MODEL_47530ccc74ec40cfa82068f9fc5ef7f5"
          }
        },
        "028fb283ab9d4cabb29f57cd330b5553": {
          "model_module": "@jupyter-widgets/controls",
          "model_name": "HTMLModel",
          "state": {
            "_view_name": "HTMLView",
            "style": "IPY_MODEL_d08b1f6f9e4149d194d697820163ee72",
            "_dom_classes": [],
            "description": "",
            "_model_name": "HTMLModel",
            "placeholder": "​",
            "_view_module": "@jupyter-widgets/controls",
            "_model_module_version": "1.5.0",
            "value": " 528M/528M [02:38&lt;00:00, 3.50MB/s]",
            "_view_count": null,
            "_view_module_version": "1.5.0",
            "description_tooltip": null,
            "_model_module": "@jupyter-widgets/controls",
            "layout": "IPY_MODEL_3c43cf8eb42a4b268fdc62640f637408"
          }
        },
        "7deffd0a02d3482ea3b466649ddcc04e": {
          "model_module": "@jupyter-widgets/controls",
          "model_name": "ProgressStyleModel",
          "state": {
            "_view_name": "StyleView",
            "_model_name": "ProgressStyleModel",
            "description_width": "initial",
            "_view_module": "@jupyter-widgets/base",
            "_model_module_version": "1.5.0",
            "_view_count": null,
            "_view_module_version": "1.2.0",
            "bar_color": null,
            "_model_module": "@jupyter-widgets/controls"
          }
        },
        "47530ccc74ec40cfa82068f9fc5ef7f5": {
          "model_module": "@jupyter-widgets/base",
          "model_name": "LayoutModel",
          "state": {
            "_view_name": "LayoutView",
            "grid_template_rows": null,
            "right": null,
            "justify_content": null,
            "_view_module": "@jupyter-widgets/base",
            "overflow": null,
            "_model_module_version": "1.2.0",
            "_view_count": null,
            "flex_flow": null,
            "width": null,
            "min_width": null,
            "border": null,
            "align_items": null,
            "bottom": null,
            "_model_module": "@jupyter-widgets/base",
            "top": null,
            "grid_column": null,
            "overflow_y": null,
            "overflow_x": null,
            "grid_auto_flow": null,
            "grid_area": null,
            "grid_template_columns": null,
            "flex": null,
            "_model_name": "LayoutModel",
            "justify_items": null,
            "grid_row": null,
            "max_height": null,
            "align_content": null,
            "visibility": null,
            "align_self": null,
            "height": null,
            "min_height": null,
            "padding": null,
            "grid_auto_rows": null,
            "grid_gap": null,
            "max_width": null,
            "order": null,
            "_view_module_version": "1.2.0",
            "grid_template_areas": null,
            "object_position": null,
            "object_fit": null,
            "grid_auto_columns": null,
            "margin": null,
            "display": null,
            "left": null
          }
        },
        "d08b1f6f9e4149d194d697820163ee72": {
          "model_module": "@jupyter-widgets/controls",
          "model_name": "DescriptionStyleModel",
          "state": {
            "_view_name": "StyleView",
            "_model_name": "DescriptionStyleModel",
            "description_width": "",
            "_view_module": "@jupyter-widgets/base",
            "_model_module_version": "1.5.0",
            "_view_count": null,
            "_view_module_version": "1.2.0",
            "_model_module": "@jupyter-widgets/controls"
          }
        },
        "3c43cf8eb42a4b268fdc62640f637408": {
          "model_module": "@jupyter-widgets/base",
          "model_name": "LayoutModel",
          "state": {
            "_view_name": "LayoutView",
            "grid_template_rows": null,
            "right": null,
            "justify_content": null,
            "_view_module": "@jupyter-widgets/base",
            "overflow": null,
            "_model_module_version": "1.2.0",
            "_view_count": null,
            "flex_flow": null,
            "width": null,
            "min_width": null,
            "border": null,
            "align_items": null,
            "bottom": null,
            "_model_module": "@jupyter-widgets/base",
            "top": null,
            "grid_column": null,
            "overflow_y": null,
            "overflow_x": null,
            "grid_auto_flow": null,
            "grid_area": null,
            "grid_template_columns": null,
            "flex": null,
            "_model_name": "LayoutModel",
            "justify_items": null,
            "grid_row": null,
            "max_height": null,
            "align_content": null,
            "visibility": null,
            "align_self": null,
            "height": null,
            "min_height": null,
            "padding": null,
            "grid_auto_rows": null,
            "grid_gap": null,
            "max_width": null,
            "order": null,
            "_view_module_version": "1.2.0",
            "grid_template_areas": null,
            "object_position": null,
            "object_fit": null,
            "grid_auto_columns": null,
            "margin": null,
            "display": null,
            "left": null
          }
        }
      }
    }
  },
  "cells": [
    {
      "cell_type": "markdown",
      "metadata": {
        "id": "view-in-github",
        "colab_type": "text"
      },
      "source": [
        "<a href=\"https://colab.research.google.com/github/ishandahal/stats453-deep_learning_torch/blob/main/Conv/Transfer_Learning.ipynb\" target=\"_parent\"><img src=\"https://colab.research.google.com/assets/colab-badge.svg\" alt=\"Open In Colab\"/></a>"
      ]
    },
    {
      "cell_type": "markdown",
      "metadata": {
        "id": "25zm4VHe9Xkf"
      },
      "source": [
        "### Transfer Learning"
      ]
    },
    {
      "cell_type": "markdown",
      "metadata": {
        "id": "g77dI9zr9eb6"
      },
      "source": [
        "### Imports "
      ]
    },
    {
      "cell_type": "code",
      "metadata": {
        "id": "78kX8m1E9f_3"
      },
      "source": [
        "import torch\n",
        "import time\n",
        "import numpy as np\n",
        "import torch\n",
        "import torch.nn as nn\n",
        "import torch.nn.functional as F\n",
        "from torchvision import datasets\n",
        "from torch.utils.data.dataset import Subset\n",
        "from torchvision import transforms\n",
        "from torch.utils.data import DataLoader\n",
        "\n",
        "#######################################\n",
        "### PRE-TRAINED MODELS AVAILABLE HERE\n",
        "## https://pytorch.org/docs/stable/torchvision/models.html\n",
        "from torchvision import models\n",
        "#######################################\n",
        "\n",
        "if torch.cuda.is_available():\n",
        "    torch.backends.cudnn.deterministic = True\n"
      ],
      "execution_count": 1,
      "outputs": []
    },
    {
      "cell_type": "markdown",
      "metadata": {
        "id": "bkWlygP19iyb"
      },
      "source": [
        "### Example dataset"
      ]
    },
    {
      "cell_type": "code",
      "metadata": {
        "colab": {
          "base_uri": "https://localhost:8080/"
        },
        "id": "-RbS3wBx9omR",
        "outputId": "31d3dfd6-c75c-4e5a-b777-c25252f7f202"
      },
      "source": [
        "### SETTINGS\n",
        "##########################\n",
        "\n",
        "# Device\n",
        "DEVICE = torch.device(\"cuda:0\" if torch.cuda.is_available() else \"cpu\")\n",
        "print('Device:', DEVICE)\n",
        "\n",
        "NUM_CLASSES = 10\n",
        "\n",
        "# Hyperparameters\n",
        "RANDOM_SEED = 1\n",
        "LEARNING_RATE = 0.0001\n",
        "NUM_EPOCHS = 50\n",
        "BATCH_SIZE = 256\n",
        "\n",
        "# Architecture\n",
        "NUM_CLASSES = 10"
      ],
      "execution_count": 10,
      "outputs": [
        {
          "output_type": "stream",
          "text": [
            "Device: cuda:0\n"
          ],
          "name": "stdout"
        }
      ]
    },
    {
      "cell_type": "code",
      "metadata": {
        "colab": {
          "base_uri": "https://localhost:8080/",
          "height": 118,
          "referenced_widgets": [
            "d7e01c91b9754e50b87daba944a2baa7",
            "3188bda8aeb44b6783bcb891283a72f0",
            "838664e5f7324d68830a109e788b6f0b",
            "c5de94e94b434efa90f3a02aa49b2602",
            "083c0468ebc746b88de988c2c07cbb08",
            "46993232cfa64a29876ab1fa3ae7448b",
            "2fb8e2fd43aa409d90d2c463baa1a64e",
            "8ea8349b71c5423e9de48b44b83e7c22"
          ]
        },
        "id": "WvGBityE9rwL",
        "outputId": "ad6c8306-9a6e-44c3-d2a4-5c48c4acff49"
      },
      "source": [
        "######### IMPORTANT! ##############\n",
        "\n",
        "# Check and use the normalization scheme that was used for the\n",
        "# pre-trained model.\n",
        "\n",
        "train_indices = torch.arange(0, 49000)\n",
        "valid_indices = torch.arange(49000, 50000)\n",
        "\n",
        "\n",
        "\n",
        "\n",
        "train_and_valid = datasets.CIFAR10(root='data', \n",
        "                                   train=True, \n",
        "                                   transform=transforms.ToTensor(),\n",
        "                                   download=True)\n",
        "\n",
        "train_dataset = Subset(train_and_valid, train_indices)\n",
        "train_loader = DataLoader(dataset=train_dataset, \n",
        "                          batch_size=BATCH_SIZE,\n",
        "                          num_workers=8,\n",
        "                          shuffle=True)\n",
        "\n",
        "\n",
        "\n",
        "train_mean = []\n",
        "train_std = []\n",
        "\n",
        "for i, image in enumerate(train_loader, 0):\n",
        "    numpy_image = image[0].numpy()\n",
        "    \n",
        "    batch_mean = np.mean(numpy_image, axis=(0, 2, 3))\n",
        "    batch_std = np.std(numpy_image, axis=(0, 2, 3))\n",
        "    \n",
        "    train_mean.append(batch_mean)\n",
        "    train_std.append(batch_std)\n",
        "\n",
        "train_mean = torch.tensor(np.mean(train_mean, axis=0))\n",
        "train_std = torch.tensor(np.mean(train_std, axis=0))\n",
        "\n",
        "print('Mean:', train_mean)\n",
        "print('Std Dev:', train_std)\n",
        "\n",
        "\n",
        "custom_transform = transforms.Compose([transforms.ToTensor(),\n",
        "                                       transforms.Normalize(mean=train_mean, std=train_std)])\n",
        "\n",
        "####################################"
      ],
      "execution_count": 3,
      "outputs": [
        {
          "output_type": "stream",
          "text": [
            "Downloading https://www.cs.toronto.edu/~kriz/cifar-10-python.tar.gz to data/cifar-10-python.tar.gz\n"
          ],
          "name": "stdout"
        },
        {
          "output_type": "display_data",
          "data": {
            "application/vnd.jupyter.widget-view+json": {
              "model_id": "d7e01c91b9754e50b87daba944a2baa7",
              "version_minor": 0,
              "version_major": 2
            },
            "text/plain": [
              "HBox(children=(FloatProgress(value=1.0, bar_style='info', max=1.0), HTML(value='')))"
            ]
          },
          "metadata": {
            "tags": []
          }
        },
        {
          "output_type": "stream",
          "text": [
            "Extracting data/cifar-10-python.tar.gz to data\n",
            "Mean: tensor([0.4914, 0.4821, 0.4465])\n",
            "Std Dev: tensor([0.2468, 0.2433, 0.2613])\n"
          ],
          "name": "stdout"
        }
      ]
    },
    {
      "cell_type": "code",
      "metadata": {
        "colab": {
          "base_uri": "https://localhost:8080/"
        },
        "id": "4Wy43_86-AKO",
        "outputId": "2274d664-565b-49b4-c813-24dadcfd5f42"
      },
      "source": [
        "### CIFAR-10 Dataset\n",
        "##########################\n",
        "\n",
        "\n",
        "# Note transforms.ToTensor() scales input images\n",
        "# to 0-1 range\n",
        "\n",
        "\n",
        "train_indices = torch.arange(0, 49000)\n",
        "valid_indices = torch.arange(49000, 50000)\n",
        "\n",
        "\n",
        "train_and_valid = datasets.CIFAR10(root='data', \n",
        "                                   train=True, \n",
        "                                   transform=custom_transform,\n",
        "                                   download=True)\n",
        "\n",
        "train_dataset = Subset(train_and_valid, train_indices)\n",
        "valid_dataset = Subset(train_and_valid, valid_indices)\n",
        "\n",
        "\n",
        "test_dataset = datasets.CIFAR10(root='data', \n",
        "                                train=False, \n",
        "                                transform=custom_transform)\n",
        "\n",
        "\n",
        "#####################################################\n",
        "### Data Loaders\n",
        "#####################################################\n",
        "\n",
        "train_loader = DataLoader(dataset=train_dataset, \n",
        "                          batch_size=BATCH_SIZE,\n",
        "                          num_workers=8,\n",
        "                          shuffle=True)\n",
        "\n",
        "valid_loader = DataLoader(dataset=valid_dataset, \n",
        "                          batch_size=BATCH_SIZE,\n",
        "                          num_workers=8,\n",
        "                          shuffle=False)\n",
        "\n",
        "test_loader = DataLoader(dataset=test_dataset, \n",
        "                         batch_size=BATCH_SIZE,\n",
        "                         num_workers=8,\n",
        "                         shuffle=False)\n",
        "\n",
        "#####################################################\n",
        "\n",
        "# Checking the dataset\n",
        "for images, labels in train_loader:  \n",
        "    print('Image batch dimensions:', images.shape)\n",
        "    print('Image label dimensions:', labels.shape)\n",
        "    break\n",
        "\n",
        "for images, labels in test_loader:  \n",
        "    print('Image batch dimensions:', images.shape)\n",
        "    print('Image label dimensions:', labels.shape)\n",
        "    break\n",
        "    \n",
        "for images, labels in valid_loader:  \n",
        "    print('Image batch dimensions:', images.shape)\n",
        "    print('Image label dimensions:', labels.shape)\n",
        "    break"
      ],
      "execution_count": 4,
      "outputs": [
        {
          "output_type": "stream",
          "text": [
            "Files already downloaded and verified\n",
            "Image batch dimensions: torch.Size([256, 3, 32, 32])\n",
            "Image label dimensions: torch.Size([256])\n",
            "Image batch dimensions: torch.Size([256, 3, 32, 32])\n",
            "Image label dimensions: torch.Size([256])\n",
            "Image batch dimensions: torch.Size([256, 3, 32, 32])\n",
            "Image label dimensions: torch.Size([256])\n"
          ],
          "name": "stdout"
        }
      ]
    },
    {
      "cell_type": "markdown",
      "metadata": {
        "id": "8VadE-Fj-MCg"
      },
      "source": [
        "### Loading the pre-trained model"
      ]
    },
    {
      "cell_type": "code",
      "metadata": {
        "colab": {
          "base_uri": "https://localhost:8080/",
          "height": 865,
          "referenced_widgets": [
            "d5a8b89f5fc94142b211d57ff2a6e457",
            "41b217cd3fce4077b784b2b9517b987a",
            "4470a28f9e334db88717b21a020e3caf",
            "028fb283ab9d4cabb29f57cd330b5553",
            "7deffd0a02d3482ea3b466649ddcc04e",
            "47530ccc74ec40cfa82068f9fc5ef7f5",
            "d08b1f6f9e4149d194d697820163ee72",
            "3c43cf8eb42a4b268fdc62640f637408"
          ]
        },
        "id": "FqN-hNxz-Rjt",
        "outputId": "3ab16799-743a-4682-8710-1f3d7e524f95"
      },
      "source": [
        "model = models.vgg16(pretrained=True)\n",
        "model"
      ],
      "execution_count": 5,
      "outputs": [
        {
          "output_type": "stream",
          "text": [
            "Downloading: \"https://download.pytorch.org/models/vgg16-397923af.pth\" to /root/.cache/torch/hub/checkpoints/vgg16-397923af.pth\n"
          ],
          "name": "stderr"
        },
        {
          "output_type": "display_data",
          "data": {
            "application/vnd.jupyter.widget-view+json": {
              "model_id": "d5a8b89f5fc94142b211d57ff2a6e457",
              "version_minor": 0,
              "version_major": 2
            },
            "text/plain": [
              "HBox(children=(FloatProgress(value=0.0, max=553433881.0), HTML(value='')))"
            ]
          },
          "metadata": {
            "tags": []
          }
        },
        {
          "output_type": "stream",
          "text": [
            "\n"
          ],
          "name": "stdout"
        },
        {
          "output_type": "execute_result",
          "data": {
            "text/plain": [
              "VGG(\n",
              "  (features): Sequential(\n",
              "    (0): Conv2d(3, 64, kernel_size=(3, 3), stride=(1, 1), padding=(1, 1))\n",
              "    (1): ReLU(inplace=True)\n",
              "    (2): Conv2d(64, 64, kernel_size=(3, 3), stride=(1, 1), padding=(1, 1))\n",
              "    (3): ReLU(inplace=True)\n",
              "    (4): MaxPool2d(kernel_size=2, stride=2, padding=0, dilation=1, ceil_mode=False)\n",
              "    (5): Conv2d(64, 128, kernel_size=(3, 3), stride=(1, 1), padding=(1, 1))\n",
              "    (6): ReLU(inplace=True)\n",
              "    (7): Conv2d(128, 128, kernel_size=(3, 3), stride=(1, 1), padding=(1, 1))\n",
              "    (8): ReLU(inplace=True)\n",
              "    (9): MaxPool2d(kernel_size=2, stride=2, padding=0, dilation=1, ceil_mode=False)\n",
              "    (10): Conv2d(128, 256, kernel_size=(3, 3), stride=(1, 1), padding=(1, 1))\n",
              "    (11): ReLU(inplace=True)\n",
              "    (12): Conv2d(256, 256, kernel_size=(3, 3), stride=(1, 1), padding=(1, 1))\n",
              "    (13): ReLU(inplace=True)\n",
              "    (14): Conv2d(256, 256, kernel_size=(3, 3), stride=(1, 1), padding=(1, 1))\n",
              "    (15): ReLU(inplace=True)\n",
              "    (16): MaxPool2d(kernel_size=2, stride=2, padding=0, dilation=1, ceil_mode=False)\n",
              "    (17): Conv2d(256, 512, kernel_size=(3, 3), stride=(1, 1), padding=(1, 1))\n",
              "    (18): ReLU(inplace=True)\n",
              "    (19): Conv2d(512, 512, kernel_size=(3, 3), stride=(1, 1), padding=(1, 1))\n",
              "    (20): ReLU(inplace=True)\n",
              "    (21): Conv2d(512, 512, kernel_size=(3, 3), stride=(1, 1), padding=(1, 1))\n",
              "    (22): ReLU(inplace=True)\n",
              "    (23): MaxPool2d(kernel_size=2, stride=2, padding=0, dilation=1, ceil_mode=False)\n",
              "    (24): Conv2d(512, 512, kernel_size=(3, 3), stride=(1, 1), padding=(1, 1))\n",
              "    (25): ReLU(inplace=True)\n",
              "    (26): Conv2d(512, 512, kernel_size=(3, 3), stride=(1, 1), padding=(1, 1))\n",
              "    (27): ReLU(inplace=True)\n",
              "    (28): Conv2d(512, 512, kernel_size=(3, 3), stride=(1, 1), padding=(1, 1))\n",
              "    (29): ReLU(inplace=True)\n",
              "    (30): MaxPool2d(kernel_size=2, stride=2, padding=0, dilation=1, ceil_mode=False)\n",
              "  )\n",
              "  (avgpool): AdaptiveAvgPool2d(output_size=(7, 7))\n",
              "  (classifier): Sequential(\n",
              "    (0): Linear(in_features=25088, out_features=4096, bias=True)\n",
              "    (1): ReLU(inplace=True)\n",
              "    (2): Dropout(p=0.5, inplace=False)\n",
              "    (3): Linear(in_features=4096, out_features=4096, bias=True)\n",
              "    (4): ReLU(inplace=True)\n",
              "    (5): Dropout(p=0.5, inplace=False)\n",
              "    (6): Linear(in_features=4096, out_features=1000, bias=True)\n",
              "  )\n",
              ")"
            ]
          },
          "metadata": {
            "tags": []
          },
          "execution_count": 5
        }
      ]
    },
    {
      "cell_type": "markdown",
      "metadata": {
        "id": "kGs-Ytg6-YQG"
      },
      "source": [
        "### Freezing the Model"
      ]
    },
    {
      "cell_type": "code",
      "metadata": {
        "id": "bRspQ5tm-roO"
      },
      "source": [
        "for param in model.parameters():\n",
        "    param.requires_grad = False"
      ],
      "execution_count": 6,
      "outputs": []
    },
    {
      "cell_type": "markdown",
      "metadata": {
        "id": "eSA8EK5a-ydP"
      },
      "source": [
        "Assume we want to train the penultimate layer:"
      ]
    },
    {
      "cell_type": "code",
      "metadata": {
        "id": "KdL-yZwu-7aQ"
      },
      "source": [
        "model.classifier[3].requires_grad = True"
      ],
      "execution_count": 7,
      "outputs": []
    },
    {
      "cell_type": "markdown",
      "metadata": {
        "id": "LTEpEC0u_Cp5"
      },
      "source": [
        "Now replace the output layer with your own output layer"
      ]
    },
    {
      "cell_type": "code",
      "metadata": {
        "id": "D8p0nlFF_KyS"
      },
      "source": [
        "model.classifier[6] = nn.Linear(4096, NUM_CLASSES)"
      ],
      "execution_count": 8,
      "outputs": []
    },
    {
      "cell_type": "markdown",
      "metadata": {
        "id": "ziWwzjBu_cFF"
      },
      "source": [
        "## Training"
      ]
    },
    {
      "cell_type": "code",
      "metadata": {
        "id": "cwAq2rS2_eA0"
      },
      "source": [
        "model = model.to(DEVICE)\n",
        "optimizer = torch.optim.Adam(model.parameters())"
      ],
      "execution_count": 11,
      "outputs": []
    },
    {
      "cell_type": "code",
      "metadata": {
        "colab": {
          "base_uri": "https://localhost:8080/"
        },
        "id": "ndzItfhc_qbE",
        "outputId": "5d5b87c2-54c6-4b3f-853a-c97ed990b1f3"
      },
      "source": [
        "def compute_accuracy(model, data_loader, device):\n",
        "    correct_pred, num_examples = 0, 0\n",
        "    for i, (features, targets) in enumerate(data_loader):\n",
        "            \n",
        "        features = features.to(device)\n",
        "        targets = targets.to(device)\n",
        "\n",
        "        logits = model(features)\n",
        "        _, predicted_labels = torch.max(logits, 1)\n",
        "        num_examples += targets.size(0)\n",
        "        correct_pred += (predicted_labels == targets).sum()\n",
        "    return correct_pred.float()/num_examples * 100\n",
        "    \n",
        "\n",
        "start_time = time.time()\n",
        "\n",
        "# use random seed for reproducibility (here batch shuffling)\n",
        "torch.manual_seed(RANDOM_SEED)\n",
        "\n",
        "for epoch in range(NUM_EPOCHS):\n",
        "    \n",
        "    model.train()\n",
        "    \n",
        "    for batch_idx, (features, targets) in enumerate(train_loader):\n",
        "    \n",
        "        ### PREPARE MINIBATCH\n",
        "        features = features.to(DEVICE)\n",
        "        targets = targets.to(DEVICE)\n",
        "            \n",
        "        ### FORWARD AND BACK PROP\n",
        "        logits = model(features)\n",
        "        cost = F.cross_entropy(logits, targets)\n",
        "        optimizer.zero_grad()\n",
        "        \n",
        "        cost.backward()\n",
        "        \n",
        "        ### UPDATE MODEL PARAMETERS\n",
        "        optimizer.step()\n",
        "        \n",
        "        ### LOGGING\n",
        "        if not batch_idx % 120:\n",
        "            print (f'Epoch: {epoch+1:03d}/{NUM_EPOCHS:03d} | '\n",
        "                   f'Batch {batch_idx:03d}/{len(train_loader):03d} |' \n",
        "                   f' Cost: {cost:.4f}')\n",
        "\n",
        "    # no need to build the computation graph for backprop when computing accuracy\n",
        "    with torch.set_grad_enabled(False):\n",
        "        train_acc = compute_accuracy(model, train_loader, device=DEVICE)\n",
        "        valid_acc = compute_accuracy(model, valid_loader, device=DEVICE)\n",
        "        print(f'Epoch: {epoch+1:03d}/{NUM_EPOCHS:03d} Train Acc.: {train_acc:.2f}%'\n",
        "              f' | Validation Acc.: {valid_acc:.2f}%')\n",
        "        \n",
        "    elapsed = (time.time() - start_time)/60\n",
        "    print(f'Time elapsed: {elapsed:.2f} min')\n",
        "  \n",
        "elapsed = (time.time() - start_time)/60\n",
        "print(f'Total Training Time: {elapsed:.2f} min')"
      ],
      "execution_count": 12,
      "outputs": [
        {
          "output_type": "stream",
          "text": [
            "Epoch: 001/050 | Batch 000/192 | Cost: 2.6318\n",
            "Epoch: 001/050 | Batch 120/192 | Cost: 1.3168\n",
            "Epoch: 001/050 Train Acc.: 59.99% | Validation Acc.: 58.50%\n",
            "Time elapsed: 0.42 min\n",
            "Epoch: 002/050 | Batch 000/192 | Cost: 1.1441\n",
            "Epoch: 002/050 | Batch 120/192 | Cost: 1.2748\n",
            "Epoch: 002/050 Train Acc.: 60.42% | Validation Acc.: 58.50%\n",
            "Time elapsed: 0.85 min\n",
            "Epoch: 003/050 | Batch 000/192 | Cost: 1.1461\n",
            "Epoch: 003/050 | Batch 120/192 | Cost: 1.0259\n",
            "Epoch: 003/050 Train Acc.: 60.63% | Validation Acc.: 55.20%\n",
            "Time elapsed: 1.28 min\n",
            "Epoch: 004/050 | Batch 000/192 | Cost: 1.0998\n",
            "Epoch: 004/050 | Batch 120/192 | Cost: 1.0782\n",
            "Epoch: 004/050 Train Acc.: 60.46% | Validation Acc.: 59.00%\n",
            "Time elapsed: 1.73 min\n",
            "Epoch: 005/050 | Batch 000/192 | Cost: 1.2197\n",
            "Epoch: 005/050 | Batch 120/192 | Cost: 1.2216\n",
            "Epoch: 005/050 Train Acc.: 60.54% | Validation Acc.: 56.90%\n",
            "Time elapsed: 2.18 min\n",
            "Epoch: 006/050 | Batch 000/192 | Cost: 1.1381\n",
            "Epoch: 006/050 | Batch 120/192 | Cost: 1.0972\n",
            "Epoch: 006/050 Train Acc.: 60.69% | Validation Acc.: 54.60%\n",
            "Time elapsed: 2.62 min\n",
            "Epoch: 007/050 | Batch 000/192 | Cost: 1.1648\n",
            "Epoch: 007/050 | Batch 120/192 | Cost: 1.1390\n",
            "Epoch: 007/050 Train Acc.: 60.80% | Validation Acc.: 56.60%\n",
            "Time elapsed: 3.06 min\n",
            "Epoch: 008/050 | Batch 000/192 | Cost: 1.2016\n",
            "Epoch: 008/050 | Batch 120/192 | Cost: 1.1998\n",
            "Epoch: 008/050 Train Acc.: 60.99% | Validation Acc.: 55.60%\n",
            "Time elapsed: 3.51 min\n",
            "Epoch: 009/050 | Batch 000/192 | Cost: 1.2010\n",
            "Epoch: 009/050 | Batch 120/192 | Cost: 1.2245\n",
            "Epoch: 009/050 Train Acc.: 60.87% | Validation Acc.: 58.90%\n",
            "Time elapsed: 3.96 min\n",
            "Epoch: 010/050 | Batch 000/192 | Cost: 1.3282\n",
            "Epoch: 010/050 | Batch 120/192 | Cost: 1.1118\n",
            "Epoch: 010/050 Train Acc.: 61.25% | Validation Acc.: 59.50%\n",
            "Time elapsed: 4.40 min\n",
            "Epoch: 011/050 | Batch 000/192 | Cost: 1.1986\n",
            "Epoch: 011/050 | Batch 120/192 | Cost: 1.0893\n",
            "Epoch: 011/050 Train Acc.: 61.14% | Validation Acc.: 58.80%\n",
            "Time elapsed: 4.85 min\n",
            "Epoch: 012/050 | Batch 000/192 | Cost: 1.0966\n",
            "Epoch: 012/050 | Batch 120/192 | Cost: 1.0891\n",
            "Epoch: 012/050 Train Acc.: 60.09% | Validation Acc.: 56.10%\n",
            "Time elapsed: 5.30 min\n",
            "Epoch: 013/050 | Batch 000/192 | Cost: 1.2079\n",
            "Epoch: 013/050 | Batch 120/192 | Cost: 1.4691\n",
            "Epoch: 013/050 Train Acc.: 60.97% | Validation Acc.: 58.10%\n",
            "Time elapsed: 5.74 min\n",
            "Epoch: 014/050 | Batch 000/192 | Cost: 1.1125\n",
            "Epoch: 014/050 | Batch 120/192 | Cost: 1.2802\n",
            "Epoch: 014/050 Train Acc.: 60.80% | Validation Acc.: 57.60%\n",
            "Time elapsed: 6.19 min\n",
            "Epoch: 015/050 | Batch 000/192 | Cost: 1.2126\n",
            "Epoch: 015/050 | Batch 120/192 | Cost: 1.1130\n",
            "Epoch: 015/050 Train Acc.: 61.13% | Validation Acc.: 59.10%\n",
            "Time elapsed: 6.64 min\n",
            "Epoch: 016/050 | Batch 000/192 | Cost: 1.1512\n",
            "Epoch: 016/050 | Batch 120/192 | Cost: 1.0870\n",
            "Epoch: 016/050 Train Acc.: 60.79% | Validation Acc.: 57.50%\n",
            "Time elapsed: 7.09 min\n",
            "Epoch: 017/050 | Batch 000/192 | Cost: 1.2494\n",
            "Epoch: 017/050 | Batch 120/192 | Cost: 1.4257\n",
            "Epoch: 017/050 Train Acc.: 60.49% | Validation Acc.: 57.10%\n",
            "Time elapsed: 7.53 min\n",
            "Epoch: 018/050 | Batch 000/192 | Cost: 1.2622\n",
            "Epoch: 018/050 | Batch 120/192 | Cost: 1.2846\n",
            "Epoch: 018/050 Train Acc.: 61.24% | Validation Acc.: 58.50%\n",
            "Time elapsed: 7.98 min\n",
            "Epoch: 019/050 | Batch 000/192 | Cost: 1.2081\n",
            "Epoch: 019/050 | Batch 120/192 | Cost: 1.0988\n",
            "Epoch: 019/050 Train Acc.: 60.71% | Validation Acc.: 56.60%\n",
            "Time elapsed: 8.43 min\n",
            "Epoch: 020/050 | Batch 000/192 | Cost: 1.1653\n",
            "Epoch: 020/050 | Batch 120/192 | Cost: 1.1884\n",
            "Epoch: 020/050 Train Acc.: 61.29% | Validation Acc.: 57.50%\n",
            "Time elapsed: 8.88 min\n",
            "Epoch: 021/050 | Batch 000/192 | Cost: 1.3207\n",
            "Epoch: 021/050 | Batch 120/192 | Cost: 1.1618\n",
            "Epoch: 021/050 Train Acc.: 60.59% | Validation Acc.: 56.70%\n",
            "Time elapsed: 9.32 min\n",
            "Epoch: 022/050 | Batch 000/192 | Cost: 0.9982\n",
            "Epoch: 022/050 | Batch 120/192 | Cost: 1.2335\n",
            "Epoch: 022/050 Train Acc.: 61.19% | Validation Acc.: 57.60%\n",
            "Time elapsed: 9.77 min\n",
            "Epoch: 023/050 | Batch 000/192 | Cost: 1.2138\n",
            "Epoch: 023/050 | Batch 120/192 | Cost: 1.1770\n",
            "Epoch: 023/050 Train Acc.: 60.95% | Validation Acc.: 56.80%\n",
            "Time elapsed: 10.22 min\n",
            "Epoch: 024/050 | Batch 000/192 | Cost: 1.2638\n",
            "Epoch: 024/050 | Batch 120/192 | Cost: 1.2363\n",
            "Epoch: 024/050 Train Acc.: 61.34% | Validation Acc.: 58.40%\n",
            "Time elapsed: 10.66 min\n",
            "Epoch: 025/050 | Batch 000/192 | Cost: 1.1908\n",
            "Epoch: 025/050 | Batch 120/192 | Cost: 1.0750\n",
            "Epoch: 025/050 Train Acc.: 61.11% | Validation Acc.: 56.40%\n",
            "Time elapsed: 11.11 min\n",
            "Epoch: 026/050 | Batch 000/192 | Cost: 1.1165\n",
            "Epoch: 026/050 | Batch 120/192 | Cost: 1.2348\n",
            "Epoch: 026/050 Train Acc.: 60.80% | Validation Acc.: 57.80%\n",
            "Time elapsed: 11.55 min\n",
            "Epoch: 027/050 | Batch 000/192 | Cost: 1.1929\n",
            "Epoch: 027/050 | Batch 120/192 | Cost: 1.0366\n",
            "Epoch: 027/050 Train Acc.: 61.09% | Validation Acc.: 54.20%\n",
            "Time elapsed: 12.00 min\n",
            "Epoch: 028/050 | Batch 000/192 | Cost: 1.2321\n",
            "Epoch: 028/050 | Batch 120/192 | Cost: 1.1581\n",
            "Epoch: 028/050 Train Acc.: 60.51% | Validation Acc.: 57.00%\n",
            "Time elapsed: 12.45 min\n",
            "Epoch: 029/050 | Batch 000/192 | Cost: 1.1130\n",
            "Epoch: 029/050 | Batch 120/192 | Cost: 1.3532\n",
            "Epoch: 029/050 Train Acc.: 60.50% | Validation Acc.: 56.90%\n",
            "Time elapsed: 12.90 min\n",
            "Epoch: 030/050 | Batch 000/192 | Cost: 1.3375\n",
            "Epoch: 030/050 | Batch 120/192 | Cost: 1.1461\n",
            "Epoch: 030/050 Train Acc.: 60.96% | Validation Acc.: 57.90%\n",
            "Time elapsed: 13.34 min\n",
            "Epoch: 031/050 | Batch 000/192 | Cost: 0.9995\n",
            "Epoch: 031/050 | Batch 120/192 | Cost: 1.2444\n",
            "Epoch: 031/050 Train Acc.: 61.08% | Validation Acc.: 57.70%\n",
            "Time elapsed: 13.79 min\n",
            "Epoch: 032/050 | Batch 000/192 | Cost: 1.1634\n",
            "Epoch: 032/050 | Batch 120/192 | Cost: 1.3526\n",
            "Epoch: 032/050 Train Acc.: 60.60% | Validation Acc.: 56.50%\n",
            "Time elapsed: 14.24 min\n",
            "Epoch: 033/050 | Batch 000/192 | Cost: 1.2947\n",
            "Epoch: 033/050 | Batch 120/192 | Cost: 1.2429\n",
            "Epoch: 033/050 Train Acc.: 60.55% | Validation Acc.: 56.80%\n",
            "Time elapsed: 14.68 min\n",
            "Epoch: 034/050 | Batch 000/192 | Cost: 1.2176\n",
            "Epoch: 034/050 | Batch 120/192 | Cost: 1.2035\n",
            "Epoch: 034/050 Train Acc.: 61.24% | Validation Acc.: 54.40%\n",
            "Time elapsed: 15.13 min\n",
            "Epoch: 035/050 | Batch 000/192 | Cost: 1.1842\n",
            "Epoch: 035/050 | Batch 120/192 | Cost: 1.3815\n",
            "Epoch: 035/050 Train Acc.: 60.57% | Validation Acc.: 57.10%\n",
            "Time elapsed: 15.57 min\n",
            "Epoch: 036/050 | Batch 000/192 | Cost: 1.2063\n",
            "Epoch: 036/050 | Batch 120/192 | Cost: 1.2215\n",
            "Epoch: 036/050 Train Acc.: 60.92% | Validation Acc.: 56.20%\n",
            "Time elapsed: 16.02 min\n",
            "Epoch: 037/050 | Batch 000/192 | Cost: 1.3286\n",
            "Epoch: 037/050 | Batch 120/192 | Cost: 1.2276\n",
            "Epoch: 037/050 Train Acc.: 60.98% | Validation Acc.: 57.40%\n",
            "Time elapsed: 16.47 min\n",
            "Epoch: 038/050 | Batch 000/192 | Cost: 1.2899\n",
            "Epoch: 038/050 | Batch 120/192 | Cost: 1.1848\n",
            "Epoch: 038/050 Train Acc.: 61.37% | Validation Acc.: 57.30%\n",
            "Time elapsed: 16.91 min\n",
            "Epoch: 039/050 | Batch 000/192 | Cost: 1.1146\n",
            "Epoch: 039/050 | Batch 120/192 | Cost: 1.4609\n",
            "Epoch: 039/050 Train Acc.: 60.46% | Validation Acc.: 55.60%\n",
            "Time elapsed: 17.35 min\n",
            "Epoch: 040/050 | Batch 000/192 | Cost: 1.2945\n",
            "Epoch: 040/050 | Batch 120/192 | Cost: 1.0773\n",
            "Epoch: 040/050 Train Acc.: 60.88% | Validation Acc.: 56.20%\n",
            "Time elapsed: 17.80 min\n",
            "Epoch: 041/050 | Batch 000/192 | Cost: 1.1504\n",
            "Epoch: 041/050 | Batch 120/192 | Cost: 1.3880\n",
            "Epoch: 041/050 Train Acc.: 61.08% | Validation Acc.: 58.20%\n",
            "Time elapsed: 18.25 min\n",
            "Epoch: 042/050 | Batch 000/192 | Cost: 1.1199\n",
            "Epoch: 042/050 | Batch 120/192 | Cost: 1.3351\n",
            "Epoch: 042/050 Train Acc.: 61.07% | Validation Acc.: 56.20%\n",
            "Time elapsed: 18.70 min\n",
            "Epoch: 043/050 | Batch 000/192 | Cost: 1.1014\n",
            "Epoch: 043/050 | Batch 120/192 | Cost: 1.2485\n",
            "Epoch: 043/050 Train Acc.: 60.66% | Validation Acc.: 57.30%\n",
            "Time elapsed: 19.14 min\n",
            "Epoch: 044/050 | Batch 000/192 | Cost: 1.1774\n",
            "Epoch: 044/050 | Batch 120/192 | Cost: 1.3199\n",
            "Epoch: 044/050 Train Acc.: 61.10% | Validation Acc.: 57.10%\n",
            "Time elapsed: 19.59 min\n",
            "Epoch: 045/050 | Batch 000/192 | Cost: 1.1465\n",
            "Epoch: 045/050 | Batch 120/192 | Cost: 0.9939\n",
            "Epoch: 045/050 Train Acc.: 60.90% | Validation Acc.: 56.90%\n",
            "Time elapsed: 20.03 min\n",
            "Epoch: 046/050 | Batch 000/192 | Cost: 1.1647\n",
            "Epoch: 046/050 | Batch 120/192 | Cost: 1.2778\n",
            "Epoch: 046/050 Train Acc.: 61.03% | Validation Acc.: 57.20%\n",
            "Time elapsed: 20.48 min\n",
            "Epoch: 047/050 | Batch 000/192 | Cost: 1.0238\n",
            "Epoch: 047/050 | Batch 120/192 | Cost: 1.3181\n",
            "Epoch: 047/050 Train Acc.: 61.04% | Validation Acc.: 56.10%\n",
            "Time elapsed: 20.93 min\n",
            "Epoch: 048/050 | Batch 000/192 | Cost: 1.1358\n",
            "Epoch: 048/050 | Batch 120/192 | Cost: 1.2192\n",
            "Epoch: 048/050 Train Acc.: 60.84% | Validation Acc.: 56.80%\n",
            "Time elapsed: 21.37 min\n",
            "Epoch: 049/050 | Batch 000/192 | Cost: 1.2209\n",
            "Epoch: 049/050 | Batch 120/192 | Cost: 1.1381\n",
            "Epoch: 049/050 Train Acc.: 60.75% | Validation Acc.: 55.90%\n",
            "Time elapsed: 21.82 min\n",
            "Epoch: 050/050 | Batch 000/192 | Cost: 1.0708\n",
            "Epoch: 050/050 | Batch 120/192 | Cost: 1.1591\n",
            "Epoch: 050/050 Train Acc.: 61.03% | Validation Acc.: 56.80%\n",
            "Time elapsed: 22.26 min\n",
            "Total Training Time: 22.26 min\n"
          ],
          "name": "stdout"
        }
      ]
    },
    {
      "cell_type": "code",
      "metadata": {
        "colab": {
          "base_uri": "https://localhost:8080/"
        },
        "id": "-MFu6aWSF98v",
        "outputId": "b3e64029-fead-4495-c91a-83f6779f4505"
      },
      "source": [
        "with torch.set_grad_enabled(False): # save memory during inference\n",
        "    print('Test accuracy: %.2f%%' % (compute_accuracy(model, test_loader, device=DEVICE)))"
      ],
      "execution_count": 13,
      "outputs": [
        {
          "output_type": "stream",
          "text": [
            "Test accuracy: 57.84%\n"
          ],
          "name": "stdout"
        }
      ]
    },
    {
      "cell_type": "code",
      "metadata": {
        "id": "bnvkXJf4GEPZ"
      },
      "source": [
        "import matplotlib.pyplot as plt\n",
        "classes = ('plane', 'car', 'bird', 'cat',\n",
        "           'deer', 'dog', 'frog', 'horse', 'ship', 'truck')\n",
        "\n",
        "for batch_idx, (features, targets) in enumerate(test_loader):\n",
        "\n",
        "    features = features\n",
        "    targets = targets\n",
        "    break\n",
        "\n",
        "logits = model(features.to(DEVICE))\n",
        "_, predicted_labels = torch.max(logits, 1)"
      ],
      "execution_count": 14,
      "outputs": []
    },
    {
      "cell_type": "code",
      "metadata": {
        "colab": {
          "base_uri": "https://localhost:8080/",
          "height": 158
        },
        "id": "sYhsbGg7GJqx",
        "outputId": "4bbde96b-5c04-4292-b224-f6b2ef4b2df0"
      },
      "source": [
        "def unnormalize(tensor, mean, std):\n",
        "    for t, m, s in zip(tensor, mean, std):\n",
        "        t.mul_(s).add_(m)\n",
        "    return tensor\n",
        "\n",
        "n_images = 10\n",
        "\n",
        "fig, axes = plt.subplots(nrows=1, ncols=n_images, \n",
        "                         sharex=True, sharey=True, figsize=(20, 2.5))\n",
        "orig_images = features[:n_images]\n",
        "\n",
        "for i in range(n_images):\n",
        "    curr_img = orig_images[i].detach().to(torch.device('cpu'))\n",
        "    curr_img = unnormalize(curr_img,\n",
        "                           torch.tensor([0.485, 0.456, 0.406]),\n",
        "                           torch.tensor([0.229, 0.224, 0.225])) \n",
        "    curr_img = curr_img.permute((1, 2, 0))\n",
        "    axes[i].imshow(curr_img)\n",
        "    axes[i].set_title(classes[predicted_labels[i]])"
      ],
      "execution_count": 15,
      "outputs": [
        {
          "output_type": "display_data",
          "data": {
            "image/png": "[encoded data removed]",
            "text/plain": [
              "<Figure size 1440x180 with 10 Axes>"
            ]
          },
          "metadata": {
            "tags": [],
            "needs_background": "light"
          }
        }
      ]
    },
    {
      "cell_type": "code",
      "metadata": {
        "id": "zyNP6gknGN3n"
      },
      "source": [
        ""
      ],
      "execution_count": null,
      "outputs": []
    }
  ]
}